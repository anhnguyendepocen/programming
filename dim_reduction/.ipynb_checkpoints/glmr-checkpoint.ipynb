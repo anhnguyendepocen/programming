{
 "cells": [
  {
   "cell_type": "markdown",
   "metadata": {},
   "source": [
    "- [Generalized Low Rank Models](http://docs.h2o.ai/h2o-tutorials/latest-stable/tutorials/glrm/glrm-tutorial.html)\n",
    "\n",
    "- https://github.com/madeleineudell\n",
    "- [h2o glrm video page](http://www.h2o.ai/verticals/algos/glrm/)\n",
    "- [glrm python](https://github.com/cehorn/GLRM)\n",
    "- [h2o glrm example](https://github.com/pmnyc/Tools/blob/d2e82ee282d704aabe3faa1256c604afa280fdcd/codes_by_other_people/h2o-3-source-codes/h2o-py/tests/testdir_algos/glrm/pyunit_benign_glrm.py)\n",
    "\n",
    "- http://arxiv.org/pdf/1410.0342v4.pdf"
   ]
  }
 ],
 "metadata": {
  "anaconda-cloud": {},
  "kernelspec": {
   "display_name": "Python [Root]",
   "language": "python",
   "name": "Python [Root]"
  },
  "language_info": {
   "codemirror_mode": {
    "name": "ipython",
    "version": 3
   },
   "file_extension": ".py",
   "mimetype": "text/x-python",
   "name": "python",
   "nbconvert_exporter": "python",
   "pygments_lexer": "ipython3",
   "version": "3.5.2"
  }
 },
 "nbformat": 4,
 "nbformat_minor": 0
}
