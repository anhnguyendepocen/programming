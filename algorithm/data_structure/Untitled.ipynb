{
 "cells": [
  {
   "cell_type": "markdown",
   "metadata": {},
   "source": [
    "# Stack\n",
    "\n",
    "- [What is a Stack?\n",
    "](http://interactivepython.org/runestone/static/pythonds/BasicDS/WhatisaStack.html)\n",
    "\n",
    "https://docs.python.org/3/tutorial/datastructures.html#using-lists-as-stacks"
   ]
  },
  {
   "cell_type": "code",
   "execution_count": 8,
   "metadata": {
    "collapsed": true
   },
   "outputs": [],
   "source": [
    "class Stack:\n",
    "    \"\"\"\n",
    "    creates a new stack that is empty,\n",
    "    assumes that the end of the list will hold \n",
    "    the top element of the stack\n",
    "    \"\"\"\n",
    "    def __init__(self):\n",
    "        self.items = []\n",
    "\n",
    "    def isEmpty(self):\n",
    "        return self.items == []\n",
    "\n",
    "    def push(self, item):\n",
    "        \"\"\"adds a new item to the top of the stack\"\"\"\n",
    "        self.items.append(item)\n",
    "    \n",
    "    def pop(self):\n",
    "        \"\"\"\n",
    "        removes the top item from the stack,\n",
    "        popping an empty stack (list) will result in an error\n",
    "        \"\"\"\n",
    "        return self.items.pop()\n",
    "\n",
    "    def peek(self):\n",
    "        \"\"\"returns the top item from the stack but does not remove it\"\"\"\n",
    "        return self.items[len(self.items) - 1]\n",
    "\n",
    "    def size(self):\n",
    "        return len(self.items)"
   ]
  },
  {
   "cell_type": "code",
   "execution_count": 10,
   "metadata": {
    "collapsed": false
   },
   "outputs": [
    {
     "name": "stdout",
     "output_type": "stream",
     "text": [
      "True\n",
      "False\n",
      "5\n"
     ]
    }
   ],
   "source": [
    "s = Stack()\n",
    "\n",
    "print(s.isEmpty())\n",
    "s.push(4)\n",
    "s.push(5)\n",
    "print(s.isEmpty())\n",
    "print(s.pop())"
   ]
  }
 ],
 "metadata": {
  "kernelspec": {
   "display_name": "Python [Root]",
   "language": "python",
   "name": "Python [Root]"
  },
  "language_info": {
   "codemirror_mode": {
    "name": "ipython",
    "version": 3
   },
   "file_extension": ".py",
   "mimetype": "text/x-python",
   "name": "python",
   "nbconvert_exporter": "python",
   "pygments_lexer": "ipython3",
   "version": "3.5.2"
  }
 },
 "nbformat": 4,
 "nbformat_minor": 0
}
