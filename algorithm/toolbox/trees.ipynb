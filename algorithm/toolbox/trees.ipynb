{
 "cells": [
  {
   "cell_type": "code",
   "execution_count": 2,
   "metadata": {
    "collapsed": true
   },
   "outputs": [],
   "source": [
    "class BinaryTree:\n",
    "    \n",
    "    def __init__(self, root):\n",
    "        self.root  = root\n",
    "        self.left  = None\n",
    "        self.right = None\n",
    "    \n",
    "    def insert_left(self, new_node):\n",
    "        \"\"\"\n",
    "        when there is no left child, simply add\n",
    "        the tree to the left node; when a left child\n",
    "        exists, push the existing child down one level\n",
    "        and insert the node\n",
    "        \"\"\"\n",
    "        if not self.left:\n",
    "            self.left = BinaryTree(new_node)\n",
    "        else:\n",
    "            tree = BinaryTree(new_node)\n",
    "            tree.left = self.left\n",
    "            self.left = tree\n",
    "    \n",
    "    def insert_right(self, new_node):\n",
    "        if not self.right:\n",
    "            self.right = BinaryTree(new_node)\n",
    "        else:\n",
    "            tree = BinaryTree(new_node)\n",
    "            tree.right = self.right\n",
    "            self.right = tree"
   ]
  },
  {
   "cell_type": "code",
   "execution_count": 5,
   "metadata": {
    "collapsed": false
   },
   "outputs": [
    {
     "name": "stdout",
     "output_type": "stream",
     "text": [
      "a\n",
      "c\n"
     ]
    }
   ],
   "source": [
    "t = BinaryTree('a')\n",
    "t.insert_left('b')\n",
    "t.insert_right('c')\n",
    "print(t.root)\n",
    "print(t.right.root)"
   ]
  },
  {
   "cell_type": "markdown",
   "metadata": {},
   "source": [
    "## Binary Heap"
   ]
  },
  {
   "cell_type": "code",
   "execution_count": 10,
   "metadata": {
    "collapsed": true
   },
   "outputs": [],
   "source": [
    "class BinHeap:\n",
    "    \"\"\"\n",
    "    \n",
    "    keep a useless first element 0,\n",
    "    so the parent of a child can be accessed\n",
    "    easily with division by 2\n",
    "    \"\"\"\n",
    "    def __init__(self):\n",
    "        self.heap = [0]\n",
    "        self.size = 0\n",
    "        \n",
    "    def insert(self, k):\n",
    "        self.size += 1\n",
    "        self.heap.append(k)\n",
    "        self._perc_up(self.size)\n",
    "        return self\n",
    "    \n",
    "    def _perc_up(self, i):\n",
    "        \"\"\"\n",
    "        maintain the order of the binary heap,\n",
    "        for every node x with parent p, the key in\n",
    "        p is smaller than or equal to the key in x\n",
    "        \"\"\"\n",
    "        while i // 2 > 0:\n",
    "            child_idx = i // 2\n",
    "            if self.heap[i] > self.heap[child_idx]:\n",
    "                temp = self.heap[child_idx]\n",
    "                self.heap[child_idx] = self.heap[i]\n",
    "                self.heap[i] = temp\n",
    "            # else break\n",
    "            \n",
    "            i = child_idx\n",
    "            \n",
    "        return self\n",
    "                    \n",
    "    def del_min(self):\n",
    "        \"\"\"\n",
    "        returns the minimum value from the heap, which is\n",
    "        simply the root, but after that we need to restore\n",
    "        the order of the heap, which can be done by:\n",
    "        1. taking the last element and placing it at the root\n",
    "        2. then we push the new root down to its proper position\n",
    "        \"\"\"\n",
    "        value = self.heap[1]\n",
    "        self.heap[1] = self.heap[self.size]\n",
    "        self.size -= 1\n",
    "        self.heap.pop()\n",
    "        self._perc_down(1)\n",
    "        return value\n",
    "    \n",
    "    def _perc_down(self, i):\n",
    "        \"\"\"\n",
    "        while there is still a child,\n",
    "        compare with it and if a child\n",
    "        is smaller, move the child up\n",
    "        and move the element down\n",
    "        \"\"\"\n",
    "        while i * 2 <= self.size:\n",
    "            min_child = self._get_min_child(i)\n",
    "            if self.heap[i] > self.heap[min_child]:\n",
    "                temp = self.heap[i]\n",
    "                self.heap[i] = self.heap[min_child]\n",
    "                self.heap[min_child] = temp\n",
    "\n",
    "            i = min_child\n",
    "            \n",
    "        return self   \n",
    "    \n",
    "    def _get_min_child(self, i):\n",
    "        \"\"\"\n",
    "        compare the two childern and return the\n",
    "        indices of the smallest one\n",
    "        \"\"\"\n",
    "        # account for the fact that there is only 1 child\n",
    "        if i * 2 + 1 > self.size:\n",
    "            return i * 2\n",
    "        else:\n",
    "            if self.heap[i * 2] < self.heap[i * 2 + 1]:\n",
    "                return i * 2\n",
    "            else:\n",
    "                return i * 2 + 1\n",
    "            \n",
    "    def build_heap(self, alist):\n",
    "        \"\"\"build the entire heap from a list\"\"\"\n",
    "        self.size = len(alist)\n",
    "        self.heap = [0] + alist[:]\n",
    "        \n",
    "        # start from the middle of the list and\n",
    "        # work our way up; because it's a complete\n",
    "        # binary tree, any node past the halfway point\n",
    "        # will be a leaf, and perc_down will make sure\n",
    "        # the tree is in order\n",
    "        i = len(alist) // 2\n",
    "        while i > 0:\n",
    "            self._perc_down(i)\n",
    "            i -= 1\n",
    "            \n",
    "        return self"
   ]
  },
  {
   "cell_type": "code",
   "execution_count": 12,
   "metadata": {
    "collapsed": false
   },
   "outputs": [
    {
     "name": "stdout",
     "output_type": "stream",
     "text": [
      "2\n",
      "3\n",
      "5\n"
     ]
    }
   ],
   "source": [
    "bh = BinHeap()\n",
    "bh.build_heap([9, 5, 6, 2, 3])\n",
    "print(bh.del_min())\n",
    "print(bh.del_min())\n",
    "print(bh.del_min())"
   ]
  },
  {
   "cell_type": "markdown",
   "metadata": {},
   "source": [
    "http://interactivepython.org/runestone/static/pythonds/Trees/BinarySearchTrees.html"
   ]
  },
  {
   "cell_type": "code",
   "execution_count": null,
   "metadata": {
    "collapsed": true
   },
   "outputs": [],
   "source": []
  }
 ],
 "metadata": {
  "kernelspec": {
   "display_name": "Python [Root]",
   "language": "python",
   "name": "Python [Root]"
  },
  "language_info": {
   "codemirror_mode": {
    "name": "ipython",
    "version": 3
   },
   "file_extension": ".py",
   "mimetype": "text/x-python",
   "name": "python",
   "nbconvert_exporter": "python",
   "pygments_lexer": "ipython3",
   "version": "3.5.2"
  }
 },
 "nbformat": 4,
 "nbformat_minor": 0
}
