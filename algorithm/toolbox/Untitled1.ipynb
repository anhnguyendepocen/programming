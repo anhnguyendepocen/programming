{
 "cells": [
  {
   "cell_type": "markdown",
   "metadata": {},
   "source": [
    "[Mathematics for Computer Science](https://www.cs.princeton.edu/courses/archive/fall06/cos341/handouts/mathcs.pdf)\n",
    "\n",
    "### Fibonacci Number\n",
    "\n",
    "The definition of Fibonacci sequence: $F_0 = 0, F_1 = 1$, and $F_i = F_{i−1} + F_{i−2}$ for $i \\geq 2$."
   ]
  },
  {
   "cell_type": "code",
   "execution_count": null,
   "metadata": {
    "collapsed": true
   },
   "outputs": [],
   "source": [
    "def calculate_fib(n):\n",
    "    \"\"\"given an integer n, calculate the nth Fibonacci number\"\"\"\n",
    "    size = n + 1\n",
    "    fib = np.zeros(size, dtype = np.int)\n",
    "    fib[1] = 1\n",
    "\n",
    "    for i in range(2, size):\n",
    "        fib[i] = fib[i - 1] + fib[i - 2]\n",
    "    \n",
    "    fib_n = fib[n]\n",
    "    return fib_n"
   ]
  },
  {
   "cell_type": "code",
   "execution_count": null,
   "metadata": {
    "collapsed": true
   },
   "outputs": [],
   "source": [
    "n1 = 3\n",
    "fib_n1 = calculate_fib(n1)\n",
    "assert fib_n1 == 2\n",
    "\n",
    "n2 = 10\n",
    "fib_n2 = calculate_fib(n2)\n",
    "assert fib_n2 == 55"
   ]
  }
 ],
 "metadata": {
  "kernelspec": {
   "display_name": "Python [Root]",
   "language": "python",
   "name": "Python [Root]"
  },
  "language_info": {
   "codemirror_mode": {
    "name": "ipython",
    "version": 3
   },
   "file_extension": ".py",
   "mimetype": "text/x-python",
   "name": "python",
   "nbconvert_exporter": "python",
   "pygments_lexer": "ipython3",
   "version": "3.5.2"
  }
 },
 "nbformat": 4,
 "nbformat_minor": 0
}
