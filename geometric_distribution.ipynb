{
 "cells": [
  {
   "cell_type": "markdown",
   "metadata": {
    "collapsed": true
   },
   "source": [
    "## Geometric Distribution\n",
    "\n",
    "**Geometric Distribution** is the distribution of number of trials needed to get a first success in repeated Bernoulli trials. So suppose that there are independent trials and each trial results in one of two possible outcomes, labelled success and failure. Then our probability of success is denoted by P(success) = $p$, this stays constant from trial to trial and $X$ represents the number of trials needed to get the first success.\n",
    "\n",
    "For the first success to occurr on the $x_{th}$ trial:\n",
    "\n",
    "- The first $x - 1$ trial must be failures.\n",
    "- The $x_{th}$ trial must be a success.\n",
    "\n",
    "This gives us the probability mass function of the geometric distribution:\n",
    "\n",
    "\\begin{align}\n",
    "P(X = x) = (1 - p)^{x - 1}p\n",
    "\\end{align}\n",
    "\n",
    "For the geometric distribution the minimum $x$ that it can take is 1, however, there is no upper bound to that number.\n",
    "\n",
    "> Example: In a large populations of adults, 30% have received CPR training, if adults from this population are randomly selected, what is the probability that the 6th person sampled is the first that has received CPR training?"
   ]
  },
  {
   "cell_type": "code",
   "execution_count": 3,
   "metadata": {},
   "outputs": [
    {
     "data": {
      "text/plain": [
       "0.05042099999999998"
      ]
     },
     "execution_count": 3,
     "metadata": {},
     "output_type": "execute_result"
    }
   ],
   "source": [
    "from scipy.stats import geom\n",
    "\n",
    "# geometric distribution with a probability of 0.3\n",
    "# and the first success occuring on the 6th trial\n",
    "geom(p = 0.3).pmf(k = 6)"
   ]
  },
  {
   "cell_type": "markdown",
   "metadata": {},
   "source": [
    "## Negative Binomial Distribution\n",
    "\n",
    "**Negative Binomial Distribution** generalizes the geometric distribution. It specifies the number of trials needed to get the $r_{th}$ success. Note that we should not confuse this with the binomial distribution, which measures the number of success in a fix number of independent Bernoulli trials.\n",
    "\n",
    "We'll again denote the probability of success by P(success) = $p$, this stays constant from trial to trial and $X$ represents the number of trials needed to get the $r_{th}$ success. Then, in order for $r_{th}$ to occur on the $x_{th}$ trial:\n",
    "\n",
    "- The first $x - 1$ trial must result in $r - 1$ success. Using the binomial distribution's formula, we obtain\n",
    "\n",
    "\\begin{align}\n",
    "P(X = x) = \\binom{x - 1}{r - 1} p^{r - 1} \\left( 1 - p \\right)^{(x - 1) - (r - 1)}\n",
    "\\end{align}\n",
    "\n",
    "- The last trial must be a success. Thus we multiply $p$ to the equation above and simply it a bit\n",
    "\n",
    "\\begin{align}\n",
    "P(X = x) = \\binom{x - 1}{r - 1} p^{r} \\left( 1 - p \\right)^{x - r}\n",
    "\\end{align}\n",
    "\n",
    "For the negative binomial distribution the minimum $x$ that it can take is $r$, however, there is no upper bound to that number.\n",
    "\n",
    "> Example: A person conducting telephone surveys must get 3 more completed surveys before their job is finished. On each random dialed number, there is a 9% chance of reaching an adult who will complete the survey. What is the probability the 3rd completed survey occurs on the 10th call"
   ]
  },
  {
   "cell_type": "code",
   "execution_count": 3,
   "metadata": {},
   "outputs": [
    {
     "data": {
      "text/plain": [
       "0.013561876192013217"
      ]
     },
     "execution_count": 3,
     "metadata": {},
     "output_type": "execute_result"
    }
   ],
   "source": [
    "from scipy.stats import nbinom\n",
    "\n",
    "# note that the definition of scipy's\n",
    "# negative binomial distribution is:\n",
    "# choose(k+n-1, n-1) * p**n * (1-p)**k\n",
    "# thus k is equal to 10 - 3\n",
    "nbinom(p = 0.09, n = 3).pmf(k = 7)"
   ]
  },
  {
   "cell_type": "markdown",
   "metadata": {},
   "source": [
    "# Reference\n",
    "\n",
    "- [Youtube: An Introduction to the Geometric Distribution](https://www.youtube.com/watch?v=zq9Oz82iHf0)\n",
    "- [Youtube: Introduction to the Negative Binomial Distribution](https://www.youtube.com/watch?v=BPlmjp2ymxw)\n",
    "- [Notes: Eberly College of Science STAT 414/415: Geometric and Negative Binomial Distributions](https://onlinecourses.science.psu.edu/stat414/node/55)"
   ]
  }
 ],
 "metadata": {
  "kernelspec": {
   "display_name": "Python 3",
   "language": "python",
   "name": "python3"
  },
  "language_info": {
   "codemirror_mode": {
    "name": "ipython",
    "version": 3
   },
   "file_extension": ".py",
   "mimetype": "text/x-python",
   "name": "python",
   "nbconvert_exporter": "python",
   "pygments_lexer": "ipython3",
   "version": "3.5.2"
  },
  "toc": {
   "colors": {
    "hover_highlight": "#DAA520",
    "running_highlight": "#FF0000",
    "selected_highlight": "#FFD700"
   },
   "moveMenuLeft": true,
   "nav_menu": {
    "height": "12px",
    "width": "252px"
   },
   "navigate_menu": true,
   "number_sections": true,
   "sideBar": true,
   "threshold": 4,
   "toc_cell": false,
   "toc_section_display": "block",
   "toc_window_display": true
  }
 },
 "nbformat": 4,
 "nbformat_minor": 2
}
