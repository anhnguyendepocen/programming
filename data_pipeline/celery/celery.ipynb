{
 "cells": [
  {
   "cell_type": "markdown",
   "metadata": {
    "toc": "true"
   },
   "source": [
    "# Table of Contents\n",
    " <p>"
   ]
  },
  {
   "cell_type": "code",
   "execution_count": 2,
   "metadata": {},
   "outputs": [
    {
     "data": {
      "text/plain": [
       "'{\"Open min\":{\"FB\":92.830002},\"Open max\":{\"FB\":188.699997},\"Open mean\":{\"FB\":137.7624417829},\"Open median\":{\"FB\":130.1200025},\"High min\":{\"FB\":95.0},\"High max\":{\"FB\":188.899994},\"High mean\":{\"FB\":138.8162981512},\"High median\":{\"FB\":130.7149965},\"Low min\":{\"FB\":89.370003},\"Low max\":{\"FB\":187.380005},\"Low mean\":{\"FB\":136.5844767907},\"Low median\":{\"FB\":129.385002},\"Close min\":{\"FB\":94.160004},\"Close max\":{\"FB\":188.279999},\"Close mean\":{\"FB\":137.7955620581},\"Close median\":{\"FB\":130.0950015},\"Adj Close min\":{\"FB\":94.160004},\"Adj Close max\":{\"FB\":188.279999},\"Adj Close mean\":{\"FB\":137.7955620581},\"Adj Close median\":{\"FB\":130.0950015},\"Volume min\":{\"FB\":8190300},\"Volume max\":{\"FB\":107475300},\"Volume mean\":{\"FB\":21163769.3817829452},\"Volume median\":{\"FB\":17574950}}'"
      ]
     },
     "execution_count": 2,
     "metadata": {},
     "output_type": "execute_result"
    }
   ],
   "source": [
    "from datetime import datetime\n",
    "from tasks import get_stock_info\n",
    "from pandas_datareader import DataReader\n",
    "\n",
    "stock = 'FB'\n",
    "start = datetime(2016, 1, 1)\n",
    "end = datetime.today()\n",
    "result = get_stock_info(stock, start, end)\n",
    "result"
   ]
  },
  {
   "cell_type": "markdown",
   "metadata": {},
   "source": [
    "To run the function as a celery task, we need to pass the arguments with the `.delay` method."
   ]
  },
  {
   "cell_type": "code",
   "execution_count": 5,
   "metadata": {},
   "outputs": [
    {
     "data": {
      "text/plain": [
       "<AsyncResult: 31470ac1-4f09-4d5d-a257-5fd585caf552>"
      ]
     },
     "execution_count": 5,
     "metadata": {},
     "output_type": "execute_result"
    }
   ],
   "source": [
    "# celery -A tasks worker --loglevel=info\n",
    "# celery flower -A tasks\n",
    "\n",
    "# we now have an asynchronous result\n",
    "result = get_stock_info.delay(stock, start, end)\n",
    "result"
   ]
  },
  {
   "cell_type": "code",
   "execution_count": 4,
   "metadata": {},
   "outputs": [
    {
     "name": "stdout",
     "output_type": "stream",
     "text": [
      "status: SUCCESS\n"
     ]
    },
    {
     "data": {
      "text/plain": [
       "'{\"Open min\":{\"FB\":92.830002},\"Open max\":{\"FB\":188.699997},\"Open mean\":{\"FB\":137.7624417829},\"Open median\":{\"FB\":130.1200025},\"High min\":{\"FB\":95.0},\"High max\":{\"FB\":188.899994},\"High mean\":{\"FB\":138.8162981512},\"High median\":{\"FB\":130.7149965},\"Low min\":{\"FB\":89.370003},\"Low max\":{\"FB\":187.380005},\"Low mean\":{\"FB\":136.5844767907},\"Low median\":{\"FB\":129.385002},\"Close min\":{\"FB\":94.160004},\"Close max\":{\"FB\":188.279999},\"Close mean\":{\"FB\":137.7955620581},\"Close median\":{\"FB\":130.0950015},\"Adj Close min\":{\"FB\":94.160004},\"Adj Close max\":{\"FB\":188.279999},\"Adj Close mean\":{\"FB\":137.7955620581},\"Adj Close median\":{\"FB\":130.0950015},\"Volume min\":{\"FB\":8190300},\"Volume max\":{\"FB\":107475300},\"Volume mean\":{\"FB\":21163769.3817829452},\"Volume median\":{\"FB\":17574950}}'"
      ]
     },
     "execution_count": 4,
     "metadata": {},
     "output_type": "execute_result"
    }
   ],
   "source": [
    "# we can then check the status and\n",
    "# access the .info to obtain the data\n",
    "# (or call .get())\n",
    "print('status:', result.status)\n",
    "result.info"
   ]
  },
  {
   "cell_type": "code",
   "execution_count": null,
   "metadata": {},
   "outputs": [],
   "source": [
    "# group"
   ]
  },
  {
   "cell_type": "code",
   "execution_count": null,
   "metadata": {},
   "outputs": [],
   "source": [
    "# pip install dask\n",
    "# pip install dask-ml[complete]"
   ]
  }
 ],
 "metadata": {
  "kernelspec": {
   "display_name": "Python 3",
   "language": "python",
   "name": "python3"
  },
  "language_info": {
   "codemirror_mode": {
    "name": "ipython",
    "version": 3
   },
   "file_extension": ".py",
   "mimetype": "text/x-python",
   "name": "python",
   "nbconvert_exporter": "python",
   "pygments_lexer": "ipython3",
   "version": "3.5.2"
  },
  "toc": {
   "colors": {
    "hover_highlight": "#DAA520",
    "running_highlight": "#FF0000",
    "selected_highlight": "#FFD700"
   },
   "moveMenuLeft": true,
   "nav_menu": {
    "height": "12px",
    "width": "252px"
   },
   "navigate_menu": true,
   "number_sections": true,
   "sideBar": true,
   "threshold": 4,
   "toc_cell": true,
   "toc_section_display": "block",
   "toc_window_display": true
  }
 },
 "nbformat": 4,
 "nbformat_minor": 2
}
