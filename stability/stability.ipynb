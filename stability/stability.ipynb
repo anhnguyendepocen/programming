{
 "cells": [
  {
   "cell_type": "code",
   "execution_count": 1,
   "metadata": {
    "collapsed": false
   },
   "outputs": [
    {
     "data": {
      "text/html": [
       "<style>\n",
       "@import url('http://fonts.googleapis.com/css?family=Source+Code+Pro');\n",
       "@import url('http://fonts.googleapis.com/css?family=Vollkorn');\n",
       "@import url('http://fonts.googleapis.com/css?family=Arimo');\n",
       "@import url('http://fonts.googleapis.com/css?family=Fira_sans');\n",
       "    \n",
       "    div.cell {\n",
       "        width: 1000px;\n",
       "        margin-left: 0% !important;\n",
       "        margin-right: auto;\n",
       "    }\n",
       "    div.text_cell code {\n",
       "        background: transparent;\n",
       "        color: #000000;\n",
       "        font-weight: 600;\n",
       "        font-size: 12pt;\n",
       "        font-style: bold;\n",
       "        font-family:  'Source Code Pro', Consolas, monocco, monospace;\n",
       "    }\n",
       "    h1 {\n",
       "        font-family: 'Open sans',verdana,arial,sans-serif;\n",
       "\t}\n",
       "\t\n",
       "    div.input_area {\n",
       "        background: #F6F6F9;\n",
       "        border: 1px solid #586e75;\n",
       "    }\n",
       "\n",
       "    .text_cell_render h1 {\n",
       "        font-weight: 200;\n",
       "        font-size: 30pt;\n",
       "        line-height: 100%;\n",
       "        color:#c76c0c;\n",
       "        margin-bottom: 0.5em;\n",
       "        margin-top: 1em;\n",
       "        display: block;\n",
       "        white-space: wrap;\n",
       "        text-align: left;\n",
       "    } \n",
       "    h2 {\n",
       "        font-family: 'Open sans',verdana,arial,sans-serif;\n",
       "        text-align: left;\n",
       "    }\n",
       "    .text_cell_render h2 {\n",
       "        font-weight: 200;\n",
       "        font-size: 16pt;\n",
       "        font-style: italic;\n",
       "        line-height: 100%;\n",
       "        color:#c76c0c;\n",
       "        margin-bottom: 0.5em;\n",
       "        margin-top: 1.5em;\n",
       "        display: block;\n",
       "        white-space: wrap;\n",
       "        text-align: left;\n",
       "    } \n",
       "    h3 {\n",
       "        font-family: 'Open sans',verdana,arial,sans-serif;\n",
       "    }\n",
       "    .text_cell_render h3 {\n",
       "        font-weight: 200;\n",
       "        font-size: 14pt;\n",
       "        line-height: 100%;\n",
       "        color:#d77c0c;\n",
       "        margin-bottom: 0.5em;\n",
       "        margin-top: 2em;\n",
       "        display: block;\n",
       "        white-space: wrap;\n",
       "        text-align: left;\n",
       "    }\n",
       "    h4 {\n",
       "        font-family: 'Open sans',verdana,arial,sans-serif;\n",
       "    }\n",
       "    .text_cell_render h4 {\n",
       "        font-weight: 100;\n",
       "        font-size: 14pt;\n",
       "        color:#d77c0c;\n",
       "        margin-bottom: 0.5em;\n",
       "        margin-top: 0.5em;\n",
       "        display: block;\n",
       "        white-space: nowrap;\n",
       "    }\n",
       "    h5 {\n",
       "        font-family: 'Open sans',verdana,arial,sans-serif;\n",
       "    }\n",
       "    .text_cell_render h5 {\n",
       "        font-weight: 200;\n",
       "        font-style: normal;\n",
       "        color: #1d3b84;\n",
       "        font-size: 16pt;\n",
       "        margin-bottom: 0em;\n",
       "        margin-top: 0.5em;\n",
       "        display: block;\n",
       "        white-space: nowrap;\n",
       "    }\n",
       "    div.text_cell_render{\n",
       "        font-family: 'Fira sans', verdana,arial,sans-serif;\n",
       "        line-height: 125%;\n",
       "        font-size: 115%;\n",
       "        text-align:justify;\n",
       "        text-justify:inter-word;\n",
       "    }\n",
       "    div.output_wrapper{\n",
       "        margin-top:0.2em;\n",
       "        margin-bottom:0.2em;\n",
       "    }\n",
       "\n",
       "    code{\n",
       "      font-size: 70%;\n",
       "    }\n",
       "    .rendered_html code{\n",
       "    background-color: transparent;\n",
       "    }\n",
       "    ul{\n",
       "        margin: 2em;\n",
       "    }\n",
       "    ul li{\n",
       "        padding-left: 0.5em; \n",
       "        margin-bottom: 0.5em; \n",
       "        margin-top: 0.5em; \n",
       "    }\n",
       "    ul li li{\n",
       "        padding-left: 0.2em; \n",
       "        margin-bottom: 0.2em; \n",
       "        margin-top: 0.2em; \n",
       "    }\n",
       "    ol{\n",
       "        margin: 2em;\n",
       "    }\n",
       "    ol li{\n",
       "        padding-left: 0.5em; \n",
       "        margin-bottom: 0.5em; \n",
       "        margin-top: 0.5em; \n",
       "    }\n",
       "    ul li{\n",
       "        padding-left: 0.5em; \n",
       "        margin-bottom: 0.5em; \n",
       "        margin-top: 0.2em; \n",
       "    }\n",
       "    a:link{\n",
       "       font-weight: bold;\n",
       "       color:#447adb;\n",
       "    }\n",
       "    a:visited{\n",
       "       font-weight: bold;\n",
       "       color: #1d3b84;\n",
       "    }\n",
       "    a:hover{\n",
       "       font-weight: bold;\n",
       "       color: #1d3b84;\n",
       "    }\n",
       "    a:focus{\n",
       "       font-weight: bold;\n",
       "       color:#447adb;\n",
       "    }\n",
       "    a:active{\n",
       "       font-weight: bold;\n",
       "       color:#447adb;\n",
       "    }\n",
       "    .rendered_html :link {\n",
       "       text-decoration: underline; \n",
       "    }\n",
       "    .rendered_html :hover {\n",
       "       text-decoration: none; \n",
       "    }\n",
       "    .rendered_html :visited {\n",
       "      text-decoration: none;\n",
       "    }\n",
       "    .rendered_html :focus {\n",
       "      text-decoration: none;\n",
       "    }\n",
       "    .rendered_html :active {\n",
       "      text-decoration: none;\n",
       "    }\n",
       "    .warning{\n",
       "        color: rgb( 240, 20, 20 )\n",
       "    } \n",
       "    hr {\n",
       "      color: #f3f3f3;\n",
       "      background-color: #f3f3f3;\n",
       "      height: 1px;\n",
       "    }\n",
       "    blockquote{\n",
       "      display:block;\n",
       "      background: #fcfcfc;\n",
       "      border-left: 5px solid #c76c0c;\n",
       "      font-family: 'Open sans',verdana,arial,sans-serif;\n",
       "      width:680px;\n",
       "      padding: 10px 10px 10px 10px;\n",
       "      text-align:justify;\n",
       "      text-justify:inter-word;\n",
       "      }\n",
       "      blockquote p {\n",
       "        margin-bottom: 0;\n",
       "        line-height: 125%;\n",
       "        font-size: 100%;\n",
       "      }\n",
       "</style>\n",
       "<script>\n",
       "    MathJax.Hub.Config({\n",
       "                        TeX: {\n",
       "                           extensions: [\"AMSmath.js\"]\n",
       "                           },\n",
       "                tex2jax: {\n",
       "                    inlineMath: [ ['$','$'], [\"\\\\(\",\"\\\\)\"] ],\n",
       "                    displayMath: [ ['$$','$$'], [\"\\\\[\",\"\\\\]\"] ]\n",
       "                },\n",
       "                displayAlign: 'center', // Change this to 'center' to center equations.\n",
       "                \"HTML-CSS\": {\n",
       "                    scale:100,\n",
       "                        availableFonts: [],\n",
       "                        preferredFont:null,\n",
       "                        webFont: \"TeX\",\n",
       "                    styles: {'.MathJax_Display': {\"margin\": 4}}\n",
       "                }\n",
       "        });\n",
       "</script>\n"
      ],
      "text/plain": [
       "<IPython.core.display.HTML object>"
      ]
     },
     "execution_count": 1,
     "metadata": {},
     "output_type": "execute_result"
    }
   ],
   "source": [
    "# code for loading the format for the notebook\n",
    "import os\n",
    "\n",
    "# path : store the current path to convert back to it later\n",
    "path = os.getcwd()\n",
    "os.chdir( os.path.join('..', '..', '..', 'notebook_format') )\n",
    "from formats import load_style\n",
    "load_style()"
   ]
  },
  {
   "cell_type": "code",
   "execution_count": 2,
   "metadata": {
    "collapsed": false
   },
   "outputs": [
    {
     "name": "stdout",
     "output_type": "stream",
     "text": [
      "Ethen 2016-11-25 14:30:58 \n",
      "\n",
      "CPython 3.5.2\n",
      "IPython 4.2.0\n",
      "\n",
      "numpy 1.11.2\n",
      "pandas 0.18.1\n",
      "matplotlib 1.5.1\n",
      "scikit-learn 0.18\n",
      "scipy 0.18.1\n"
     ]
    }
   ],
   "source": [
    "os.chdir(path)\n",
    "%matplotlib inline\n",
    "import numpy as np\n",
    "import pandas as pd\n",
    "import matplotlib.pyplot as plt\n",
    "plt.rcParams['figure.figsize'] = 8, 6 # change default figure size\n",
    "plt.rcParams['font.size'] = 10 # and font size\n",
    "\n",
    "# 1. magic to print version\n",
    "# 2. magic so that the notebook will reload external python modules\n",
    "%load_ext watermark\n",
    "%load_ext autoreload \n",
    "%autoreload 2\n",
    "\n",
    "import warnings\n",
    "from sklearn.datasets import fetch_20newsgroups\n",
    "from scipy.optimize import linear_sum_assignment\n",
    "from sklearn.feature_extraction.text import CountVectorizer\n",
    "from sklearn.decomposition import LatentDirichletAllocation\n",
    "\n",
    "%watermark -a 'Ethen' -d -t -v -p numpy,pandas,matplotlib,scikit-learn,scipy"
   ]
  },
  {
   "cell_type": "markdown",
   "metadata": {},
   "source": [
    "# Stability Analysis for Topic Models\n",
    "\n",
    "This documentation aims to reproduce the methodology from the paper [How Many Topics? Stability Analysis for Topic Models (2014) Derek Greene, Derek O'Callaghan, Pádraig Cunningham](https://arxiv.org/abs/1404.4606). In the paper, they proposed a topic stability method that tries to address the issue of choosing an appropriate topic number for performing topic modeling.\n",
    "\n",
    "\n",
    "## Quick Review\n",
    "\n",
    "The following two code chunks shows how to use scikit-learn's Latent Dirichlet Allocation to perform topic modeling. If you're still unfamiliar of what a topic modeling does, consider checking out a high level walkthrough [here](http://nbviewer.jupyter.org/github/ethen8181/machine-learning/blob/master/clustering/topic_model/LDA.ipynb)."
   ]
  },
  {
   "cell_type": "code",
   "execution_count": 3,
   "metadata": {
    "collapsed": true
   },
   "outputs": [],
   "source": [
    "# recent scikit-learn are raising deprecation warnings that\n",
    "# default value for 'learning_method' will be changed \n",
    "# from 'online' to 'batch'; we won't worry about it\n",
    "warnings.filterwarnings('ignore', category = DeprecationWarning) \n",
    "\n",
    "texts = ['human interface computer',\n",
    "         'survey user computer system response time',\n",
    "         'eps user interface system',\n",
    "         'system human system eps',\n",
    "         'user response time',\n",
    "         'trees',\n",
    "         'graph trees',\n",
    "         'graph minors trees',\n",
    "         'graph minors survey']\n",
    "\n",
    "\n",
    "# convert to document-term matrix and train the lda model\n",
    "vec = CountVectorizer(stop_words = 'english')\n",
    "lda = LatentDirichletAllocation(n_topics = 2, learning_method = 'batch')\n",
    "X_dtm = vec.fit_transform(texts)\n",
    "doc_topic_distr = lda.fit_transform(X_dtm)"
   ]
  },
  {
   "cell_type": "code",
   "execution_count": 4,
   "metadata": {
    "collapsed": false
   },
   "outputs": [
    {
     "name": "stdout",
     "output_type": "stream",
     "text": [
      "Topic #0:\n",
      "user, time, response, eps, computer, interface, human, survey, trees, graph, minors\n",
      "\n",
      "Topic #1:\n",
      "graph, trees, minors, survey, human, interface, computer, eps, user, response, time\n",
      "\n",
      "\n"
     ]
    }
   ],
   "source": [
    "def print_top_words(vec, lda_model, n_top_words):\n",
    "    \"\"\"top words associated with each topic for sklearn's LDA\"\"\"\n",
    "    features = vec.get_feature_names()\n",
    "    for topic_idx, topic in enumerate(lda_model.components_):\n",
    "        print( 'Topic #{}:'.format(topic_idx) )\n",
    "        \n",
    "        # argsort sorts in increasing order, and we wish\n",
    "        # toprint the last n words in decreasing order\n",
    "        print( ', '.join([ features[i] for i in np.argsort(topic)[:-n_top_words - 1:-1] ]) )\n",
    "        print()\n",
    "    \n",
    "    print()\n",
    "    \n",
    "\n",
    "# after training the model, we print the top words\n",
    "# associated within each topic to interpret the model's result\n",
    "n_top_words = 15\n",
    "print_top_words(lda_model = lda, vec = vec, n_top_words = n_top_words)"
   ]
  },
  {
   "cell_type": "markdown",
   "metadata": {},
   "source": [
    "## Term Ranking Similarity\n",
    "\n",
    "Before getting into topic stability, we will need to have two basic ideas in mind:\n",
    "\n",
    "- The stability of clustering model refers to its ability to consistently generate similar results when applying the same algorithm to the same data source.\n",
    "- One common output that a topic model reports is the top terms (in the paper, they refer to it as a **ranked list**, hence we'll use top terms and ranked list interchangeably) associated with each topics.\n",
    "\n",
    "Given these two piece of information, the idea behind topic stability is that we compare the similarity of the topic terms between different runs of the topic model to determine whether it is stable or not.\n",
    "\n",
    "To formalize it a bit, the output of a topic modeling algorithm is in the form of a ranking set containing $k$ ranked lists, denoted $S = \\{R_1,...,R_k\\}$. The $i_{th}$ topic produced by the algorithm is represented by the list $R_i$ ($k$ is simply the topic number that we specified, in the sklearn API, this is `n_topics`), containing the top $t$ terms which are most representative of that topic. Usually $t$ is within the range of 10 to 20.\n",
    "\n",
    "Now that we've obtained the ranked list, a naive approach to assess the similarity between a pair of ranked lists $R_i, R_j$ would be to employ a simple similarity such as the **Jaccard similarity**. \n",
    "\n",
    "However, such measures do not take into account positional information, that is terms occurring at the top of a ranked list generated by a topic model algorithm such as LDA will naturally be more relevant to a topic than those occurring at the tail of the list. Also, in practice, rather than considering all $m$ terms in a corpus, it may be preferable to use only the top $t << m$ terms to represent the ranked list.\n",
    "\n",
    "Therefore, we instead use of a weighted version of the Jaccard index, suitable for calculating the similarity between pairs of indefinite rankings. Specifically, we define the **Average Jaccard (AJ)** measure as follows. We calculate the average of the Jaccard scores between every pair of subsets of d top-ranked terms in two lists, for depth $d \\in [1, t]$. That is:\n",
    "\n",
    "\\begin{equation} \n",
    "AJ(R_i, R_j) = \\frac{1}{t} \\sum_{d = 1}^t \\gamma_d (R_i, R_j)\n",
    "\\end{equation}\n",
    "\n",
    "Where:\n",
    "\n",
    "\\begin{equation}\n",
    "\\gamma_d (R_i, R_j) = \\frac{ \\rvert R_{i, d} \\cap R_{j, d} \\rvert }{ \\rvert R_{i, d} \\cup R_{j, d} \\rvert }\n",
    "\\end{equation}\n",
    "\n",
    "such that $R_{i,d}$ is the head of list $R_i$ up to depth $d$. This is a symmetric measure producing values in the range [0,1], where the terms in the ranked list are weighted according to a decreasing linear scale. To demonstrate this, a simple illustrative example is shown below.\n",
    "\n",
    "<img src=\"img/jaccard.png\" height=\"70%\" width=\"70%\">\n",
    "\n",
    "Note that, although the Jaccard score at depth $d = 5$ is comparatively high (0.429), the Average Jaccard score is much lower (0.154), as the similarity between terms occurs towards the tails of the lists – these terms carry less weight than those at the head of the lists, such as \"album\" and \"sport\".\n",
    "\n",
    "The following code chunk reproduces the results from the table."
   ]
  },
  {
   "cell_type": "code",
   "execution_count": 5,
   "metadata": {
    "collapsed": false
   },
   "outputs": [],
   "source": [
    "R1 = [\n",
    "    ['album'],\n",
    "    ['album', 'music'],\n",
    "    ['album', 'music', 'best'],\n",
    "    ['album', 'music', 'best', 'award'],\n",
    "    ['album', 'music', 'best', 'award', 'win']\n",
    "]\n",
    "\n",
    "R2 = [\n",
    "    ['sport'],\n",
    "    ['sport', 'best'],\n",
    "    ['sport', 'best', 'win'],\n",
    "    ['sport', 'best', 'win', 'medal'],\n",
    "    ['sport', 'best', 'win', 'medal', 'award']\n",
    "]"
   ]
  },
  {
   "cell_type": "code",
   "execution_count": 6,
   "metadata": {
    "collapsed": false
   },
   "outputs": [],
   "source": [
    "def compute_jaccard(ranking1, ranking2):\n",
    "    \"\"\"\n",
    "    compute jaccard similarity that does not take into account \n",
    "    rank positions and indefinite list\n",
    "    \"\"\"\n",
    "    set1 = set(ranking1)\n",
    "    set2 = set(ranking2)\n",
    "    numerator = len( set1.intersection(set2) )\n",
    "    if not numerator:\n",
    "        return 0\n",
    "\n",
    "    denominator = len( set1.union(set2) )\n",
    "    jaccard_sim = numerator / denominator\n",
    "    return jaccard_sim"
   ]
  },
  {
   "cell_type": "code",
   "execution_count": 7,
   "metadata": {
    "collapsed": false
   },
   "outputs": [],
   "source": [
    "def compute_avg_jaccard(ranking1, ranking2):\n",
    "    \"\"\"\n",
    "    weighted version of jaccard similarity, \n",
    "    which takes into account rank positions\n",
    "    \"\"\"\n",
    "    total = 0\n",
    "    k = len(ranking1)\n",
    "    for i in range(1, k + 1):\n",
    "        total += compute_jaccard( ranking1[:i], ranking2[:i] )\n",
    "        \n",
    "    avg_jaccard_sim = total / k\n",
    "    return avg_jaccard_sim"
   ]
  },
  {
   "cell_type": "code",
   "execution_count": 8,
   "metadata": {
    "collapsed": false
   },
   "outputs": [
    {
     "name": "stdout",
     "output_type": "stream",
     "text": [
      "jaccard: 0.42857142857142855\n",
      "average jaccard: 0.15428571428571428\n"
     ]
    }
   ],
   "source": [
    "# test it for the final depth\n",
    "ranking1 = R1[4]\n",
    "ranking2 = R2[4]\n",
    "jaccard = compute_jaccard(ranking1, ranking2)\n",
    "avg_jaccard = compute_avg_jaccard(ranking1, ranking2)\n",
    "print('jaccard:', jaccard)\n",
    "print('average jaccard:', avg_jaccard)"
   ]
  },
  {
   "cell_type": "markdown",
   "metadata": {},
   "source": [
    "## Topic Model Agreement\n",
    "\n",
    "Now that we have a similarity metric for the top-terms, we move on to the problem of measuring the agreement between two different $k$-way topic models, represented as two ranking sets $S_x = \\{ R_{x1}, ..., R_{xk} \\}$ and $S_y = \\{ R_{y1}, ..., R_{yk} \\}$, both containing $k$ ranked lists. We construct a $k × k$ similarity matrix $M$, such that the entry $M_{ij}$ indicates the agreement between $R_{xi}$ and $R_{yj}$ (i.e. the i-th topic in the first model and the j-th topic in the second model), as calculated using the Average Jaccard score. We then find the best match between the rows and columns of $M$ (pairs that have the highest similarity between the two ranked set), or so called the optimal permutation, denoted as $\\pi$. From this we can product an agreement score:\n",
    "\n",
    "\\begin{equation}\n",
    "agree(S_x, S_y) = \\frac{1}{k} \\sum_{i = 1}^k AJ \\big( R_{xi}, \\pi(R_{xi}) \\big)\n",
    "\\end{equation}\n",
    "\n",
    "Where $\\pi(R_{xi})$ denotes the ranked list in $S_y$ matched to $R_{xi}$ by the permutation $\\pi$. Hungarian method is to find the optimal permutation, The slides from [The Assignment Problem and the Hungarian Method](http://www.math.harvard.edu/archive/20_spring_05/handouts/assignment_overheads.pdf) contains more details of this method.\n",
    "\n",
    "A simple example illustrating the agreement process is shown below Fig. 1.\n",
    "\n",
    "<img src=\"img/agreement.png\" height=\"70%\" width=\"70%\">"
   ]
  },
  {
   "cell_type": "code",
   "execution_count": 9,
   "metadata": {
    "collapsed": true
   },
   "outputs": [],
   "source": [
    "# compare between two ranking the set\n",
    "# where the length of the set is simply\n",
    "# the number of topics in each topic model\n",
    "S1 = [\n",
    "    ['sport', 'win', 'award'],\n",
    "    ['bank', 'finance', 'money'],\n",
    "    ['music', 'album', 'band']\n",
    "]\n",
    "\n",
    "S2 = [\n",
    "    ['finance', 'bank', 'economy'],\n",
    "    ['music', 'band', 'award'],\n",
    "    ['win', 'sport', 'money']\n",
    "]"
   ]
  },
  {
   "cell_type": "code",
   "execution_count": 10,
   "metadata": {
    "collapsed": false
   },
   "outputs": [
    {
     "data": {
      "text/plain": [
       "array([[ 0.        ,  0.06666667,  0.5       ],\n",
       "       [ 0.5       ,  0.        ,  0.06666667],\n",
       "       [ 0.        ,  0.61111111,  0.        ]])"
      ]
     },
     "execution_count": 10,
     "metadata": {},
     "output_type": "execute_result"
    }
   ],
   "source": [
    "# reproduce the similarity matrix\n",
    "n_topic = len(S1)\n",
    "sim_mat = np.zeros(( n_topic, n_topic ))\n",
    "for row in range(n_topic):  \n",
    "    for col in range(n_topic):\n",
    "        sim_mat[row, col] = compute_avg_jaccard(S1[row], S2[col])\n",
    "\n",
    "sim_mat"
   ]
  },
  {
   "cell_type": "code",
   "execution_count": 11,
   "metadata": {
    "collapsed": false
   },
   "outputs": [
    {
     "data": {
      "text/plain": [
       "0.53703703703703709"
      ]
     },
     "execution_count": 11,
     "metadata": {},
     "output_type": "execute_result"
    }
   ],
   "source": [
    "# solve for the optimal permutation using hungarian algorithm,\n",
    "# for the scipy implementation, each element is presented as cost\n",
    "# hence we take the negative sign of the similarity matrix\n",
    "row_ind, col_ind = linear_sum_assignment(-sim_mat)\n",
    "agreement = np.mean( sim_mat[row_ind, col_ind] )\n",
    "agreement"
   ]
  },
  {
   "cell_type": "code",
   "execution_count": 12,
   "metadata": {
    "collapsed": true
   },
   "outputs": [],
   "source": [
    "# simply wrapping all of it in one function\n",
    "def compute_agreement(S1, S2):\n",
    "    \"\"\"\n",
    "    measuring the agreement between two different \n",
    "    k-way topic models, represented as two rank sets;\n",
    "    the rank set is simply the top words for each topic\n",
    "    \"\"\"\n",
    "    \n",
    "    # compute the similarity matrix\n",
    "    n_topic = len(S1)\n",
    "    sim_mat = np.zeros(( n_topic, n_topic ))\n",
    "    for row in range(n_topic):\n",
    "        for col in range(n_topic):\n",
    "            sim_mat[row, col] = compute_avg_jaccard(S1[row], S2[col])    \n",
    "    \n",
    "    # solve for the optimal permutation using hungarian algorithm,\n",
    "    # for the scipy implementation, each element is presented as cost\n",
    "    # hence we use the negative sign of the similarity matrix as input\n",
    "    row_ind, col_ind = linear_sum_assignment(-sim_mat)\n",
    "    agreement = np.mean( sim_mat[row_ind, col_ind] )\n",
    "    return agreement"
   ]
  },
  {
   "cell_type": "code",
   "execution_count": 13,
   "metadata": {
    "collapsed": false
   },
   "outputs": [
    {
     "data": {
      "text/plain": [
       "0.53703703703703709"
      ]
     },
     "execution_count": 13,
     "metadata": {},
     "output_type": "execute_result"
    }
   ],
   "source": [
    "agreement = compute_agreement(S1, S2)\n",
    "agreement"
   ]
  },
  {
   "cell_type": "markdown",
   "metadata": {},
   "source": [
    "## Selecting the Number of Topics\n",
    "\n",
    "Building on top of the agreement score, the topic number selction process is defined as follows:\n",
    "\n",
    "- Randomly generate $\\gamma$ samples of the full corpus, each containing $\\beta \\times n$ documents. $n$ denotes the total number of documents, and $\\beta$ is $0 < \\beta < 1$ denotes the sampling ratio controlling the number of documents in each sample. For this step, we'll also try out taking a bootstrap sample, where instead of sampling $\\beta \\times n$ documents, we'll sample $n$ documents, but with replacement. The reason for wanting to give this method a shot is inspired by the fact that this method is also used in algorithms like Randomforest and it is also used in the R package [fpc](https://cran.r-project.org/web/packages/fpc/fpc.pdf) to access the stability of clustering algorithms.\n",
    "- For each value of $k \\in [kmin, kmax]$ (a defined range of topic numbers to search for):\n",
    "    - Apply the topic modeling algorithm to the complete data set of $n$ documents to generate $k$ topics, and represent the output as the reference ranking set $S_0$.\n",
    "    - For each sample $\\gamma$:\n",
    "        - Apply the topic modeling algorithm to it to generate $k$ topics, and represent the output as the ranking set $S_i$. \n",
    "        - Calculate the agreement score agree ($S_0$, $S_i$).\n",
    "    - Compute the mean agreement score for $k$ over all $\\gamma$ samples. This measure is the overall topic stability at $k$ topics.\n",
    "    \n",
    "After going through the whole process, we can examine the plot of the stability scores ranging from $[kmin, kmax]$ and the optimal value for $k$ may be identified based on peaks in the plot. Or simply use the program to select the maximum stability score."
   ]
  },
  {
   "cell_type": "code",
   "execution_count": 14,
   "metadata": {
    "collapsed": true
   },
   "outputs": [],
   "source": [
    "import spacy\n",
    "import multiprocessing\n",
    "from gensim.models import Phrases\n",
    "from gensim.corpora import Dictionary, MmCorpus\n",
    "from gensim.models.word2vec import LineSentence\n",
    "from sklearn.feature_extraction.stop_words import ENGLISH_STOP_WORDS\n",
    "\n",
    "\n",
    "from numba import jit\n",
    "from tqdm import tqdm_notebook\n",
    "from operator import itemgetter\n",
    "from gensim.models.ldamulticore import LdaMulticore"
   ]
  },
  {
   "cell_type": "markdown",
   "metadata": {},
   "source": [
    "## Preprocessing\n",
    "\n",
    "We'll now try this Topic Stability using a larger dataset (sample wikipedia text file). To follow along please download the file from this [link](https://www.dropbox.com/s/mriz0nq35ore8cr/people_wiki.csv?dl=0).\n",
    "\n",
    "This section focuses on preprocessing our text data by:\n",
    "\n",
    "- Obtaining one set of stop words. Stop words are very common words, like _a_, _the_, _and_, and so on, that serve functional roles in the English language, but typically don't contribute too much to the overall meaning of text. Filtering stopwords is a common procedure that allows text modeling or natural language processing techniques to focus on the words that carry more semantic weight.\n",
    "- Perform lemmatization, remove stop words, punctuation, whitespace, numbers\n",
    "\n",
    "After performing all of that task, we'll write out the cleaned text to disk."
   ]
  },
  {
   "cell_type": "code",
   "execution_count": 15,
   "metadata": {
    "collapsed": false
   },
   "outputs": [],
   "source": [
    "df_data = []\n",
    "categories = ['business', 'entertainment', 'politics', 'sport', 'tech']\n",
    "for category in categories:\n",
    "    data_dir = os.path.join('bbc', category)\n",
    "    data_files = os.listdir(data_dir)\n",
    "\n",
    "    data = []\n",
    "    for file in data_files:\n",
    "        data_path = os.path.join(data_dir, file)\n",
    "        with open(data_path, encoding = 'latin-1') as f:\n",
    "            text = f.readlines()\n",
    "            sentence = ' '.join(text)\n",
    "            data.append(sentence)\n",
    "        \n",
    "    df = pd.DataFrame( data, columns = ['text'] )\n",
    "    df['category'] = category\n",
    "    df_data.append(df)"
   ]
  },
  {
   "cell_type": "code",
   "execution_count": 16,
   "metadata": {
    "collapsed": false
   },
   "outputs": [
    {
     "name": "stdout",
     "output_type": "stream",
     "text": [
      "number of documents 2225\n"
     ]
    },
    {
     "data": {
      "text/html": [
       "<div>\n",
       "<table border=\"1\" class=\"dataframe\">\n",
       "  <thead>\n",
       "    <tr style=\"text-align: right;\">\n",
       "      <th></th>\n",
       "      <th>text</th>\n",
       "      <th>category</th>\n",
       "    </tr>\n",
       "  </thead>\n",
       "  <tbody>\n",
       "    <tr>\n",
       "      <th>467</th>\n",
       "      <td>Classy Henman makes winning start\\n \\n Tim Hen...</td>\n",
       "      <td>sport</td>\n",
       "    </tr>\n",
       "    <tr>\n",
       "      <th>445</th>\n",
       "      <td>Davenport dismantles young rival\\n \\n Top seed...</td>\n",
       "      <td>sport</td>\n",
       "    </tr>\n",
       "    <tr>\n",
       "      <th>146</th>\n",
       "      <td>Malaysia lifts Islamic bank limit\\n \\n Malaysi...</td>\n",
       "      <td>business</td>\n",
       "    </tr>\n",
       "    <tr>\n",
       "      <th>388</th>\n",
       "      <td>Mobile multimedia slow to catch on\\n \\n There ...</td>\n",
       "      <td>tech</td>\n",
       "    </tr>\n",
       "    <tr>\n",
       "      <th>52</th>\n",
       "      <td>Microsoft launches its own search\\n \\n Microso...</td>\n",
       "      <td>tech</td>\n",
       "    </tr>\n",
       "  </tbody>\n",
       "</table>\n",
       "</div>"
      ],
      "text/plain": [
       "                                                  text  category\n",
       "467  Classy Henman makes winning start\\n \\n Tim Hen...     sport\n",
       "445  Davenport dismantles young rival\\n \\n Top seed...     sport\n",
       "146  Malaysia lifts Islamic bank limit\\n \\n Malaysi...  business\n",
       "388  Mobile multimedia slow to catch on\\n \\n There ...      tech\n",
       "52   Microsoft launches its own search\\n \\n Microso...      tech"
      ]
     },
     "execution_count": 16,
     "metadata": {},
     "output_type": "execute_result"
    }
   ],
   "source": [
    "# shuffle the rows\n",
    "data = pd.concat(df_data)\n",
    "data = data.sample(frac = 1)\n",
    "X = data['text']\n",
    "\n",
    "print( 'number of documents', X.shape[0] )\n",
    "data.head()"
   ]
  },
  {
   "cell_type": "markdown",
   "metadata": {},
   "source": [
    "The next code chunk join all the stopwords set, including the built-in set from scikit-learn and spacy and the one that we manually found. Here we're only including a few words/symbols, but what we can do is: specify a list in a .csv file and read it in from disk. After that we can increase the words in the .csv file by training a LDA model, and remove unhelpful words that appeared in the top words of each topic (do this iteratively until we're satisfied with the result)."
   ]
  },
  {
   "cell_type": "code",
   "execution_count": 17,
   "metadata": {
    "collapsed": false
   },
   "outputs": [
    {
     "name": "stdout",
     "output_type": "stream",
     "text": [
      "number of stop words: 346\n"
     ]
    }
   ],
   "source": [
    "spacy_stopwords = spacy.en.language_data.STOP_WORDS\n",
    "stopwords = set([\"'s\", 'mr', 'want', 'year', 'way', '\\n', \"'\", 'good'])\n",
    "stopwords = stopwords | set(ENGLISH_STOP_WORDS) | spacy_stopwords\n",
    "print( 'number of stop words:', len(stopwords) )"
   ]
  },
  {
   "cell_type": "code",
   "execution_count": 18,
   "metadata": {
    "collapsed": true
   },
   "outputs": [],
   "source": [
    "def create_generator(X):\n",
    "    \"\"\"observation generator for spaCy's streaming preprocessing\"\"\"\n",
    "    for x in X:\n",
    "        yield x\n",
    "        \n",
    "\n",
    "def is_word(token):\n",
    "    \"\"\"whether the spacy token is a punctuation, whitespace or number\"\"\"    \n",
    "    return not (token.is_punct or token.is_space or token.like_num)\n",
    "\n",
    "\n",
    "def lemmatize_corpus(X, stopwords):\n",
    "    \"\"\"\n",
    "    generator function to use spaCy to parse reviews,\n",
    "    lemmatize the text, remove punctuation, whitespace\n",
    "    and number; after that yield the cleaned text\n",
    "    to write out to a text file\n",
    "    \"\"\"\n",
    "    \n",
    "    # use the .pip to process texts as a stream;\n",
    "    # this functionality supports using multi-threads,\n",
    "    # these parameters, including the batch size and\n",
    "    # the thread number to use (all available - 1)\n",
    "    # are hard-coded\n",
    "    nlp = spacy.load('en')\n",
    "    workers = multiprocessing.cpu_count() - 1\n",
    "    for text in nlp.pipe( create_generator(X), \n",
    "                          batch_size = X.shape[0] // workers, \n",
    "                          n_threads = workers ):  \n",
    "        tokens = []\n",
    "        for token in text:\n",
    "            if is_word(token) and token.lemma_ not in stopwords:\n",
    "                tokens.append(token.lemma_)\n",
    "        \n",
    "        cleaned_text = ' '.join(tokens)\n",
    "        yield cleaned_text\n",
    "        \n",
    "\n",
    "def export_unigrams(unigram_path, X, stopwords):\n",
    "    \"\"\"\n",
    "    clean up the text and export it to a .txt file,\n",
    "    where each line is one observation\n",
    "    \"\"\"\n",
    "    with open(unigram_path, 'w', encoding = 'utf_8') as f:\n",
    "        for cleaned_text in lemmatize_corpus(X, stopwords):\n",
    "            f.write(cleaned_text + '\\n')"
   ]
  },
  {
   "cell_type": "code",
   "execution_count": 19,
   "metadata": {
    "collapsed": false
   },
   "outputs": [],
   "source": [
    "data_dir = 'data'\n",
    "if not os.path.isdir(data_dir):\n",
    "    os.mkdir(data_dir)\n",
    "\n",
    "unigram_path = os.path.join(data_dir, 'unigram.txt')\n",
    "if not os.path.exists(unigram_path):  \n",
    "    export_unigrams(unigram_path, X, stopwords)"
   ]
  },
  {
   "cell_type": "markdown",
   "metadata": {},
   "source": [
    "After exporting the cleaned unigram to .txt file, the code chunk below makes sure that the document number matches."
   ]
  },
  {
   "cell_type": "code",
   "execution_count": 20,
   "metadata": {
    "collapsed": false
   },
   "outputs": [
    {
     "name": "stdout",
     "output_type": "stream",
     "text": [
      "2225\n"
     ]
    }
   ],
   "source": [
    "def count_file_len(file_name):\n",
    "    \"\"\"\n",
    "    count the total number of lines for a given file\n",
    "    http://stackoverflow.com/questions/845058/how-to-get-line-count-cheaply-in-python\n",
    "    \"\"\"\n",
    "    with open(file_name) as f:\n",
    "        for i, _ in enumerate(f, 1):\n",
    "            pass\n",
    "    return i\n",
    "\n",
    "file_len = count_file_len(unigram_path)\n",
    "print(file_len)"
   ]
  },
  {
   "cell_type": "markdown",
   "metadata": {},
   "source": [
    "## Modeling\n",
    "\n",
    "This part consists of four stages:\n",
    "\n",
    "- Build a **Phrase Model** to detect common multi-word expressions. So instead of naively creating bigrams from the token, this will only create the bigram that are more likely to be considered as bigrams. e.g. in the sentence \"i like ice cream\", we hope that after training the model, only ice cream will be glued together as one word ice_cream, instead of creating three bigrams such as i_like, like_ice, ice_cream\n",
    "- Build up a dictionary of the words that exists in the entire corpora. For this part, we removed words that appear less than 2 documents, appear in more than 90% of the document and restricted the number of words/features to be only 20% of the number of training data (document count)\n",
    "- Train the Topic Stability model, to determine the optimal topic number for the LDA model\n",
    "- Use the optimal topic number to train the LDA model\n",
    "\n",
    "\n",
    "### Phrase Model\n",
    "\n",
    "A little bit more detail on the Phrase Model section. The gist of Phrase Model is to loop over the words in our texts and looking for words that _co-occur_ (i.e., appear one after another) together much more frequently than you would expect them to by random chance. To determine whether two tokens $A$ and $B$ forms a phrase, gensim's [**Phrases**](https://radimrehurek.com/gensim/models/phrases.html) model uses the formula:\n",
    "\n",
    "$$\\frac{count(A\\ B) - count_{min}}{count(A) \\times count(B)} \\times N > threshold$$\n",
    "\n",
    "where:\n",
    "\n",
    "* $count(A)$ is the number of times token $A$ appears in the corpus\n",
    "* $count(B)$ is the number of times token $B$ appears in the corpus\n",
    "* $count(A\\ B)$ is the number of times the tokens $A\\ B$ appear in the corpus *in order*\n",
    "* $N$ is the total size of the corpus vocabulary\n",
    "* $count_{min}$ is a user-defined parameter to ensure that accepted phrases occur a minimum number of times\n",
    "* $threshold$ is a user-defined parameter to control how strong of a relationship between two tokens the model requires before accepting them as a phrase\n",
    "\n",
    "Once our Phrase Model has been trained on our corpus, we can apply it to new text. When our model encounters two tokens in new text that identifies as a phrase, it will merge the two into a single new token. Note that there is nothing stopping us from applying multiple iteration of the phrase model. This means after we perform the first phrase model to create the bigram from the unigram, we can use the bigram train a second phrase model that learns the trigram, but we'll stop at bigram for now."
   ]
  },
  {
   "cell_type": "code",
   "execution_count": 21,
   "metadata": {
    "collapsed": true
   },
   "outputs": [],
   "source": [
    "def train_phrase_model(unigram_path, bigram_model_path, lines):\n",
    "    \"\"\"\n",
    "    stream the unigram text file and\n",
    "    train the phrase model to train the bigrams\n",
    "    from the unigrams and also save it to disk;\n",
    "    \"\"\"\n",
    "    \n",
    "    # use LineSetence to stream text\n",
    "    unigram_sentences = LineSentence(unigram_path, max_sentence_length = lines)\n",
    "    bigram_model = Phrases(unigram_sentences)\n",
    "    bigram_model.save(bigram_model_path)\n",
    "    return bigram_model"
   ]
  },
  {
   "cell_type": "code",
   "execution_count": 22,
   "metadata": {
    "collapsed": true
   },
   "outputs": [],
   "source": [
    "# create a directory called 'model' to\n",
    "# store all models in later section\n",
    "model_dir = 'model'\n",
    "if not os.path.isdir(model_dir):\n",
    "    os.mkdir(model_dir)\n",
    "\n",
    "\n",
    "bigram_model_path = os.path.join(model_dir, 'bigram_model')\n",
    "if os.path.exists(bigram_model_path):\n",
    "    bigram_model = Phrases.load(bigram_model_path)\n",
    "else:\n",
    "    lines = X.shape[0]\n",
    "    bigram_model = train_phrase_model(unigram_path, bigram_model_path, lines)"
   ]
  },
  {
   "cell_type": "code",
   "execution_count": 23,
   "metadata": {
    "collapsed": false
   },
   "outputs": [],
   "source": [
    "def export_bigrams(unigram_path, bigram_path, phrase_model):\n",
    "    \"\"\"\n",
    "    use the learned phrase model to create (potential) bigrams,\n",
    "    and output the text that contains bigrams to disk\n",
    "    \"\"\"\n",
    "    with open(bigram_path, 'w') as output_f:\n",
    "        with open(unigram_path) as input_f:\n",
    "            for text in input_f:\n",
    "                unigram = text.split()\n",
    "\n",
    "                # after training the Phrase model, it will \n",
    "                # transform any sentence (list of token strings)\n",
    "                # and glue unigrams together into bigrams\n",
    "                bigram = phrase_model[unigram]\n",
    "                bigram_sentence = ' '.join(bigram)\n",
    "                output_f.write(bigram_sentence + '\\n')"
   ]
  },
  {
   "cell_type": "code",
   "execution_count": 24,
   "metadata": {
    "collapsed": false
   },
   "outputs": [],
   "source": [
    "bigram_path = os.path.join(data_dir, 'bigram.txt')\n",
    "if not os.path.exists(bigram_path):\n",
    "    export_bigrams(unigram_path, bigram_path, bigram_model)"
   ]
  },
  {
   "cell_type": "markdown",
   "metadata": {},
   "source": [
    "The next code chunk might be a bit odd, because we're switching from gensim's api to scikit-learn's api. This is because, as the time of writing this, the TopicStability accessment was written for scikit-learn's `LatentDirichletAllocation`. Supporting different packages' LDA model is definitely possible, but we'll leave this as a future task."
   ]
  },
  {
   "cell_type": "code",
   "execution_count": 25,
   "metadata": {
    "collapsed": true
   },
   "outputs": [],
   "source": [
    "X = []\n",
    "with open(bigram_path) as f:\n",
    "    for text in f:\n",
    "        X.append(text)\n",
    "\n",
    "X = np.array(X)\n",
    "vec = CountVectorizer(min_df = 5, max_df = 0.6, max_features = 1000)\n",
    "workers = multiprocessing.cpu_count() - 1\n",
    "lda = LatentDirichletAllocation(learning_method = 'batch', n_jobs = workers)"
   ]
  },
  {
   "cell_type": "code",
   "execution_count": 26,
   "metadata": {
    "collapsed": false
   },
   "outputs": [
    {
     "name": "stdout",
     "output_type": "stream",
     "text": [
      "best number of topic: 5\n"
     ]
    }
   ],
   "source": [
    "from topic_stability import TopicStability\n",
    "\n",
    "n_top_words = 20\n",
    "n_topics_range = [4, 5, 7, 10]\n",
    "n_sample_frac = 0.8\n",
    "n_sample_time = 4\n",
    "bootstrap = False\n",
    "\n",
    "ts = TopicStability(\n",
    "    vec = vec, \n",
    "    lda_model = lda, \n",
    "    n_top_words = n_top_words, \n",
    "    n_topics_range = n_topics_range,\n",
    "    n_sample_time = n_sample_time,\n",
    "    n_sample_frac = n_sample_frac,\n",
    "    bootstrap = bootstrap\n",
    ")\n",
    "ts.fit(X)\n",
    "print('best number of topic:', ts.best_n_topic)"
   ]
  },
  {
   "cell_type": "markdown",
   "metadata": {
    "collapsed": false
   },
   "source": []
  },
  {
   "cell_type": "code",
   "execution_count": 27,
   "metadata": {
    "collapsed": false
   },
   "outputs": [
    {
     "data": {
      "image/png": "[encoded data removed]",
      "text/plain": [
       "<matplotlib.figure.Figure at 0x12775e2b0>"
      ]
     },
     "metadata": {},
     "output_type": "display_data"
    }
   ],
   "source": [
    "fig = plt.figure( figsize = (10, 6) )\n",
    "plt.plot(ts.n_topics_range, ts.avg_agreements)\n",
    "plt.title('Average Agreement Over a Range of Topics Number')\n",
    "plt.ylabel('Average Agreement')\n",
    "plt.xlabel('Topics Number')\n",
    "plt.tight_layout()"
   ]
  },
  {
   "cell_type": "code",
   "execution_count": 28,
   "metadata": {
    "collapsed": false
   },
   "outputs": [
    {
     "data": {
      "image/png": "[encoded data removed]",
      "text/plain": [
       "<matplotlib.figure.Figure at 0x1272b29b0>"
      ]
     },
     "metadata": {},
     "output_type": "display_data"
    }
   ],
   "source": [
    "fig = plt.figure( figsize = (12, 8) )\n",
    "\n",
    "# for acessing the color cycle\n",
    "# http://stackoverflow.com/questions/34247297/matplotlib-1-5-usage-of-axes-prop-cycle\n",
    "colors = list(plt.rcParams['axes.prop_cycle'])\n",
    "\n",
    "# visualize only four topics number's maximum probability\n",
    "# (probability of belonging in the most likely topic)\n",
    "# the best, the worst, and two in the middle\n",
    "arg_sorted = np.argsort(ts.avg_agreements)\n",
    "half = ( len(n_topics_range) - 1 ) // 2\n",
    "plot_topics = arg_sorted[len(n_topics_range) - 1], arg_sorted[half + 1], arg_sorted[half], arg_sorted[0]\n",
    "\n",
    "for idx, k in enumerate(plot_topics): \n",
    "    plt.subplot(2, 2, idx + 1)    \n",
    "    prob = ts.max_probs[k]\n",
    "    \n",
    "    # for that topic number count the number of \n",
    "    # documents that have maximum probability greater than 50%\n",
    "    greater_than_50 = np.sum(prob > 0.5)\n",
    "    plt.hist( prob, histtype = 'stepfilled', alpha = 0.85, \n",
    "              color = colors[idx]['color'], bins = 30 )\n",
    "    plt.title( '{} topics, # greater than 50 percent: {}'.format( ts.n_topics_range[k], greater_than_50 ) )\n",
    "    plt.axvline(x = 0.5, color = 'black', linestyle = '--')\n",
    "\n",
    "fig.tight_layout()"
   ]
  },
  {
   "cell_type": "code",
   "execution_count": 29,
   "metadata": {
    "collapsed": true
   },
   "outputs": [],
   "source": [
    "def create_bow_generator(textfile_path, lines, dictionary_path):\n",
    "    \"\"\"\n",
    "    read reviews from a file\n",
    "    and yield a bag-of-words representation\n",
    "    \"\"\"\n",
    "    # 1. create the generator to read streaming file\n",
    "    # 2. create the dictionary to filter tokens that are very rare or \n",
    "    # too common from the dictionary (filter_extremes), these parameters\n",
    "    # are hard-coded and reassign integer ids (compactify)\n",
    "    bigram_sentences = LineSentence(textfile_path, max_sentence_length = lines)\n",
    "    bigram_dictionary = Dictionary(bigram_sentences)\n",
    "    bigram_dictionary.filter_extremes(no_below = 5, no_above = 0.6, keep_n = 1000)\n",
    "    bigram_dictionary.compactify()\n",
    "    bigram_dictionary.save(dictionary_path)\n",
    "    print( 'vocab size:', len(bigram_dictionary) )\n",
    "    \n",
    "    for text in bigram_sentences:\n",
    "        yield bigram_dictionary.doc2bow(text)"
   ]
  },
  {
   "cell_type": "code",
   "execution_count": 30,
   "metadata": {
    "collapsed": false
   },
   "outputs": [
    {
     "name": "stdout",
     "output_type": "stream",
     "text": [
      "vocab size: 1000\n",
      "corpus size: 2225\n"
     ]
    }
   ],
   "source": [
    "corpus_path = os.path.join(model_dir, 'bigram_bow.mm')\n",
    "dictionary_path = os.path.join(model_dir, 'bigram_dictionary.dict')\n",
    "\n",
    "if os.path.exists(corpus_path):\n",
    "    corpus = MmCorpus(corpus_path)\n",
    "else:\n",
    "    \n",
    "    # keep 50% of the features\n",
    "    lines = X.shape[0]\n",
    "    # keep_n = lines // 2\n",
    "    MmCorpus.serialize( corpus_path, \n",
    "                        create_bow_generator(bigram_path, lines, dictionary_path) )\n",
    "    corpus = MmCorpus(corpus_path)\n",
    "    \n",
    "print( 'corpus size:', len(corpus) )"
   ]
  },
  {
   "cell_type": "code",
   "execution_count": 31,
   "metadata": {
    "collapsed": false
   },
   "outputs": [],
   "source": [
    "n_topics = 5\n",
    "lda_model_path = os.path.join(model_dir, 'lda_model') \n",
    "if os.path.exists(lda_model_path):\n",
    "    lda = LdaMulticore.load(lda_model_path)\n",
    "else:\n",
    "    # workers => sets the parallelism, and should be\n",
    "    # set to your number of physical cores minus one\n",
    "    # as suggested by gensim\n",
    "    workers = multiprocessing.cpu_count() - 1\n",
    "    \n",
    "    # load the finished dictionary from disk\n",
    "    bigram_dictionary = Dictionary.load(dictionary_path)\n",
    "    \n",
    "    # train the LDA model;\n",
    "    # `passes` is the number of training passes through the corpus. For \n",
    "    # example, if the training corpus has 50,000 documents, chunksize is \n",
    "    # 10,000, passes is 2, then online training is done in 10 update\n",
    "    # `iterations` the maximum number of iterations allowed \n",
    "    lda = LdaMulticore(\n",
    "        corpus,\n",
    "        num_topics = n_topics,\n",
    "        id2word = bigram_dictionary,\n",
    "        workers = workers\n",
    "    )\n",
    "    lda.save(lda_model_path)"
   ]
  },
  {
   "cell_type": "code",
   "execution_count": 32,
   "metadata": {
    "collapsed": false
   },
   "outputs": [
    {
     "data": {
      "text/plain": [
       "[(0,\n",
       "  '0.009*new + 0.009*time + 0.008*win + 0.007*game + 0.007*come + 0.007*people + 0.006*use + 0.006*firm + 0.006*film + 0.006*work + 0.005*need + 0.005*big + 0.005*party + 0.005*add + 0.005*play + 0.004*government + 0.004*company + 0.004*think + 0.004*share + 0.004*player + 0.004*include + 0.004*market + 0.004*$ + 0.004*week + 0.004*set + 0.004*like + 0.004*help + 0.004*report + 0.004*end + 0.004*uk'),\n",
       " (1,\n",
       "  '0.010*company + 0.007*government + 0.007*people + 0.007*new + 0.007*$ + 0.006*plan + 0.006*game + 0.006*use + 0.005*tax + 0.005*election + 0.005*offer + 0.005*sale + 0.005*firm + 0.005*brown + 0.005*like + 0.004*day + 0.004*world + 0.004*time + 0.004*week + 0.004*play + 0.004*labour + 0.004*change + 0.004*come + 0.004*add + 0.004*right + 0.004*service + 0.004*pay + 0.004*win + 0.004*help + 0.004*need'),\n",
       " (2,\n",
       "  '0.012*use + 0.008*time + 0.007*new + 0.007*people + 0.007*game + 0.007*win + 0.006*government + 0.006*play + 0.005*think + 0.005*number + 0.005*set + 0.005*club + 0.005*player + 0.004*company + 0.004*world + 0.004*look + 0.004*like + 0.004*come + 0.004*group + 0.004*run + 0.004*claim + 0.004*great + 0.004*try + 0.004*start + 0.004*know + 0.004*lose + 0.004*day + 0.003*match + 0.003*need + 0.003*add'),\n",
       " (3,\n",
       "  '0.009*people + 0.008*play + 0.008*new + 0.007*game + 0.007*win + 0.007*uk + 0.007*come + 0.007*government + 0.005*time + 0.005*company + 0.005*plan + 0.005*add + 0.005*set + 0.005*include + 0.005*country + 0.005*think + 0.004*use + 0.004*expect + 0.004*world + 0.004*work + 0.004*week + 0.004*like + 0.004*sale + 0.004*player + 0.004*$ + 0.004*look + 0.004*end + 0.004*number + 0.003*home + 0.003*market'),\n",
       " (4,\n",
       "  '0.013*people + 0.012*film + 0.008*use + 0.008*new + 0.007*work + 0.007*time + 0.006*technology + 0.005*world + 0.005*win + 0.005*star + 0.005*uk + 0.005*number + 0.005*come + 0.005*firm + 0.005*rise + 0.004*company + 0.004*user + 0.004*service + 0.004*think + 0.004*game + 0.004*include + 0.004*day + 0.004*add + 0.004*labour + 0.004*country + 0.004*know + 0.004*look + 0.004*play + 0.004*like + 0.004*month')]"
      ]
     },
     "execution_count": 32,
     "metadata": {},
     "output_type": "execute_result"
    }
   ],
   "source": [
    "# print out the per topic word probability to interpret the result\n",
    "lda.show_topics(num_topics = n_topics, num_words = 30)"
   ]
  },
  {
   "cell_type": "code",
   "execution_count": 33,
   "metadata": {
    "collapsed": false
   },
   "outputs": [
    {
     "ename": "NameError",
     "evalue": "name 'haha' is not defined",
     "output_type": "error",
     "traceback": [
      "\u001b[0;31m---------------------------------------------------------------------------\u001b[0m",
      "\u001b[0;31mNameError\u001b[0m                                 Traceback (most recent call last)",
      "\u001b[0;32m<ipython-input-33-7494ab07987b>\u001b[0m in \u001b[0;36m<module>\u001b[0;34m()\u001b[0m\n\u001b[0;32m----> 1\u001b[0;31m \u001b[0mhaha\u001b[0m\u001b[0;34m\u001b[0m\u001b[0m\n\u001b[0m",
      "\u001b[0;31mNameError\u001b[0m: name 'haha' is not defined"
     ]
    }
   ],
   "source": [
    "haha"
   ]
  },
  {
   "cell_type": "code",
   "execution_count": null,
   "metadata": {
    "collapsed": true
   },
   "outputs": [],
   "source": [
    "# labeling the topics\n",
    "topic_names = {\n",
    "    0: ,      \n",
    "    1: ,\n",
    "    2: ,\n",
    "    3: ,\n",
    "    4: ,            \n",
    "    5: 'politics',\n",
    "    6: 'art',\n",
    "    7: 'sport',  \n",
    "    8: ,\n",
    "    9: 'music'\n",
    "}"
   ]
  },
  {
   "cell_type": "code",
   "execution_count": null,
   "metadata": {
    "collapsed": true
   },
   "outputs": [],
   "source": [
    "topic 0: Science and research\n",
    "topic 1: Team sports\n",
    "topic 2: Music, TV, and film\n",
    "topic 3: American college and politics\n",
    "topic 4: General politics\n",
    "topic 5: Art and publishing\n",
    "topic 6: Business\n",
    "topic 7: International athletics\n",
    "topic 8: Great Britain and Australia\n",
    "topic 9: International musi"
   ]
  },
  {
   "cell_type": "markdown",
   "metadata": {},
   "source": [
    "## Generating Outputs\n",
    "\n",
    "We will export two .csv files. One that contains the guid and it's corresponding category. Another that summarize the categories identified by topic model, including the total count and the pecentage in the total dataset."
   ]
  },
  {
   "cell_type": "code",
   "execution_count": null,
   "metadata": {
    "collapsed": true
   },
   "outputs": [],
   "source": [
    "# will be included in the topic summary output \n",
    "topic_count = np.bincount(output['category'])\n",
    "\n",
    "# overwrite the topic number with the more descriptive topic names\n",
    "output['category'] = output['category'].map(topic_names)\n",
    "output = output.drop('fulldescription', axis = 1)\n",
    "\n",
    "\n",
    "# create a directory called 'outputs' to\n",
    "# store all outputs\n",
    "OUTPUTS_DIR = os.path.join('..', 'outputs')\n",
    "if not os.path.isdir(OUTPUTS_DIR):\n",
    "    os.mkdir(OUTPUTS_DIR)\n",
    "\n",
    "OUTPUT_TOPIC_PATH = os.path.join(OUTPUTS_DIR, 'assigned_topic.csv')\n",
    "output.to_csv(OUTPUT_TOPIC_PATH, index = False)\n",
    "output.head()"
   ]
  },
  {
   "cell_type": "code",
   "execution_count": null,
   "metadata": {
    "collapsed": true
   },
   "outputs": [],
   "source": [
    "output_category = pd.DataFrame({\n",
    "    'count': topic_count,\n",
    "    'percent': topic_count / np.sum(topic_count),\n",
    "    'category': np.arange(n_topics)\n",
    "}, columns = ['category', 'count', 'percent'] )\n",
    "output_category['category'] = output_category['category'].map(topic_names)\n",
    "\n",
    "\n",
    "OUTPUT_CATEGORY_PATH = os.path.join(OUTPUTS_DIR, 'category_info.csv')\n",
    "output_category.to_csv(OUTPUT_CATEGORY_PATH, index = False)\n",
    "output_category.head()"
   ]
  },
  {
   "cell_type": "markdown",
   "metadata": {},
   "source": [
    "## Reference\n",
    "\n",
    "- [Github: topic stability](https://github.com/derekgreene/topic-stability)\n",
    "- [The Assignment Problem and the Hungarian Method](http://www.math.harvard.edu/archive/20_spring_05/handouts/assignment_overheads.pdf)\n",
    "- [How Many Topics? Stability Analysis for Topic Models (2014) Derek Greene, Derek O'Callaghan, Pádraig Cunningham](https://arxiv.org/abs/1404.4606)"
   ]
  }
 ],
 "metadata": {
  "anaconda-cloud": {},
  "kernelspec": {
   "display_name": "Python [Root]",
   "language": "python",
   "name": "Python [Root]"
  },
  "language_info": {
   "codemirror_mode": {
    "name": "ipython",
    "version": 3
   },
   "file_extension": ".py",
   "mimetype": "text/x-python",
   "name": "python",
   "nbconvert_exporter": "python",
   "pygments_lexer": "ipython3",
   "version": "3.5.2"
  }
 },
 "nbformat": 4,
 "nbformat_minor": 0
}
