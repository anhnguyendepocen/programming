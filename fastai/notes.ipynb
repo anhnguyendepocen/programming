{
 "cells": [
  {
   "cell_type": "markdown",
   "metadata": {
    "toc": "true"
   },
   "source": [
    "# Table of Contents\n",
    " <p><div class=\"lev2 toc-item\"><a href=\"#Lecture-3\" data-toc-modified-id=\"Lecture-3-01\"><span class=\"toc-item-num\">0.1&nbsp;&nbsp;</span>Lecture 3</a></div><div class=\"lev2 toc-item\"><a href=\"#Lesson-4\" data-toc-modified-id=\"Lesson-4-02\"><span class=\"toc-item-num\">0.2&nbsp;&nbsp;</span>Lesson 4</a></div>"
   ]
  },
  {
   "cell_type": "markdown",
   "metadata": {},
   "source": [
    "- why fastai course http://www.fast.ai/2018/01/26/v2-launch/\n",
    "- setup https://github.com/reshamas/fastai_deeplearn_part1/blob/master/tools/paperspace.md\n",
    "- kernel http://setosa.io/ev/image-kernels/\n",
    "\n",
    "---\n",
    "\n",
    "- learning rate finder, at the optimal loss, the learning is probably too high already, thus we go back one magnitude.\n",
    "    - https://towardsdatascience.com/estimating-optimal-learning-rate-for-a-deep-neural-network-ce32f2556ce0\n",
    "    - http://teleported.in/posts/cyclic-learning-rate/\n",
    "    - optimizer without learning rate http://teleported.in/posts/cocob/\n",
    "- after unfreezing (some changes to the way we're training), we'll could run it again\n",
    "- cosine annealing is a popular method for annealing learning rate\n",
    "- learning rate restart to hop out of the spiky part so it will generalize better (cycle_len=1, reset the learning rate every iteration, cycle_mult, prolong the cycle); we can also have the weights at each restart and ensemble them\n",
    "- different learning rate for different layers (then we don't need to worry about unfreezing different layer; the place where we might want to only unfreeze certain layer is when we're faced with computation difficulties)\n",
    "- test time augmentation for improving performance\n",
    "- if we're underfitting, i.e. the validation loss is a lot lower than the training loss, then we should increase our iteration\n",
    "\n",
    "---\n",
    "\n",
    "- ensembling convolution https://miguel-data-sc.github.io/2017-11-23-second/\n",
    "- reflection padding\n",
    "- continue training with larger dataset to avoid overfitting\n",
    "\n",
    "---\n",
    "\n",
    "- make copy of minority class when faced with extremely unbalanced dataset\n",
    "- segment out object from the image and crop that part if the image is not close to the center of the image\n",
    "\n",
    "---\n",
    "\n",
    "resnet decoded http://teleported.in/posts/decoding-resnet-architecture/"
   ]
  },
  {
   "cell_type": "markdown",
   "metadata": {},
   "source": [
    "## Lecture 3"
   ]
  },
  {
   "cell_type": "markdown",
   "metadata": {},
   "source": [
    "- curlwget for downloading data\n",
    "- FileLink for passing file from server to local ...\n",
    "- numpy index with None, add additional dimension\n",
    "\n",
    "---\n",
    "\n",
    "- ? precompute = true meaning\n",
    "- unfreeze vs batchnorm unfreeze (useful for regular image, target object takes up most of the image)\n",
    "- resize the image and save it to another folder to speed up training in the future\n",
    "- multiclass classification, sigmoid activation\n",
    "- lecture 3: 1:51 explanation of why training the last layer before unfreezing pretrained weights makes sense"
   ]
  },
  {
   "cell_type": "markdown",
   "metadata": {},
   "source": [
    "## Lesson 4"
   ]
  },
  {
   "cell_type": "markdown",
   "metadata": {},
   "source": [
    "- another learning rate post https://techburst.io/improving-the-way-we-work-with-learning-rate-5e99554f163b\n",
    "- post on validation set http://www.fast.ai/2017/11/13/validation-sets/\n",
    "\n",
    "42:07"
   ]
  }
 ],
 "metadata": {
  "kernelspec": {
   "display_name": "Python 3",
   "language": "python",
   "name": "python3"
  },
  "language_info": {
   "codemirror_mode": {
    "name": "ipython",
    "version": 3
   },
   "file_extension": ".py",
   "mimetype": "text/x-python",
   "name": "python",
   "nbconvert_exporter": "python",
   "pygments_lexer": "ipython3",
   "version": "3.5.2"
  },
  "toc": {
   "colors": {
    "hover_highlight": "#DAA520",
    "running_highlight": "#FF0000",
    "selected_highlight": "#FFD700"
   },
   "moveMenuLeft": true,
   "nav_menu": {
    "height": "12px",
    "width": "252px"
   },
   "navigate_menu": true,
   "number_sections": true,
   "sideBar": true,
   "threshold": 4,
   "toc_cell": true,
   "toc_section_display": "block",
   "toc_window_display": true
  }
 },
 "nbformat": 4,
 "nbformat_minor": 2
}
