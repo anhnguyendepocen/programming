{
 "cells": [
  {
   "cell_type": "markdown",
   "metadata": {
    "collapsed": true
   },
   "source": [
    "## Geometric Distribution\n",
    "\n",
    "**Geometric Distribution** is the distribution of number of trials needed to get a first success in repeated Bernoulli trials. So suppose that there are independent trials and each trial results in one of two possible outcomes, labelled success and failure. Then our probability of success is denoted by P(success) = $p$, this stays constant from trial to trial and $X$ represents the number of trials needed to get the first success.\n",
    "\n",
    "For the first success to occurr on the $x_{th}$ trial:\n",
    "\n",
    "- The first $x - 1$ trial must be failures.\n",
    "- The $x_{th}$ trial must be a success.\n",
    "\n",
    "This gives us the probability mass function of the geometric distribution $P(X = x) = (1 - p)^{x - 1}p$. For the geometric distribution the minimum $x$ that it can take is 1, however, there is no upper bound to that number.\n",
    "\n",
    "> Example: In a large populations of adults, 30% have received CPR training, if adults from this population are randomly selected, what is the probability that the 6th person sampled is the first that has received CPR training?"
   ]
  },
  {
   "cell_type": "code",
   "execution_count": 3,
   "metadata": {},
   "outputs": [
    {
     "data": {
      "text/plain": [
       "0.05042099999999998"
      ]
     },
     "execution_count": 3,
     "metadata": {},
     "output_type": "execute_result"
    }
   ],
   "source": [
    "from scipy.stats import geom\n",
    "\n",
    "# geometric distribution with a probability of 0.3\n",
    "# and the first success occuring on the 6th trial\n",
    "geom(p = 0.3).pmf(k = 6)"
   ]
  },
  {
   "cell_type": "markdown",
   "metadata": {},
   "source": [
    "# Reference\n",
    "\n",
    "- [Youtube: An Introduction to the Geometric Distribution](https://www.youtube.com/watch?v=zq9Oz82iHf0)"
   ]
  }
 ],
 "metadata": {
  "kernelspec": {
   "display_name": "Python 3",
   "language": "python",
   "name": "python3"
  },
  "language_info": {
   "codemirror_mode": {
    "name": "ipython",
    "version": 3
   },
   "file_extension": ".py",
   "mimetype": "text/x-python",
   "name": "python",
   "nbconvert_exporter": "python",
   "pygments_lexer": "ipython3",
   "version": "3.5.2"
  },
  "toc": {
   "colors": {
    "hover_highlight": "#DAA520",
    "running_highlight": "#FF0000",
    "selected_highlight": "#FFD700"
   },
   "moveMenuLeft": true,
   "nav_menu": {
    "height": "12px",
    "width": "252px"
   },
   "navigate_menu": true,
   "number_sections": true,
   "sideBar": true,
   "threshold": 4,
   "toc_cell": false,
   "toc_section_display": "block",
   "toc_window_display": true
  }
 },
 "nbformat": 4,
 "nbformat_minor": 2
}
