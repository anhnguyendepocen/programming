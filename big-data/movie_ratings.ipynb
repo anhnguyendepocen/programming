{
 "cells": [
  {
   "cell_type": "markdown",
   "metadata": {},
   "source": [
    "#### Movie Rating Histogram\n",
    "\n",
    "The third index from the data consists the ratings.\n",
    "- `countByValue()` will return the count of each unique value in this RDD as a dictionary of (value, count) pairs.\n",
    "- `items()` calling items on the dictionary will return a list of dict's (key, value) tuple pairs.\n",
    "- `OrderedDict` A regular dict does not track the insertion order, and iterating over it produces the values in an arbitrary order. In an OrderedDict, by contrast, the order the items are inserted is remembered"
   ]
  },
  {
   "cell_type": "code",
   "execution_count": 1,
   "metadata": {
    "collapsed": false
   },
   "outputs": [
    {
     "name": "stdout",
     "output_type": "stream",
     "text": [
      "[(u'1', 6110), (u'2', 11370), (u'3', 27145), (u'4', 34174), (u'5', 21201)]\n"
     ]
    }
   ],
   "source": [
    "movies = sc.textFile( \"u.data\" )\n",
    "\n",
    "ratings = ( movies\n",
    "            .map( lambda x : x.split(\"\\t\")[2] )\n",
    "            .countByValue() )\n",
    "\n",
    "print sorted( ratings.items() )\n"
   ]
  },
  {
   "cell_type": "code",
   "execution_count": 2,
   "metadata": {
    "collapsed": false
   },
   "outputs": [
    {
     "name": "stdout",
     "output_type": "stream",
     "text": [
      "1 6110\n",
      "2 11370\n",
      "3 27145\n",
      "4 34174\n",
      "5 21201\n"
     ]
    }
   ],
   "source": [
    "import collections\n",
    "\n",
    "sorted_result = collections.OrderedDict( sorted( ratings.items() ) )\n",
    "\n",
    "for rating, count in sorted_result.items() :\n",
    "    print \"%s %i\" % ( rating, count )"
   ]
  }
 ],
 "metadata": {
  "kernelspec": {
   "display_name": "Python 2",
   "language": "python",
   "name": "python2"
  },
  "language_info": {
   "codemirror_mode": {
    "name": "ipython",
    "version": 2
   },
   "file_extension": ".py",
   "mimetype": "text/x-python",
   "name": "python",
   "nbconvert_exporter": "python",
   "pygments_lexer": "ipython2",
   "version": "2.7.6"
  }
 },
 "nbformat": 4,
 "nbformat_minor": 0
}
