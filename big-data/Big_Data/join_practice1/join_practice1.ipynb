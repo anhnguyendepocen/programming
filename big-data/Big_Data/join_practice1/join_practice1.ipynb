{
 "cells": [
  {
   "cell_type": "markdown",
   "metadata": {},
   "source": [
    "#### Random Practice\n",
    "\n",
    "A glimpse at the dataset."
   ]
  },
  {
   "cell_type": "code",
   "execution_count": 1,
   "metadata": {
    "collapsed": false
   },
   "outputs": [
    {
     "name": "stdout",
     "output_type": "stream",
     "text": [
      "[u'able,991', u'about,11', u'burger,15', u'actor,22']\n"
     ]
    }
   ],
   "source": [
    "fileA = sc.textFile(\"join1_FileA.txt\")\n",
    "print fileA.collect()"
   ]
  },
  {
   "cell_type": "code",
   "execution_count": 2,
   "metadata": {
    "collapsed": false
   },
   "outputs": [
    {
     "name": "stdout",
     "output_type": "stream",
     "text": [
      "[u'Jan-01 able,5', u'Feb-02 about,3', u'Mar-03 about,8', u'Apr-04 able,13', u'Feb-22 actor,3', u'Feb-23 burger,5', u'Mar-08 burger,2', u'Dec-15 able,100']\n"
     ]
    }
   ],
   "source": [
    "fileB = sc.textFile(\"join1_FileB.txt\")\n",
    "print fileB.collect()"
   ]
  },
  {
   "cell_type": "markdown",
   "metadata": {},
   "source": [
    "Task\n",
    "\n",
    "The goal is to join the two datasets using the words as keys and print for each word, the wordcount for a specific date and then the total output from A.\n",
    "\n",
    "1. Create a `.map()` function for fileA that takes a line, splits it on the comma and turns the count to an integer.\n",
    "2. Split each fileB's input line into the format of ( word, date count_string ).\n",
    "3. After preprocessing both files, implements the `.join()` transformation that given a RDD of (K, V) pairs to be joined with another RDD of (K, W) pairs, returns a dataset that contains ( K, (V, W) ) pairs."
   ]
  },
  {
   "cell_type": "code",
   "execution_count": 3,
   "metadata": {
    "collapsed": false
   },
   "outputs": [
    {
     "name": "stdout",
     "output_type": "stream",
     "text": [
      "[(u'able', 991), (u'about', 11), (u'burger', 15), (u'actor', 22)]\n"
     ]
    }
   ],
   "source": [
    "def split_fileA(line) :\n",
    "    \n",
    "    token = line.split(\",\")\n",
    "    return ( token[0], int(token[1]) )\n",
    "\n",
    "fileA_data = fileA.map( split_fileA )\n",
    "print fileA_data.collect()"
   ]
  },
  {
   "cell_type": "code",
   "execution_count": 4,
   "metadata": {
    "collapsed": false
   },
   "outputs": [
    {
     "name": "stdout",
     "output_type": "stream",
     "text": [
      "[(u'able', u'Jan-01 5'), (u'about', u'Feb-02 3'), (u'about', u'Mar-03 8'), (u'able', u'Apr-04 13'), (u'actor', u'Feb-22 3'), (u'burger', u'Feb-23 5'), (u'burger', u'Mar-08 2'), (u'able', u'Dec-15 100')]\n"
     ]
    }
   ],
   "source": [
    "import re\n",
    "def split_fileB(line) :\n",
    "    \n",
    "    token = re.split( \"[\\\\s,]\", line )\n",
    "    return ( token[1], token[0] + \" \" + token[2] )\n",
    "\n",
    "fileB_data = fileB.map( split_fileB )\n",
    "print fileB_data.collect()"
   ]
  },
  {
   "cell_type": "code",
   "execution_count": 5,
   "metadata": {
    "collapsed": false
   },
   "outputs": [
    {
     "name": "stdout",
     "output_type": "stream",
     "text": [
      "[(u'about', (u'Feb-02 3', 11)), (u'about', (u'Mar-03 8', 11)), (u'able', (u'Jan-01 5', 991)), (u'able', (u'Apr-04 13', 991)), (u'able', (u'Dec-15 100', 991)), (u'actor', (u'Feb-22 3', 22)), (u'burger', (u'Feb-23 5', 15)), (u'burger', (u'Mar-08 2', 15))]\n"
     ]
    }
   ],
   "source": [
    "fileB_joined_fileA = fileB_data.join(fileA_data)\n",
    "print fileB_joined_fileA.collect()"
   ]
  }
 ],
 "metadata": {
  "kernelspec": {
   "display_name": "Python 2",
   "language": "python",
   "name": "python2"
  },
  "language_info": {
   "codemirror_mode": {
    "name": "ipython",
    "version": 2
   },
   "file_extension": ".py",
   "mimetype": "text/x-python",
   "name": "python",
   "nbconvert_exporter": "python",
   "pygments_lexer": "ipython2",
   "version": "2.7.6"
  }
 },
 "nbformat": 4,
 "nbformat_minor": 0
}
