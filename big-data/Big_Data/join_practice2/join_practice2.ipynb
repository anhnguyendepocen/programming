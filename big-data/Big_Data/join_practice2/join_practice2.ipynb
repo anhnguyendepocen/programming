{
 "cells": [
  {
   "cell_type": "markdown",
   "metadata": {},
   "source": [
    "#### Task\n",
    "\n",
    "The task is to find out the total number of viewer across all shows for the channel **BAT**.\n",
    "\n",
    "#### Data Description\n",
    "\n",
    "- The gennum (ABC) files contains show names and number of viewers.\n",
    "- The genchan files contains show names and channel.\n",
    "\n",
    "One trick is to read all of them into Spark with a pattern matching `?` symbol at the end."
   ]
  },
  {
   "cell_type": "code",
   "execution_count": 1,
   "metadata": {
    "collapsed": false
   },
   "outputs": [
    {
     "name": "stdout",
     "output_type": "stream",
     "text": [
      "[u'Hourly_Sports,21', u'Surreal_Sports,42', u'Hot_Games,85', u'Loud_Show,172', u'Baked_Games,347']\n",
      "\n",
      "[u'Hourly_Sports,DEF', u'Hot_Talking,CNO', u'Almost_Cooking,MAN', u'Dumb_Show,BOB', u'PostModern_Sports,NOX']\n"
     ]
    }
   ],
   "source": [
    "# print out the dataset\n",
    "show_views_file = sc.textFile(\"join2_gennum?.txt\")\n",
    "show_channel_file = sc.textFile(\"join2_genchan?.txt\")\n",
    "print show_views_file.take(5)\n",
    "print\n",
    "print show_channel_file.take(5)"
   ]
  },
  {
   "cell_type": "code",
   "execution_count": 2,
   "metadata": {
    "collapsed": false
   },
   "outputs": [
    {
     "name": "stdout",
     "output_type": "stream",
     "text": [
      "[(u'PostModern_Talking', (443, u'BOB')), (u'PostModern_Talking', (443, u'NOX')), (u'PostModern_Talking', (443, u'CNO')), (u'PostModern_Talking', (443, u'MAN')), (u'PostModern_Talking', (443, u'NOX'))]\n"
     ]
    }
   ],
   "source": [
    "# parse each dataset\n",
    "def splitShowViews(line) :\n",
    "    \n",
    "    token = line.split(\",\")\n",
    "    return ( token[0], int(token[1]) )\n",
    "\n",
    "def splitShowChannel(line) :\n",
    "    token = line.split(\",\")\n",
    "    return ( token[0], token[1] )\n",
    "\n",
    "show_views   = show_views_file.map( splitShowViews )\n",
    "show_channel = show_channel_file.map( splitShowChannel )\n",
    "\n",
    "# join the two datset\n",
    "joined_dataset = show_views.join( show_channel )\n",
    "print joined_dataset.take(5)"
   ]
  },
  {
   "cell_type": "code",
   "execution_count": 3,
   "metadata": {
    "collapsed": false
   },
   "outputs": [
    {
     "name": "stdout",
     "output_type": "stream",
     "text": [
      "[(u'BAT', 5099141)]\n"
     ]
    }
   ],
   "source": [
    "channel_views = ( joined_dataset\n",
    "                  .map( lambda s : ( s[1][1], s[1][0] ) ) # channel as key, count as value regardless of shows\n",
    "                  .reduceByKey( lambda a, b : a + b ) # group by channels\n",
    "                  .filter( lambda s : s[0] == \"BAT\" )) # extract the \"BAT\"\n",
    "print channel_views.collect()"
   ]
  }
 ],
 "metadata": {
  "kernelspec": {
   "display_name": "Python 2",
   "language": "python",
   "name": "python2"
  },
  "language_info": {
   "codemirror_mode": {
    "name": "ipython",
    "version": 2
   },
   "file_extension": ".py",
   "mimetype": "text/x-python",
   "name": "python",
   "nbconvert_exporter": "python",
   "pygments_lexer": "ipython2",
   "version": "2.7.6"
  }
 },
 "nbformat": 4,
 "nbformat_minor": 0
}
