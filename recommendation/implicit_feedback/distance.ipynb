{
 "cells": [
  {
   "cell_type": "code",
   "execution_count": 13,
   "metadata": {
    "collapsed": true
   },
   "outputs": [],
   "source": [
    "import os\n",
    "import numpy as np\n",
    "import pandas as pd\n",
    "import subprocess\n",
    "\n",
    "from scipy.sparse import coo_matrix, csr_matrix\n",
    "from sklearn.preprocessing import normalize"
   ]
  },
  {
   "cell_type": "markdown",
   "metadata": {},
   "source": [
    "http://www.dtic.upf.edu/~ocelma/MusicRecommendationDataset/lastfm-360K.html"
   ]
  },
  {
   "cell_type": "code",
   "execution_count": 28,
   "metadata": {},
   "outputs": [
    {
     "name": "stdout",
     "output_type": "stream",
     "text": [
      "(17535653, 3)\n"
     ]
    },
    {
     "data": {
      "text/html": [
       "<div>\n",
       "<table border=\"1\" class=\"dataframe\">\n",
       "  <thead>\n",
       "    <tr style=\"text-align: right;\">\n",
       "      <th></th>\n",
       "      <th>user</th>\n",
       "      <th>artist</th>\n",
       "      <th>plays</th>\n",
       "    </tr>\n",
       "  </thead>\n",
       "  <tbody>\n",
       "    <tr>\n",
       "      <th>0</th>\n",
       "      <td>00000c289a1829a808ac09c00daf10bc3c4e223b</td>\n",
       "      <td>betty blowtorch</td>\n",
       "      <td>2137</td>\n",
       "    </tr>\n",
       "    <tr>\n",
       "      <th>1</th>\n",
       "      <td>00000c289a1829a808ac09c00daf10bc3c4e223b</td>\n",
       "      <td>die Ärzte</td>\n",
       "      <td>1099</td>\n",
       "    </tr>\n",
       "    <tr>\n",
       "      <th>2</th>\n",
       "      <td>00000c289a1829a808ac09c00daf10bc3c4e223b</td>\n",
       "      <td>melissa etheridge</td>\n",
       "      <td>897</td>\n",
       "    </tr>\n",
       "    <tr>\n",
       "      <th>3</th>\n",
       "      <td>00000c289a1829a808ac09c00daf10bc3c4e223b</td>\n",
       "      <td>elvenking</td>\n",
       "      <td>717</td>\n",
       "    </tr>\n",
       "    <tr>\n",
       "      <th>4</th>\n",
       "      <td>00000c289a1829a808ac09c00daf10bc3c4e223b</td>\n",
       "      <td>juliette &amp; the licks</td>\n",
       "      <td>706</td>\n",
       "    </tr>\n",
       "  </tbody>\n",
       "</table>\n",
       "</div>"
      ],
      "text/plain": [
       "                                       user                artist  plays\n",
       "0  00000c289a1829a808ac09c00daf10bc3c4e223b       betty blowtorch   2137\n",
       "1  00000c289a1829a808ac09c00daf10bc3c4e223b             die Ärzte   1099\n",
       "2  00000c289a1829a808ac09c00daf10bc3c4e223b     melissa etheridge    897\n",
       "3  00000c289a1829a808ac09c00daf10bc3c4e223b             elvenking    717\n",
       "4  00000c289a1829a808ac09c00daf10bc3c4e223b  juliette & the licks    706"
      ]
     },
     "execution_count": 28,
     "metadata": {},
     "output_type": "execute_result"
    }
   ],
   "source": [
    "# download the dataset if it isn't in the same folder\n",
    "file_dir = 'lastfm-dataset-360K'\n",
    "file_path = os.path.join(file_dir, 'usersha1-artmbid-artname-plays.tsv')\n",
    "if not os.path.isdir(file_dir):\n",
    "    subprocess.call(['curl', '-O', 'http://mtg.upf.edu/static/datasets/last.fm/lastfm-dataset-360K.tar.gz'])\n",
    "    # http://askubuntu.com/questions/25347/what-command-do-i-need-to-unzip-extract-a-tar-gz-file\n",
    "    subprocess.call(['tar', '-xvzf', 'lastfm-dataset-360K.tar.gz'])\n",
    "\n",
    "# read in triplets of user/artist/playcount from the input dataset\n",
    "col_names = ['user', 'artist', 'plays']\n",
    "data = pd.read_csv(file_path, sep = '\\t', usecols = [0, 2, 3], names = col_names)\n",
    "\n",
    "# there are 2 rows that contains NaN value, simply drop them\n",
    "data = data.dropna(axis = 0)\n",
    "print(data.shape)\n",
    "data.head()"
   ]
  },
  {
   "cell_type": "code",
   "execution_count": 29,
   "metadata": {},
   "outputs": [
    {
     "data": {
      "text/plain": [
       "<292364x358868 sparse matrix of type '<class 'numpy.float64'>'\n",
       "\twith 17535653 stored elements in COOrdinate format>"
      ]
     },
     "execution_count": 29,
     "metadata": {},
     "output_type": "execute_result"
    }
   ],
   "source": [
    "# map each artist and user to a unique numeric value\n",
    "data['user'] = data['user'].astype('category')\n",
    "data['artist'] = data['artist'].astype('category')\n",
    "\n",
    "# create a sparse matrix of using the (data, (row, col)) format\n",
    "plays = coo_matrix(( data['plays'].astype(np.float64),\n",
    "                     (data['artist'].cat.codes, data['user'].cat.codes) ))\n",
    "plays"
   ]
  },
  {
   "cell_type": "code",
   "execution_count": 43,
   "metadata": {},
   "outputs": [
    {
     "data": {
      "text/plain": [
       "array([0, 3, 1, 0], dtype=int32)"
      ]
     },
     "execution_count": 43,
     "metadata": {},
     "output_type": "execute_result"
    }
   ],
   "source": [
    "row  = np.array([0, 3, 1, 0])\n",
    "col  = np.array([0, 3, 1, 2])\n",
    "data = np.array([4, 5, 7, 9])\n",
    "test = coo_matrix((data, (row, col)), shape=(4, 4))\n",
    "test.row"
   ]
  },
  {
   "cell_type": "code",
   "execution_count": 44,
   "metadata": {},
   "outputs": [
    {
     "data": {
      "text/plain": [
       "array([0, 3, 1, 2], dtype=int32)"
      ]
     },
     "execution_count": 44,
     "metadata": {},
     "output_type": "execute_result"
    }
   ],
   "source": [
    "test.col"
   ]
  },
  {
   "cell_type": "code",
   "execution_count": 45,
   "metadata": {},
   "outputs": [
    {
     "data": {
      "text/plain": [
       "array([4, 5, 7, 9])"
      ]
     },
     "execution_count": 45,
     "metadata": {},
     "output_type": "execute_result"
    }
   ],
   "source": [
    "np.test.data"
   ]
  },
  {
   "cell_type": "code",
   "execution_count": 38,
   "metadata": {},
   "outputs": [
    {
     "data": {
      "text/plain": [
       "array([     0,      0,      0, ..., 358867, 358867, 358867], dtype=int32)"
      ]
     },
     "execution_count": 38,
     "metadata": {},
     "output_type": "execute_result"
    }
   ],
   "source": [
    "def bm25_weight(data, K1=100, B=0.8):\n",
    "    \"\"\" Weighs each row of the matrix data by BM25 weighting \"\"\"\n",
    "    # calculate idf per term (user)\n",
    "    N = float(data.shape[0])\n",
    "    idf = numpy.log(N / (1 + numpy.bincount(data.col)))\n",
    "\n",
    "    # calculate length_norm per document (artist)\n",
    "    row_sums = numpy.squeeze(numpy.asarray(data.sum(1)))\n",
    "    average_length = row_sums.sum() / N\n",
    "    length_norm = (1.0 - B) + B * row_sums / average_length\n",
    "\n",
    "    # weight matrix rows by bm25\n",
    "    ret = coo_matrix(data)\n",
    "    ret.data = ret.data * (K1 + 1.0) / (K1 * length_norm[ret.row] + ret.data) * idf[ret.col]\n",
    "    return ret\n",
    "\n",
    "\n",
    "def bm25(plays):\n",
    "    plays = bm25_weight(plays)\n",
    "    return plays.dot(plays.T)"
   ]
  },
  {
   "cell_type": "code",
   "execution_count": 37,
   "metadata": {},
   "outputs": [
    {
     "data": {
      "text/plain": [
       "292364"
      ]
     },
     "execution_count": 37,
     "metadata": {},
     "output_type": "execute_result"
    }
   ],
   "source": [
    "plays.shape[0]\n",
    "\n",
    "# calculate idf per term (user)\n",
    "    N = float(data.shape[0])\n",
    "    idf = numpy.log(N / (1 + numpy.bincount(data.col)))"
   ]
  },
  {
   "cell_type": "code",
   "execution_count": null,
   "metadata": {
    "collapsed": true
   },
   "outputs": [],
   "source": [
    "v1,v2 = [3, 45, 7, 2], [2, 54, 13, 15]\n",
    "def cosine(plays):\n",
    "    normalized = normalize(plays)\n",
    "    return normalized.dot(normalized.T)\n"
   ]
  },
  {
   "cell_type": "code",
   "execution_count": 33,
   "metadata": {},
   "outputs": [],
   "source": [
    "artists = dict(enumerate(data['artist'].cat.categories))"
   ]
  },
  {
   "cell_type": "code",
   "execution_count": 36,
   "metadata": {},
   "outputs": [
    {
     "data": {
      "text/plain": [
       "artist\n",
       " 04)]                                                     1\n",
       " 2                                                        4\n",
       " 58725ab=>                                                1\n",
       " 80lİ yillarin tÜrkÇe sÖzlÜ aŞk Şarkilari                 1\n",
       " amy winehouse                                            1\n",
       " cours de la somme                                        1\n",
       " fatboy slim                                              1\n",
       " kanye west                                               1\n",
       " mala rodriguez                                           1\n",
       " mohamed lamine                                           1\n",
       " oliver shanti & friends                                  1\n",
       " the ranting gryphon                                      6\n",
       "! bruno fergani / ftp !                                   1\n",
       "! music for donations !                                   1\n",
       "! www.polskie-mp3.tk ! breakout                           1\n",
       "! www.polskie-mp3.tk ! czan                               1\n",
       "! www.polskie-mp3.tk ! lista przebojow programu iii       1\n",
       "! www.polskie-mp3.tk ! mr. zoob                           1\n",
       "! Àëåêñàíäð Ðûáàê                                         1\n",
       "!! dj fergie !!                                           1\n",
       "!!!                                                    2408\n",
       "!!! (chk chk chk )                                        1\n",
       "!!! (chk chk chk)                                         1\n",
       "!!! (chk,chk,chk)                                         1\n",
       "!!!!!!                                                    1\n",
       "!\"                                                        4\n",
       "!0<>5 \u0011>;lh>5 \u001f@>ab>5 '8a;>                               1\n",
       "!525@=k5 \u0012@0b0                                            1\n",
       "!5:b>@ 3070                                               2\n",
       "!5@359 \u001101:8=                                             2\n",
       "                                                       ... \n",
       "ｂｕｌｉｍｉａ                                                   1\n",
       "ｃａｌｉ≠ｇａｒｉ                                                 1\n",
       "ｃａｐｓｕｌｅ                                                   2\n",
       "ｃｈａｒｉｏｔｓ                                                  5\n",
       "ｄｅａｄｍａｎ                                                   1\n",
       "ｅｆｓ                                                       1\n",
       "ｇｏｓｓｉｐ                                                    1\n",
       "ｋｙｏ                                                       2\n",
       "ｐｅ’ｚｍｏｋｕ                                                  1\n",
       "ｔhe gazette                                               1\n",
       "ｔｅ’                                                       1\n",
       "ｙｏｕ                                                       1\n",
       "ｚｉｌｃｈ                                                     3\n",
       "､ｪ､ﾟ､ﾊ､ｨ                                                  1\n",
       "ｩ2003 bill brown - billbrownmusic.com                     1\n",
       "ｳﾟ･ｯ                                                    3\n",
       "ｷｷｷｷ                                                      1\n",
       "ｺﾒｵｶｸﾇｼﾇ                                                  1\n",
       "ｼﾞｭﾘｴｯﾄ･ｸﾞﾚｺ                                              1\n",
       "ﾅｲﾄﾒｱ                                                     1\n",
       "ﾆﾇ(position)                                            1\n",
       "ﾌｫｹﾄ､ﾎｴ・ﾋ ･・ﾃ･ﾉ                                           1\n",
       "ﾑｯｸ                                                       1\n",
       "ﾓlafur arnalds                                            1\n",
       "ﾖﾐﾉｭﾃﾋ(akina nakamori)                                   1\n",
       "￼antonio mairena                                          1\n",
       "￼beastie boys                                             1\n",
       "��|                                                       1\n",
       "��疲暎�                                                     1\n",
       "�������                                                   1\n",
       "dtype: int64"
      ]
     },
     "execution_count": 36,
     "metadata": {},
     "output_type": "execute_result"
    }
   ],
   "source": [
    "user_count = data.groupby('artist').size()\n",
    "user_count"
   ]
  },
  {
   "cell_type": "code",
   "execution_count": 19,
   "metadata": {},
   "outputs": [
    {
     "ename": "ValueError",
     "evalue": "negative row index found",
     "output_type": "error",
     "traceback": [
      "\u001b[0;31m---------------------------------------------------------------------------\u001b[0m",
      "\u001b[0;31mValueError\u001b[0m                                Traceback (most recent call last)",
      "\u001b[0;32m<ipython-input-19-c52b14d91258>\u001b[0m in \u001b[0;36m<module>\u001b[0;34m()\u001b[0m\n\u001b[1;32m      1\u001b[0m \u001b[0;31m# create a sparse matrix of using the (data, (row, col)) format\u001b[0m\u001b[0;34m\u001b[0m\u001b[0;34m\u001b[0m\u001b[0m\n\u001b[1;32m      2\u001b[0m plays = coo_matrix(( data['plays'].astype(np.float),\n\u001b[0;32m----> 3\u001b[0;31m                      (data['artist'].cat.codes, data['user'].cat.codes) ))\n\u001b[0m\u001b[1;32m      4\u001b[0m \u001b[0mplays\u001b[0m\u001b[0;34m\u001b[0m\u001b[0m\n",
      "\u001b[0;32m/Users/ethen/anaconda/lib/python3.5/site-packages/scipy/sparse/coo.py\u001b[0m in \u001b[0;36m__init__\u001b[0;34m(self, arg1, shape, dtype, copy)\u001b[0m\n\u001b[1;32m    182\u001b[0m             \u001b[0mself\u001b[0m\u001b[0;34m.\u001b[0m\u001b[0mdata\u001b[0m \u001b[0;34m=\u001b[0m \u001b[0mself\u001b[0m\u001b[0;34m.\u001b[0m\u001b[0mdata\u001b[0m\u001b[0;34m.\u001b[0m\u001b[0mastype\u001b[0m\u001b[0;34m(\u001b[0m\u001b[0mdtype\u001b[0m\u001b[0;34m,\u001b[0m \u001b[0mcopy\u001b[0m\u001b[0;34m=\u001b[0m\u001b[0;32mFalse\u001b[0m\u001b[0;34m)\u001b[0m\u001b[0;34m\u001b[0m\u001b[0m\n\u001b[1;32m    183\u001b[0m \u001b[0;34m\u001b[0m\u001b[0m\n\u001b[0;32m--> 184\u001b[0;31m         \u001b[0mself\u001b[0m\u001b[0;34m.\u001b[0m\u001b[0m_check\u001b[0m\u001b[0;34m(\u001b[0m\u001b[0;34m)\u001b[0m\u001b[0;34m\u001b[0m\u001b[0m\n\u001b[0m\u001b[1;32m    185\u001b[0m \u001b[0;34m\u001b[0m\u001b[0m\n\u001b[1;32m    186\u001b[0m     \u001b[0;32mdef\u001b[0m \u001b[0mgetnnz\u001b[0m\u001b[0;34m(\u001b[0m\u001b[0mself\u001b[0m\u001b[0;34m,\u001b[0m \u001b[0maxis\u001b[0m\u001b[0;34m=\u001b[0m\u001b[0;32mNone\u001b[0m\u001b[0;34m)\u001b[0m\u001b[0;34m:\u001b[0m\u001b[0;34m\u001b[0m\u001b[0m\n",
      "\u001b[0;32m/Users/ethen/anaconda/lib/python3.5/site-packages/scipy/sparse/coo.py\u001b[0m in \u001b[0;36m_check\u001b[0;34m(self)\u001b[0m\n\u001b[1;32m    232\u001b[0m                 \u001b[0;32mraise\u001b[0m \u001b[0mValueError\u001b[0m\u001b[0;34m(\u001b[0m\u001b[0;34m'column index exceeds matrix dimensions'\u001b[0m\u001b[0;34m)\u001b[0m\u001b[0;34m\u001b[0m\u001b[0m\n\u001b[1;32m    233\u001b[0m             \u001b[0;32mif\u001b[0m \u001b[0mself\u001b[0m\u001b[0;34m.\u001b[0m\u001b[0mrow\u001b[0m\u001b[0;34m.\u001b[0m\u001b[0mmin\u001b[0m\u001b[0;34m(\u001b[0m\u001b[0;34m)\u001b[0m \u001b[0;34m<\u001b[0m \u001b[0;36m0\u001b[0m\u001b[0;34m:\u001b[0m\u001b[0;34m\u001b[0m\u001b[0m\n\u001b[0;32m--> 234\u001b[0;31m                 \u001b[0;32mraise\u001b[0m \u001b[0mValueError\u001b[0m\u001b[0;34m(\u001b[0m\u001b[0;34m'negative row index found'\u001b[0m\u001b[0;34m)\u001b[0m\u001b[0;34m\u001b[0m\u001b[0m\n\u001b[0m\u001b[1;32m    235\u001b[0m             \u001b[0;32mif\u001b[0m \u001b[0mself\u001b[0m\u001b[0;34m.\u001b[0m\u001b[0mcol\u001b[0m\u001b[0;34m.\u001b[0m\u001b[0mmin\u001b[0m\u001b[0;34m(\u001b[0m\u001b[0;34m)\u001b[0m \u001b[0;34m<\u001b[0m \u001b[0;36m0\u001b[0m\u001b[0;34m:\u001b[0m\u001b[0;34m\u001b[0m\u001b[0m\n\u001b[1;32m    236\u001b[0m                 \u001b[0;32mraise\u001b[0m \u001b[0mValueError\u001b[0m\u001b[0;34m(\u001b[0m\u001b[0;34m'negative column index found'\u001b[0m\u001b[0;34m)\u001b[0m\u001b[0;34m\u001b[0m\u001b[0m\n",
      "\u001b[0;31mValueError\u001b[0m: negative row index found"
     ]
    }
   ],
   "source": [
    "\n",
    "    \n",
    "    \n",
    "    to_generate = sorted(list(artists), key=lambda x: -user_count[x])"
   ]
  }
 ],
 "metadata": {
  "anaconda-cloud": {},
  "kernelspec": {
   "display_name": "Python 3",
   "language": "python",
   "name": "python3"
  },
  "language_info": {
   "codemirror_mode": {
    "name": "ipython",
    "version": 3
   },
   "file_extension": ".py",
   "mimetype": "text/x-python",
   "name": "python",
   "nbconvert_exporter": "python",
   "pygments_lexer": "ipython3",
   "version": "3.6.3"
  },
  "toc": {
   "nav_menu": {},
   "number_sections": true,
   "sideBar": true,
   "skip_h1_title": false,
   "title_cell": "Table of Contents",
   "title_sidebar": "Contents",
   "toc_cell": false,
   "toc_position": {},
   "toc_section_display": true,
   "toc_window_display": false
  },
  "varInspector": {
   "cols": {
    "lenName": 16,
    "lenType": 16,
    "lenVar": 40
   },
   "kernels_config": {
    "python": {
     "delete_cmd_postfix": "",
     "delete_cmd_prefix": "del ",
     "library": "var_list.py",
     "varRefreshCmd": "print(var_dic_list())"
    },
    "r": {
     "delete_cmd_postfix": ") ",
     "delete_cmd_prefix": "rm(",
     "library": "var_list.r",
     "varRefreshCmd": "cat(var_dic_list()) "
    }
   },
   "types_to_exclude": [
    "module",
    "function",
    "builtin_function_or_method",
    "instance",
    "_Feature"
   ],
   "window_display": false
  }
 },
 "nbformat": 4,
 "nbformat_minor": 1
}
