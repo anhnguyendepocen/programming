{
 "cells": [
  {
   "cell_type": "code",
   "execution_count": 1,
   "metadata": {
    "collapsed": false
   },
   "outputs": [
    {
     "name": "stdout",
     "output_type": "stream",
     "text": [
      "Ethen 2017-01-26 17:56:30 \n",
      "\n",
      "CPython 3.5.2\n",
      "IPython 4.2.0\n",
      "\n",
      "numpy 1.11.3\n",
      "matplotlib 1.5.1\n"
     ]
    }
   ],
   "source": [
    "import numpy as np\n",
    "import matplotlib.pyplot as plt\n",
    "from mpl_toolkits.mplot3d import Axes3D\n",
    "import itertools\n",
    "\n",
    "# 1. magic for inline plot\n",
    "# 2. magic to print version\n",
    "# 3. magic so that the notebook will reload external python modules\n",
    "%matplotlib inline\n",
    "%load_ext watermark\n",
    "%load_ext autoreload \n",
    "%autoreload 2\n",
    "\n",
    "%watermark -a 'Ethen' -d -t -v -p numpy,matplotlib"
   ]
  },
  {
   "cell_type": "code",
   "execution_count": 19,
   "metadata": {
    "collapsed": false
   },
   "outputs": [
    {
     "data": {
      "text/plain": [
       "array([[ 4.,  1.],\n",
       "       [ 1.,  3.]])"
      ]
     },
     "execution_count": 19,
     "metadata": {},
     "output_type": "execute_result"
    }
   ],
   "source": [
    "A = np.array([[4.0, 1.0], [1.0, 3.0]])\n",
    "b = np.array([1.0, 2.0])\n",
    "A"
   ]
  },
  {
   "cell_type": "code",
   "execution_count": 20,
   "metadata": {
    "collapsed": false
   },
   "outputs": [
    {
     "data": {
      "text/plain": [
       "array([ 1.,  2.])"
      ]
     },
     "execution_count": 20,
     "metadata": {},
     "output_type": "execute_result"
    }
   ],
   "source": [
    "b"
   ]
  },
  {
   "cell_type": "code",
   "execution_count": 21,
   "metadata": {
    "collapsed": false
   },
   "outputs": [
    {
     "data": {
      "text/plain": [
       "array([ 0.09090909,  0.63636364])"
      ]
     },
     "execution_count": 21,
     "metadata": {},
     "output_type": "execute_result"
    }
   ],
   "source": [
    "np.linalg.solve(A, b)"
   ]
  },
  {
   "cell_type": "code",
   "execution_count": 22,
   "metadata": {
    "collapsed": false
   },
   "outputs": [
    {
     "data": {
      "text/plain": [
       "array([-8., -3.])"
      ]
     },
     "execution_count": 22,
     "metadata": {},
     "output_type": "execute_result"
    }
   ],
   "source": [
    "x0 = np.array([2, 1])\n",
    "\n",
    "# the initial residual is computed from b - Ax\n",
    "r0 = b - A @ x0\n",
    "\n",
    "# since this is the first iteration, the residual r\n",
    "# will also be the search direction p\n",
    "p0 = r0\n",
    "\n",
    "r0"
   ]
  },
  {
   "cell_type": "code",
   "execution_count": 30,
   "metadata": {
    "collapsed": false
   },
   "outputs": [
    {
     "data": {
      "text/plain": [
       "array([ 0.23564955,  0.33836858])"
      ]
     },
     "execution_count": 30,
     "metadata": {},
     "output_type": "execute_result"
    }
   ],
   "source": [
    "# compute scalar alpha\n",
    "a0 = r0.T @ r0 / (p0.T @ A @ p0)\n",
    "\n",
    "# update solution, this ends the first iteration,\n",
    "# where the result is an \"improved approximation solution\"\n",
    "x1 = x0 + a0 * p0\n",
    "x1"
   ]
  },
  {
   "cell_type": "code",
   "execution_count": 31,
   "metadata": {
    "collapsed": false
   },
   "outputs": [
    {
     "data": {
      "text/plain": [
       "array([-0.28096677,  0.74924471])"
      ]
     },
     "execution_count": 31,
     "metadata": {},
     "output_type": "execute_result"
    }
   ],
   "source": [
    "# compute the next residual\n",
    "r1 = r0 - a0 * A @ p0\n",
    "r1"
   ]
  },
  {
   "cell_type": "code",
   "execution_count": 32,
   "metadata": {
    "collapsed": false
   },
   "outputs": [
    {
     "data": {
      "text/plain": [
       "0.0087713693741386066"
      ]
     },
     "execution_count": 32,
     "metadata": {},
     "output_type": "execute_result"
    }
   ],
   "source": [
    "# compute the scalar B that will\n",
    "# be used to determine the next search direction\n",
    "B = r1.T @ r1 / (r0.T @ r0)\n",
    "B"
   ]
  },
  {
   "cell_type": "code",
   "execution_count": 34,
   "metadata": {
    "collapsed": false
   },
   "outputs": [
    {
     "data": {
      "text/plain": [
       "array([-0.35113772,  0.7229306 ])"
      ]
     },
     "execution_count": 34,
     "metadata": {},
     "output_type": "execute_result"
    }
   ],
   "source": [
    "# computet the next search direction p\n",
    "p1 = r1 + B * p0\n",
    "p1"
   ]
  },
  {
   "cell_type": "code",
   "execution_count": 35,
   "metadata": {
    "collapsed": false
   },
   "outputs": [
    {
     "data": {
      "text/plain": [
       "0.41220423412204232"
      ]
     },
     "execution_count": 35,
     "metadata": {},
     "output_type": "execute_result"
    }
   ],
   "source": [
    "# compute the scalar will be\n",
    "# used to update the new approximation\n",
    "a1 = r1.T @ r1 / (p1.T @ A @ p1)\n",
    "a1"
   ]
  },
  {
   "cell_type": "code",
   "execution_count": 36,
   "metadata": {
    "collapsed": false
   },
   "outputs": [
    {
     "data": {
      "text/plain": [
       "array([ 0.09090909,  0.63636364])"
      ]
     },
     "execution_count": 36,
     "metadata": {},
     "output_type": "execute_result"
    }
   ],
   "source": [
    "# new approximation matches the solution\n",
    "# using np.linalg.solve\n",
    "x2 = x1 + a1 * p1\n",
    "x2"
   ]
  },
  {
   "cell_type": "code",
   "execution_count": 16,
   "metadata": {
    "collapsed": true
   },
   "outputs": [],
   "source": [
    "A = np.array([[3.0, 2.0], [2.0, 6.0]])\n",
    "b = np.array([[2.0], [-8.0]])  # we will use the convention that a vector is a column vector\n",
    "c = 0.0\n",
    "\n",
    "def f(x, A, b, c):\n",
    "    return 0.5 * x.T * A * x - b.T * x + c"
   ]
  },
  {
   "cell_type": "code",
   "execution_count": 8,
   "metadata": {
    "collapsed": true
   },
   "outputs": [],
   "source": [
    "def bowl(A, b, c):\n",
    "    fig = plt.figure(figsize=(10,8))\n",
    "    qf = fig.gca(projection='3d')\n",
    "    size = 20\n",
    "    x1 = list(np.linspace(-6, 6, size))\n",
    "    x2 = list(np.linspace(-6, 6, size))\n",
    "    x1, x2 = np.meshgrid(x1, x2)\n",
    "    zs = np.zeros((size, size))\n",
    "    for i in range(size):\n",
    "        for j in range(size):\n",
    "            x = np.matrix([[x1[i,j]], [x2[i,j]]])\n",
    "            zs[i,j] = f(x, A, b, c)\n",
    "    qf.plot_surface(x1, x2, zs, rstride=1, cstride=1, cmap=plt.cm.coolwarm, linewidth=0)\n",
    "    fig.show()\n",
    "    return x1, x2, zs"
   ]
  },
  {
   "cell_type": "code",
   "execution_count": 23,
   "metadata": {
    "collapsed": true
   },
   "outputs": [],
   "source": [
    "size = 20\n",
    "x1 = np.linspace(-6, 6, size)\n",
    "x2 = np.linspace(-6, 6, size)\n",
    "x1, x2 = np.meshgrid(x1, x2)\n",
    "\n",
    "def f(x, A, b, c):\n",
    "    return 0.5 * x.T @ A @ x - b.T @ x + c\n",
    "\n",
    "z = np.zeros((size, size))\n",
    "for i in range(size):\n",
    "    for j in range(size):\n",
    "        x = np.array([ x1[i, j], x2[i, j] ])\n",
    "        z[i, j] = f(x, A, b, c)"
   ]
  },
  {
   "cell_type": "code",
   "execution_count": 39,
   "metadata": {
    "collapsed": true
   },
   "outputs": [],
   "source": [
    "def contoursteps(x1, x2, z, steps=None):\n",
    "    fig = plt.figure(figsize=(6,6))\n",
    "    cp = plt.contour(x1, x2, z)\n",
    "    plt.clabel(cp, fontsize = 10)\n",
    "    if steps is not None:\n",
    "        steps = np.matrix(steps)\n",
    "        plt.plot(steps[:, 0], steps[:, 1], '-o')"
   ]
  },
  {
   "cell_type": "code",
   "execution_count": 40,
   "metadata": {
    "collapsed": false
   },
   "outputs": [
    {
     "data": {
      "image/png": "[encoded data removed]",
      "text/plain": [
       "<matplotlib.figure.Figure at 0x10dd65cf8>"
      ]
     },
     "metadata": {},
     "output_type": "display_data"
    }
   ],
   "source": [
    "contoursteps(x1, x2, z)"
   ]
  },
  {
   "cell_type": "code",
   "execution_count": 9,
   "metadata": {
    "collapsed": false
   },
   "outputs": [],
   "source": [
    "x1, x2, zs = bowl(A, b, c)"
   ]
  }
 ],
 "metadata": {
  "anaconda-cloud": {},
  "kernelspec": {
   "display_name": "Python [Root]",
   "language": "python",
   "name": "Python [Root]"
  },
  "language_info": {
   "codemirror_mode": {
    "name": "ipython",
    "version": 3
   },
   "file_extension": ".py",
   "mimetype": "text/x-python",
   "name": "python",
   "nbconvert_exporter": "python",
   "pygments_lexer": "ipython3",
   "version": "3.5.2"
  }
 },
 "nbformat": 4,
 "nbformat_minor": 0
}
