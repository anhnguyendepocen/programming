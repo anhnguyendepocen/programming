{
 "cells": [
  {
   "cell_type": "markdown",
   "metadata": {},
   "source": [
    "https://github.com/EthanRosenthal/rec-a-sketch"
   ]
  },
  {
   "cell_type": "code",
   "execution_count": 1,
   "metadata": {
    "collapsed": false
   },
   "outputs": [
    {
     "name": "stdout",
     "output_type": "stream",
     "text": [
      "Ethen 2017-04-01 20:16:27 \n",
      "\n",
      "CPython 3.5.2\n",
      "IPython 5.1.0\n",
      "\n",
      "requests 2.11.1\n",
      "pandas 0.19.2\n",
      "tqdm 4.11.2\n",
      "joblib 0.11\n"
     ]
    }
   ],
   "source": [
    "import os\n",
    "import requests\n",
    "import pandas as pd\n",
    "from PIL import Image\n",
    "from tqdm import tqdm\n",
    "from joblib import Parallel, delayed\n",
    "\n",
    "# 1. magic to print version\n",
    "# 2. magic so that the notebook will reload external python modules\n",
    "%load_ext watermark\n",
    "%load_ext autoreload \n",
    "%autoreload 2\n",
    "%watermark -a 'Ethen' -d -t -v -p requests,pandas,tqdm,joblib"
   ]
  },
  {
   "cell_type": "code",
   "execution_count": 2,
   "metadata": {
    "collapsed": false
   },
   "outputs": [
    {
     "data": {
      "text/html": [
       "<div>\n",
       "<table border=\"1\" class=\"dataframe\">\n",
       "  <thead>\n",
       "    <tr style=\"text-align: right;\">\n",
       "      <th></th>\n",
       "      <th>modelname</th>\n",
       "      <th>mid</th>\n",
       "      <th>uid</th>\n",
       "    </tr>\n",
       "  </thead>\n",
       "  <tbody>\n",
       "    <tr>\n",
       "      <th>0</th>\n",
       "      <td>3D fanart Noel From Sora no Method</td>\n",
       "      <td>5dcebcfaedbd4e7b8a27bd1ae55f1ac3</td>\n",
       "      <td>7ac1b40648fff523d7220a5d07b04d9b</td>\n",
       "    </tr>\n",
       "    <tr>\n",
       "      <th>1</th>\n",
       "      <td>3D fanart Noel From Sora no Method</td>\n",
       "      <td>5dcebcfaedbd4e7b8a27bd1ae55f1ac3</td>\n",
       "      <td>2b4ad286afe3369d39f1bb7aa2528bc7</td>\n",
       "    </tr>\n",
       "    <tr>\n",
       "      <th>2</th>\n",
       "      <td>3D fanart Noel From Sora no Method</td>\n",
       "      <td>5dcebcfaedbd4e7b8a27bd1ae55f1ac3</td>\n",
       "      <td>1bf0993ebab175a896ac8003bed91b4b</td>\n",
       "    </tr>\n",
       "    <tr>\n",
       "      <th>3</th>\n",
       "      <td>3D fanart Noel From Sora no Method</td>\n",
       "      <td>5dcebcfaedbd4e7b8a27bd1ae55f1ac3</td>\n",
       "      <td>6484211de8b9a023a7d9ab1641d22e7c</td>\n",
       "    </tr>\n",
       "    <tr>\n",
       "      <th>4</th>\n",
       "      <td>3D fanart Noel From Sora no Method</td>\n",
       "      <td>5dcebcfaedbd4e7b8a27bd1ae55f1ac3</td>\n",
       "      <td>1109ee298494fbd192e27878432c718a</td>\n",
       "    </tr>\n",
       "  </tbody>\n",
       "</table>\n",
       "</div>"
      ],
      "text/plain": [
       "                            modelname                               mid  \\\n",
       "0  3D fanart Noel From Sora no Method  5dcebcfaedbd4e7b8a27bd1ae55f1ac3   \n",
       "1  3D fanart Noel From Sora no Method  5dcebcfaedbd4e7b8a27bd1ae55f1ac3   \n",
       "2  3D fanart Noel From Sora no Method  5dcebcfaedbd4e7b8a27bd1ae55f1ac3   \n",
       "3  3D fanart Noel From Sora no Method  5dcebcfaedbd4e7b8a27bd1ae55f1ac3   \n",
       "4  3D fanart Noel From Sora no Method  5dcebcfaedbd4e7b8a27bd1ae55f1ac3   \n",
       "\n",
       "                                uid  \n",
       "0  7ac1b40648fff523d7220a5d07b04d9b  \n",
       "1  2b4ad286afe3369d39f1bb7aa2528bc7  \n",
       "2  1bf0993ebab175a896ac8003bed91b4b  \n",
       "3  6484211de8b9a023a7d9ab1641d22e7c  \n",
       "4  1109ee298494fbd192e27878432c718a  "
      ]
     },
     "execution_count": 2,
     "metadata": {},
     "output_type": "execute_result"
    }
   ],
   "source": [
    "path = os.path.join('data', 'model_likes_anon.psv')\n",
    "df = pd.read_csv(path, sep = '|', quotechar = '\\\\')\n",
    "df = df.drop_duplicates()\n",
    "df.head()"
   ]
  },
  {
   "cell_type": "code",
   "execution_count": 3,
   "metadata": {
    "collapsed": true
   },
   "outputs": [],
   "source": [
    "def get_mid_data(mid):\n",
    "    response = requests.get('https://sketchfab.com/i/models/{}'.format(mid))\n",
    "    status = response.status_code \n",
    "    if status != 200:\n",
    "        thumbnail = None\n",
    "        category = None\n",
    "        name = None\n",
    "        url = None\n",
    "    else:\n",
    "        response = response.json()\n",
    "        name = response['name']\n",
    "        url = response['viewerUrl']\n",
    "        \n",
    "        category = None\n",
    "        categories = response['categories']\n",
    "        if categories:\n",
    "            category = categories[0]['name']\n",
    "        \n",
    "        thumbnail = None\n",
    "        thumbnails = [x['url'] for x in response['thumbnails']['images']\n",
    "                      if x['width'] == 200 and x['height'] == 200]\n",
    "        if thumbnails:\n",
    "            thumbnail = thumbnails[0]\n",
    "    \n",
    "    mid_data = {'thumbnail': thumbnail, 'name': name, 'url': url, 'category': category}\n",
    "    return mid_data\n",
    "\n",
    "\n",
    "def get_all_mid_data(all_mids, verbose = True, n_jobs = -1, pre_dispatch = '2 * n_jobs'):\n",
    "    \"\"\"\"\"\"\n",
    "    parallel = Parallel(n_jobs = n_jobs, verbose = verbose, pre_dispatch = pre_dispatch)\n",
    "    output = parallel(delayed(get_mid_data)(mid) for mid in all_mids)\n",
    "    df = pd.DataFrame(output)\n",
    "    df['mid'] = all_mids\n",
    "    df = df[['mid', 'name', 'thumbnail', 'url', 'category']] \n",
    "    return df"
   ]
  },
  {
   "cell_type": "code",
   "execution_count": 4,
   "metadata": {
    "collapsed": false
   },
   "outputs": [
    {
     "name": "stderr",
     "output_type": "stream",
     "text": [
      "[Parallel(n_jobs=-1)]: Done  66 tasks      | elapsed:    0.8s\n",
      "[Parallel(n_jobs=-1)]: Done 416 tasks      | elapsed:    1.9s\n",
      "[Parallel(n_jobs=-1)]: Done 866 tasks      | elapsed:    3.3s\n",
      "[Parallel(n_jobs=-1)]: Done 1416 tasks      | elapsed:    5.0s\n",
      "[Parallel(n_jobs=-1)]: Done 2066 tasks      | elapsed:    7.0s\n",
      "[Parallel(n_jobs=-1)]: Done 2816 tasks      | elapsed:    9.3s\n",
      "[Parallel(n_jobs=-1)]: Done 3666 tasks      | elapsed:   11.9s\n",
      "[Parallel(n_jobs=-1)]: Done 4616 tasks      | elapsed:   14.8s\n",
      "[Parallel(n_jobs=-1)]: Done 5666 tasks      | elapsed:   18.1s\n",
      "[Parallel(n_jobs=-1)]: Done 6816 tasks      | elapsed:   21.7s\n",
      "[Parallel(n_jobs=-1)]: Done 8066 tasks      | elapsed:   25.5s\n",
      "[Parallel(n_jobs=-1)]: Done 9416 tasks      | elapsed:   29.6s\n",
      "[Parallel(n_jobs=-1)]: Done 10866 tasks      | elapsed:   34.2s\n",
      "[Parallel(n_jobs=-1)]: Done 12416 tasks      | elapsed:   39.0s\n",
      "[Parallel(n_jobs=-1)]: Done 14066 tasks      | elapsed:   44.0s\n",
      "[Parallel(n_jobs=-1)]: Done 15816 tasks      | elapsed:   49.2s\n",
      "[Parallel(n_jobs=-1)]: Done 17666 tasks      | elapsed:   54.6s\n",
      "[Parallel(n_jobs=-1)]: Done 19616 tasks      | elapsed:  1.0min\n",
      "[Parallel(n_jobs=-1)]: Done 21666 tasks      | elapsed:  1.1min\n",
      "[Parallel(n_jobs=-1)]: Done 23816 tasks      | elapsed:  1.2min\n",
      "[Parallel(n_jobs=-1)]: Done 26066 tasks      | elapsed:  1.3min\n",
      "[Parallel(n_jobs=-1)]: Done 28416 tasks      | elapsed:  1.5min\n",
      "[Parallel(n_jobs=-1)]: Done 28806 out of 28806 | elapsed:  1.5min finished\n"
     ]
    },
    {
     "data": {
      "text/html": [
       "<div>\n",
       "<table border=\"1\" class=\"dataframe\">\n",
       "  <thead>\n",
       "    <tr style=\"text-align: right;\">\n",
       "      <th></th>\n",
       "      <th>mid</th>\n",
       "      <th>name</th>\n",
       "      <th>thumbnail</th>\n",
       "      <th>url</th>\n",
       "      <th>category</th>\n",
       "    </tr>\n",
       "  </thead>\n",
       "  <tbody>\n",
       "    <tr>\n",
       "      <th>0</th>\n",
       "      <td>5dcebcfaedbd4e7b8a27bd1ae55f1ac3</td>\n",
       "      <td>3D fanart Noel From Sora no Method</td>\n",
       "      <td>None</td>\n",
       "      <td>https://sketchfab.com/models/5dcebcfaedbd4e7b8...</td>\n",
       "      <td>Characters</td>\n",
       "    </tr>\n",
       "    <tr>\n",
       "      <th>1</th>\n",
       "      <td>0c2c222919944c1fb879764b03f424ea</td>\n",
       "      <td>Riot art contest Caitlyn</td>\n",
       "      <td>None</td>\n",
       "      <td>https://sketchfab.com/models/0c2c222919944c1fb...</td>\n",
       "      <td>Characters</td>\n",
       "    </tr>\n",
       "    <tr>\n",
       "      <th>2</th>\n",
       "      <td>8609caf1cd8c452eb7b6d4ca4228fcd0</td>\n",
       "      <td>Firewatch Fan Art</td>\n",
       "      <td>https://dg5bepmjyhz9h.cloudfront.net/urls/8609...</td>\n",
       "      <td>https://sketchfab.com/models/8609caf1cd8c452eb...</td>\n",
       "      <td>Architecture</td>\n",
       "    </tr>\n",
       "    <tr>\n",
       "      <th>3</th>\n",
       "      <td>96340701c2ed4d37851c7d9109eee9c0</td>\n",
       "      <td>Scifi Girl v.01</td>\n",
       "      <td>None</td>\n",
       "      <td>https://sketchfab.com/models/96340701c2ed4d378...</td>\n",
       "      <td>Characters</td>\n",
       "    </tr>\n",
       "    <tr>\n",
       "      <th>4</th>\n",
       "      <td>311d052a9f034ba8bce55a1a8296b6f9</td>\n",
       "      <td>Van gogh Room</td>\n",
       "      <td>https://dg5bepmjyhz9h.cloudfront.net/urls/311d...</td>\n",
       "      <td>https://sketchfab.com/models/311d052a9f034ba8b...</td>\n",
       "      <td>Architecture</td>\n",
       "    </tr>\n",
       "  </tbody>\n",
       "</table>\n",
       "</div>"
      ],
      "text/plain": [
       "                                mid                                name  \\\n",
       "0  5dcebcfaedbd4e7b8a27bd1ae55f1ac3  3D fanart Noel From Sora no Method   \n",
       "1  0c2c222919944c1fb879764b03f424ea            Riot art contest Caitlyn   \n",
       "2  8609caf1cd8c452eb7b6d4ca4228fcd0                   Firewatch Fan Art   \n",
       "3  96340701c2ed4d37851c7d9109eee9c0                     Scifi Girl v.01   \n",
       "4  311d052a9f034ba8bce55a1a8296b6f9                       Van gogh Room   \n",
       "\n",
       "                                           thumbnail  \\\n",
       "0                                               None   \n",
       "1                                               None   \n",
       "2  https://dg5bepmjyhz9h.cloudfront.net/urls/8609...   \n",
       "3                                               None   \n",
       "4  https://dg5bepmjyhz9h.cloudfront.net/urls/311d...   \n",
       "\n",
       "                                                 url      category  \n",
       "0  https://sketchfab.com/models/5dcebcfaedbd4e7b8...    Characters  \n",
       "1  https://sketchfab.com/models/0c2c222919944c1fb...    Characters  \n",
       "2  https://sketchfab.com/models/8609caf1cd8c452eb...  Architecture  \n",
       "3  https://sketchfab.com/models/96340701c2ed4d378...    Characters  \n",
       "4  https://sketchfab.com/models/311d052a9f034ba8b...  Architecture  "
      ]
     },
     "execution_count": 4,
     "metadata": {},
     "output_type": "execute_result"
    }
   ],
   "source": [
    "all_mids = df['mid'].unique()\n",
    "mid_data = get_all_mid_data(all_mids)\n",
    "mid_data.head()"
   ]
  },
  {
   "cell_type": "code",
   "execution_count": 5,
   "metadata": {
    "collapsed": false
   },
   "outputs": [
    {
     "name": "stdout",
     "output_type": "stream",
     "text": [
      "(16402, 5)\n"
     ]
    }
   ],
   "source": [
    "# remove mid that doesn't have a url or category\n",
    "mid_data_subset = mid_data[ ~mid_data['thumbnail'].isnull() & ~mid_data['category'].isnull() ]\n",
    "mid_data_subset = mid_data_subset.reset_index(drop = True)\n",
    "print(mid_data_subset.shape)"
   ]
  },
  {
   "cell_type": "code",
   "execution_count": 6,
   "metadata": {
    "collapsed": true
   },
   "outputs": [],
   "source": [
    "def download_img(mid, thumbnail):\n",
    "    img_data = requests.get(thumbnail).content\n",
    "    img_path = mid + '.jpg'\n",
    "    with open(img_path, 'wb') as handler:\n",
    "        handler.write(img_data)\n",
    "    \n",
    "def download_all_img(mid_data, save_folder, verbose = True, n_jobs = -1, pre_dispatch = '2*n_jobs'):\n",
    "    if not os.path.isdir(save_folder):\n",
    "        os.mkdir(save_folder)\n",
    "        \n",
    "    current_path = os.getcwd()\n",
    "    os.chdir(save_folder)\n",
    "    \n",
    "    mids = mid_data['mid']\n",
    "    thumbnails = mid_data['thumbnail']\n",
    "    parallel = Parallel(n_jobs = n_jobs, verbose = verbose, pre_dispatch = pre_dispatch)\n",
    "    parallel(delayed(download_img)(mid, thumbnail) for mid, thumbnail in zip(mids, thumbnails))\n",
    "    os.chdir(current_path)"
   ]
  },
  {
   "cell_type": "code",
   "execution_count": 7,
   "metadata": {
    "collapsed": false
   },
   "outputs": [
    {
     "name": "stderr",
     "output_type": "stream",
     "text": [
      "[Parallel(n_jobs=-1)]: Done  66 tasks      | elapsed:    0.5s\n",
      "[Parallel(n_jobs=-1)]: Done 416 tasks      | elapsed:    1.0s\n",
      "[Parallel(n_jobs=-1)]: Done 866 tasks      | elapsed:    1.4s\n",
      "[Parallel(n_jobs=-1)]: Done 1416 tasks      | elapsed:    1.9s\n",
      "[Parallel(n_jobs=-1)]: Done 2066 tasks      | elapsed:    2.5s\n",
      "[Parallel(n_jobs=-1)]: Done 2816 tasks      | elapsed:    3.2s\n",
      "[Parallel(n_jobs=-1)]: Done 3666 tasks      | elapsed:    3.9s\n",
      "[Parallel(n_jobs=-1)]: Done 4616 tasks      | elapsed:    4.7s\n",
      "[Parallel(n_jobs=-1)]: Done 5666 tasks      | elapsed:    5.6s\n",
      "[Parallel(n_jobs=-1)]: Done 6816 tasks      | elapsed:    6.6s\n",
      "[Parallel(n_jobs=-1)]: Done 8066 tasks      | elapsed:    7.7s\n",
      "[Parallel(n_jobs=-1)]: Done 9416 tasks      | elapsed:    8.9s\n",
      "[Parallel(n_jobs=-1)]: Done 10866 tasks      | elapsed:   10.1s\n",
      "[Parallel(n_jobs=-1)]: Done 12416 tasks      | elapsed:   11.4s\n",
      "[Parallel(n_jobs=-1)]: Done 14066 tasks      | elapsed:   12.8s\n",
      "[Parallel(n_jobs=-1)]: Done 16019 out of 16402 | elapsed:   14.9s remaining:    0.4s\n",
      "[Parallel(n_jobs=-1)]: Done 16402 out of 16402 | elapsed:   15.6s finished\n"
     ]
    }
   ],
   "source": [
    "img_dir = 'thumbnails'\n",
    "download_all_img(mid_data_subset, save_folder = img_dir)"
   ]
  },
  {
   "cell_type": "code",
   "execution_count": 8,
   "metadata": {
    "collapsed": false
   },
   "outputs": [],
   "source": [
    "def remove_damaged_img(img_dir):\n",
    "    # reading in the images and preprocessing\n",
    "    img_names = os.listdir(img_dir)\n",
    "    for img_name in tqdm(img_names):\n",
    "        img_path = os.path.join(img_dir, img_name)\n",
    "        try:\n",
    "            img = Image.open(img_path)\n",
    "        except OSError:\n",
    "            os.remove(img_path)\n",
    "            \n",
    "    img_names = os.listdir(img_dir)\n",
    "    return img_names"
   ]
  },
  {
   "cell_type": "code",
   "execution_count": 9,
   "metadata": {
    "collapsed": false
   },
   "outputs": [
    {
     "name": "stderr",
     "output_type": "stream",
     "text": [
      "100%|██████████| 16402/16402 [00:17<00:00, 940.99it/s]\n"
     ]
    }
   ],
   "source": [
    "img_names = remove_damaged_img(img_dir)"
   ]
  },
  {
   "cell_type": "code",
   "execution_count": 10,
   "metadata": {
    "collapsed": false
   },
   "outputs": [
    {
     "name": "stdout",
     "output_type": "stream",
     "text": [
      "dimension:  (379336, 6)\n"
     ]
    },
    {
     "data": {
      "text/html": [
       "<div>\n",
       "<table border=\"1\" class=\"dataframe\">\n",
       "  <thead>\n",
       "    <tr style=\"text-align: right;\">\n",
       "      <th></th>\n",
       "      <th>mid</th>\n",
       "      <th>uid</th>\n",
       "      <th>name</th>\n",
       "      <th>thumbnail</th>\n",
       "      <th>url</th>\n",
       "      <th>category</th>\n",
       "    </tr>\n",
       "  </thead>\n",
       "  <tbody>\n",
       "    <tr>\n",
       "      <th>0</th>\n",
       "      <td>8609caf1cd8c452eb7b6d4ca4228fcd0</td>\n",
       "      <td>c3d22af246056d258c3493582fbf378f</td>\n",
       "      <td>Firewatch Fan Art</td>\n",
       "      <td>https://dg5bepmjyhz9h.cloudfront.net/urls/8609...</td>\n",
       "      <td>https://sketchfab.com/models/8609caf1cd8c452eb...</td>\n",
       "      <td>Architecture</td>\n",
       "    </tr>\n",
       "    <tr>\n",
       "      <th>1</th>\n",
       "      <td>8609caf1cd8c452eb7b6d4ca4228fcd0</td>\n",
       "      <td>6e795101ca8f455070b908a193500410</td>\n",
       "      <td>Firewatch Fan Art</td>\n",
       "      <td>https://dg5bepmjyhz9h.cloudfront.net/urls/8609...</td>\n",
       "      <td>https://sketchfab.com/models/8609caf1cd8c452eb...</td>\n",
       "      <td>Architecture</td>\n",
       "    </tr>\n",
       "    <tr>\n",
       "      <th>2</th>\n",
       "      <td>8609caf1cd8c452eb7b6d4ca4228fcd0</td>\n",
       "      <td>21f84161b0a59f1f05d298c523002fcd</td>\n",
       "      <td>Firewatch Fan Art</td>\n",
       "      <td>https://dg5bepmjyhz9h.cloudfront.net/urls/8609...</td>\n",
       "      <td>https://sketchfab.com/models/8609caf1cd8c452eb...</td>\n",
       "      <td>Architecture</td>\n",
       "    </tr>\n",
       "    <tr>\n",
       "      <th>3</th>\n",
       "      <td>8609caf1cd8c452eb7b6d4ca4228fcd0</td>\n",
       "      <td>21f75b7330fb937f8d905e54f903c1b4</td>\n",
       "      <td>Firewatch Fan Art</td>\n",
       "      <td>https://dg5bepmjyhz9h.cloudfront.net/urls/8609...</td>\n",
       "      <td>https://sketchfab.com/models/8609caf1cd8c452eb...</td>\n",
       "      <td>Architecture</td>\n",
       "    </tr>\n",
       "    <tr>\n",
       "      <th>4</th>\n",
       "      <td>8609caf1cd8c452eb7b6d4ca4228fcd0</td>\n",
       "      <td>be8276038689010a47e0c512b5247d13</td>\n",
       "      <td>Firewatch Fan Art</td>\n",
       "      <td>https://dg5bepmjyhz9h.cloudfront.net/urls/8609...</td>\n",
       "      <td>https://sketchfab.com/models/8609caf1cd8c452eb...</td>\n",
       "      <td>Architecture</td>\n",
       "    </tr>\n",
       "  </tbody>\n",
       "</table>\n",
       "</div>"
      ],
      "text/plain": [
       "                                mid                               uid  \\\n",
       "0  8609caf1cd8c452eb7b6d4ca4228fcd0  c3d22af246056d258c3493582fbf378f   \n",
       "1  8609caf1cd8c452eb7b6d4ca4228fcd0  6e795101ca8f455070b908a193500410   \n",
       "2  8609caf1cd8c452eb7b6d4ca4228fcd0  21f84161b0a59f1f05d298c523002fcd   \n",
       "3  8609caf1cd8c452eb7b6d4ca4228fcd0  21f75b7330fb937f8d905e54f903c1b4   \n",
       "4  8609caf1cd8c452eb7b6d4ca4228fcd0  be8276038689010a47e0c512b5247d13   \n",
       "\n",
       "                name                                          thumbnail  \\\n",
       "0  Firewatch Fan Art  https://dg5bepmjyhz9h.cloudfront.net/urls/8609...   \n",
       "1  Firewatch Fan Art  https://dg5bepmjyhz9h.cloudfront.net/urls/8609...   \n",
       "2  Firewatch Fan Art  https://dg5bepmjyhz9h.cloudfront.net/urls/8609...   \n",
       "3  Firewatch Fan Art  https://dg5bepmjyhz9h.cloudfront.net/urls/8609...   \n",
       "4  Firewatch Fan Art  https://dg5bepmjyhz9h.cloudfront.net/urls/8609...   \n",
       "\n",
       "                                                 url      category  \n",
       "0  https://sketchfab.com/models/8609caf1cd8c452eb...  Architecture  \n",
       "1  https://sketchfab.com/models/8609caf1cd8c452eb...  Architecture  \n",
       "2  https://sketchfab.com/models/8609caf1cd8c452eb...  Architecture  \n",
       "3  https://sketchfab.com/models/8609caf1cd8c452eb...  Architecture  \n",
       "4  https://sketchfab.com/models/8609caf1cd8c452eb...  Architecture  "
      ]
     },
     "execution_count": 10,
     "metadata": {},
     "output_type": "execute_result"
    }
   ],
   "source": [
    "valid_mid = [img.split('.')[0] for img in img_names]\n",
    "df_subset = df[ df['mid'].isin(valid_mid) ]\n",
    "df_subset = df_subset.drop('modelname', axis = 1)\n",
    "df_subset = df_subset.merge(mid_data_subset, on = 'mid', how = 'inner')\n",
    "df_subset.to_csv('model_likes.csv', index = False, quotechar = '\\\\')\n",
    "print('dimension: ', df_subset.shape)\n",
    "df_subset.head()"
   ]
  }
 ],
 "metadata": {
  "anaconda-cloud": {},
  "kernelspec": {
   "display_name": "Python [conda root]",
   "language": "python",
   "name": "conda-root-py"
  },
  "language_info": {
   "codemirror_mode": {
    "name": "ipython",
    "version": 3
   },
   "file_extension": ".py",
   "mimetype": "text/x-python",
   "name": "python",
   "nbconvert_exporter": "python",
   "pygments_lexer": "ipython3",
   "version": "3.5.2"
  }
 },
 "nbformat": 4,
 "nbformat_minor": 1
}
