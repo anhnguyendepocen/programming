{
 "cells": [
  {
   "cell_type": "code",
   "execution_count": 1,
   "metadata": {
    "collapsed": true
   },
   "outputs": [],
   "source": [
    "import os\n",
    "import numpy as np\n",
    "import pandas as pd"
   ]
  },
  {
   "cell_type": "markdown",
   "metadata": {},
   "source": [
    "http://2015.recsyschallenge.com/challenge.html"
   ]
  },
  {
   "cell_type": "code",
   "execution_count": 2,
   "metadata": {},
   "outputs": [
    {
     "name": "stdout",
     "output_type": "stream",
     "text": [
      "(33003944, 3)\n"
     ]
    },
    {
     "data": {
      "text/html": [
       "<div>\n",
       "<table border=\"1\" class=\"dataframe\">\n",
       "  <thead>\n",
       "    <tr style=\"text-align: right;\">\n",
       "      <th></th>\n",
       "      <th>SessionId</th>\n",
       "      <th>TimeStamp</th>\n",
       "      <th>ItemId</th>\n",
       "    </tr>\n",
       "  </thead>\n",
       "  <tbody>\n",
       "    <tr>\n",
       "      <th>0</th>\n",
       "      <td>1</td>\n",
       "      <td>2014-04-07 10:51:09.277</td>\n",
       "      <td>214536502</td>\n",
       "    </tr>\n",
       "    <tr>\n",
       "      <th>1</th>\n",
       "      <td>1</td>\n",
       "      <td>2014-04-07 10:54:09.868</td>\n",
       "      <td>214536500</td>\n",
       "    </tr>\n",
       "    <tr>\n",
       "      <th>2</th>\n",
       "      <td>1</td>\n",
       "      <td>2014-04-07 10:54:46.998</td>\n",
       "      <td>214536506</td>\n",
       "    </tr>\n",
       "    <tr>\n",
       "      <th>3</th>\n",
       "      <td>1</td>\n",
       "      <td>2014-04-07 10:57:00.306</td>\n",
       "      <td>214577561</td>\n",
       "    </tr>\n",
       "    <tr>\n",
       "      <th>4</th>\n",
       "      <td>2</td>\n",
       "      <td>2014-04-07 13:56:37.614</td>\n",
       "      <td>214662742</td>\n",
       "    </tr>\n",
       "  </tbody>\n",
       "</table>\n",
       "</div>"
      ],
      "text/plain": [
       "   SessionId               TimeStamp     ItemId\n",
       "0          1 2014-04-07 10:51:09.277  214536502\n",
       "1          1 2014-04-07 10:54:09.868  214536500\n",
       "2          1 2014-04-07 10:54:46.998  214536506\n",
       "3          1 2014-04-07 10:57:00.306  214577561\n",
       "4          2 2014-04-07 13:56:37.614  214662742"
      ]
     },
     "execution_count": 2,
     "metadata": {},
     "output_type": "execute_result"
    }
   ],
   "source": [
    "path = os.path.join('yoochoose-dataFull', 'yoochoose-clicks.dat')\n",
    "data = pd.read_csv(path, header = None, usecols = [0, 1, 2], names = ['SessionId', 'TimeStamp', 'ItemId'])\n",
    "data['TimeStamp'] = pd.to_datetime(data['TimeStamp'], format = '%Y-%m-%dT%H:%M:%S.%fZ')\n",
    "print(data.shape)\n",
    "data.head()"
   ]
  },
  {
   "cell_type": "code",
   "execution_count": 3,
   "metadata": {
    "collapsed": true
   },
   "outputs": [],
   "source": [
    "# filter out infrequent item (less than 5) and short sessions \n",
    "# (presumably a misclick) of length 1\n",
    "item_supports = data.groupby('ItemId').size()\n",
    "data = data[np.in1d(data['ItemId'], item_supports[item_supports >= 5].index)]\n",
    "session_lengths = data.groupby('SessionId').size()\n",
    "data = data[np.in1d(data['SessionId'], session_lengths[session_lengths > 1].index)]"
   ]
  },
  {
   "cell_type": "code",
   "execution_count": 36,
   "metadata": {},
   "outputs": [
    {
     "data": {
      "text/plain": [
       "(31710571, 3)"
      ]
     },
     "execution_count": 36,
     "metadata": {},
     "output_type": "execute_result"
    }
   ],
   "source": [
    "data.shape"
   ]
  },
  {
   "cell_type": "code",
   "execution_count": 41,
   "metadata": {
    "collapsed": true
   },
   "outputs": [],
   "source": [
    "def train_test_session(data, train_path, test_path):\n",
    "    # create a 1 day time difference so we can\n",
    "    # use the session of the subsequent day as testing\n",
    "    tmax = data['TimeStamp'].max()\n",
    "    delta = pd.Timedelta(1, unit = 'd')\n",
    "    time_diff = tmax - delta\n",
    "    \n",
    "    session_max_times = data.groupby('SessionId')['TimeStamp'].max()\n",
    "    session_train = session_max_times[session_max_times < time_diff].index\n",
    "    session_test = session_max_times[session_max_times >= time_diff].index\n",
    "    train = data[np.in1d(data['SessionId'], session_train)]\n",
    "    test = data[np.in1d(data['SessionId'], session_test)]\n",
    "\n",
    "    # we filter out clicks from the test set where the item \n",
    "    # clicked is not in the train set. Sessions of \n",
    "    # length one are also removed from the test set\n",
    "    test = test[np.in1d(test['ItemId'], train['ItemId'])]\n",
    "    session_lengths = test.groupby('SessionId').size()\n",
    "    test = test[np.in1d(test['SessionId'], session_lengths[session_lengths > 1].index)]\n",
    "    \n",
    "    def print_info(data, path):\n",
    "        message = path + '\\n\\tEvents: {}\\n\\tSessions: {}\\n\\tItems: {}'\n",
    "        print( message.format(data.shape[0], data['SessionId'].nunique(), data['ItemId'].nunique()) )\n",
    "        \n",
    "    print_info(train, train_path)\n",
    "    train.to_csv(train_path, index = False, sep = ',')\n",
    "    print_info(test, test_path)\n",
    "    test.to_csv(test_path, index = False, sep = ',')"
   ]
  },
  {
   "cell_type": "code",
   "execution_count": 42,
   "metadata": {},
   "outputs": [
    {
     "name": "stdout",
     "output_type": "stream",
     "text": [
      "rsc15_train_full.txt\n",
      "\tEvents: 31639296\n",
      "\tSessions: 7966888\n",
      "\tItems: 37958\n",
      "rsc15_test.txt\n",
      "\tEvents: 71231\n",
      "\tSessions: 15326\n",
      "\tItems: 6756\n"
     ]
    }
   ],
   "source": [
    "train_path = 'rsc15_train_full.txt'\n",
    "test_path = 'rsc15_test.txt'\n",
    "train_test_session(data, train_path, test_path)"
   ]
  },
  {
   "cell_type": "code",
   "execution_count": 43,
   "metadata": {},
   "outputs": [
    {
     "name": "stdout",
     "output_type": "stream",
     "text": [
      "rsc15_train_partial.txt\n",
      "\tEvents: 31581057\n",
      "\tSessions: 7954513\n",
      "\tItems: 37957\n",
      "rsc15_validation.txt\n",
      "\tEvents: 58237\n",
      "\tSessions: 12374\n",
      "\tItems: 6361\n"
     ]
    }
   ],
   "source": [
    "train_partial_path = 'rsc15_train_partial.txt'\n",
    "validation_path = 'rsc15_validation.txt'\n",
    "train_test_session(train, train_partial_path, validation_path)"
   ]
  }
 ],
 "metadata": {
  "anaconda-cloud": {},
  "kernelspec": {
   "display_name": "Python 3",
   "language": "python",
   "name": "python3"
  },
  "language_info": {
   "codemirror_mode": {
    "name": "ipython",
    "version": 3
   },
   "file_extension": ".py",
   "mimetype": "text/x-python",
   "name": "python",
   "nbconvert_exporter": "python",
   "pygments_lexer": "ipython3",
   "version": "3.5.2"
  },
  "toc": {
   "colors": {
    "hover_highlight": "#DAA520",
    "running_highlight": "#FF0000",
    "selected_highlight": "#FFD700"
   },
   "moveMenuLeft": true,
   "nav_menu": {
    "height": "12px",
    "width": "252px"
   },
   "navigate_menu": true,
   "number_sections": true,
   "sideBar": true,
   "threshold": 4,
   "toc_cell": false,
   "toc_section_display": "block",
   "toc_window_display": true
  }
 },
 "nbformat": 4,
 "nbformat_minor": 2
}
