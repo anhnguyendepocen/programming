{
 "cells": [
  {
   "cell_type": "code",
   "execution_count": 1,
   "metadata": {},
   "outputs": [
    {
     "name": "stdout",
     "output_type": "stream",
     "text": [
      "Ethen 2017-07-27 11:30:26 \n",
      "\n",
      "CPython 3.5.2\n",
      "IPython 5.4.1\n",
      "\n",
      "numpy 1.13.1\n",
      "pandas 0.20.2\n",
      "matplotlib 2.0.2\n",
      "epsilon 0.0.1\n"
     ]
    }
   ],
   "source": [
    "import os\n",
    "import numpy as np\n",
    "import pandas as pd\n",
    "import matplotlib.pyplot as plt\n",
    "\n",
    "# 1. magic for inline plot\n",
    "# 2. magic to print version\n",
    "# 3. magic so that the notebook will reload external python modules\n",
    "# 4. a ipython magic to enable retina (high resolution) plots\n",
    "# https://gist.github.com/minrk/3301035\n",
    "%matplotlib inline\n",
    "%load_ext watermark\n",
    "%load_ext autoreload\n",
    "%autoreload 2\n",
    "%config InlineBackend.figure_format = 'retina'\n",
    "\n",
    "from time import time\n",
    "from subprocess import call\n",
    "from epsilon.utils import jit_toy_data\n",
    "\n",
    "# no need to worry about this part, it makes\n",
    "# subsequent model evaluation runs faster\n",
    "jit_toy_data()\n",
    "\n",
    "%watermark -a 'Ethen' -d -t -v -p numpy,pandas,matplotlib,epsilon"
   ]
  },
  {
   "cell_type": "code",
   "execution_count": 2,
   "metadata": {
    "collapsed": true
   },
   "outputs": [],
   "source": [
    "# download the data if it's not in the same local directory\n",
    "file_dir = 'ml-100k'\n",
    "file_path = os.path.join(file_dir, 'u.data')\n",
    "if not os.path.isdir(file_dir):\n",
    "    call(['curl', '-O', 'http://files.grouplens.org/datasets/movielens/' + file_dir + '.zip'])\n",
    "    call(['unzip', file_dir + '.zip'])"
   ]
  },
  {
   "cell_type": "code",
   "execution_count": 3,
   "metadata": {},
   "outputs": [
    {
     "name": "stdout",
     "output_type": "stream",
     "text": [
      "data dimension: \n",
      " (100000, 4)\n"
     ]
    },
    {
     "data": {
      "text/html": [
       "<div>\n",
       "<style>\n",
       "    .dataframe thead tr:only-child th {\n",
       "        text-align: right;\n",
       "    }\n",
       "\n",
       "    .dataframe thead th {\n",
       "        text-align: left;\n",
       "    }\n",
       "\n",
       "    .dataframe tbody tr th {\n",
       "        vertical-align: top;\n",
       "    }\n",
       "</style>\n",
       "<table border=\"1\" class=\"dataframe\">\n",
       "  <thead>\n",
       "    <tr style=\"text-align: right;\">\n",
       "      <th></th>\n",
       "      <th>user_id</th>\n",
       "      <th>item_id</th>\n",
       "      <th>rating</th>\n",
       "      <th>timestamp</th>\n",
       "    </tr>\n",
       "  </thead>\n",
       "  <tbody>\n",
       "    <tr>\n",
       "      <th>0</th>\n",
       "      <td>196</td>\n",
       "      <td>242</td>\n",
       "      <td>3</td>\n",
       "      <td>881250949</td>\n",
       "    </tr>\n",
       "    <tr>\n",
       "      <th>1</th>\n",
       "      <td>186</td>\n",
       "      <td>302</td>\n",
       "      <td>3</td>\n",
       "      <td>891717742</td>\n",
       "    </tr>\n",
       "    <tr>\n",
       "      <th>2</th>\n",
       "      <td>22</td>\n",
       "      <td>377</td>\n",
       "      <td>1</td>\n",
       "      <td>878887116</td>\n",
       "    </tr>\n",
       "    <tr>\n",
       "      <th>3</th>\n",
       "      <td>244</td>\n",
       "      <td>51</td>\n",
       "      <td>2</td>\n",
       "      <td>880606923</td>\n",
       "    </tr>\n",
       "    <tr>\n",
       "      <th>4</th>\n",
       "      <td>166</td>\n",
       "      <td>346</td>\n",
       "      <td>1</td>\n",
       "      <td>886397596</td>\n",
       "    </tr>\n",
       "  </tbody>\n",
       "</table>\n",
       "</div>"
      ],
      "text/plain": [
       "  user_id item_id  rating  timestamp\n",
       "0     196     242       3  881250949\n",
       "1     186     302       3  891717742\n",
       "2      22     377       1  878887116\n",
       "3     244      51       2  880606923\n",
       "4     166     346       1  886397596"
      ]
     },
     "execution_count": 3,
     "metadata": {},
     "output_type": "execute_result"
    }
   ],
   "source": [
    "from epsilon.utils import check_value_and_coltype\n",
    "\n",
    "\n",
    "# pass the DataFrame and names of \n",
    "# the user, item and ratings columns\n",
    "user_col = 'user_id'\n",
    "item_col = 'item_id'\n",
    "rating_col = 'rating'\n",
    "timestamp_col = 'timestamp'\n",
    "\n",
    "names = [user_col, item_col, rating_col, timestamp_col]\n",
    "df = pd.read_csv(file_path, sep = '\\t', names = names)\n",
    "\n",
    "# this is simply a quick utility function to ensure\n",
    "# the columns does not include nan values and convert\n",
    "# type to string if they are not already\n",
    "df = check_value_and_coltype(df, user_col, item_col)\n",
    "print('data dimension: \\n', df.shape)\n",
    "df.head()"
   ]
  },
  {
   "cell_type": "code",
   "execution_count": 4,
   "metadata": {},
   "outputs": [
    {
     "name": "stdout",
     "output_type": "stream",
     "text": [
      "training set dimension:  (90641, 5)\n",
      "testing set dimension:  (9359, 5)\n"
     ]
    },
    {
     "data": {
      "text/html": [
       "<div>\n",
       "<style>\n",
       "    .dataframe thead tr:only-child th {\n",
       "        text-align: right;\n",
       "    }\n",
       "\n",
       "    .dataframe thead th {\n",
       "        text-align: left;\n",
       "    }\n",
       "\n",
       "    .dataframe tbody tr th {\n",
       "        vertical-align: top;\n",
       "    }\n",
       "</style>\n",
       "<table border=\"1\" class=\"dataframe\">\n",
       "  <thead>\n",
       "    <tr style=\"text-align: right;\">\n",
       "      <th></th>\n",
       "      <th>user_id</th>\n",
       "      <th>item_id</th>\n",
       "      <th>rating</th>\n",
       "      <th>year</th>\n",
       "      <th>month</th>\n",
       "    </tr>\n",
       "  </thead>\n",
       "  <tbody>\n",
       "    <tr>\n",
       "      <th>0</th>\n",
       "      <td>196</td>\n",
       "      <td>242</td>\n",
       "      <td>3</td>\n",
       "      <td>1997</td>\n",
       "      <td>12</td>\n",
       "    </tr>\n",
       "    <tr>\n",
       "      <th>2</th>\n",
       "      <td>22</td>\n",
       "      <td>377</td>\n",
       "      <td>1</td>\n",
       "      <td>1997</td>\n",
       "      <td>11</td>\n",
       "    </tr>\n",
       "    <tr>\n",
       "      <th>3</th>\n",
       "      <td>244</td>\n",
       "      <td>51</td>\n",
       "      <td>2</td>\n",
       "      <td>1997</td>\n",
       "      <td>11</td>\n",
       "    </tr>\n",
       "    <tr>\n",
       "      <th>4</th>\n",
       "      <td>166</td>\n",
       "      <td>346</td>\n",
       "      <td>1</td>\n",
       "      <td>1998</td>\n",
       "      <td>2</td>\n",
       "    </tr>\n",
       "    <tr>\n",
       "      <th>5</th>\n",
       "      <td>298</td>\n",
       "      <td>474</td>\n",
       "      <td>4</td>\n",
       "      <td>1998</td>\n",
       "      <td>1</td>\n",
       "    </tr>\n",
       "  </tbody>\n",
       "</table>\n",
       "</div>"
      ],
      "text/plain": [
       "  user_id item_id  rating  year  month\n",
       "0     196     242       3  1997     12\n",
       "2      22     377       1  1997     11\n",
       "3     244      51       2  1997     11\n",
       "4     166     346       1  1998      2\n",
       "5     298     474       4  1998      1"
      ]
     },
     "execution_count": 4,
     "metadata": {},
     "output_type": "execute_result"
    }
   ],
   "source": [
    "from datetime import datetime\n",
    "\n",
    "\n",
    "def extract_time(row):\n",
    "    timestamp = datetime.utcfromtimestamp(row)\n",
    "    time = str(timestamp.year) + ',' + str(timestamp.month)\n",
    "    return time\n",
    "    \n",
    "\n",
    "df[timestamp_col] = df[timestamp_col].apply(extract_time)\n",
    "df_time = (df[timestamp_col]\n",
    "           .str.split(',', expand = True)\n",
    "           .rename(columns = {0: 'year', 1: 'month'}))\n",
    "\n",
    "for col in df_time.columns:\n",
    "    df_time[col] = df_time[col].apply(int)\n",
    "\n",
    "df = df.drop(timestamp_col, axis = 1)\n",
    "df = pd.concat([df, df_time], axis = 1)\n",
    "\n",
    "# mask is the watershed for the train/test data\n",
    "mask = (df['year'] == 1998) & (df['month'] >= 4)\n",
    "df_train = df[~mask]\n",
    "df_test = df[mask]\n",
    "\n",
    "print('training set dimension: ', df_train.shape)\n",
    "print('testing set dimension: ', df_test.shape)\n",
    "df_train.head()"
   ]
  },
  {
   "cell_type": "code",
   "execution_count": 5,
   "metadata": {},
   "outputs": [
    {
     "data": {
      "text/plain": [
       "<787x1133 sparse matrix of type '<class 'numpy.float32'>'\n",
       "\twith 18815 stored elements in Compressed Sparse Row format>"
      ]
     },
     "execution_count": 5,
     "metadata": {},
     "output_type": "execute_result"
    }
   ],
   "source": [
    "from epsilon.utils import RecommenderMatrix\n",
    "\n",
    "\n",
    "dtype = 'float32'\n",
    "rating_threshold = 4\n",
    "rec_matrix = RecommenderMatrix(\n",
    "    user_col, item_col, rating_col, rating_threshold = rating_threshold, dtype = dtype)\n",
    "\n",
    "X_train = rec_matrix.fit_transform(df_train)\n",
    "X_test = rec_matrix.transform(df_test)\n",
    "X_train"
   ]
  },
  {
   "cell_type": "code",
   "execution_count": 6,
   "metadata": {},
   "outputs": [
    {
     "data": {
      "text/plain": [
       "<787x1133 sparse matrix of type '<class 'numpy.float32'>'\n",
       "\twith 370 stored elements in Compressed Sparse Row format>"
      ]
     },
     "execution_count": 6,
     "metadata": {},
     "output_type": "execute_result"
    }
   ],
   "source": [
    "X_test"
   ]
  },
  {
   "cell_type": "code",
   "execution_count": 7,
   "metadata": {},
   "outputs": [
    {
     "name": "stderr",
     "output_type": "stream",
     "text": [
      "TensorflowBPR: 100%|██████████| 150/150 [00:03<00:00, 47.05it/s]\n"
     ]
    },
    {
     "data": {
      "text/plain": [
       "TensorflowBPR(batch_size=200, learning_rate=0.1, n_factors=10, n_iters=150,\n",
       "       random_state=1234, reg=0.01, tensorboard='./graphs/bpr',\n",
       "       verbose=True)"
      ]
     },
     "execution_count": 7,
     "metadata": {},
     "output_type": "execute_result"
    }
   ],
   "source": [
    "from epsilon.models import TensorflowBPR\n",
    "\n",
    "bpr_params = {'n_factors': 10,\n",
    "              'learning_rate': 0.1,\n",
    "              'n_iters': 150,\n",
    "              'reg': 0.01,\n",
    "              'batch_size': 200}\n",
    "\n",
    "bpr = TensorflowBPR(**bpr_params)\n",
    "bpr.fit(X_train)"
   ]
  },
  {
   "cell_type": "code",
   "execution_count": 8,
   "metadata": {},
   "outputs": [
    {
     "name": "stderr",
     "output_type": "stream",
     "text": [
      "TensorflowBPR: 100%|██████████| 150/150 [00:03<00:00, 49.01it/s]\n"
     ]
    },
    {
     "data": {
      "text/plain": [
       "TensorflowBPR(batch_size=200, learning_rate=0.1, n_factors=10, n_iters=150,\n",
       "       random_state=1234, reg=0.01, tensorboard='.graphs/bpr1',\n",
       "       verbose=True)"
      ]
     },
     "execution_count": 8,
     "metadata": {},
     "output_type": "execute_result"
    }
   ],
   "source": [
    "bpr_params = {'n_factors': 10,\n",
    "              'learning_rate': 0.1,\n",
    "              'n_iters': 150,\n",
    "              'reg': 0.01,\n",
    "              'batch_size': 200,\n",
    "              'tensorboard': '.graphs/bpr1'}\n",
    "\n",
    "bpr1 = TensorflowBPR(**bpr_params)\n",
    "bpr1.fit(X_train)"
   ]
  },
  {
   "cell_type": "code",
   "execution_count": 10,
   "metadata": {},
   "outputs": [
    {
     "name": "stdout",
     "output_type": "stream",
     "text": [
      "auc training: 0.9153902865988581\n",
      "auc testing: 0.8285711955454558\n"
     ]
    }
   ],
   "source": [
    "from epsilon.metrics import auc_score, ndcg_score, map_score\n",
    "\n",
    "\n",
    "bpr_auc_train = auc_score(bpr, X_train)\n",
    "bpr_auc_test = auc_score(bpr, X_test)\n",
    "print('auc training:', bpr_auc_train)\n",
    "print('auc testing:', bpr_auc_test)"
   ]
  },
  {
   "cell_type": "code",
   "execution_count": 11,
   "metadata": {},
   "outputs": [
    {
     "name": "stdout",
     "output_type": "stream",
     "text": [
      "ndcg training: 0.43910670767553744\n",
      "ndcg testing: 0.07873294193662587\n"
     ]
    }
   ],
   "source": [
    "k = 5\n",
    "bpr_ndcg_train = ndcg_score(bpr, X_train, k)\n",
    "bpr_ndcg_test = ndcg_score(bpr, X_test, k)\n",
    "print('ndcg training:', bpr_ndcg_train)\n",
    "print('ndcg testing:', bpr_ndcg_test)"
   ]
  },
  {
   "cell_type": "code",
   "execution_count": 12,
   "metadata": {},
   "outputs": [
    {
     "data": {
      "image/png": "[encoded data removed]",
      "text/plain": [
       "<matplotlib.figure.Figure at 0x125694b38>"
      ]
     },
     "metadata": {
      "image/png": {
       "height": 386,
       "width": 505
      }
     },
     "output_type": "display_data"
    }
   ],
   "source": [
    "plt.rcParams['figure.figsize'] = 8, 6\n",
    "plt.rcParams['font.size'] = 10\n",
    "\n",
    "plt.plot(bpr.history_)\n",
    "plt.title('Convergence Plot')\n",
    "plt.xlabel('Iterations')\n",
    "plt.ylabel('Cost')\n",
    "plt.show()"
   ]
  },
  {
   "cell_type": "code",
   "execution_count": null,
   "metadata": {
    "collapsed": true
   },
   "outputs": [],
   "source": [
    "!tensorboard --logdir='./graphs/bpr/' --port=8000"
   ]
  },
  {
   "cell_type": "code",
   "execution_count": null,
   "metadata": {
    "collapsed": true
   },
   "outputs": [],
   "source": [
    "similar_items = bpr.get_similar_items(N = 5)\n",
    "similar_items"
   ]
  },
  {
   "cell_type": "code",
   "execution_count": null,
   "metadata": {
    "collapsed": true
   },
   "outputs": [],
   "source": [
    "recommendation = bpr.recommend(X_train, N = 5)\n",
    "recommendation"
   ]
  }
 ],
 "metadata": {
  "anaconda-cloud": {},
  "kernelspec": {
   "display_name": "Python 3",
   "language": "python",
   "name": "python3"
  },
  "language_info": {
   "codemirror_mode": {
    "name": "ipython",
    "version": 3
   },
   "file_extension": ".py",
   "mimetype": "text/x-python",
   "name": "python",
   "nbconvert_exporter": "python",
   "pygments_lexer": "ipython3",
   "version": "3.5.2"
  },
  "toc": {
   "colors": {
    "hover_highlight": "#DAA520",
    "navigate_num": "#000000",
    "navigate_text": "#333333",
    "running_highlight": "#FF0000",
    "selected_highlight": "#FFD700",
    "sidebar_border": "#EEEEEE",
    "wrapper_background": "#FFFFFF"
   },
   "moveMenuLeft": true,
   "nav_menu": {
    "height": "12px",
    "width": "252px"
   },
   "navigate_menu": true,
   "number_sections": true,
   "sideBar": true,
   "threshold": 4,
   "toc_cell": false,
   "toc_section_display": "block",
   "toc_window_display": true,
   "widenNotebook": false
  }
 },
 "nbformat": 4,
 "nbformat_minor": 2
}
