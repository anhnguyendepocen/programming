{
 "cells": [
  {
   "cell_type": "code",
   "execution_count": 1,
   "metadata": {},
   "outputs": [
    {
     "name": "stdout",
     "output_type": "stream",
     "text": [
      "Ethen 2017-07-22 16:09:24 \n",
      "\n",
      "CPython 3.5.2\n",
      "IPython 6.1.0\n",
      "\n",
      "numpy 1.13.1\n",
      "pandas 0.19.2\n",
      "matplotlib 2.0.0\n",
      "torch 0.1.12_2\n",
      "epsilon 0.0.1\n"
     ]
    }
   ],
   "source": [
    "import os\n",
    "import numpy as np\n",
    "import pandas as pd\n",
    "import matplotlib.pyplot as plt\n",
    "\n",
    "# 1. magic for inline plot\n",
    "# 2. magic to print version\n",
    "# 3. magic so that the notebook will reload external python modules\n",
    "%matplotlib inline\n",
    "%load_ext watermark\n",
    "%load_ext autoreload\n",
    "%autoreload 2\n",
    "\n",
    "from time import time\n",
    "from subprocess import call\n",
    "from epsilon.utils import jit_toy_data\n",
    "\n",
    "# no need to worry about this part, it makes\n",
    "# subsequent model evaluation runs faster\n",
    "jit_toy_data()\n",
    "\n",
    "%watermark -a 'Ethen' -d -t -v -p numpy,pandas,matplotlib,torch,epsilon"
   ]
  },
  {
   "cell_type": "code",
   "execution_count": 2,
   "metadata": {
    "collapsed": true
   },
   "outputs": [],
   "source": [
    "import numpy as np\n",
    "import torch\n",
    "import torch.nn as nn\n",
    "import torch.optim as optim\n",
    "from torch.autograd import Variable"
   ]
  },
  {
   "cell_type": "markdown",
   "metadata": {},
   "source": [
    "# Recommendation Engine"
   ]
  },
  {
   "cell_type": "code",
   "execution_count": 10,
   "metadata": {
    "collapsed": true
   },
   "outputs": [],
   "source": [
    "# download the data if it's not in the same local directory\n",
    "file_dir = 'ml-100k'\n",
    "file_path = os.path.join(file_dir, 'u.data')\n",
    "if not os.path.isdir(file_dir):\n",
    "    call(['curl', '-O', 'http://files.grouplens.org/datasets/movielens/' + file_dir + '.zip'])\n",
    "    call(['unzip', file_dir + '.zip'])"
   ]
  },
  {
   "cell_type": "code",
   "execution_count": 11,
   "metadata": {},
   "outputs": [
    {
     "name": "stdout",
     "output_type": "stream",
     "text": [
      "data dimension: \n",
      " (100000, 4)\n"
     ]
    },
    {
     "data": {
      "text/html": [
       "<div>\n",
       "<table border=\"1\" class=\"dataframe\">\n",
       "  <thead>\n",
       "    <tr style=\"text-align: right;\">\n",
       "      <th></th>\n",
       "      <th>user_id</th>\n",
       "      <th>item_id</th>\n",
       "      <th>rating</th>\n",
       "      <th>timestamp</th>\n",
       "    </tr>\n",
       "  </thead>\n",
       "  <tbody>\n",
       "    <tr>\n",
       "      <th>0</th>\n",
       "      <td>196</td>\n",
       "      <td>242</td>\n",
       "      <td>3</td>\n",
       "      <td>881250949</td>\n",
       "    </tr>\n",
       "    <tr>\n",
       "      <th>1</th>\n",
       "      <td>186</td>\n",
       "      <td>302</td>\n",
       "      <td>3</td>\n",
       "      <td>891717742</td>\n",
       "    </tr>\n",
       "    <tr>\n",
       "      <th>2</th>\n",
       "      <td>22</td>\n",
       "      <td>377</td>\n",
       "      <td>1</td>\n",
       "      <td>878887116</td>\n",
       "    </tr>\n",
       "    <tr>\n",
       "      <th>3</th>\n",
       "      <td>244</td>\n",
       "      <td>51</td>\n",
       "      <td>2</td>\n",
       "      <td>880606923</td>\n",
       "    </tr>\n",
       "    <tr>\n",
       "      <th>4</th>\n",
       "      <td>166</td>\n",
       "      <td>346</td>\n",
       "      <td>1</td>\n",
       "      <td>886397596</td>\n",
       "    </tr>\n",
       "  </tbody>\n",
       "</table>\n",
       "</div>"
      ],
      "text/plain": [
       "  user_id item_id  rating  timestamp\n",
       "0     196     242       3  881250949\n",
       "1     186     302       3  891717742\n",
       "2      22     377       1  878887116\n",
       "3     244      51       2  880606923\n",
       "4     166     346       1  886397596"
      ]
     },
     "execution_count": 11,
     "metadata": {},
     "output_type": "execute_result"
    }
   ],
   "source": [
    "from epsilon.utils import check_value_and_coltype\n",
    "\n",
    "# pass the DataFrame and names of \n",
    "# the user, item and ratings columns\n",
    "user_col = 'user_id'\n",
    "item_col = 'item_id'\n",
    "rating_col = 'rating'\n",
    "timestamp_col = 'timestamp'\n",
    "\n",
    "names = [user_col, item_col, rating_col, timestamp_col]\n",
    "df = pd.read_csv(file_path, sep = '\\t', names = names)\n",
    "\n",
    "# this is simply a quick utility function to ensure\n",
    "# the columns does not include nan values and convert\n",
    "# type to string if they are not already\n",
    "df = check_value_and_coltype(df, user_col, item_col)\n",
    "print('data dimension: \\n', df.shape)\n",
    "df.head()"
   ]
  },
  {
   "cell_type": "code",
   "execution_count": 12,
   "metadata": {},
   "outputs": [
    {
     "name": "stdout",
     "output_type": "stream",
     "text": [
      "training set dimension:  (90641, 5)\n",
      "testing set dimension:  (9359, 5)\n"
     ]
    },
    {
     "data": {
      "text/html": [
       "<div>\n",
       "<table border=\"1\" class=\"dataframe\">\n",
       "  <thead>\n",
       "    <tr style=\"text-align: right;\">\n",
       "      <th></th>\n",
       "      <th>user_id</th>\n",
       "      <th>item_id</th>\n",
       "      <th>rating</th>\n",
       "      <th>year</th>\n",
       "      <th>month</th>\n",
       "    </tr>\n",
       "  </thead>\n",
       "  <tbody>\n",
       "    <tr>\n",
       "      <th>0</th>\n",
       "      <td>196</td>\n",
       "      <td>242</td>\n",
       "      <td>3</td>\n",
       "      <td>1997</td>\n",
       "      <td>12</td>\n",
       "    </tr>\n",
       "    <tr>\n",
       "      <th>2</th>\n",
       "      <td>22</td>\n",
       "      <td>377</td>\n",
       "      <td>1</td>\n",
       "      <td>1997</td>\n",
       "      <td>11</td>\n",
       "    </tr>\n",
       "    <tr>\n",
       "      <th>3</th>\n",
       "      <td>244</td>\n",
       "      <td>51</td>\n",
       "      <td>2</td>\n",
       "      <td>1997</td>\n",
       "      <td>11</td>\n",
       "    </tr>\n",
       "    <tr>\n",
       "      <th>4</th>\n",
       "      <td>166</td>\n",
       "      <td>346</td>\n",
       "      <td>1</td>\n",
       "      <td>1998</td>\n",
       "      <td>2</td>\n",
       "    </tr>\n",
       "    <tr>\n",
       "      <th>5</th>\n",
       "      <td>298</td>\n",
       "      <td>474</td>\n",
       "      <td>4</td>\n",
       "      <td>1998</td>\n",
       "      <td>1</td>\n",
       "    </tr>\n",
       "  </tbody>\n",
       "</table>\n",
       "</div>"
      ],
      "text/plain": [
       "  user_id item_id  rating  year  month\n",
       "0     196     242       3  1997     12\n",
       "2      22     377       1  1997     11\n",
       "3     244      51       2  1997     11\n",
       "4     166     346       1  1998      2\n",
       "5     298     474       4  1998      1"
      ]
     },
     "execution_count": 12,
     "metadata": {},
     "output_type": "execute_result"
    }
   ],
   "source": [
    "from datetime import datetime\n",
    "\n",
    "def extract_time(row):\n",
    "    timestamp = datetime.utcfromtimestamp(row)\n",
    "    time = str(timestamp.year) + ',' + str(timestamp.month)\n",
    "    return time\n",
    "    \n",
    "\n",
    "df[timestamp_col] = df[timestamp_col].apply(extract_time)\n",
    "df_time = (df[timestamp_col]\n",
    "           .str.split(',', expand = True)\n",
    "           .rename(columns = {0: 'year', 1: 'month'}))\n",
    "\n",
    "for col in df_time.columns:\n",
    "    df_time[col] = df_time[col].apply(int)\n",
    "\n",
    "df = df.drop(timestamp_col, axis = 1)\n",
    "df = pd.concat([df, df_time], axis = 1)\n",
    "\n",
    "# mask is the watershed for the train/test data\n",
    "mask = (df['year'] == 1998) & (df['month'] >= 4)\n",
    "df_train = df[~mask]\n",
    "df_test = df[mask]\n",
    "\n",
    "print('training set dimension: ', df_train.shape)\n",
    "print('testing set dimension: ', df_test.shape)\n",
    "df_train.head()"
   ]
  },
  {
   "cell_type": "code",
   "execution_count": 20,
   "metadata": {},
   "outputs": [
    {
     "data": {
      "text/plain": [
       "<867x1406 sparse matrix of type '<class 'numpy.float32'>'\n",
       "\twith 50138 stored elements in Compressed Sparse Row format>"
      ]
     },
     "execution_count": 20,
     "metadata": {},
     "output_type": "execute_result"
    }
   ],
   "source": [
    "from epsilon.utils import RecommenderMatrix\n",
    "\n",
    "dtype = 'float32'\n",
    "rating_threshold = 3\n",
    "rec_matrix = RecommenderMatrix(\n",
    "    user_col, item_col, rating_col, dtype, rating_threshold = rating_threshold)\n",
    "\n",
    "X_train = rec_matrix.fit_transform(df_train)\n",
    "X_test = rec_matrix.transform(df_test)\n",
    "X_train"
   ]
  },
  {
   "cell_type": "code",
   "execution_count": 21,
   "metadata": {},
   "outputs": [
    {
     "data": {
      "text/plain": [
       "<867x1406 sparse matrix of type '<class 'numpy.float32'>'\n",
       "\twith 1171 stored elements in Compressed Sparse Row format>"
      ]
     },
     "execution_count": 21,
     "metadata": {},
     "output_type": "execute_result"
    }
   ],
   "source": [
    "X_test"
   ]
  },
  {
   "cell_type": "code",
   "execution_count": 27,
   "metadata": {
    "collapsed": true
   },
   "outputs": [],
   "source": [
    "from pytorch_rec import Interactions, BaseModule\n",
    "import torch.utils.data as data\n",
    "\n",
    "n_users = X_train.shape[0]\n",
    "n_items = X_train.shape[1]\n",
    "n_factors = 15\n",
    "learning_rate = 0.1\n",
    "#weight_decay = weight_decay\n",
    "#loss_function = loss_function\n",
    "n_epochs = 5\n",
    "\n",
    "batch_size = 10\n",
    "num_workers = 0\n",
    "shuffle = True\n",
    "sparse = False\n",
    "random_state = 1234\n",
    "\n",
    "optimizer = torch.optim.Adam\n",
    "loss_function = nn.MSELoss(size_average = True)\n",
    "\n",
    "# check if it's possible to use gpu\n",
    "cuda = torch.cuda.is_available()"
   ]
  },
  {
   "cell_type": "code",
   "execution_count": 30,
   "metadata": {
    "collapsed": true
   },
   "outputs": [],
   "source": [
    "row = np.random.randint(n_users)\n",
    "neg_item = np.random.randint(n_items)\n",
    "start = X_train.indptr[row]\n",
    "end = X_train.indptr[row + 1]"
   ]
  },
  {
   "cell_type": "code",
   "execution_count": 32,
   "metadata": {},
   "outputs": [
    {
     "data": {
      "text/plain": [
       "array([ 104,  184,  204,  216,  223,  237,  392,  484,  497,  524,  527,\n",
       "        529,  532,  537,  538,  552,  557,  563,  570,  580,  591,  595,\n",
       "        596,  599,  604,  613,  618,  620,  621,  638,  654,  665,  700,\n",
       "        755,  761,  777,  830,  831,  834,  853,  884,  889,  934,  942,\n",
       "        943,  948,  952,  956,  958,  967,  989, 1013, 1056, 1081, 1097,\n",
       "       1145, 1226, 1287, 1298, 1364, 1386], dtype=int32)"
      ]
     },
     "execution_count": 32,
     "metadata": {},
     "output_type": "execute_result"
    }
   ],
   "source": [
    "indices = X_train.indices[start:end]\n",
    "indices"
   ]
  },
  {
   "cell_type": "code",
   "execution_count": 36,
   "metadata": {},
   "outputs": [
    {
     "data": {
      "text/plain": [
       "61"
      ]
     },
     "execution_count": 36,
     "metadata": {},
     "output_type": "execute_result"
    }
   ],
   "source": [
    "end - start"
   ]
  },
  {
   "cell_type": "code",
   "execution_count": 33,
   "metadata": {},
   "outputs": [
    {
     "data": {
      "text/plain": [
       "192"
      ]
     },
     "execution_count": 33,
     "metadata": {},
     "output_type": "execute_result"
    }
   ],
   "source": [
    "neg_item"
   ]
  },
  {
   "cell_type": "code",
   "execution_count": 31,
   "metadata": {},
   "outputs": [
    {
     "data": {
      "text/plain": [
       "2"
      ]
     },
     "execution_count": 31,
     "metadata": {},
     "output_type": "execute_result"
    }
   ],
   "source": [
    "searched = np.searchsorted(X_train.indices[start:end], neg_item, 'right')\n",
    "searched"
   ]
  },
  {
   "cell_type": "code",
   "execution_count": 16,
   "metadata": {
    "collapsed": true
   },
   "outputs": [],
   "source": [
    "data_train = Interactions(train)\n",
    "train_loader = data.DataLoader(\n",
    "    data_train, batch_size = batch_size, shuffle = shuffle, num_workers = num_workers)"
   ]
  },
  {
   "cell_type": "code",
   "execution_count": 17,
   "metadata": {
    "collapsed": true
   },
   "outputs": [],
   "source": [
    "model = BaseModule(n_users, n_items, n_factors, sparse)\n",
    "if cuda:\n",
    "    model.cuda()\n",
    "\n",
    "solver = optimizer(model.parameters(), lr = learning_rate)"
   ]
  },
  {
   "cell_type": "code",
   "execution_count": 26,
   "metadata": {
    "collapsed": true
   },
   "outputs": [],
   "source": [
    "t = list(model.parameters())"
   ]
  },
  {
   "cell_type": "code",
   "execution_count": 27,
   "metadata": {},
   "outputs": [
    {
     "data": {
      "text/plain": [
       "torch.Size([868, 1])"
      ]
     },
     "execution_count": 27,
     "metadata": {},
     "output_type": "execute_result"
    }
   ],
   "source": [
    "t[0].size()"
   ]
  },
  {
   "cell_type": "code",
   "execution_count": 28,
   "metadata": {},
   "outputs": [
    {
     "data": {
      "text/plain": [
       "torch.Size([1639, 1])"
      ]
     },
     "execution_count": 28,
     "metadata": {},
     "output_type": "execute_result"
    }
   ],
   "source": [
    "t[1].size()"
   ]
  },
  {
   "cell_type": "code",
   "execution_count": 29,
   "metadata": {},
   "outputs": [
    {
     "data": {
      "text/plain": [
       "torch.Size([868, 15])"
      ]
     },
     "execution_count": 29,
     "metadata": {},
     "output_type": "execute_result"
    }
   ],
   "source": [
    "t[2].size()"
   ]
  },
  {
   "cell_type": "code",
   "execution_count": 22,
   "metadata": {
    "collapsed": true
   },
   "outputs": [],
   "source": [
    "?np.searchsorted"
   ]
  },
  {
   "cell_type": "code",
   "execution_count": 23,
   "metadata": {},
   "outputs": [
    {
     "name": "stderr",
     "output_type": "stream",
     "text": [
      "100%|██████████| 5/5 [01:18<00:00, 15.81s/it, loss=246]\n"
     ]
    }
   ],
   "source": [
    "from tqdm import trange\n",
    "from torch.autograd import Variable\n",
    "\n",
    "history = []\n",
    "loop = trange(n_epochs)\n",
    "for n_epoch in loop:\n",
    "    total_loss = torch.FloatTensor([0.0])\n",
    "    for batch_idx, (row, col, value) in enumerate(train_loader):\n",
    "        if cuda:\n",
    "            row, col, value = row.cuda(), col.cuda(), value.cuda()\n",
    "        \n",
    "        row = Variable(row, requires_grad = False)\n",
    "        col = Variable(col, requires_grad = False)\n",
    "        value = Variable(value, requires_grad = False)\n",
    "        \n",
    "        # boilerplate code:\n",
    "        # 1. refresh gradients\n",
    "        # 2. conduct forward pass\n",
    "        # 3. compute loss function\n",
    "        # 4. perform backward pass\n",
    "        # 5. do a step and update the weights\n",
    "        solver.zero_grad()\n",
    "        output = model(row, col)\n",
    "        loss = loss_function(output, value)\n",
    "        loss.backward()\n",
    "        solver.step()\n",
    "        total_loss += loss.data[0]\n",
    "    \n",
    "    loss = total_loss[0] / len(train_loader)\n",
    "    # specify loss to display at the end of the progress bar\n",
    "    loop.set_postfix(loss = loss)\n",
    "    history.append(loss)"
   ]
  },
  {
   "cell_type": "code",
   "execution_count": 30,
   "metadata": {},
   "outputs": [
    {
     "data": {
      "text/plain": [
       "[214.5266990291262,\n",
       " 228.3621193733451,\n",
       " 239.10773389232128,\n",
       " 238.5614794792586,\n",
       " 245.89502427184465]"
      ]
     },
     "execution_count": 30,
     "metadata": {},
     "output_type": "execute_result"
    }
   ],
   "source": [
    "history"
   ]
  },
  {
   "cell_type": "code",
   "execution_count": 25,
   "metadata": {},
   "outputs": [
    {
     "ename": "NameError",
     "evalue": "name 'self' is not defined",
     "output_type": "error",
     "traceback": [
      "\u001b[0;31m---------------------------------------------------------------------------\u001b[0m",
      "\u001b[0;31mNameError\u001b[0m                                 Traceback (most recent call last)",
      "\u001b[0;32m<ipython-input-25-32a6c6ca30b4>\u001b[0m in \u001b[0;36m<module>\u001b[0;34m()\u001b[0m\n\u001b[0;32m----> 1\u001b[0;31m self.model = model(self.n_users,\n\u001b[0m\u001b[1;32m      2\u001b[0m                            \u001b[0mself\u001b[0m\u001b[0;34m.\u001b[0m\u001b[0mn_items\u001b[0m\u001b[0;34m,\u001b[0m\u001b[0;34m\u001b[0m\u001b[0m\n\u001b[1;32m      3\u001b[0m                            \u001b[0mn_factors\u001b[0m\u001b[0;34m=\u001b[0m\u001b[0mself\u001b[0m\u001b[0;34m.\u001b[0m\u001b[0mn_factors\u001b[0m\u001b[0;34m,\u001b[0m\u001b[0;34m\u001b[0m\u001b[0m\n\u001b[1;32m      4\u001b[0m                            \u001b[0mdropout_p\u001b[0m\u001b[0;34m=\u001b[0m\u001b[0mself\u001b[0m\u001b[0;34m.\u001b[0m\u001b[0mdropout_p\u001b[0m\u001b[0;34m,\u001b[0m\u001b[0;34m\u001b[0m\u001b[0m\n\u001b[1;32m      5\u001b[0m                            sparse=sparse)\n",
      "\u001b[0;31mNameError\u001b[0m: name 'self' is not defined"
     ]
    }
   ],
   "source": [
    "self.model = model(self.n_users,\n",
    "                           self.n_items,\n",
    "                           n_factors=self.n_factors,\n",
    "                           dropout_p=self.dropout_p,\n",
    "                           sparse=sparse)"
   ]
  },
  {
   "cell_type": "code",
   "execution_count": null,
   "metadata": {
    "collapsed": true
   },
   "outputs": [],
   "source": [
    "pipeline = BasePipeline(train, test=test, model=BaseModule,\n",
    "                        n_factors=10, batch_size=1024, dropout_p=0.02,\n",
    "                        lr=0.02, weight_decay=0.1,\n",
    "                        optimizer=torch.optim.Adam, n_epochs=40,\n",
    "                        verbose=True, random_seed=2017)\n",
    "pipeline.fit()"
   ]
  },
  {
   "cell_type": "markdown",
   "metadata": {},
   "source": [
    "# Reference\n",
    "\n",
    "- [Blog: Matrix Factorization in PyTorch](http://blog.ethanrosenthal.com/2017/06/20/matrix-factorization-in-pytorch/)\n",
    "- [Notebook: PyTorch Tensor Basic Usage](http://nbviewer.jupyter.org/github/GunhoChoi/Kind_PyTorch_Tutorial/blob/master/01_Tensor_Basics/pytorch_tensor_basic.ipynb)\n",
    "- [Notebook: PyTorch Linear Regression](http://nbviewer.jupyter.org/github/GunhoChoi/Kind_PyTorch_Tutorial/blob/master/03_Linear_Regression/Linear_Regression.ipynb)\n",
    "- [PyTorch Documentation: Learning PyTorch with Examples](http://pytorch.org/tutorials/beginner/pytorch_with_examples.html)"
   ]
  }
 ],
 "metadata": {
  "anaconda-cloud": {},
  "kernelspec": {
   "display_name": "Python 3",
   "language": "python",
   "name": "python3"
  },
  "language_info": {
   "codemirror_mode": {
    "name": "ipython",
    "version": 3
   },
   "file_extension": ".py",
   "mimetype": "text/x-python",
   "name": "python",
   "nbconvert_exporter": "python",
   "pygments_lexer": "ipython3",
   "version": "3.6.3"
  },
  "toc": {
   "nav_menu": {
    "height": "12px",
    "width": "252px"
   },
   "number_sections": true,
   "sideBar": true,
   "skip_h1_title": false,
   "title_cell": "Table of Contents",
   "title_sidebar": "Contents",
   "toc_cell": false,
   "toc_position": {},
   "toc_section_display": "block",
   "toc_window_display": true
  },
  "varInspector": {
   "cols": {
    "lenName": 16,
    "lenType": 16,
    "lenVar": 40
   },
   "kernels_config": {
    "python": {
     "delete_cmd_postfix": "",
     "delete_cmd_prefix": "del ",
     "library": "var_list.py",
     "varRefreshCmd": "print(var_dic_list())"
    },
    "r": {
     "delete_cmd_postfix": ") ",
     "delete_cmd_prefix": "rm(",
     "library": "var_list.r",
     "varRefreshCmd": "cat(var_dic_list()) "
    }
   },
   "types_to_exclude": [
    "module",
    "function",
    "builtin_function_or_method",
    "instance",
    "_Feature"
   ],
   "window_display": false
  }
 },
 "nbformat": 4,
 "nbformat_minor": 2
}
