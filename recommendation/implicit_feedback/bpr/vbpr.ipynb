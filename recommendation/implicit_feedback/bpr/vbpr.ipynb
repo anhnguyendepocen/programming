{
 "cells": [
  {
   "cell_type": "code",
   "execution_count": 1,
   "metadata": {
    "collapsed": false
   },
   "outputs": [
    {
     "name": "stderr",
     "output_type": "stream",
     "text": [
      "Using TensorFlow backend.\n"
     ]
    },
    {
     "name": "stdout",
     "output_type": "stream",
     "text": [
      "Ethen 2017-04-01 08:05:13 \n",
      "\n",
      "CPython 3.5.2\n",
      "IPython 5.1.0\n",
      "\n",
      "numpy 1.12.1\n",
      "pandas 0.19.2\n",
      "matplotlib 2.0.0\n",
      "joblib 0.10.3\n",
      "keras 2.0.1\n",
      "recsys 0.0.1\n"
     ]
    }
   ],
   "source": [
    "import os\n",
    "import joblib\n",
    "import numpy as np\n",
    "import pandas as pd\n",
    "import matplotlib.pyplot as plt\n",
    "from joblib import Parallel, delayed\n",
    "from keras.models import Model\n",
    "from keras.applications import VGG19\n",
    "from keras.applications.imagenet_utils import preprocess_input\n",
    "from keras.preprocessing.image import load_img, img_to_array\n",
    "from recsys.models import BPR, VBPR\n",
    "from recsys.metrics import auc_score\n",
    "from recsys.utils import create_matrix\n",
    "from recsys.model_selection import create_train_test\n",
    "\n",
    "# 1. magic for inline plot\n",
    "# 2. magic to print version\n",
    "# 3. magic so that the notebook will reload external python modules\n",
    "%matplotlib inline\n",
    "%load_ext watermark\n",
    "%load_ext autoreload \n",
    "%autoreload 2\n",
    "\n",
    "%watermark -a 'Ethen' -d -t -v -p numpy,pandas,matplotlib,joblib,keras,recsys"
   ]
  },
  {
   "cell_type": "code",
   "execution_count": 2,
   "metadata": {
    "collapsed": false
   },
   "outputs": [
    {
     "name": "stdout",
     "output_type": "stream",
     "text": [
      "(572751, 4)\n"
     ]
    },
    {
     "data": {
      "text/html": [
       "<div>\n",
       "<table border=\"1\" class=\"dataframe\">\n",
       "  <thead>\n",
       "    <tr style=\"text-align: right;\">\n",
       "      <th></th>\n",
       "      <th>modelname</th>\n",
       "      <th>mid</th>\n",
       "      <th>uid</th>\n",
       "      <th>interactions</th>\n",
       "    </tr>\n",
       "  </thead>\n",
       "  <tbody>\n",
       "    <tr>\n",
       "      <th>0</th>\n",
       "      <td>Firewatch Fan Art</td>\n",
       "      <td>8609caf1cd8c452eb7b6d4ca4228fcd0</td>\n",
       "      <td>c3d22af246056d258c3493582fbf378f</td>\n",
       "      <td>1</td>\n",
       "    </tr>\n",
       "    <tr>\n",
       "      <th>1</th>\n",
       "      <td>Firewatch Fan Art</td>\n",
       "      <td>8609caf1cd8c452eb7b6d4ca4228fcd0</td>\n",
       "      <td>6e795101ca8f455070b908a193500410</td>\n",
       "      <td>1</td>\n",
       "    </tr>\n",
       "    <tr>\n",
       "      <th>2</th>\n",
       "      <td>Firewatch Fan Art</td>\n",
       "      <td>8609caf1cd8c452eb7b6d4ca4228fcd0</td>\n",
       "      <td>21f84161b0a59f1f05d298c523002fcd</td>\n",
       "      <td>1</td>\n",
       "    </tr>\n",
       "    <tr>\n",
       "      <th>3</th>\n",
       "      <td>Firewatch Fan Art</td>\n",
       "      <td>8609caf1cd8c452eb7b6d4ca4228fcd0</td>\n",
       "      <td>21f75b7330fb937f8d905e54f903c1b4</td>\n",
       "      <td>1</td>\n",
       "    </tr>\n",
       "    <tr>\n",
       "      <th>4</th>\n",
       "      <td>Firewatch Fan Art</td>\n",
       "      <td>8609caf1cd8c452eb7b6d4ca4228fcd0</td>\n",
       "      <td>be8276038689010a47e0c512b5247d13</td>\n",
       "      <td>1</td>\n",
       "    </tr>\n",
       "  </tbody>\n",
       "</table>\n",
       "</div>"
      ],
      "text/plain": [
       "           modelname                               mid  \\\n",
       "0  Firewatch Fan Art  8609caf1cd8c452eb7b6d4ca4228fcd0   \n",
       "1  Firewatch Fan Art  8609caf1cd8c452eb7b6d4ca4228fcd0   \n",
       "2  Firewatch Fan Art  8609caf1cd8c452eb7b6d4ca4228fcd0   \n",
       "3  Firewatch Fan Art  8609caf1cd8c452eb7b6d4ca4228fcd0   \n",
       "4  Firewatch Fan Art  8609caf1cd8c452eb7b6d4ca4228fcd0   \n",
       "\n",
       "                                uid  interactions  \n",
       "0  c3d22af246056d258c3493582fbf378f             1  \n",
       "1  6e795101ca8f455070b908a193500410             1  \n",
       "2  21f84161b0a59f1f05d298c523002fcd             1  \n",
       "3  21f75b7330fb937f8d905e54f903c1b4             1  \n",
       "4  be8276038689010a47e0c512b5247d13             1  "
      ]
     },
     "execution_count": 2,
     "metadata": {},
     "output_type": "execute_result"
    }
   ],
   "source": [
    "data = pd.read_csv('model_likes.csv', quotechar = '\\\\', encoding = 'latin1')\n",
    "data['interactions'] = 1\n",
    "print(data.shape)\n",
    "data.head()"
   ]
  },
  {
   "cell_type": "code",
   "execution_count": 3,
   "metadata": {
    "collapsed": false
   },
   "outputs": [
    {
     "data": {
      "text/plain": [
       "<11889x19836 sparse matrix of type '<class 'numpy.int32'>'\n",
       "\twith 459958 stored elements in Compressed Sparse Row format>"
      ]
     },
     "execution_count": 3,
     "metadata": {},
     "output_type": "execute_result"
    }
   ],
   "source": [
    "item_col = 'mid'\n",
    "user_col = 'uid'\n",
    "rating_col = 'interactions'\n",
    "user_threshold = 5\n",
    "item_threshold = 5\n",
    "X, data, removed_users, removed_items = create_matrix(data, user_col, item_col, rating_col,\n",
    "                                                      user_threshold, item_threshold)\n",
    "X"
   ]
  },
  {
   "cell_type": "code",
   "execution_count": 4,
   "metadata": {
    "collapsed": false
   },
   "outputs": [
    {
     "data": {
      "text/plain": [
       "<11889x19836 sparse matrix of type '<class 'numpy.int32'>'\n",
       "\twith 362608 stored elements in Compressed Sparse Row format>"
      ]
     },
     "execution_count": 4,
     "metadata": {},
     "output_type": "execute_result"
    }
   ],
   "source": [
    "X_train, X_test = create_train_test(X, test_size = 0.2, seed = 1234)\n",
    "X_train"
   ]
  },
  {
   "cell_type": "code",
   "execution_count": 5,
   "metadata": {
    "collapsed": false
   },
   "outputs": [
    {
     "name": "stderr",
     "output_type": "stream",
     "text": [
      "BPR: 100%|██████████| 10/10 [02:51<00:00, 16.61s/it]\n"
     ]
    },
    {
     "data": {
      "text/plain": [
       "BPR(learning_rate=0.05, n_batch_size=2048, n_factors=30, n_iters=10, reg=0.01,\n",
       "  seed=1234, verbose=True)"
      ]
     },
     "execution_count": 5,
     "metadata": {},
     "output_type": "execute_result"
    }
   ],
   "source": [
    "bpr_params = {\n",
    "    'n_factors': 30,\n",
    "    'learning_rate': 0.05,\n",
    "    'n_iters': 10,\n",
    "    'reg': 0.01,\n",
    "    'n_batch_size': 2048\n",
    "}\n",
    "\n",
    "bpr = BPR(**bpr_params)\n",
    "bpr.fit(X_train)"
   ]
  },
  {
   "cell_type": "code",
   "execution_count": 6,
   "metadata": {
    "collapsed": false
   },
   "outputs": [
    {
     "name": "stdout",
     "output_type": "stream",
     "text": [
      "0.95796979738\n",
      "0.825627608763\n"
     ]
    },
    {
     "data": {
      "image/png": "[encoded data removed]",
      "text/plain": [
       "<matplotlib.figure.Figure at 0x7ffa5ab39b00>"
      ]
     },
     "metadata": {},
     "output_type": "display_data"
    }
   ],
   "source": [
    "plt.rcParams['figure.figsize'] = 6, 4\n",
    "plt.rcParams['font.size'] = 10\n",
    "\n",
    "print(auc_score(bpr, X_train))\n",
    "print(auc_score(bpr, X_test))\n",
    "plt.plot(bpr.history)\n",
    "plt.title('Convergence Plot')\n",
    "plt.xlabel('Iterations')\n",
    "plt.ylabel('Cost')\n",
    "plt.show()"
   ]
  },
  {
   "cell_type": "markdown",
   "metadata": {},
   "source": [
    "## VBPR"
   ]
  },
  {
   "cell_type": "code",
   "execution_count": 7,
   "metadata": {
    "collapsed": true
   },
   "outputs": [],
   "source": [
    "def preprocess_img(img_path, target_size):\n",
    "    \"\"\"\"\"\"\n",
    "    img = load_img(img_path, target_size = target_size)\n",
    "    x = img_to_array(img)\n",
    "    return x\n",
    "\n",
    "def preprocess_all_img(categories, img_dir, verbose = True, n_jobs = -1, pre_dispatch = '2*n_jobs'):        \n",
    "    current_path = os.getcwd()\n",
    "    os.chdir(img_dir)\n",
    "    \n",
    "    # TODO : fix target size since it's relative to the CNN architecture\n",
    "    target_size = 224, 224\n",
    "    \n",
    "    parallel = Parallel(n_jobs = n_jobs, verbose = verbose, pre_dispatch = pre_dispatch)\n",
    "    x = parallel(delayed(preprocess_img)(img_names + '.jpg', target_size) for img_names in categories)\n",
    "    os.chdir(current_path)\n",
    "    \n",
    "    X_img = np.asarray(x)\n",
    "    X_img = preprocess_input(X_img)\n",
    "    return X_img"
   ]
  },
  {
   "cell_type": "code",
   "execution_count": null,
   "metadata": {
    "collapsed": false
   },
   "outputs": [
    {
     "data": {
      "text/plain": [
       "(19836, 4096)"
      ]
     },
     "execution_count": 8,
     "metadata": {},
     "output_type": "execute_result"
    }
   ],
   "source": [
    "# preprocess_input from imagenet_utils is for ResNet only, not for Inception and Xception net.\n",
    "img_features_path = 'img_features.pkl'\n",
    "img_dir = 'thumbnails'\n",
    "categories = data[item_col].cat.categories\n",
    "\n",
    "if not os.path.exists(img_features_path):\n",
    "    X_img = preprocess_all_img(categories, img_dir)\n",
    "    print(X_img.shape)\n",
    "    \n",
    "    # getting the image feature takes a while (6000 seconds?)\n",
    "    base_model = VGG19(weights = 'imagenet')\n",
    "    model = Model(inputs = base_model.inputs, outputs = base_model.get_layer('fc2').output)\n",
    "    img_features = model.predict(X_img, verbose = 1)\n",
    "    joblib.dump(img_features, img_features_path)\n",
    "\n",
    "# img features is a sparse matrix ????\n",
    "img_features = joblib.load(img_features_path)\n",
    "img_features.shape"
   ]
  },
  {
   "cell_type": "code",
   "execution_count": null,
   "metadata": {
    "collapsed": false
   },
   "outputs": [
    {
     "name": "stderr",
     "output_type": "stream",
     "text": [
      "\r",
      "VBPR:   0%|          | 0/20 [00:00<?, ?it/s]"
     ]
    }
   ],
   "source": [
    "vbpr_params = {\n",
    "    'learning_rate': 0.005,\n",
    "    'reg': 0.01,\n",
    "    'reg_img': 0.01,\n",
    "    'n_iters': 20,\n",
    "    'n_factors': 30,\n",
    "    'n_batch_size': 4096,\n",
    "    'n_img_factors': 20,\n",
    "    'img_features': img_features\n",
    "}\n",
    "\n",
    "vbpr = VBPR(**vbpr_params)\n",
    "vbpr.fit(X_train)"
   ]
  },
  {
   "cell_type": "code",
   "execution_count": 13,
   "metadata": {
    "collapsed": false
   },
   "outputs": [
    {
     "name": "stdout",
     "output_type": "stream",
     "text": [
      "0.603128319976\n",
      "0.553017261592\n"
     ]
    },
    {
     "data": {
      "image/png": "[encoded data removed]",
      "text/plain": [
       "<matplotlib.figure.Figure at 0x7ffa5a295400>"
      ]
     },
     "metadata": {},
     "output_type": "display_data"
    }
   ],
   "source": [
    "print(auc_score(vbpr, X_train))\n",
    "print(auc_score(vbpr, X_test))\n",
    "plt.plot(vbpr.history)\n",
    "plt.title('Convergence Plot')\n",
    "plt.xlabel('Iterations')\n",
    "plt.ylabel('Cost')\n",
    "plt.show()"
   ]
  }
 ],
 "metadata": {
  "anaconda-cloud": {},
  "kernelspec": {
   "display_name": "Python [conda root]",
   "language": "python",
   "name": "conda-root-py"
  },
  "language_info": {
   "codemirror_mode": {
    "name": "ipython",
    "version": 3
   },
   "file_extension": ".py",
   "mimetype": "text/x-python",
   "name": "python",
   "nbconvert_exporter": "python",
   "pygments_lexer": "ipython3",
   "version": "3.5.2"
  }
 },
 "nbformat": 4,
 "nbformat_minor": 1
}
