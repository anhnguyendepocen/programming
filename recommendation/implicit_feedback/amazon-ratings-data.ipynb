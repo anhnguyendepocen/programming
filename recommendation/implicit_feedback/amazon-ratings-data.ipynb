{
 "cells": [
  {
   "cell_type": "markdown",
   "metadata": {},
   "source": [
    "# Amazon Product Ratings Dataset\n",
    "\n",
    "We first use a Amazon Product Ratings Data to perform the benchmarking. The full dataset is available for download at the following [standford research webpage](http://jmcauley.ucsd.edu/data/amazon/links.html). For benchmarking this algorithm, we will only be using the 3.2GB ratings data. Please note that if you're using the dataset in any way, remember to cite the author's SIGIR and KDD papers, which can be found in the citation section."
   ]
  },
  {
   "cell_type": "code",
   "execution_count": null,
   "metadata": {
    "collapsed": true
   },
   "outputs": [],
   "source": [
    "import os\n",
    "import pandas as pd\n",
    "\n",
    "file = 'item_dedup.csv'\n",
    "if not os.path.exists(file):\n",
    "    call(['curl', '-O', 'http://snap.stanford.edu/data/amazon/productGraph/item_dedup.csv'])\n",
    "    \n",
    "start = time()\n",
    "df = pd.read_csv(file, header = None)\n",
    "print(time() - start)\n",
    "df.columns = ['users', 'items', 'ratings', 'timestamp']\n",
    "df.head()"
   ]
  },
  {
   "cell_type": "code",
   "execution_count": null,
   "metadata": {
    "collapsed": true
   },
   "outputs": [],
   "source": []
  }
 ],
 "metadata": {
  "anaconda-cloud": {},
  "kernelspec": {
   "display_name": "Python [Root]",
   "language": "python",
   "name": "Python [Root]"
  },
  "language_info": {
   "codemirror_mode": {
    "name": "ipython",
    "version": 3
   },
   "file_extension": ".py",
   "mimetype": "text/x-python",
   "name": "python",
   "nbconvert_exporter": "python",
   "pygments_lexer": "ipython3",
   "version": "3.5.2"
  },
  "toc": {
   "colors": {
    "hover_highlight": "#DAA520",
    "running_highlight": "#FF0000",
    "selected_highlight": "#FFD700"
   },
   "moveMenuLeft": true,
   "nav_menu": {
    "height": "30px",
    "width": "252px"
   },
   "navigate_menu": true,
   "number_sections": true,
   "sideBar": true,
   "threshold": 4,
   "toc_cell": false,
   "toc_section_display": "block",
   "toc_window_display": true
  }
 },
 "nbformat": 4,
 "nbformat_minor": 2
}
