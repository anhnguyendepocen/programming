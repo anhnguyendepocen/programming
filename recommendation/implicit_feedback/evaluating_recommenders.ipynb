{
 "cells": [
  {
   "cell_type": "markdown",
   "metadata": {},
   "source": [
    "# Measuring the Effectiveness of Recommendation\n",
    "\n",
    "Imagine we're building a recommendation algorithm for our new online site. How do we measure its quality, to make sure that it's sending users relevant and personalized content? One initial thought might be click-through rate or revenue, but after a bit of thought, it's not clear whether they're the best metrics after all.\n",
    "\n",
    "Take Google's search engine, for example. In many cases, improving the quality of search results will actually decrease CTR! For example, the ideal scenario for queries like [When was Barack Obama born?](https://www.google.com/search?q=when+was+barack+obama+born) is that users never have to click anywhere in the first place, as the question should be answered on the page itself.\n",
    "\n",
    "Or take Twitter, who might wish to recommend you interesting tweets. Metrics like CTR, or even number of favorites and retweets, will probably optimize for showing you quick one-liners and pictures of funny cats. But is a Reddit-like site what Twitter really wants to be? Users that goes on Twitter may prefer seeing links to deeper and more interesting content, even if they're less likely to click on each individual suggestion overall.\n",
    "\n",
    "Or take eBay, who wants to help you find the products you want to buy. Is CTR a good measure? Perhaps not: more clicks may be an indication that you're having trouble finding what you're looking for. What about revenue? That might not be ideal either: from the user perspective, you want to make your purchases at the lowest possible price, and by optimizing for revenue, eBay may be turning you towards more expensive products that make you a less frequent customer in the long run."
   ]
  },
  {
   "cell_type": "markdown",
   "metadata": {},
   "source": [
    "# Reference\n",
    "\n",
    "- [Quora: How do you measure and evaluate the quality of recommendation engines?](https://www.quora.com/How-do-you-measure-and-evaluate-the-quality-of-recommendation-engines)"
   ]
  }
 ],
 "metadata": {
  "kernelspec": {
   "display_name": "Python 3",
   "language": "python",
   "name": "python3"
  },
  "language_info": {
   "codemirror_mode": {
    "name": "ipython",
    "version": 3
   },
   "file_extension": ".py",
   "mimetype": "text/x-python",
   "name": "python",
   "nbconvert_exporter": "python",
   "pygments_lexer": "ipython3",
   "version": "3.5.2"
  },
  "toc": {
   "colors": {
    "hover_highlight": "#DAA520",
    "running_highlight": "#FF0000",
    "selected_highlight": "#FFD700"
   },
   "moveMenuLeft": true,
   "nav_menu": {
    "height": "63px",
    "width": "252px"
   },
   "navigate_menu": true,
   "number_sections": true,
   "sideBar": true,
   "threshold": 4,
   "toc_cell": false,
   "toc_section_display": "block",
   "toc_window_display": true
  }
 },
 "nbformat": 4,
 "nbformat_minor": 2
}
