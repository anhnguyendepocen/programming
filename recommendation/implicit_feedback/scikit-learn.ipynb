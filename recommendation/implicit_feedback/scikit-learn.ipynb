{
 "cells": [
  {
   "cell_type": "markdown",
   "metadata": {},
   "source": [
    "# Scikit-learn\n",
    "\n",
    "## Grid Search\n",
    "\n",
    "Learning how to implement grid search from [Source code: scikit-learn's model selection](https://github.com/scikit-learn/scikit-learn/blob/master/sklearn/model_selection/_search.py)."
   ]
  },
  {
   "cell_type": "code",
   "execution_count": 1,
   "metadata": {
    "collapsed": false
   },
   "outputs": [
    {
     "name": "stdout",
     "output_type": "stream",
     "text": [
      "sorted parameters, values:  [('a', [1, 2]), ('b', [True, False])]\n",
      "\n",
      "parameters:  ('a', 'b')\n",
      "values ([1, 2], [True, False])\n",
      "\n",
      "grid search parameters\n",
      "{'b': True, 'a': 1}\n",
      "{'b': False, 'a': 1}\n",
      "{'b': True, 'a': 2}\n",
      "{'b': False, 'a': 2}\n"
     ]
    }
   ],
   "source": [
    "# Grid search\n",
    "from itertools import product\n",
    "from collections import Mapping\n",
    "from sklearn.model_selection import ParameterGrid\n",
    "\n",
    "params_grid = {'a': [1, 2], 'b': [True, False]}\n",
    "\n",
    "# ensures that it also supports list of dictionary,\n",
    "# Mapping ensures a object has keys, values, items, etc. methods\n",
    "# which matches a dictionary\n",
    "# https://docs.python.org/3/library/collections.abc.html\n",
    "if isinstance(params_grid, Mapping):\n",
    "    params_grid = [params_grid]\n",
    "    \n",
    "for p in params_grid:\n",
    "    # for reproducibility, always sort the keys of a dictionary\n",
    "    # this will become a list of paired tuples\n",
    "    items = sorted(p.items())\n",
    "    print('sorted parameters, values: ', items)\n",
    "    print()\n",
    "    \n",
    "    # unpack the list of tuples into two lists tuples, so what's originally \n",
    "    # a list of items [('a', [1, 2]), ('b', [True, False])], becomes\n",
    "    # two lists ('a', 'b'), ([1, 2], [True, False]), with all the keys being the parameter\n",
    "    # and the value being the list of possible values that the parameter can take\n",
    "    # http://stackoverflow.com/questions/7558908/unpacking-a-list-tuple-of-pairs-into-two-lists-tuples\n",
    "    key, value = zip(*items)\n",
    "    print('parameters: ', key)\n",
    "    print('values', value)\n",
    "    print()\n",
    "    \n",
    "    # unpack the list of values to compute the cartesian product\n",
    "    # [(1, True), (1, False), (2, True), (2, False)], and zip it\n",
    "    # back to the original key\n",
    "    print('grid search parameters')\n",
    "    cartesian = product(*value)\n",
    "    for v in cartesian:\n",
    "        params = dict(zip(key, v))\n",
    "        print(params)"
   ]
  },
  {
   "cell_type": "code",
   "execution_count": 2,
   "metadata": {
    "collapsed": false
   },
   "outputs": [
    {
     "data": {
      "text/plain": [
       "[{'a': 1, 'b': True},\n",
       " {'a': 1, 'b': False},\n",
       " {'a': 2, 'b': True},\n",
       " {'a': 2, 'b': False}]"
      ]
     },
     "execution_count": 2,
     "metadata": {},
     "output_type": "execute_result"
    }
   ],
   "source": [
    "# confirm with scikit-learn's output\n",
    "list( ParameterGrid(params_grid) )"
   ]
  },
  {
   "cell_type": "code",
   "execution_count": 3,
   "metadata": {
    "collapsed": false
   },
   "outputs": [
    {
     "name": "stdout",
     "output_type": "stream",
     "text": [
      "{'b': True, 'a': 1}\n",
      "{'b': False, 'a': 1}\n",
      "{'b': True, 'a': 2}\n",
      "{'b': False, 'a': 2}\n"
     ]
    }
   ],
   "source": [
    "# making our function\n",
    "def _get_params_grid(params_grid):\n",
    "    \"\"\"\n",
    "    create cartesian product of parameters (grid search),\n",
    "    this will be a generator that will allow looping through\n",
    "    all possible parameter combination, note if we want to\n",
    "    expand this to cross validation we'll have to turn it to a list\n",
    "    \"\"\"\n",
    "    # for reproducibility, always sort the keys of a dictionary\n",
    "    items = sorted(params_grid.items())\n",
    "    \n",
    "    # unpack parameter and the range of values\n",
    "    # into separate list; then unpack the range \n",
    "    # of values to compute the cartesian product\n",
    "    # and zip it back to the original key\n",
    "    key, value = zip(*items)\n",
    "    cartesian = product(*value)\n",
    "    for v in cartesian:\n",
    "        params = dict(zip(key, v))\n",
    "        yield params\n",
    "\n",
    "params_grid = {'a': [1, 2], 'b': [True, False]}\n",
    "params = _get_params_grid(params_grid)\n",
    "for p in params:\n",
    "    print(p)"
   ]
  },
  {
   "cell_type": "markdown",
   "metadata": {},
   "source": [
    "- https://zacharyst.com/2016/03/31/parallelize-a-multifunction-argument-in-python/\n",
    "- https://pythonhosted.org/joblib/parallel.html"
   ]
  },
  {
   "cell_type": "code",
   "execution_count": 4,
   "metadata": {
    "collapsed": false
   },
   "outputs": [
    {
     "name": "stderr",
     "output_type": "stream",
     "text": [
      "[Parallel(n_jobs=2)]: Done  10 out of  10 | elapsed:    0.0s finished\n"
     ]
    },
    {
     "data": {
      "text/plain": [
       "[0.0, 1.0, 2.0, 3.0, 4.0, 5.0, 6.0, 7.0, 8.0, 9.0]"
      ]
     },
     "execution_count": 4,
     "metadata": {},
     "output_type": "execute_result"
    }
   ],
   "source": [
    "from math import sqrt\n",
    "from joblib import Parallel, delayed\n",
    "Parallel(n_jobs = 2, verbose = 1)( delayed(sqrt)(i ** 2) for i in range(10) )"
   ]
  },
  {
   "cell_type": "markdown",
   "metadata": {},
   "source": [
    "## Reference\n",
    "\n",
    "- [Source code: scikit-learn's model selection](https://github.com/scikit-learn/scikit-learn/blob/master/sklearn/model_selection/_search.py)"
   ]
  }
 ],
 "metadata": {
  "anaconda-cloud": {},
  "kernelspec": {
   "display_name": "Python [Root]",
   "language": "python",
   "name": "Python [Root]"
  },
  "language_info": {
   "codemirror_mode": {
    "name": "ipython",
    "version": 3
   },
   "file_extension": ".py",
   "mimetype": "text/x-python",
   "name": "python",
   "nbconvert_exporter": "python",
   "pygments_lexer": "ipython3",
   "version": "3.5.2"
  }
 },
 "nbformat": 4,
 "nbformat_minor": 0
}
