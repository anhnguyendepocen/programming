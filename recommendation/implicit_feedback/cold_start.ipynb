{
 "cells": [
  {
   "cell_type": "markdown",
   "metadata": {},
   "source": [
    "Product attributes can be used to solve the item cold start problem. e.g. for a new product, we can look at attributes such as:\n",
    " \n",
    "- Manufacturer\n",
    "- Brand\n",
    "- Category/Type\n",
    "- Amount\n",
    "- Container (if applicable)\n",
    "- Size\n",
    "\n",
    "And look for similar items."
   ]
  }
 ],
 "metadata": {
  "kernelspec": {
   "display_name": "Python [Root]",
   "language": "python",
   "name": "Python [Root]"
  },
  "language_info": {
   "codemirror_mode": {
    "name": "ipython",
    "version": 3
   },
   "file_extension": ".py",
   "mimetype": "text/x-python",
   "name": "python",
   "nbconvert_exporter": "python",
   "pygments_lexer": "ipython3",
   "version": "3.5.2"
  }
 },
 "nbformat": 4,
 "nbformat_minor": 2
}
