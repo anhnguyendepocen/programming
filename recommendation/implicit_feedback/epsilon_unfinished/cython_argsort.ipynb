{
 "cells": [
  {
   "cell_type": "code",
   "execution_count": 1,
   "metadata": {},
   "outputs": [],
   "source": [
    "%load_ext cython"
   ]
  },
  {
   "cell_type": "markdown",
   "metadata": {},
   "source": [
    "## argsort"
   ]
  },
  {
   "cell_type": "code",
   "execution_count": 2,
   "metadata": {},
   "outputs": [
    {
     "name": "stdout",
     "output_type": "stream",
     "text": [
      "Cython time: 0.000050\n",
      "Numpy time: 0.000073\n"
     ]
    }
   ],
   "source": [
    "%%cython\n",
    "\n",
    "# distutils: language = c++\n",
    "# cython: cdivision = True\n",
    "# cython: boundscheck = False\n",
    "# cython: wraparound = False\n",
    "# cython: profile = False\n",
    "\n",
    "\n",
    "# https://github.com/jcrudy/cython-argsort/blob/master/cyargsort/test_argsort.py\n",
    "cimport numpy as cnp\n",
    "import numpy as np\n",
    "from libc.stdlib cimport malloc, free\n",
    "from cython cimport view\n",
    "cnp.import_array() # need this line to access the numpy C-API\n",
    " \n",
    "ctypedef cnp.float64_t FLOAT_t\n",
    "ctypedef cnp.intp_t INT_t\n",
    "ctypedef cnp.ulong_t INDEX_t\n",
    "ctypedef cnp.uint8_t BOOL_t\n",
    "\n",
    "cdef extern from \"stdlib.h\":\n",
    "    ctypedef void const_void \"const void\"\n",
    "    void qsort(void *base, int nmemb, int size,\n",
    "            int(*compar)(const_void *, const_void *)) nogil\n",
    "\n",
    "cdef struct Sorter:\n",
    "    INT_t index\n",
    "    FLOAT_t value\n",
    "\n",
    "cdef int _compare(const_void *a, const_void *b):\n",
    "    # cdef FLOAT_t v = ((<Sorter*>a)).value-((<Sorter*>b)).value\n",
    "    cdef FLOAT_t v = (<Sorter*>a).value - (<Sorter*>b).value\n",
    "    if v < 0:\n",
    "        return -1\n",
    "    else: \n",
    "        return 1\n",
    "\n",
    "cdef void cyargsort(FLOAT_t[:] data, Sorter * order):\n",
    "    cdef INT_t i\n",
    "    cdef INT_t n = data.shape[0]\n",
    "    for i in range(n):\n",
    "        order[i].index = i\n",
    "        order[i].value = data[i]\n",
    "    qsort(<void *> order, n, sizeof(Sorter), _compare)\n",
    "    \n",
    "cpdef argsort(FLOAT_t[:] data, INT_t[:] order):\n",
    "    cdef INT_t i\n",
    "    cdef INT_t n = data.shape[0]\n",
    "    cdef Sorter *order_struct = <Sorter *> malloc(n * sizeof(Sorter))\n",
    "    cyargsort(data, order_struct)\n",
    "    for i in range(n):\n",
    "        order[i] = order_struct[i].index\n",
    "    free(order_struct)\n",
    "\n",
    "    \n",
    "import numpy as np\n",
    "import time\n",
    "n = 10\n",
    "data = np.random.normal(size=n)\n",
    "order = np.empty(shape=n,dtype=np.intp)\n",
    "\n",
    "time0 = time.time()\n",
    "argsort(data, order)\n",
    "time1 = time.time()\n",
    "cython_time = time1 - time0\n",
    "\n",
    "time0 = time.time()\n",
    "np_order = np.argsort(data)\n",
    "time1 = time.time()\n",
    "np_time = time1 - time0\n",
    "\n",
    "print('Cython time: %f' % cython_time)\n",
    "print('Numpy time: %f' % np_time)\n",
    "\n",
    "assert np.all(order == np.argsort(data))"
   ]
  },
  {
   "cell_type": "code",
   "execution_count": null,
   "metadata": {},
   "outputs": [],
   "source": []
  },
  {
   "cell_type": "code",
   "execution_count": 13,
   "metadata": {},
   "outputs": [
    {
     "name": "stdout",
     "output_type": "stream",
     "text": [
      "Cython time: 0.000504\n",
      "Numpy time: 0.000036\n",
      "[16  6  8]\n",
      "[[ 0.  0.]\n",
      " [ 0.  0.]]\n",
      "[ 9.  4.]\n",
      "[[ 81.  36.]\n",
      " [ 36.  16.]]\n",
      "[ 3.  1.]\n",
      "[[ 90.  39.]\n",
      " [ 39.  17.]]\n",
      "[ 5.  2.]\n",
      "[[ 115.   49.]\n",
      " [  49.   21.]]\n",
      "[[ 115.   49.]\n",
      " [  49.   21.]]\n"
     ]
    }
   ],
   "source": [
    "cimport cython\n",
    "import numpy as np\n",
    "from libc.string cimport memcpy\n",
    "from libc.stdlib cimport malloc, free\n",
    "from cython.parallel import parallel, prange\n",
    "from scipy.linalg cimport cython_blas\n",
    "\n",
    "cdef inline void outer(char *transa, char *transb, int *m, double* x, int* incx,\n",
    "                       double* y, int* incy, double* A, int* lda) nogil:\n",
    "    \"\"\"\n",
    "    transa: (input)\n",
    "        On entry, TRANSA specifies the form of op( A ) to\n",
    "        be used in the matrix multiplication as follows:\n",
    "\n",
    "        TRANSA = 'N' or 'n',  op( A ) = A.\n",
    "        TRANSA = 'T' or 't',  op( A ) = A'.\n",
    "\n",
    "        Unchanged on exit.\n",
    "\n",
    "    transb: (input)\n",
    "        same as transa, just for op( B )\n",
    "\n",
    "    m : (input)\n",
    "        On entry,  M  specifies  the number  of  rows   of\n",
    "               the   matrix  op(  A  )  and of the  matrix  C.  M\n",
    "               must  be at least  zero.  Unchanged on exit.\n",
    "    n : (input)\n",
    "               On entry,  N  specifies the number  of columns  of\n",
    "               the  matrix  op(  B ) and the number of columns of\n",
    "               the matrix C. N must be at least zero.   Unchanged\n",
    "               on exit.\n",
    "\n",
    "     K (input)\n",
    "        On entry,  K  specifies  the number of columns  of\n",
    "               the  matrix  op( A ) and the number of rows of the\n",
    "               matrix  op(  B  ).  K  must  be  at  least   zero.\n",
    "               Unchanged on exit.\n",
    "\n",
    "     ALPHA (input)\n",
    "               On  entry,  ALPHA  specifies  the  scalar   alpha.\n",
    "               Unchanged on exit.\n",
    "\n",
    "     A (input)\n",
    "               DOUBLE PRECISION array of DIMENSION ( LDA,  ka  ),\n",
    "               where  ka is k  when  TRANSA = 'N' or 'n',  and is\n",
    "               m  otherwise.  Before entry with  TRANSA = 'N'  or\n",
    "               'n',   the  leading   m  by k part of the array  A\n",
    "               must contain the matrix  A,  otherwise the leading\n",
    "               k  by  m   part of the array  A  must contain  the\n",
    "               matrix A.  Unchanged on exit.\n",
    "\n",
    "     LDA (input)\n",
    "               On entry, LDA specifies the first dimension  of  A\n",
    "               as  declared  in  the  calling (sub) program. When\n",
    "               TRANSA = 'N' or 'n' then LDA >= max( 1, m ),  oth-\n",
    "               erwise  LDA >= max( 1, k ).  Unchanged on exit.\n",
    "\n",
    "     B (input)\n",
    "               DOUBLE PRECISION array of DIMENSION ( LDB,  kb  ),\n",
    "               where  kb is n  when  TRANSB = 'N' or 'n',  and is\n",
    "               k  otherwise.  Before entry with  TRANSB = 'N'  or\n",
    "               'n',   the  leading   k  by n part of the array  B\n",
    "               must contain the matrix  B,  otherwise the leading\n",
    "               n  by  k   part of the array  B  must contain  the\n",
    "               matrix B.  Unchanged on exit.\n",
    "\n",
    "     LDB (input)\n",
    "               On entry, LDB specifies the first dimension  of  B\n",
    "               as  declared  in  the  calling (sub) program. When\n",
    "               TRANSB = 'N' or 'n' then LDB >= max( 1, k ),  oth-\n",
    "               erwise LDB >= max( 1, n ).  Unchanged on exit.\n",
    "     BETA (input)\n",
    "               On entry,  BETA  specifies the scalar  beta.  When\n",
    "               BETA   is  supplied as zero then C need not be set\n",
    "               on input.  Unchanged on exit.\n",
    "\n",
    "     C (input/output)\n",
    "               DOUBLE PRECISION array of DIMENSION (  LDC,  n  ).\n",
    "               Before  entry,  the  leading   m by n  part of the\n",
    "               array  C must contain the matrix  C,  except  when\n",
    "               beta   is zero, in which case C need not be set on\n",
    "               entry.  On exit, the array  C  is  overwritten  by\n",
    "               the   m  by  n   matrix  ( alpha*op( A )*op( B ) +\n",
    "               beta*C ).\n",
    "\n",
    "     LDC (input)\n",
    "               On entry, LDC specifies the first dimension  of  C\n",
    "               as declared in  the  calling  (sub)  program.  LDC\n",
    "               >= max( 1, m ).  Unchanged on exit.\n",
    " \n",
    "    \"\"\"\n",
    "    cython_blas.dgemm(m, n, alpha, x, incx, y, incy, A, lda)\n",
    "    \n",
    "x = np.array([[9, 4], [3, 1], [5, 2]], dtype = np.float64)\n",
    "\n",
    "a = np.array([[ 5, 1 ,3], \n",
    "                  [ 1, 1 ,1], \n",
    "                  [ 1, 2 ,1]])\n",
    "b = np.array([1, 2, 3])\n",
    "print(a.dot(b))\n",
    "\n",
    "cdef:\n",
    "    double[:] B = b\n",
    "    double[:, :] A = a\n",
    "    \n",
    "    \n",
    "\n",
    "# cdef:\n",
    "#     int i, one = 1\n",
    "#     double alpha = 1.0\n",
    "#     double *A\n",
    "#     double[:, :] X = x\n",
    "#     int n_factors = X.shape[1]\n",
    "#     double[:, :] end_result = np.zeros((n_factors, n_factors), dtype = np.float64)\n",
    "\n",
    "\n",
    "# A = <double *> malloc(sizeof(double) * n_factors * n_factors)\n",
    "# memcpy(A, &end_result[0, 0], sizeof(double) * n_factors * n_factors)\n",
    "# memcpy(&end_result[0, 0], A, sizeof(double) * n_factors * n_factors)\n",
    "# print(np.asarray(end_result))\n",
    "\n",
    "# for i in range(X.shape[0]):\n",
    "#     print(np.asarray(X[i]))\n",
    "#     outer(&n_factors, &n_factors, &alpha, &X[i, 0], &one, &X[i, 0], &one, A, &n_factors)\n",
    "#     memcpy(&end_result[0, 0], A, sizeof(double) * n_factors * n_factors)\n",
    "#     print(np.asarray(end_result))\n",
    "\n",
    "free(A)\n",
    "print(x.T.dot(x))"
   ]
  },
  {
   "cell_type": "code",
   "execution_count": 10,
   "metadata": {},
   "outputs": [
    {
     "name": "stdout",
     "output_type": "stream",
     "text": [
      "Cython time: 0.000054\n",
      "Numpy time: 0.000062\n"
     ]
    }
   ],
   "source": [
    "import numpy as np\n",
    "import time\n",
    "n = 10\n",
    "data = np.random.normal(size=n)\n",
    "order = np.empty(shape=n,dtype=np.intp)\n",
    "\n",
    "time0 = time.time()\n",
    "argsort(data, order)\n",
    "time1 = time.time()\n",
    "cython_time = time1 - time0\n",
    "\n",
    "time0 = time.time()\n",
    "np_order = np.argsort(data)\n",
    "time1 = time.time()\n",
    "np_time = time1 - time0\n",
    "\n",
    "print('Cython time: %f' % cython_time)\n",
    "print('Numpy time: %f' % np_time)\n",
    "\n",
    "assert np.all(order == np.argsort(data))"
   ]
  },
  {
   "cell_type": "code",
   "execution_count": 4,
   "metadata": {
    "collapsed": true
   },
   "outputs": [],
   "source": [
    "def compute_apk(y_true, y_pred, k):\n",
    "    \"\"\"\n",
    "    average precision at k, y_pred is assumed \n",
    "    to be truncated to length k prior to feeding\n",
    "    it to the function\n",
    "    \"\"\"\n",
    "    # convert to set since membership \n",
    "    # testing in a set is vastly faster\n",
    "    actual = set(y_true)\n",
    "    \n",
    "    # precision at i is a percentage of correct \n",
    "    # items among first i recommendations; the\n",
    "    # correct count will be summed up by n_hit\n",
    "    n_hit = 0\n",
    "    precision = 0\n",
    "    for i, p in enumerate(y_pred, 1):\n",
    "        if p in actual:\n",
    "            n_hit += 1\n",
    "            precision += n_hit / i\n",
    "\n",
    "    # divide by recall at the very end\n",
    "    avg_precision = precision / min(len(actual), k)\n",
    "    print(precision)\n",
    "    return avg_precision"
   ]
  },
  {
   "cell_type": "code",
   "execution_count": 5,
   "metadata": {},
   "outputs": [
    {
     "name": "stdout",
     "output_type": "stream",
     "text": [
      "0.5\n"
     ]
    },
    {
     "data": {
      "text/plain": [
       "0.25"
      ]
     },
     "execution_count": 5,
     "metadata": {},
     "output_type": "execute_result"
    }
   ],
   "source": [
    "import numpy as np\n",
    "k = 2\n",
    "y_true = np.array([1, 2, 3, 4, 5])\n",
    "y_pred = np.array([6, 4, 7, 1, 2])\n",
    "compute_apk(y_true, y_pred[:k], k) # 0.25"
   ]
  }
 ],
 "metadata": {
  "kernelspec": {
   "display_name": "Python 3",
   "language": "python",
   "name": "python3"
  },
  "language_info": {
   "codemirror_mode": {
    "name": "ipython",
    "version": 3
   },
   "file_extension": ".py",
   "mimetype": "text/x-python",
   "name": "python",
   "nbconvert_exporter": "python",
   "pygments_lexer": "ipython3",
   "version": "3.6.4"
  },
  "toc": {
   "nav_menu": {
    "height": "12px",
    "width": "252px"
   },
   "number_sections": true,
   "sideBar": true,
   "skip_h1_title": false,
   "title_cell": "Table of Contents",
   "title_sidebar": "Contents",
   "toc_cell": false,
   "toc_position": {},
   "toc_section_display": "block",
   "toc_window_display": true
  },
  "varInspector": {
   "cols": {
    "lenName": 16,
    "lenType": 16,
    "lenVar": 40
   },
   "kernels_config": {
    "python": {
     "delete_cmd_postfix": "",
     "delete_cmd_prefix": "del ",
     "library": "var_list.py",
     "varRefreshCmd": "print(var_dic_list())"
    },
    "r": {
     "delete_cmd_postfix": ") ",
     "delete_cmd_prefix": "rm(",
     "library": "var_list.r",
     "varRefreshCmd": "cat(var_dic_list()) "
    }
   },
   "types_to_exclude": [
    "module",
    "function",
    "builtin_function_or_method",
    "instance",
    "_Feature"
   ],
   "window_display": false
  }
 },
 "nbformat": 4,
 "nbformat_minor": 2
}
