{
 "cells": [
  {
   "cell_type": "code",
   "execution_count": 1,
   "metadata": {
    "collapsed": true
   },
   "outputs": [],
   "source": [
    "import numpy as np\n",
    "from collections import namedtuple\n",
    "import random"
   ]
  },
  {
   "cell_type": "code",
   "execution_count": 42,
   "metadata": {
    "collapsed": false
   },
   "outputs": [
    {
     "data": {
      "text/plain": [
       "array([[90, 40, 79,  5, 57],\n",
       "       [40, 99, 59, 73, 71],\n",
       "       [76, 96, 15, 39, 65],\n",
       "       [51, 45, 98, 43, 78],\n",
       "       [13,  8, 46, 70, 52],\n",
       "       [63, 79, 99, 98, 55]])"
      ]
     },
     "execution_count": 42,
     "metadata": {},
     "output_type": "execute_result"
    }
   ],
   "source": [
    "info = namedtuple( 'info', ['cost', 'position'] )\n",
    "\n",
    "position_size = 5\n",
    "swarm_size = 6\n",
    "low = 0 # we want our solution to be bounded between 0 to 100\n",
    "high = 100\n",
    "vmin = -200\n",
    "vmax = 200\n",
    "w = 0.7 # Inertia weight to prevent velocities becoming too large\n",
    "c1 = 2 # Scaling co-efficient on the social component\n",
    "c2 = 2 # Scaling co-efficient on the cognitive component\n",
    "\n",
    "# start with a random velocity between 0 and 1\n",
    "array_size = swarm_size, position_size\n",
    "velocity = np.random.random(array_size)\n",
    "swarm = np.random.randint(low, high + 1, array_size)\n",
    "swarm"
   ]
  },
  {
   "cell_type": "code",
   "execution_count": 43,
   "metadata": {
    "collapsed": false
   },
   "outputs": [],
   "source": [
    "# determine the cost of an chromosome. lower is better\n",
    "target = 200\n",
    "cost = np.abs( np.sum( swarm, axis = 1 ) - target )\n",
    "\n",
    "# combine the cost and chromosome into one list\n",
    "\n",
    "graded = [ info( c, list(s) ) for s, c in zip(swarm, cost) ]\n",
    "graded_swarm = sorted(graded)\n",
    "swarm = np.array([ gs.position for gs in graded_swarm ])"
   ]
  },
  {
   "cell_type": "code",
   "execution_count": 44,
   "metadata": {
    "collapsed": false
   },
   "outputs": [
    {
     "data": {
      "text/plain": [
       "[info(cost=11, position=[13, 8, 46, 70, 52]),\n",
       " info(cost=71, position=[90, 40, 79, 5, 57]),\n",
       " info(cost=91, position=[76, 96, 15, 39, 65]),\n",
       " info(cost=115, position=[51, 45, 98, 43, 78]),\n",
       " info(cost=142, position=[40, 99, 59, 73, 71]),\n",
       " info(cost=194, position=[63, 79, 99, 98, 55])]"
      ]
     },
     "execution_count": 44,
     "metadata": {},
     "output_type": "execute_result"
    }
   ],
   "source": [
    "graded_swarm"
   ]
  },
  {
   "cell_type": "code",
   "execution_count": 37,
   "metadata": {
    "collapsed": false
   },
   "outputs": [
    {
     "data": {
      "text/plain": [
       "array([[ 41.,  21.,  18.,  29.,  40.],\n",
       "       [  2.,  32.,  15.,  43.,  53.],\n",
       "       [ 52.,  28.,   1.,  45.,  51.],\n",
       "       [ 52.,  22.,  48.,  15.,  24.],\n",
       "       [  4.,   4.,  23.,  33.,  41.],\n",
       "       [ 28.,  43.,  11.,  25.,   3.]])"
      ]
     },
     "execution_count": 37,
     "metadata": {},
     "output_type": "execute_result"
    }
   ],
   "source": [
    "swarm"
   ]
  },
  {
   "cell_type": "code",
   "execution_count": 38,
   "metadata": {
    "collapsed": true
   },
   "outputs": [],
   "source": [
    "pbest_new = np.array([position for cost, position in graded_swarm])\n",
    "gbest_new = graded_swarm[0]"
   ]
  },
  {
   "cell_type": "code",
   "execution_count": 47,
   "metadata": {
    "collapsed": false
   },
   "outputs": [
    {
     "data": {
      "text/plain": [
       "array([13,  8, 46, 70, 52])"
      ]
     },
     "execution_count": 47,
     "metadata": {},
     "output_type": "execute_result"
    }
   ],
   "source": [
    "np.array(graded_swarm[0].position)"
   ]
  },
  {
   "cell_type": "code",
   "execution_count": 52,
   "metadata": {
    "collapsed": false
   },
   "outputs": [],
   "source": [
    "graded_swarm1 = graded_swarm.copy()"
   ]
  },
  {
   "cell_type": "code",
   "execution_count": 57,
   "metadata": {
    "collapsed": true
   },
   "outputs": [],
   "source": [
    "graded_swarm1[0] = info( 1, [12, 11, 10, 9, 20] )"
   ]
  },
  {
   "cell_type": "code",
   "execution_count": 58,
   "metadata": {
    "collapsed": false
   },
   "outputs": [
    {
     "data": {
      "text/plain": [
       "[info(cost=1, position=[12, 11, 10, 9, 20]),\n",
       " info(cost=71, position=[90, 40, 79, 5, 57]),\n",
       " info(cost=91, position=[76, 96, 15, 39, 65]),\n",
       " info(cost=115, position=[51, 45, 98, 43, 78]),\n",
       " info(cost=142, position=[40, 99, 59, 73, 71]),\n",
       " info(cost=194, position=[63, 79, 99, 98, 55])]"
      ]
     },
     "execution_count": 58,
     "metadata": {},
     "output_type": "execute_result"
    }
   ],
   "source": [
    "graded_swarm1"
   ]
  },
  {
   "cell_type": "code",
   "execution_count": 39,
   "metadata": {
    "collapsed": false
   },
   "outputs": [
    {
     "data": {
      "text/plain": [
       "array([[ 52.,  28.,   1.,  45.,  51.],\n",
       "       [ 52.,  22.,  48.,  15.,  24.],\n",
       "       [ 41.,  21.,  18.,  29.,  40.],\n",
       "       [  2.,  32.,  15.,  43.,  53.],\n",
       "       [ 28.,  43.,  11.,  25.,   3.],\n",
       "       [  4.,   4.,  23.,  33.,  41.]])"
      ]
     },
     "execution_count": 39,
     "metadata": {},
     "output_type": "execute_result"
    }
   ],
   "source": [
    "pbest_new"
   ]
  },
  {
   "cell_type": "code",
   "execution_count": 33,
   "metadata": {
    "collapsed": false
   },
   "outputs": [
    {
     "data": {
      "text/plain": [
       "array([[ 41,  21,  18,  28,  40],\n",
       "       [ 87,  84,  57,  11,  25],\n",
       "       [ 28,  14,  38,   9,  28],\n",
       "       [ 29,  72,  97,  44,  59],\n",
       "       [ 94,  51,  67, 100,  39],\n",
       "       [ 57,  97,  52,  91,  84]])"
      ]
     },
     "execution_count": 33,
     "metadata": {},
     "output_type": "execute_result"
    }
   ],
   "source": [
    "pbest"
   ]
  },
  {
   "cell_type": "code",
   "execution_count": 26,
   "metadata": {
    "collapsed": false
   },
   "outputs": [
    {
     "data": {
      "text/plain": [
       "array([[ 41,  21,  18,  28,  40],\n",
       "       [ 87,  84,  57,  11,  25],\n",
       "       [ 28,  14,  38,   9,  28],\n",
       "       [ 29,  72,  97,  44,  59],\n",
       "       [ 94,  51,  67, 100,  39],\n",
       "       [ 57,  97,  52,  91,  84]])"
      ]
     },
     "execution_count": 26,
     "metadata": {},
     "output_type": "execute_result"
    }
   ],
   "source": [
    "swarm"
   ]
  },
  {
   "cell_type": "code",
   "execution_count": 10,
   "metadata": {
    "collapsed": false
   },
   "outputs": [
    {
     "data": {
      "text/plain": [
       "info(cost=10, position=[89, 67, 15, 3, 36])"
      ]
     },
     "execution_count": 10,
     "metadata": {},
     "output_type": "execute_result"
    }
   ],
   "source": [
    "# pbest, keeps track of each individual's best\n",
    "# gbest, keeps track of swarm's best\n",
    "\n",
    "gbest_old = np.inf\n",
    "gbest_new = graded[0].cost\n",
    "if gbest_new > gbest_old:\n",
    "    gbest = gbest_"
   ]
  },
  {
   "cell_type": "code",
   "execution_count": 27,
   "metadata": {
    "collapsed": false
   },
   "outputs": [
    {
     "data": {
      "text/plain": [
       "array([[0, 0, 0, 0, 0],\n",
       "       [0, 0, 0, 0, 0],\n",
       "       [0, 0, 0, 0, 0],\n",
       "       [0, 0, 0, 0, 0],\n",
       "       [0, 0, 0, 0, 0],\n",
       "       [0, 0, 0, 0, 0]])"
      ]
     },
     "execution_count": 27,
     "metadata": {},
     "output_type": "execute_result"
    }
   ],
   "source": [
    "pbest - swarm"
   ]
  },
  {
   "cell_type": "code",
   "execution_count": 28,
   "metadata": {
    "collapsed": false
   },
   "outputs": [
    {
     "data": {
      "text/plain": [
       "array([[ 0.,  0.,  0.,  0.,  0.],\n",
       "       [ 0.,  0.,  0.,  0.,  0.],\n",
       "       [ 0.,  0.,  0.,  0.,  0.],\n",
       "       [ 0.,  0.,  0.,  0.,  0.],\n",
       "       [ 0.,  0.,  0.,  0.,  0.],\n",
       "       [ 0.,  0.,  0.,  0.,  0.]])"
      ]
     },
     "execution_count": 28,
     "metadata": {},
     "output_type": "execute_result"
    }
   ],
   "source": [
    "r1 = random.random()\n",
    "cognitive = c1 * r1 * (pbest - swarm)\n",
    "cognitive"
   ]
  },
  {
   "cell_type": "code",
   "execution_count": 29,
   "metadata": {
    "collapsed": false
   },
   "outputs": [
    {
     "data": {
      "text/plain": [
       "array([[   0.        ,    0.        ,    0.        ,    0.        ,    0.        ],\n",
       "       [ -85.06987536, -116.50874235,  -72.12445955,   31.43886698,\n",
       "          27.74017675],\n",
       "       [  24.04148652,   12.94541582,  -36.98690233,   35.13755722,\n",
       "          22.1921414 ],\n",
       "       [  22.1921414 ,  -94.31660095, -146.09826421,  -29.58952187,\n",
       "         -35.13755722],\n",
       "       [ -98.01529118,  -55.4803535 ,  -90.61791071, -133.1528484 ,\n",
       "           1.84934512],\n",
       "       [ -29.58952187, -140.55022886,  -62.87773396, -116.50874235,\n",
       "         -81.37118513]])"
      ]
     },
     "execution_count": 29,
     "metadata": {},
     "output_type": "execute_result"
    }
   ],
   "source": [
    "r2 = random.random()\n",
    "social = c2 * r2 * (gbest - swarm)\n",
    "social"
   ]
  },
  {
   "cell_type": "code",
   "execution_count": 30,
   "metadata": {
    "collapsed": false
   },
   "outputs": [],
   "source": [
    "# update velocity\n",
    "velocity = w * velocity + cognitive + social\n",
    "\n",
    "# constraint on velocity\n",
    "velocity[velocity > vmax] = vmax\n",
    "velocity[velocity < vmin] = vmin"
   ]
  },
  {
   "cell_type": "code",
   "execution_count": 31,
   "metadata": {
    "collapsed": false
   },
   "outputs": [
    {
     "data": {
      "text/plain": [
       "array([[ 41.,  21.,  18.,  29.,  40.],\n",
       "       [  2.,  32.,  15.,  43.,  53.],\n",
       "       [ 52.,  28.,   1.,  45.,  51.],\n",
       "       [ 52.,  22.,  48.,  15.,  24.],\n",
       "       [  4.,   4.,  23.,  33.,  41.],\n",
       "       [ 28.,  43.,  11.,  25.,   3.]])"
      ]
     },
     "execution_count": 31,
     "metadata": {},
     "output_type": "execute_result"
    }
   ],
   "source": [
    "# update position (round all positions)\n",
    "swarm = np.round(swarm + velocity)\n",
    "\n",
    "# constraint on position\n",
    "# if there's any element that exceeds the upper and lower bound\n",
    "# by a certain amount, ricochet back from the border by that amount\n",
    "exceed = swarm > high\n",
    "if np.sum(exceed):\n",
    "    exceed_amount = swarm[exceed] - high\n",
    "    swarm[exceed] = high - exceed_amount\n",
    "    \n",
    "exceed = swarm < low\n",
    "if np.sum(exceed):\n",
    "    exceed_amount = low - swarm[exceed]\n",
    "    swarm[exceed] = low + exceed_amount\n",
    "\n",
    "swarm"
   ]
  },
  {
   "cell_type": "markdown",
   "metadata": {},
   "source": [
    "- http://www.turingfinance.com/portfolio-optimization-using-particle-swarm-optimization/\n",
    "- http://web.ist.utl.pt/gdgp/VA/pso.htm"
   ]
  }
 ],
 "metadata": {
  "anaconda-cloud": {},
  "kernelspec": {
   "display_name": "Python [Root]",
   "language": "python",
   "name": "Python [Root]"
  },
  "language_info": {
   "codemirror_mode": {
    "name": "ipython",
    "version": 3
   },
   "file_extension": ".py",
   "mimetype": "text/x-python",
   "name": "python",
   "nbconvert_exporter": "python",
   "pygments_lexer": "ipython3",
   "version": "3.5.2"
  }
 },
 "nbformat": 4,
 "nbformat_minor": 0
}
