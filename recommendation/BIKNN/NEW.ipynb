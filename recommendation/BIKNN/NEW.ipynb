{
 "cells": [
  {
   "cell_type": "code",
   "execution_count": 2,
   "metadata": {
    "collapsed": true
   },
   "outputs": [],
   "source": [
    "import time\n",
    "import pandas as pd\n",
    "import matplotlib.pyplot as plt\n",
    "from sklearn.cross_validation import train_test_split\n",
    "\n",
    "%matplotlib inline\n",
    "%load_ext autoreload\n",
    "%autoreload 2"
   ]
  },
  {
   "cell_type": "code",
   "execution_count": 6,
   "metadata": {
    "collapsed": false
   },
   "outputs": [],
   "source": [
    "def read_file( filename, test_size, seed, retain_quantile = 0 ):\n",
    "    \"\"\"\n",
    "    seed: int\n",
    "        seed for the train/test split\n",
    "    \n",
    "    retain_prop: 0 ~ 1 float\n",
    "        proportion of users that rate the most items will be retained\n",
    "    \"\"\"\n",
    "\n",
    "    # movielens, column order: user id, item id, ratings and timestamp\n",
    "    # the fourth column is the timestamp, exclude it\n",
    "    if '.csv' in filename:\n",
    "        header = 'infer'\n",
    "        sep = ','\n",
    "    elif '.data' in filename:\n",
    "        sep = '\\t'\n",
    "        header = None\n",
    "    else:\n",
    "        sep = '::'\n",
    "        header = None\n",
    "    \n",
    "    data = pd.read_csv( filename, sep = sep, header = header, engine = 'python' )\n",
    "    data = data.iloc[ :, 0:3 ]\n",
    "    # data = data.astype('float')\n",
    "    column_names  = [ 'user_ids', 'item_ids', 'ratings' ]\n",
    "    data.columns = column_names\n",
    "\n",
    "    # train test split the dat and make sure all the items and users \n",
    "    # that are in the testing data has been seen in training\n",
    "    train, test = train_test_split( data, test_size = test_size, random_state = seed )\n",
    "    contain_items = test['item_ids'].isin( train['item_ids'].unique() )\n",
    "    contain_users = test['user_ids'].isin( train['user_ids'].unique() )\n",
    "    test = test[ contain_users & contain_items ]\n",
    "    \n",
    "    # only retain users that are frequently rating\n",
    "    if retain_quantile:        \n",
    "        histogram_counts = train['user_ids'].value_counts()\n",
    "        df_value_counts  = pd.DataFrame( histogram_counts > histogram_counts.quantile(0.5) )\n",
    "        df_value_counts  = df_value_counts.reset_index()\n",
    "        frequent_users   = df_value_counts.loc[ df_value_counts['user_ids'], 'index' ]\n",
    "        train = train[ train['user_ids'].isin(frequent_users) ]\n",
    "        test  = test[ test['user_ids'].isin(frequent_users) ]   \n",
    "    \n",
    "    return train, test"
   ]
  },
  {
   "cell_type": "code",
   "execution_count": 10,
   "metadata": {
    "collapsed": false
   },
   "outputs": [
    {
     "name": "stdout",
     "output_type": "stream",
     "text": [
      "(928, 3)\n",
      "(229, 3)\n"
     ]
    },
    {
     "data": {
      "text/html": [
       "<div>\n",
       "<table border=\"1\" class=\"dataframe\">\n",
       "  <thead>\n",
       "    <tr style=\"text-align: right;\">\n",
       "      <th></th>\n",
       "      <th>user_ids</th>\n",
       "      <th>item_ids</th>\n",
       "      <th>ratings</th>\n",
       "    </tr>\n",
       "  </thead>\n",
       "  <tbody>\n",
       "    <tr>\n",
       "      <th>661</th>\n",
       "      <td>84</td>\n",
       "      <td>80</td>\n",
       "      <td>2</td>\n",
       "    </tr>\n",
       "    <tr>\n",
       "      <th>319</th>\n",
       "      <td>37</td>\n",
       "      <td>129</td>\n",
       "      <td>2</td>\n",
       "    </tr>\n",
       "    <tr>\n",
       "      <th>1135</th>\n",
       "      <td>136</td>\n",
       "      <td>52</td>\n",
       "      <td>2</td>\n",
       "    </tr>\n",
       "    <tr>\n",
       "      <th>587</th>\n",
       "      <td>74</td>\n",
       "      <td>64</td>\n",
       "      <td>2</td>\n",
       "    </tr>\n",
       "    <tr>\n",
       "      <th>1107</th>\n",
       "      <td>134</td>\n",
       "      <td>77</td>\n",
       "      <td>0</td>\n",
       "    </tr>\n",
       "  </tbody>\n",
       "</table>\n",
       "</div>"
      ],
      "text/plain": [
       "      user_ids  item_ids  ratings\n",
       "661         84        80        2\n",
       "319         37       129        2\n",
       "1135       136        52        2\n",
       "587         74        64        2\n",
       "1107       134        77        0"
      ]
     },
     "execution_count": 10,
     "metadata": {},
     "output_type": "execute_result"
    }
   ],
   "source": [
    "\"\"\"\n",
    "BX-Book-Ratings.csv\n",
    "final_rating.csv\n",
    "u.data\n",
    "ratings.dat\n",
    "\"\"\"\n",
    "\n",
    "TESTSIZE = 0.2\n",
    "SEED = 1234\n",
    "FILENAME = 'data/final_rating.csv'\n",
    "# RETAIN = 0.8\n",
    "\n",
    "train, test = read_file( FILENAME, TESTSIZE, SEED )\n",
    "print(train.shape)\n",
    "print(test.shape)\n",
    "train.head()"
   ]
  },
  {
   "cell_type": "code",
   "execution_count": null,
   "metadata": {
    "collapsed": true
   },
   "outputs": [],
   "source": [
    "generation = 2\n",
    "pop_size = 5"
   ]
  },
  {
   "cell_type": "code",
   "execution_count": 11,
   "metadata": {
    "collapsed": true
   },
   "outputs": [],
   "source": [
    "from recommender import BIKNN, GABIKNN"
   ]
  },
  {
   "cell_type": "code",
   "execution_count": 12,
   "metadata": {
    "collapsed": false
   },
   "outputs": [
    {
     "data": {
      "text/plain": [
       "0.7483010292053223"
      ]
     },
     "execution_count": 12,
     "metadata": {},
     "output_type": "execute_result"
    }
   ],
   "source": [
    "# this runs a single BIKNN\n",
    "# the fit stage is about 646 seconds, 10.7 minute\n",
    "start1 = time.time()\n",
    "\n",
    "biknn1 = BIKNN( K = 20, B1 = 25, B2 = 25, iterations = 100000 )\n",
    "biknn1.fit( data = train, column_names = [ 'user_ids', 'item_ids', 'ratings' ] )\n",
    "\n",
    "# a boolean value indicating whether you have fitted the model\n",
    "# biknn1.is_fitted\n",
    "\n",
    "end1 = time.time()\n",
    "elapse1 = end1 - start1\n",
    "elapse1"
   ]
  },
  {
   "cell_type": "code",
   "execution_count": 13,
   "metadata": {
    "collapsed": false
   },
   "outputs": [
    {
     "data": {
      "text/plain": [
       "0.636350154876709"
      ]
     },
     "execution_count": 13,
     "metadata": {},
     "output_type": "execute_result"
    }
   ],
   "source": [
    "# test around 140 seconds, 2.3 minutes\n",
    "start2 = time.time()\n",
    "\n",
    "pred = biknn1.predict(test)\n",
    "\n",
    "end2 = time.time()\n",
    "elapse2 = end2 - start2\n",
    "elapse2"
   ]
  },
  {
   "cell_type": "code",
   "execution_count": 14,
   "metadata": {
    "collapsed": false
   },
   "outputs": [
    {
     "data": {
      "text/plain": [
       "0.46937630261381524"
      ]
     },
     "execution_count": 14,
     "metadata": {},
     "output_type": "execute_result"
    }
   ],
   "source": [
    "biknn1.evaluate( pred, test['ratings'] )"
   ]
  },
  {
   "cell_type": "code",
   "execution_count": 15,
   "metadata": {
    "collapsed": false
   },
   "outputs": [
    {
     "name": "stdout",
     "output_type": "stream",
     "text": [
      "generation 1's best chromo: info(cost=0.39680750065686377, chromo=[83, 13])\n",
      "generation 2's best chromo: info(cost=0.39680750065686377, chromo=[83, 13])\n"
     ]
    },
    {
     "data": {
      "text/plain": [
       "9.359618902206421"
      ]
     },
     "execution_count": 15,
     "metadata": {},
     "output_type": "execute_result"
    }
   ],
   "source": [
    "start3 = time.time()\n",
    "\n",
    "ga1 = GABIKNN( \n",
    "    generation = 2,\n",
    "    pop_size = 5,\n",
    "    low = 0, \n",
    "    high = 100, \n",
    "    retain_rate = 0.5, \n",
    "    mutate_rate = 0.2,\n",
    "    BIKNN = biknn1,\n",
    "    verbose = True\n",
    ")\n",
    "ga1.fit(test)\n",
    "\n",
    "end3 = time.time()\n",
    "elapse3 = end3 - start3\n",
    "elapse3"
   ]
  },
  {
   "cell_type": "code",
   "execution_count": 16,
   "metadata": {
    "collapsed": false
   },
   "outputs": [
    {
     "data": {
      "text/plain": [
       "[info(cost=0.39680750065686377, chromo=[83, 13]),\n",
       " info(cost=0.39680750065686377, chromo=[83, 13])]"
      ]
     },
     "execution_count": 16,
     "metadata": {},
     "output_type": "execute_result"
    }
   ],
   "source": [
    "ga1.generation_history"
   ]
  },
  {
   "cell_type": "code",
   "execution_count": 17,
   "metadata": {
    "collapsed": false
   },
   "outputs": [
    {
     "data": {
      "image/png": "[encoded data removed]",
      "text/plain": [
       "<matplotlib.figure.Figure at 0x11674c668>"
      ]
     },
     "metadata": {},
     "output_type": "display_data"
    }
   ],
   "source": [
    "ga1.convergence_plot()"
   ]
  }
 ],
 "metadata": {
  "kernelspec": {
   "display_name": "Python [Root]",
   "language": "python",
   "name": "Python [Root]"
  },
  "language_info": {
   "codemirror_mode": {
    "name": "ipython",
    "version": 3
   },
   "file_extension": ".py",
   "mimetype": "text/x-python",
   "name": "python",
   "nbconvert_exporter": "python",
   "pygments_lexer": "ipython3",
   "version": "3.5.2"
  }
 },
 "nbformat": 4,
 "nbformat_minor": 0
}
