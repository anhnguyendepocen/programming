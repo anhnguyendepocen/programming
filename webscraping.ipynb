{
 "cells": [
  {
   "cell_type": "code",
   "execution_count": 63,
   "metadata": {
    "collapsed": true
   },
   "outputs": [],
   "source": [
    "import requests\n",
    "import pandas as pd\n",
    "from bs4 import BeautifulSoup"
   ]
  },
  {
   "cell_type": "code",
   "execution_count": 3,
   "metadata": {
    "collapsed": true
   },
   "outputs": [],
   "source": [
    "url = 'http://www.yellowpages.com/search?search_terms=coffee&geo_location_terms=Los+Angeles%2C+CA'\n",
    "r = requests.get(url)"
   ]
  },
  {
   "cell_type": "code",
   "execution_count": 10,
   "metadata": {
    "collapsed": false
   },
   "outputs": [],
   "source": [
    "# pass the request's content into BeautifulSoup\n",
    "# the second argument is the HTML parser (don't worry about it)\n",
    "soup = BeautifulSoup( r.content, 'lxml' )"
   ]
  },
  {
   "cell_type": "code",
   "execution_count": 20,
   "metadata": {
    "collapsed": false
   },
   "outputs": [
    {
     "name": "stdout",
     "output_type": "stream",
     "text": [
      " /\n",
      "Find People /whitepages\n",
      "Advertise With Us http://adsolutions.yp.com\n",
      "Find People /whitepages\n",
      "Featured Collections /collections\n",
      "Restaurants /restaurants?ic=home_restaurants_landing_page\n",
      "Automotive /los-angeles-ca/automotive\n",
      "Home Improvement /los-angeles-ca/home-improvement\n",
      "Health & Wellness /los-angeles-ca/health-and-wellness\n",
      "Attorneys /los-angeles-ca/attorneys\n"
     ]
    }
   ],
   "source": [
    "# e.g. extracting all the URLs found within a page’s <a> tags:\n",
    "# find the <a> tags and get the href part\n",
    "links = soup.find_all('a')[:10]\n",
    "\n",
    "# obtain the text in the tags and the 'href' attribute\n",
    "# .text is the same as .get_text()\n",
    "# .get('href') is the same as .attrs['href']\n",
    "for link in links:\n",
    "    print( link.text, link.get('href') )"
   ]
  },
  {
   "cell_type": "code",
   "execution_count": 26,
   "metadata": {
    "collapsed": false
   },
   "outputs": [],
   "source": [
    "# obtaining the div tag that has the class of info\n",
    "data = soup.find_all( 'div', { 'class': 'info' } )"
   ]
  },
  {
   "cell_type": "code",
   "execution_count": 50,
   "metadata": {
    "collapsed": false
   },
   "outputs": [
    {
     "name": "stdout",
     "output_type": "stream",
     "text": [
      "<h3 class=\"n\">1. <a class=\"business-name\" data-analytics='{\"target\":\"name\",\"feature_click\":\"\"}' href=\"/los-angeles-ca/mip/caffe-latte-1050840?lid=1050840\" itemprop=\"name\" rel=\"\">Caffe Latte</a><a class=\"menu\" data-analytics='{\"click_id\":1614,\"target\":\"menus\",\"listing_features\":\"menu-link\"}' href=\"/listings/1050840/menu?lid=1050840\">Menu</a></h3>\n",
      "\n",
      "1. Caffe LatteMenu\n",
      "\n",
      "Caffe Latte\n",
      "\n",
      "[<div class=\"phones phone primary\" itemprop=\"telephone\">(323) 936-5213</div>]\n",
      "(323) 936-5213\n"
     ]
    }
   ],
   "source": [
    "# use one of the div and print out its child .contents\n",
    "for d in data[:1]:\n",
    "    \n",
    "    # access to the first child\n",
    "    content = d.contents[0]\n",
    "    print(content) \n",
    "    print()\n",
    "    \n",
    "    # but calling .text gives you a number the restaurant name and menu\n",
    "    # to only get the restaurant name we can do another find_all\n",
    "    print(content.text)\n",
    "    print()\n",
    "    \n",
    "    # access the business name class, there's only 1 element, so access it with 0,\n",
    "    # note that we don't have to access to the child to get this\n",
    "    print(content.find_all( 'a', { 'class', 'business-name' } )[0].text )\n",
    "    print()\n",
    "    \n",
    "    # we can also obtain the restaurant's cellphone\n",
    "    # this time its in the second child\n",
    "    phone = d.contents[1].find_all( 'div', { 'class': 'phone' } )\n",
    "    print(phone)\n",
    "    # notice that the class is 'phones phone primary', this is \n",
    "    # three separate class and you can use any one of it to access it\n",
    "    \n",
    "    phone = d.contents[1].find_all( 'div', { 'class': 'phones' } )[0]\n",
    "    print(phone.text)"
   ]
  },
  {
   "cell_type": "code",
   "execution_count": 58,
   "metadata": {
    "collapsed": false
   },
   "outputs": [],
   "source": [
    "# loop through all data to get the restaurant name\n",
    "phones = []\n",
    "businesses = []\n",
    "\n",
    "for d in data:\n",
    "    business_name = d.find_all( 'a', { 'class', 'business-name' } )[0].text\n",
    "    \n",
    "    # since not all business have a phone number, you'll get an list index\n",
    "    # out of range if you access an empty list with [0]\n",
    "    phone_info = d.find_all( 'div', { 'class': 'phones' } )\n",
    "    if phone_info:\n",
    "        phone_number = phone_info[0].text\n",
    "    else:\n",
    "        phone_number = None\n",
    "    \n",
    "    businesses.append(business_name)\n",
    "    phones.append(phone_number)"
   ]
  },
  {
   "cell_type": "code",
   "execution_count": 64,
   "metadata": {
    "collapsed": false
   },
   "outputs": [
    {
     "data": {
      "text/html": [
       "<div>\n",
       "<table border=\"1\" class=\"dataframe\">\n",
       "  <thead>\n",
       "    <tr style=\"text-align: right;\">\n",
       "      <th></th>\n",
       "      <th>businesses</th>\n",
       "      <th>phones</th>\n",
       "    </tr>\n",
       "  </thead>\n",
       "  <tbody>\n",
       "    <tr>\n",
       "      <th>0</th>\n",
       "      <td>Caffe Latte</td>\n",
       "      <td>(323) 936-5213</td>\n",
       "    </tr>\n",
       "    <tr>\n",
       "      <th>1</th>\n",
       "      <td>Bourgeois Pig</td>\n",
       "      <td>(323) 464-6008</td>\n",
       "    </tr>\n",
       "    <tr>\n",
       "      <th>2</th>\n",
       "      <td>Beard Papa Sweet Cafe</td>\n",
       "      <td>(323) 462-6100</td>\n",
       "    </tr>\n",
       "    <tr>\n",
       "      <th>3</th>\n",
       "      <td>Intelligentsia Coffee</td>\n",
       "      <td>(323) 663-6173</td>\n",
       "    </tr>\n",
       "    <tr>\n",
       "      <th>4</th>\n",
       "      <td>Groundwork Coffee Inc</td>\n",
       "      <td>(323) 871-0143</td>\n",
       "    </tr>\n",
       "  </tbody>\n",
       "</table>\n",
       "</div>"
      ],
      "text/plain": [
       "              businesses          phones\n",
       "0            Caffe Latte  (323) 936-5213\n",
       "1          Bourgeois Pig  (323) 464-6008\n",
       "2  Beard Papa Sweet Cafe  (323) 462-6100\n",
       "3  Intelligentsia Coffee  (323) 663-6173\n",
       "4  Groundwork Coffee Inc  (323) 871-0143"
      ]
     },
     "execution_count": 64,
     "metadata": {},
     "output_type": "execute_result"
    }
   ],
   "source": [
    "# we can now store it as a DataFrame\n",
    "business_df = pd.DataFrame({\n",
    "    'businesses': businesses,\n",
    "    'phones': phones\n",
    "})\n",
    "business_df.head()"
   ]
  },
  {
   "cell_type": "markdown",
   "metadata": {},
   "source": [
    "\n",
    "\n",
    "- [Scrape Websites with Python + Beautiful Soup 4 + Requests](https://www.youtube.com/watch?v=3xQTJi2tqgk&index=1&list=PLEsfXFp6DpzR6FatOy4RtoXfu4PeYO_RL)"
   ]
  }
 ],
 "metadata": {
  "anaconda-cloud": {},
  "kernelspec": {
   "display_name": "Python [Root]",
   "language": "python",
   "name": "Python [Root]"
  },
  "language_info": {
   "codemirror_mode": {
    "name": "ipython",
    "version": 3
   },
   "file_extension": ".py",
   "mimetype": "text/x-python",
   "name": "python",
   "nbconvert_exporter": "python",
   "pygments_lexer": "ipython3",
   "version": "3.5.2"
  }
 },
 "nbformat": 4,
 "nbformat_minor": 0
}
