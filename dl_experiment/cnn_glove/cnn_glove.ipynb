{
 "cells": [
  {
   "cell_type": "code",
   "execution_count": 1,
   "metadata": {
    "collapsed": false
   },
   "outputs": [
    {
     "data": {
      "text/html": [
       "\n",
       "<style>\n",
       "    html {\n",
       "        font-size: 18px !important;\n",
       "    }\n",
       "\n",
       "    body {\n",
       "        background-color: #FFF !important;\n",
       "        font-weight: 1rem;\n",
       "        font-family: 'Source Sans Pro', \"Helvetica Neue\", Helvetica, Arial, sans-serif;\n",
       "    }\n",
       "\n",
       "    body .notebook-app {\n",
       "        background-color: #FFF !important;\n",
       "    }\n",
       "\n",
       "    #header {\n",
       "        box-shadow: none !important;\n",
       "    }\n",
       "\n",
       "    #notebook {\n",
       "        padding-top: 0px;\n",
       "    }\n",
       "\n",
       "    #notebook-container {\n",
       "        box-shadow: none;\n",
       "        -webkit-box-shadow: none;\n",
       "        padding: 10px;\n",
       "    }\n",
       "\n",
       "    div.cell {\n",
       "        width: 1000px;\n",
       "        margin-left: 0% !important;\n",
       "        margin-right: auto;\n",
       "    }\n",
       "\n",
       "    div.cell.selected {\n",
       "        border: 1px dashed #CCCCCC;\n",
       "    }\n",
       "\n",
       "    .edit_mode div.cell.selected {\n",
       "        border: 1px dashed #828282;\n",
       "    }\n",
       "\n",
       "    div.output_wrapper {\n",
       "        margin-top: 8px;\n",
       "    }\n",
       "\n",
       "    a {\n",
       "        color: #383838;\n",
       "    }\n",
       "\n",
       "    code,\n",
       "    kbd,\n",
       "    pre,\n",
       "    samp {\n",
       "        font-family: 'Menlo', monospace !important;\n",
       "        font-size: 0.75rem !important;\n",
       "    }\n",
       "\n",
       "    h1 {\n",
       "        font-size: 2rem !important;\n",
       "        font-weight: 500 !important;\n",
       "        letter-spacing: 3px !important;\n",
       "        text-transform: uppercase !important;\n",
       "    }\n",
       "\n",
       "    h2 {\n",
       "        font-size: 1.8rem !important;\n",
       "        font-weight: 400 !important;\n",
       "        letter-spacing: 3px !important;\n",
       "        text-transform: none !important;\n",
       "    }\n",
       "\n",
       "    h3 {\n",
       "        font-size: 1.5rem !important;\n",
       "        font-weight: 400 !important;\n",
       "        font-style: italic !important;\n",
       "        display: block !important;\n",
       "    }\n",
       "\n",
       "    h4,\n",
       "    h5,\n",
       "    h6 {\n",
       "        font-size: 1rem !important;\n",
       "        font-weight: 400 !important;\n",
       "        display: block !important;\n",
       "    }\n",
       "\n",
       "    .prompt {\n",
       "        font-family: 'Menlo', monospace !important;\n",
       "        font-size: 0.75rem;\n",
       "        text-align: right;\n",
       "        line-height: 1.21429rem;\n",
       "    }\n",
       "\n",
       "    /* INTRO PAGE */\n",
       "\n",
       "    .toolbar_info,\n",
       "    .list-container {\n",
       "        ;\n",
       "    }\n",
       "    /* NOTEBOOK */\n",
       "\n",
       "    div#header-container {\n",
       "        display: none !important;\n",
       "    }\n",
       "\n",
       "    div#notebook {\n",
       "        border-top: none;\n",
       "        font-size: 1rem;\n",
       "    }\n",
       "\n",
       "    div.input_prompt {\n",
       "        color: #C74483;\n",
       "    }\n",
       "\n",
       "    .code_cell div.input_prompt:after,\n",
       "    div.output_prompt:after {\n",
       "        content: '\\25b6';\n",
       "    }\n",
       "\n",
       "    div.output_prompt {\n",
       "        color: #2B88D9;\n",
       "    }\n",
       "\n",
       "    div.input_area {\n",
       "        border-radius: 0px;\n",
       "        border: 1px solid #d8d8d8;\n",
       "    }\n",
       "\n",
       "    div.output_area pre {\n",
       "        font-weight: normal;\n",
       "    }\n",
       "\n",
       "    div.output_subarea {\n",
       "        font-weight: normal;\n",
       "    }\n",
       "\n",
       "    .rendered_html pre,\n",
       "    .rendered_html table,\n",
       "    .rendered_html th,\n",
       "    .rendered_html tr,\n",
       "    .rendered_html td {\n",
       "        border: 1px #828282 solid;\n",
       "        font-size: 0.75rem;\n",
       "        font-family: 'Menlo', monospace;\n",
       "    }\n",
       "\n",
       "    .rendered_html th,\n",
       "    .rendered_html tr,\n",
       "    .rendered_html td {\n",
       "        padding: 5px 10px;\n",
       "    }\n",
       "\n",
       "    .rendered_html th {\n",
       "        font-weight: normal;\n",
       "        background: #f8f8f8;\n",
       "    }\n",
       "\n",
       "    a:link{\n",
       "       font-weight: bold;\n",
       "       color:#447adb;\n",
       "    }\n",
       "    a:visited{\n",
       "       font-weight: bold;\n",
       "       color: #1d3b84;\n",
       "    }\n",
       "    a:hover{\n",
       "       font-weight: bold;\n",
       "       color: #1d3b84;\n",
       "    }\n",
       "    a:focus{\n",
       "       font-weight: bold;\n",
       "       color:#447adb;\n",
       "    }\n",
       "    a:active{\n",
       "       font-weight: bold;\n",
       "       color:#447adb;\n",
       "    }\n",
       "    .rendered_html :link {\n",
       "       text-decoration: underline; \n",
       "    }\n",
       "\n",
       "    div.output_html {\n",
       "        font-weight: 1rem;\n",
       "        font-family: 'Source Sans Pro', \"Helvetica Neue\", Helvetica, Arial, sans-serif;\n",
       "    }\n",
       "\n",
       "    table.dataframe tr {\n",
       "        border: 1px #CCCCCC;\n",
       "    }\n",
       "\n",
       "    div.cell.selected {\n",
       "        border-radius: 0px;\n",
       "    }\n",
       "\n",
       "    div.cell.edit_mode {\n",
       "        border-radius: 0px;\n",
       "        border: thin solid #CF5804;\n",
       "    }\n",
       "\n",
       "    span.ansiblue {\n",
       "        color: #00A397;\n",
       "    }\n",
       "\n",
       "    span.ansigray {\n",
       "        color: #d8d8d8;\n",
       "    }\n",
       "\n",
       "    span.ansigreen {\n",
       "        color: #688A0A;\n",
       "    }\n",
       "\n",
       "    span.ansipurple {\n",
       "        color: #975DDE;\n",
       "    }\n",
       "\n",
       "    span.ansired {\n",
       "        color: #D43132;\n",
       "    }\n",
       "\n",
       "    span.ansiyellow {\n",
       "        color: #D9AA00;\n",
       "    }\n",
       "\n",
       "    div.output_stderr {\n",
       "        background-color: #D43132;\n",
       "    }\n",
       "\n",
       "    div.output_stderr pre {\n",
       "        color: #e8e8e8;\n",
       "    }\n",
       "\n",
       "    .cm-s-ipython.CodeMirror {\n",
       "        background: #F8F8F8;\n",
       "    }\n",
       "\n",
       "    .cm-s-ipython div.CodeMirror-selected {\n",
       "        background: #e8e8e8 !important;\n",
       "    }\n",
       "\n",
       "    .cm-s-ipython .CodeMirror-gutters {\n",
       "        background: #F8F8F8;\n",
       "        border-right: 0px;\n",
       "    }\n",
       "\n",
       "    .cm-s-ipython .CodeMirror-linenumber {\n",
       "        color: #b8b8b8;\n",
       "    }\n",
       "\n",
       "    .cm-s-ipython .CodeMirror-cursor {\n",
       "        border-left: 1px solid #585858 !important;\n",
       "    }\n",
       "\n",
       "    .cm-s-ipython span.cm-atom {\n",
       "        color: #C74483;\n",
       "    }\n",
       "\n",
       "    .cm-s-ipython span.cm-number {\n",
       "        color: #C74483;\n",
       "    }\n",
       "\n",
       "    .cm-s-ipython span.cm-property,\n",
       "    .cm-s-ipython span.cm-attribute {\n",
       "        color: #688A0A;\n",
       "    }\n",
       "\n",
       "    .cm-s-ipython span.cm-keyword {\n",
       "        font-weight: normal;\n",
       "        color: #D43132;\n",
       "    }\n",
       "\n",
       "    .cm-s-ipython span.cm-string {\n",
       "        color: #D9AA00;\n",
       "    }\n",
       "\n",
       "    .cm-s-ipython span.cm-operator {\n",
       "        font-weight: normal;\n",
       "    }\n",
       "\n",
       "    .cm-s-ipython span.cm-builtin {\n",
       "        color: #2B88D9;\n",
       "    }\n",
       "\n",
       "    .cm-s-ipython span.cm-variable {\n",
       "        color: #00A397;\n",
       "    }\n",
       "\n",
       "    .cm-s-ipython span.cm-variable-2 {\n",
       "        color: #2B88D9;\n",
       "    }\n",
       "\n",
       "    .cm-s-ipython span.cm-def {\n",
       "        color: #00A397;\n",
       "    }\n",
       "\n",
       "    .cm-s-ipython span.cm-error {\n",
       "        background: #FFBDBD;\n",
       "        color: #D43132;\n",
       "    }\n",
       "\n",
       "    .cm-s-ipython span.cm-tag {\n",
       "        color: #D43132;\n",
       "    }\n",
       "\n",
       "    .cm-s-ipython span.cm-link {\n",
       "        color: #975DDE;\n",
       "    }\n",
       "\n",
       "    .cm-s-ipython .CodeMirror-matchingbracket {\n",
       "        text-decoration: underline;\n",
       "         !important;\n",
       "    }\n",
       "</style>\n",
       "\n",
       "<script>\n",
       "    MathJax.Hub.Config({\n",
       "                        TeX: {\n",
       "                           extensions: [\"AMSmath.js\"]\n",
       "                           },\n",
       "                tex2jax: {\n",
       "                    inlineMath: [ ['$','$'], [\"\\\\(\",\"\\\\)\"] ],\n",
       "                    displayMath: [ ['$$','$$'], [\"\\\\[\",\"\\\\]\"] ]\n",
       "                },\n",
       "                displayAlign: 'center', // Change this to 'center' to center equations.\n",
       "                \"HTML-CSS\": {\n",
       "                    scale:100,\n",
       "                        availableFonts: [],\n",
       "                        preferredFont:null,\n",
       "                        webFont: \"TeX\",\n",
       "                    styles: {'.MathJax_Display': {\"margin\": 4}}\n",
       "                }\n",
       "        });\n",
       "</script>"
      ],
      "text/plain": [
       "<IPython.core.display.HTML object>"
      ]
     },
     "execution_count": 1,
     "metadata": {},
     "output_type": "execute_result"
    }
   ],
   "source": [
    "# code for loading the format for the notebook\n",
    "import os\n",
    "\n",
    "# path : store the current path to convert back to it later\n",
    "path = os.getcwd()\n",
    "os.chdir('../../notebook_format')\n",
    "from formats import load_style\n",
    "load_style( css_style = 'custom2.css' )"
   ]
  },
  {
   "cell_type": "code",
   "execution_count": 2,
   "metadata": {
    "collapsed": false
   },
   "outputs": [
    {
     "name": "stderr",
     "output_type": "stream",
     "text": [
      "Using TensorFlow backend.\n"
     ]
    },
    {
     "name": "stdout",
     "output_type": "stream",
     "text": [
      "Ethen 2016-08-16 20:35:34 \n",
      "\n",
      "CPython 3.5.2\n",
      "IPython 4.2.0\n",
      "\n",
      "numpy 1.11.1\n",
      "pandas 0.18.1\n",
      "matplotlib 1.5.1\n",
      "keras 1.0.6\n",
      "scikit-learn 0.17.1\n"
     ]
    }
   ],
   "source": [
    "os.chdir(path)\n",
    "%matplotlib inline\n",
    "import numpy as np\n",
    "import pandas as pd\n",
    "import matplotlib.pyplot as plt\n",
    "plt.rcParams['figure.figsize'] = 8, 6 # change default figure size\n",
    "\n",
    "# 1. magic to print version\n",
    "# 2. magic so that the notebook will reload external python modules\n",
    "%load_ext watermark\n",
    "%load_ext autoreload \n",
    "%autoreload 2\n",
    "\n",
    "from keras.models import Sequential\n",
    "from keras.callbacks import EarlyStopping\n",
    "from keras.utils.np_utils import to_categorical\n",
    "from keras.preprocessing.text import Tokenizer\n",
    "from keras.preprocessing.sequence import pad_sequences\n",
    "from keras.layers import Dense, Flatten, Conv1D, MaxPooling1D, Embedding\n",
    "\n",
    "%watermark -a 'Ethen' -d -t -v -p numpy,pandas,matplotlib,keras,scikit-learn"
   ]
  },
  {
   "cell_type": "markdown",
   "metadata": {},
   "source": [
    "# Text Classification using Word Embedding and ConvNets\n",
    "\n",
    "## What are word embeddings?\n",
    "\n",
    "\"Word embeddings\" (or so called word vectors) are a family of natural language processing techniques that aims to map semantic meaning into a geometric space. This is done by associating a numeric vector to every word in a dictionary, such that the distance (e.g. L2 distance or more commonly cosine distance) between any two vectors would capture part of the semantic relationship between the two associated words. The geometric space formed by these vectors is called an embedding space.\n",
    "\n",
    "For instance, \"coconut\" and \"polar bear\" are words that are semantically quite different, so a reasonable embedding space would represent them as vectors that would be very far apart. But \"kitchen\" and \"dinner\" are related words, so they should be embedded close to each other.\n",
    "\n",
    "Ideally, in a good embeddings space, the \"path\" (a vector) to go from \"kitchen\" and \"dinner\" would capture precisely the semantic relationship between these two concepts. In this case the relationship is \"where x occurs\", so you would expect the vector kitchen - dinner (difference of the two embedding vectors, i.e. path to go from dinner to kitchen) to capture this \"where x occurs\" relationship. Basically, we should have the vectorial identity: dinner + (where x occurs) = kitchen (at least approximately). If that's indeed the case, then we can use such a relationship vector to answer questions. For instance, starting from a new vector, e.g. \"work\", and applying this relationship vector, we should get sometime meaningful, e.g. work + (where x occurs) = office, answering \"where does work occur?\".\n",
    "\n",
    "Word embeddings are computed by applying dimensionality reduction techniques to datasets of co-occurence statistics between words in a corpus of text. This can be done via shallow neural networks, e.g. **word2vec**, or via matrix factorization, e.g. **Glove**."
   ]
  },
  {
   "cell_type": "markdown",
   "metadata": {},
   "source": [
    "## Task\n",
    "\n",
    "The dataset we'll use is the [20 Newsgroup dataset](http://www.cs.cmu.edu/afs/cs.cmu.edu/project/theo-20/www/data/news20.html). The task that we will try to solve is to classify posts coming from 20 different newsgroup into their original 20 categories using text associated with each post.\n",
    "\n",
    "Categories (listed below) are fairly semantically distinct and thus will have quite different words associated with them.\n",
    "\n",
    "```\n",
    "alt.atheism\n",
    "talk.politics.guns\n",
    "talk.politics.mideast\n",
    "talk.politics.misc\n",
    "talk.religion.misc\n",
    "soc.religion.christian\n",
    "\n",
    "comp.sys.ibm.pc.hardware\n",
    "comp.graphics\n",
    "comp.os.ms-windows.misc\n",
    "comp.sys.mac.hardware\n",
    "comp.windows.x\n",
    "\n",
    "rec.autos\n",
    "rec.motorcycles\n",
    "rec.sport.baseball\n",
    "rec.sport.hockey\n",
    "\n",
    "sci.crypt\n",
    "sci.electronics\n",
    "sci.space\n",
    "sci.med\n",
    "\n",
    "misc.forsale\n",
    "\n",
    "```\n",
    "\n",
    "To solve the classification problem we will:\n",
    "\n",
    "- Convert all text samples in the dataset into sequences of word indices. A \"word index\" is simply representing each word with an integer ID. We will only consider the top 50,000 most commonly occuring words in the dataset, and we will truncate the sequences to a maximum length of 1000 words (sentences that have less than 1000 words will be padded with 0).\n",
    "- Prepare an \"embedding matrix\" (more detail below) which will contain at index i the embedding vector for the word of index i in our word index.\n",
    "- Load this embedding matrix into a Keras `Embedding` layer, set to be frozen (its weights, the embedding vectors, will not be updated during training).\n",
    "- Build a 1D convolutional neural network on top of it, ending in a softmax output over our 20 categories.\n",
    "\n",
    "> Side note: When solving classic text classication problem (e.g. spam filtering, sentiment analysis) using neural networks, Recurrent neural network (RNN) might be a more 'natural' approach, given that text is naturally sequential. However, RNNs are quite slow and fickle to train and Convnets surprisingly works quite well.\n",
    "\n",
    "**GloVe word embeddings**\n",
    "\n",
    "For the embedding matrix, we will use the pre-trained [GloVe embeddings](http://nlp.stanford.edu/projects/glove/). GloVe stands for \"Global Vectors for Word Representation\". It's a  popular embedding technique based on factorizing a matrix of word co-occurence statistics.\n",
    "\n",
    "Specifically, we will use the pre-trained 100-dimensional GloVe embeddings of 400k words computed on a 2014 dump of English Wikipedia. You can download them [here](http://nlp.stanford.edu/data/glove.6B.zip).\n",
    "\n",
    "<p>\n",
    "<div class=\"alert alert-warning\">\n",
    "The pre-trained word embeddings is a 822MB download\n",
    "</div>\n",
    "\n",
    "With all that being said and done, let's get started."
   ]
  },
  {
   "cell_type": "code",
   "execution_count": 3,
   "metadata": {
    "collapsed": true
   },
   "outputs": [],
   "source": [
    "# define some global variables\n",
    "GLOVE_DIR = 'glove.6B/'\n",
    "TEXT_DATA_DIR = '20_newsgroup/'\n",
    "MAX_SEQUENCE_LENGTH = 1000\n",
    "MAX_NB_WORDS = 20000\n",
    "EMBEDDING_DIM = 100\n",
    "VALIDATION_SPLIT = 0.2"
   ]
  },
  {
   "cell_type": "markdown",
   "metadata": {},
   "source": [
    "### Preprocessing\n",
    "\n",
    "Preparing the text data:\n",
    "\n",
    "We will simply iterate over the folders in which our text samples are stored, and format them into a list of data points. We will also assign each data point a class label (It turns out scikit-learn also already has this data built-in so we don't have to do this loading ourselves ...).\n",
    "\n",
    "<p>\n",
    "<div class=\"alert alert-warning\">\n",
    "If you happened to get an UnicodeDecodeError: 'utf8' codec can't decode byte error when reading the dataset, the way to get around this is to add `encoding = 'Latin-1'` to the open file method.\n",
    "</div>"
   ]
  },
  {
   "cell_type": "code",
   "execution_count": 4,
   "metadata": {
    "collapsed": false
   },
   "outputs": [
    {
     "name": "stdout",
     "output_type": "stream",
     "text": [
      "Processing text dataset\n",
      "Found 19997 texts.\n"
     ]
    }
   ],
   "source": [
    "print('Processing text dataset')\n",
    "\n",
    "# 1. list of text for each news story (data point)\n",
    "# 2. list of label ids (target)\n",
    "# 3. dictionary mapping label name (news' category) to numeric id\n",
    "texts  = []\n",
    "labels = []\n",
    "labels_index = {}  \n",
    "\n",
    "for name in os.listdir(TEXT_DATA_DIR):\n",
    "    \n",
    "    # each news category is stored in different category\n",
    "    path = os.path.join( TEXT_DATA_DIR, name )\n",
    "    if os.path.isdir(path):\n",
    "        \n",
    "        # assign a distinct label id for each category\n",
    "        label_id = len(labels_index)\n",
    "        labels_index[name] = label_id\n",
    "    \n",
    "        for fname in os.listdir(path):\n",
    "            fpath = os.path.join( path, fname )\n",
    "            with open( fpath, encoding = 'Latin-1' ) as f:\n",
    "                text = f.read()\n",
    "                texts.append(text)\n",
    "                labels.append(label_id)\n",
    "\n",
    "print( 'Found %s texts.' % len(texts) )"
   ]
  },
  {
   "cell_type": "markdown",
   "metadata": {},
   "source": [
    "Then we preprocess our text samples and labels using functionalities provided by Kersa so that they can be fed into a neural network. `Tokenizer` allows us to convert the text data into a sequence of integers (building a dictionary mapping word to index then converting the each word in the orginal to index). For more info refer to the [Keras Text Preprocessing Doc](https://keras.io/preprocessing/text/)."
   ]
  },
  {
   "cell_type": "code",
   "execution_count": 5,
   "metadata": {
    "collapsed": false
   },
   "outputs": [
    {
     "name": "stdout",
     "output_type": "stream",
     "text": [
      "Found 214873 unique tokens.\n"
     ]
    }
   ],
   "source": [
    "# keras preprocessing\n",
    "tokenizer = Tokenizer(nb_words = 50000)\n",
    "tokenizer.fit_on_texts(texts)\n",
    "\n",
    "# a dictionary of words to their id (all the words)\n",
    "word_index = tokenizer.word_index\n",
    "print( 'Found %s unique tokens.' % len(word_index) )\n",
    "\n",
    "# during the text_to_sequence, it will remove words\n",
    "# whose frequency is not larger than the `nb_words` parameter\n",
    "# that you've specified\n",
    "sequences = tokenizer.texts_to_sequences(texts)"
   ]
  },
  {
   "cell_type": "code",
   "execution_count": 6,
   "metadata": {
    "collapsed": false
   },
   "outputs": [
    {
     "name": "stdout",
     "output_type": "stream",
     "text": [
      "Found 50000 unique tokens.\n"
     ]
    }
   ],
   "source": [
    "# write a different preprocessing\n",
    "from text import Tokenizer as Tokenizer2\n",
    "tokenizer2 = Tokenizer2(nb_words = 50000)\n",
    "tokenizer2.fit_on_texts(texts)\n",
    "\n",
    "# a dictionary of words to their id (all the words)\n",
    "word_index = tokenizer2.word_index\n",
    "print( 'Found %s unique tokens.' % len(word_index) )\n",
    "\n",
    "# during the text_to_sequence, it will remove words\n",
    "# whose frequency is not larger than the `nb_words` parameter\n",
    "# that you've specified\n",
    "sequences = tokenizer2.texts_to_sequences(texts)"
   ]
  },
  {
   "cell_type": "code",
   "execution_count": 7,
   "metadata": {
    "collapsed": false
   },
   "outputs": [
    {
     "name": "stdout",
     "output_type": "stream",
     "text": [
      "Shape of data: (19997, 1000)\n",
      "Shape of label: (19997, 20)\n",
      "Shape of training data: (15998, 1000)\n",
      "Shape of validation data: (3999, 1000)\n",
      "Shape of training label: (15998, 20)\n",
      "Shape of validation label: (3999, 20)\n"
     ]
    }
   ],
   "source": [
    "# pad the sequences so they become a equal lengthed array\n",
    "# this will be our preprocessed data\n",
    "X = pad_sequences( sequences, maxlen = MAX_SEQUENCE_LENGTH )\n",
    "\n",
    "# one-hot encode the y labels\n",
    "y = to_categorical(np.array(labels))\n",
    "print('Shape of data:', X.shape)\n",
    "print('Shape of label:', y.shape)\n",
    "\n",
    "# split the data into a training set and a validation set\n",
    "np.random.seed(1337)\n",
    "indices = np.arange(X.shape[0])\n",
    "np.random.shuffle(indices)\n",
    "X = X[indices]\n",
    "y = y[indices]\n",
    "val_samples = int(VALIDATION_SPLIT * X.shape[0])\n",
    "\n",
    "X_train = X[:-val_samples]\n",
    "y_train = y[:-val_samples]\n",
    "X_val = X[-val_samples:]\n",
    "y_val = y[-val_samples:]\n",
    "print('Shape of training data:', X_train.shape)\n",
    "print('Shape of validation data:', X_val.shape)\n",
    "print('Shape of training label:', y_train.shape)\n",
    "print('Shape of validation label:', y_val.shape)"
   ]
  },
  {
   "cell_type": "markdown",
   "metadata": {},
   "source": [
    "### Preparing the Embedding layer\n",
    "\n",
    "We'll read in one line of the glove dataset to get a feeling of what it looks like. Note that the file name is `100d`, there're different dimensions of word embeddings in the file. you can try which one leads to better performance."
   ]
  },
  {
   "cell_type": "code",
   "execution_count": 8,
   "metadata": {
    "collapsed": false
   },
   "outputs": [
    {
     "data": {
      "text/plain": [
       "'the -0.038194 -0.24487 0.72812 -0.39961 0.083172 0.043953 -0.39141 0.3344 -0.57545 0.087459 0.28787 -0.06731 0.30906 -0.26384 -0.13231 -0.20757 0.33395 -0.33848 -0.31743 -0.48336 0.1464 -0.37304 0.34577 0.052041 0.44946 -0.46971 0.02628 -0.54155 -0.15518 -0.14107 -0.039722 0.28277 0.14393 0.23464 -0.31021 0.086173 0.20397 0.52624 0.17164 -0.082378 -0.71787 -0.41531 0.20335 -0.12763 0.41367 0.55187 0.57908 -0.33477 -0.36559 -0.54857 -0.062892 0.26584 0.30205 0.99775 -0.80481 -3.0243 0.01254 -0.36942 2.2167 0.72201 -0.24978 0.92136 0.034514 0.46745 1.1079 -0.19358 -0.074575 0.23353 -0.052062 -0.22044 0.057162 -0.15806 -0.30798 -0.41625 0.37972 0.15006 -0.53212 -0.2055 -1.2526 0.071624 0.70565 0.49744 -0.42063 0.26148 -1.538 -0.30223 -0.073438 -0.28312 0.37104 -0.25217 0.016215 -0.017099 -0.38984 0.87424 -0.72569 -0.51058 -0.52028 -0.1459 0.8278 0.27062\\n'"
      ]
     },
     "execution_count": 8,
     "metadata": {},
     "output_type": "execute_result"
    }
   ],
   "source": [
    "GLOVE_FILE = os.path.join( GLOVE_DIR, 'glove.6B.100d.txt' )\n",
    "with open(GLOVE_FILE) as f:\n",
    "    test = next(f)\n",
    "test"
   ]
  },
  {
   "cell_type": "markdown",
   "metadata": {},
   "source": [
    "The following code chunk reads in the pre-trained embeddings and construct an `embedding_index`, which is a dictionary mapping words to known embeddings. \n",
    "\n",
    "We can then leverage our `embedding_index` dictionary and our `word_index` to compute our embedding matrix. By computing, we mean if the word appeared in the pre-trained word embedding, then it will use its coefficients, if not then the coefficients' value will be set to zero."
   ]
  },
  {
   "cell_type": "code",
   "execution_count": 9,
   "metadata": {
    "collapsed": false
   },
   "outputs": [
    {
     "name": "stdout",
     "output_type": "stream",
     "text": [
      "Indexing word vectors.\n",
      "Found 400000 word vectors.\n"
     ]
    }
   ],
   "source": [
    "print('Indexing word vectors.')\n",
    "\n",
    "# words stored as keys, \n",
    "# corresponding embeddings (vectors) stored as values\n",
    "embeddings_index = {}\n",
    "GLOVE_FILE = os.path.join( GLOVE_DIR, 'glove.6B.100d.txt' )\n",
    "with open(GLOVE_FILE) as f:\n",
    "    for line in f:\n",
    "        value = line.split()\n",
    "        word  = value[0]\n",
    "        coefs = np.array( value[1:], dtype = 'float32' )\n",
    "        embeddings_index[word] = coefs\n",
    "\n",
    "print( 'Found %s word vectors.' % len(embeddings_index) )"
   ]
  },
  {
   "cell_type": "code",
   "execution_count": 10,
   "metadata": {
    "collapsed": false
   },
   "outputs": [
    {
     "name": "stdout",
     "output_type": "stream",
     "text": [
      "34297\n"
     ]
    }
   ],
   "source": [
    "# 1. the EMBEDDING_DIM is 100, which matches the 100d glove file name\n",
    "# 2. add one to the np.array, since the word id starts from 1 instead of 0\n",
    "count = 0\n",
    "embedding_matrix = np.zeros( ( len(word_index) + 1, EMBEDDING_DIM ), dtype = 'float32' )\n",
    "for word, i in word_index.items():\n",
    "    if word in embeddings_index:\n",
    "        embedding_vector = embeddings_index[word]\n",
    "        embedding_matrix[i] = embedding_vector\n",
    "        count += 1\n",
    "\n",
    "# number of tokens that appeared in the pre-trained word vectors\n",
    "print(count)"
   ]
  },
  {
   "cell_type": "markdown",
   "metadata": {},
   "source": [
    "### Training a 1D convnet\n",
    "\n",
    "Finally we can build a toy 1D convnet to solve our classification problem. Note that for the `Embedding` layer, we set `trainable = False` to prevent the weights from being updated during training.\n",
    "\n",
    "An `Embedding` layer should be fed sequences of integers, i.e. a 2D input of shape (samples, indices). These input sequences should be padded so that they all have the same length in a batch of input data (although an `Embedding` layer is capable of processing sequence of heterogenous length, if you don't pass an explicit `input_length` argument to the layer).\n",
    "\n",
    "All the `Embedding` layer does is to map the integer inputs to the vectors found at the corresponding index in the embedding matrix, i.e. the sequence [1, 2] would be converted to [embeddings[1], embeddings[2]]. This means that the output of the Embedding layer will be a 3D tensor of shape (samples, sequence_length, embedding_dim)."
   ]
  },
  {
   "cell_type": "code",
   "execution_count": 11,
   "metadata": {
    "collapsed": true
   },
   "outputs": [],
   "source": [
    "n_classes = y_train.shape[1]\n",
    "\n",
    "# setting up the Embedding layer\n",
    "embedding_layer = Embedding( len(word_index) + 1, EMBEDDING_DIM,\n",
    "                             weights = [embedding_matrix],\n",
    "                             input_length = MAX_SEQUENCE_LENGTH,\n",
    "                             trainable = False )\n",
    "model = Sequential()\n",
    "model.add(embedding_layer)\n",
    "model.add(Conv1D( nb_filter = 128, filter_length = 5, activation = 'relu' ))\n",
    "model.add(MaxPooling1D( pool_length = 5 ))\n",
    "model.add(Conv1D( nb_filter = 128, filter_length = 5, activation = 'relu' ))\n",
    "model.add(MaxPooling1D( pool_length = 5 ))\n",
    "model.add(Conv1D( nb_filter = 128, filter_length = 5, activation = 'relu' ))\n",
    "model.add(MaxPooling1D( pool_length = 35 ))\n",
    "model.add(Flatten())\n",
    "model.add(Dense( 128, activation = 'relu' ))\n",
    "model.add(Dense( n_classes, activation = 'softmax' ))\n",
    "model.compile( loss = 'categorical_crossentropy',\n",
    "               optimizer = 'rmsprop', metrics = ['acc'] )"
   ]
  },
  {
   "cell_type": "markdown",
   "metadata": {},
   "source": [
    "```python\n",
    "# obtain the graph visualization of the network if we wish\n",
    "from keras.utils.visualize_util import plot\n",
    "plot( model, to_file = 'model.png', show_shapes = True, show_layer_names = True )\n",
    "\n",
    "```"
   ]
  },
  {
   "cell_type": "code",
   "execution_count": 12,
   "metadata": {
    "collapsed": false
   },
   "outputs": [
    {
     "name": "stdout",
     "output_type": "stream",
     "text": [
      "Train on 15998 samples, validate on 3999 samples\n",
      "Epoch 1/10\n",
      "15998/15998 [==============================] - 498s - loss: 2.4533 - acc: 0.2056 - val_loss: 1.5740 - val_acc: 0.4739\n",
      "Epoch 2/10\n",
      "15998/15998 [==============================] - 524s - loss: 0.8420 - acc: 0.7170 - val_loss: 0.3413 - val_acc: 0.9155\n",
      "Epoch 3/10\n",
      "15998/15998 [==============================] - 527s - loss: 0.2484 - acc: 0.9189 - val_loss: 0.5202 - val_acc: 0.8372\n",
      "Epoch 4/10\n",
      "15998/15998 [==============================] - 500s - loss: 0.1594 - acc: 0.9448 - val_loss: 0.1318 - val_acc: 0.9482\n",
      "Epoch 5/10\n",
      "15998/15998 [==============================] - 501s - loss: 0.1256 - acc: 0.9532 - val_loss: 0.1376 - val_acc: 0.9532\n",
      "Epoch 6/10\n",
      "15998/15998 [==============================] - 482s - loss: 0.1052 - acc: 0.9583 - val_loss: 0.1390 - val_acc: 0.9500\n",
      "Epoch 7/10\n",
      "15872/15998 [============================>.] - ETA: 3s - loss: 0.0949 - acc: 0.9593 Epoch 00006: early stopping\n",
      "15998/15998 [==============================] - 491s - loss: 0.0951 - acc: 0.9592 - val_loss: 0.1390 - val_acc: 0.9442\n"
     ]
    },
    {
     "data": {
      "text/plain": [
       "<keras.callbacks.History at 0x12689fe48>"
      ]
     },
     "execution_count": 12,
     "metadata": {},
     "output_type": "execute_result"
    }
   ],
   "source": [
    "# if the validation set's loss does not improvement\n",
    "# after 2 epochs (patience), the training will be stopped\n",
    "callback = [ EarlyStopping( monitor = 'val_loss', patience = 2, verbose = 1 ) ]\n",
    "model.fit( X_train, y_train, shuffle = True,\n",
    "           nb_epoch = 10, batch_size = 256,\n",
    "           validation_data = (X_val, y_val),\n",
    "           callbacks = callback )"
   ]
  },
  {
   "cell_type": "code",
   "execution_count": 13,
   "metadata": {
    "collapsed": false
   },
   "outputs": [
    {
     "name": "stdout",
     "output_type": "stream",
     "text": [
      "3999/3999 [==============================] - 56s    \n"
     ]
    }
   ],
   "source": [
    "# predict the validation set's accuracy\n",
    "y_val_pred = model.predict_classes( X_val, verbose = 1 )"
   ]
  },
  {
   "cell_type": "code",
   "execution_count": 14,
   "metadata": {
    "collapsed": false
   },
   "outputs": [
    {
     "name": "stdout",
     "output_type": "stream",
     "text": [
      "valid accuracy: 94.42\n"
     ]
    }
   ],
   "source": [
    "# accuracy score for the word embedding / covnets\n",
    "y_labels = np.array(labels)[indices][-val_samples:]\n",
    "accuracy = np.sum( y_labels == y_val_pred ) / X_val.shape[0]\n",
    "print( 'valid accuracy: %.2f' % ( accuracy * 100 ) )"
   ]
  },
  {
   "cell_type": "markdown",
   "metadata": {},
   "source": [
    "This model reaches 94% classification accuracy on the validation set after 6 epochs. \n",
    "\n",
    "There're a whole bunch of other different things that we can try out to get an even higher accuracy:\n",
    "\n",
    "- Include regularization mechanism (e.g. dropout)\n",
    "- Try tuning the embedding layer (e.g. load different dimensions of pre-trained word vectors or let it train with the network using more epochs)\n",
    "- Different network architecture, including increasing the number of epochs as the early stopping criteria was not met\n",
    "\n",
    "To test how well we would have performed by not using pre-trained word embeddings, we just need to replace our Embedding layer with the following:\n",
    "\n",
    "```python\n",
    "embedding_layer = Embedding(len(word_index) + 1,\n",
    "                            EMBEDDING_DIM,\n",
    "                            input_length = MAX_SEQUENCE_LENGTH )\n",
    "```\n",
    "\n",
    "This will initialize our `Embedding` layer from scratch and let it learn its weights during training.\n",
    "\n",
    "In general, using pre-trained embeddings is relevant for natural processing tasks were little training data is available. The functionally the embeddings act as an injection of outside information, which might prove useful for the model."
   ]
  },
  {
   "cell_type": "markdown",
   "metadata": {},
   "source": [
    "## Comparing Performance\n",
    "\n",
    "One popular approach to tackle this type of text classification problem is to use bag-of-words of tf-idf for the feature engineering step and and train a logistic (softmax) regression classifier. This combination serves as a very strong baseline and getting other approaches to match its speed/accuracy is difficult. We'll try one here, and compare the performances to see if the doing extra work like word embedding and training a more complicated was worth the effort."
   ]
  },
  {
   "cell_type": "code",
   "execution_count": 15,
   "metadata": {
    "collapsed": true
   },
   "outputs": [],
   "source": [
    "from sklearn.metrics import accuracy_score\n",
    "from sklearn.linear_model import LogisticRegression\n",
    "from sklearn.feature_extraction.text import TfidfVectorizer"
   ]
  },
  {
   "cell_type": "code",
   "execution_count": 16,
   "metadata": {
    "collapsed": false
   },
   "outputs": [],
   "source": [
    "# used the shuffled indices from before\n",
    "# to shuffle the original text and label\n",
    "texts = np.array(texts)\n",
    "labels = np.array(labels)\n",
    "texts_shuffled  = texts[indices]\n",
    "labels_shuffled = labels[indices]\n",
    "\n",
    "# train / validation split\n",
    "texts_train  = texts_shuffled[:-val_samples]\n",
    "labels_train = labels_shuffled[:-val_samples]\n",
    "texts_val  = texts_shuffled[-val_samples:]\n",
    "labels_val = labels_shuffled[-val_samples:]"
   ]
  },
  {
   "cell_type": "code",
   "execution_count": 17,
   "metadata": {
    "collapsed": false
   },
   "outputs": [
    {
     "name": "stdout",
     "output_type": "stream",
     "text": [
      "(15998, 476088)\n"
     ]
    }
   ],
   "source": [
    "# remove built-in english stop words, use 1 and 2 gram and remove words\n",
    "# that appeared in less than two documents\n",
    "tfidf = TfidfVectorizer( stop_words = 'english', ngram_range = (1, 2), min_df = 2 )\n",
    "X_train_tfidf = tfidf.fit_transform(texts_train)\n",
    "X_val_tfidf = tfidf.transform(texts_val)\n",
    "print(X_train_tfidf.shape)"
   ]
  },
  {
   "cell_type": "code",
   "execution_count": 18,
   "metadata": {
    "collapsed": false
   },
   "outputs": [
    {
     "data": {
      "text/plain": [
       "LogisticRegression(C=1.0, class_weight=None, dual=False, fit_intercept=True,\n",
       "          intercept_scaling=1, max_iter=100, multi_class='ovr', n_jobs=-1,\n",
       "          penalty='l2', random_state=None, solver='liblinear', tol=0.0001,\n",
       "          verbose=0, warm_start=False)"
      ]
     },
     "execution_count": 18,
     "metadata": {},
     "output_type": "execute_result"
    }
   ],
   "source": [
    "logreg = LogisticRegression(n_jobs = -1)\n",
    "logreg.fit( X_train_tfidf, labels_train )"
   ]
  },
  {
   "cell_type": "code",
   "execution_count": 19,
   "metadata": {
    "collapsed": false
   },
   "outputs": [
    {
     "name": "stdout",
     "output_type": "stream",
     "text": [
      "0.951987996999\n"
     ]
    }
   ],
   "source": [
    "# accuracy score for the tfidf-logistic regression\n",
    "y_val_pred = logreg.predict(X_val_tfidf)\n",
    "print( accuracy_score( labels_val, y_val_pred ) )"
   ]
  },
  {
   "cell_type": "markdown",
   "metadata": {},
   "source": [
    "## Reference\n",
    "\n",
    "- [Keras Blog: Using pre-trained word embeddings in a Keras model](https://blog.keras.io/using-pre-trained-word-embeddings-in-a-keras-model.html)\n",
    "- [Source code of the blog above](https://github.com/fchollet/keras/blob/master/examples/pretrained_word_embeddings.py)\n",
    "- [Keras Text Preprocessing Doc](https://keras.io/preprocessing/text/)\n",
    "- [Keras Text Preprocessing Source Code](https://github.com/fchollet/keras/tree/master/keras/preprocessing)"
   ]
  }
 ],
 "metadata": {
  "anaconda-cloud": {},
  "kernelspec": {
   "display_name": "Python [Root]",
   "language": "python",
   "name": "Python [Root]"
  },
  "language_info": {
   "codemirror_mode": {
    "name": "ipython",
    "version": 3
   },
   "file_extension": ".py",
   "mimetype": "text/x-python",
   "name": "python",
   "nbconvert_exporter": "python",
   "pygments_lexer": "ipython3",
   "version": "3.5.2"
  }
 },
 "nbformat": 4,
 "nbformat_minor": 0
}
