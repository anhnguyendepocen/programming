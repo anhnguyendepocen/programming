{
 "cells": [
  {
   "cell_type": "markdown",
   "metadata": {},
   "source": [
    "## Parallel Processing\n",
    "\n",
    "Modern computers often have multiple cores, we should leverage the capabilities of these processors to increase performance. To do so, we need to divide a problem into sub-problems and tackle them independently. We'll first look at the `multiprocessing` library.\n",
    "\n",
    "The following sections follows the tutorial given in the Youtube link below.\n",
    "\n",
    "- [Youtube: Multiprocessing - Intermediate Python Programming p.10](https://www.youtube.com/watch?v=oEYDqQ1pq9o&t=599s)\n",
    "- [Youtube: Getting returned values from Processes - Intermediate Python Programming p.11](https://www.youtube.com/watch?v=kUKOEuPJXGc)"
   ]
  },
  {
   "cell_type": "code",
   "execution_count": null,
   "metadata": {
    "collapsed": true
   },
   "outputs": [],
   "source": [
    "from multiprocessing import Process\n",
    "\n",
    "def spawn(num):\n",
    "    print('Spawned {}'.format(num))\n",
    "\n",
    "if __name__ == '__main__':\n",
    "    for i in range(5):\n",
    "        # initiate a process using the function as the target,\n",
    "        # then pass in the argument to the function in the args\n",
    "        # argument; the argument expects a tuple so (i,) allows\n",
    "        # us to create a one-element tuple, after that we can\n",
    "        # start the process   \n",
    "        p = Process( target = spawn, args = (i,) )\n",
    "        p.start()\n",
    "        \n",
    "        # here we're calling .join() to\n",
    "        # join the process, this is basically waiting for \n",
    "        # each individual process to complete so they come in the\n",
    "        # pre-defined order, we wouldn't need this if task is\n",
    "        # independent of each other and the order of completion\n",
    "        # also does not matter\n",
    "        p.join()"
   ]
  },
  {
   "cell_type": "markdown",
   "metadata": {},
   "source": [
    "Next, we'll see how we can introduce communications between processes, so instead of printing stuff out, we can return values."
   ]
  },
  {
   "cell_type": "code",
   "execution_count": null,
   "metadata": {
    "collapsed": true
   },
   "outputs": [],
   "source": [
    "from multiprocessing import Pool\n",
    "\n",
    "def job(num):\n",
    "    return num * 2\n",
    "\n",
    "# we create a Pool, and the processes argument refers\n",
    "# to how many stuff will be processed at a single time\n",
    "# after that we call map to apply the function to an iterable.\n",
    "# to our function, we can have multiple map (task)\n",
    "with Pool(processes = 10) as p:\n",
    "    data = p.map( job, range(5) )\n",
    "\n",
    "data"
   ]
  }
 ],
 "metadata": {
  "anaconda-cloud": {},
  "kernelspec": {
   "display_name": "Python [Root]",
   "language": "python",
   "name": "Python [Root]"
  },
  "language_info": {
   "codemirror_mode": {
    "name": "ipython",
    "version": 3
   },
   "file_extension": ".py",
   "mimetype": "text/x-python",
   "name": "python",
   "nbconvert_exporter": "python",
   "pygments_lexer": "ipython3",
   "version": "3.5.2"
  }
 },
 "nbformat": 4,
 "nbformat_minor": 0
}
