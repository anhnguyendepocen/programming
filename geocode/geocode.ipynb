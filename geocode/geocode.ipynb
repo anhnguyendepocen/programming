{
 "cells": [
  {
   "cell_type": "code",
   "execution_count": 5,
   "metadata": {
    "collapsed": true
   },
   "outputs": [],
   "source": [
    "# http://chrisalbon.com/python/geocoding_and_reverse_geocoding.html\n",
    "\n",
    "# according to \n",
    "# http://stackoverflow.com/questions/24948534/geocoding-6000-addresses-using-pygeocoder-not-working-because-it-limited-the-q\n",
    "# there is a usage limit (2500 requests per day)\n",
    "import pandas as pd\n",
    "from pygeocoder import Geocoder"
   ]
  },
  {
   "cell_type": "code",
   "execution_count": 4,
   "metadata": {
    "collapsed": false
   },
   "outputs": [
    {
     "data": {
      "text/html": [
       "<div>\n",
       "<table border=\"1\" class=\"dataframe\">\n",
       "  <thead>\n",
       "    <tr style=\"text-align: right;\">\n",
       "      <th></th>\n",
       "      <th>ID</th>\n",
       "      <th>LATITUDE</th>\n",
       "      <th>LONGITUDE</th>\n",
       "    </tr>\n",
       "  </thead>\n",
       "  <tbody>\n",
       "    <tr>\n",
       "      <th>0</th>\n",
       "      <td>4681706</td>\n",
       "      <td>41.943458</td>\n",
       "      <td>-87.707740</td>\n",
       "    </tr>\n",
       "    <tr>\n",
       "      <th>1</th>\n",
       "      <td>4681707</td>\n",
       "      <td>41.766313</td>\n",
       "      <td>-87.615277</td>\n",
       "    </tr>\n",
       "    <tr>\n",
       "      <th>2</th>\n",
       "      <td>4681708</td>\n",
       "      <td>41.917234</td>\n",
       "      <td>-87.720926</td>\n",
       "    </tr>\n",
       "    <tr>\n",
       "      <th>3</th>\n",
       "      <td>4681711</td>\n",
       "      <td>41.777275</td>\n",
       "      <td>-87.649580</td>\n",
       "    </tr>\n",
       "    <tr>\n",
       "      <th>4</th>\n",
       "      <td>4681715</td>\n",
       "      <td>41.906458</td>\n",
       "      <td>-87.762082</td>\n",
       "    </tr>\n",
       "  </tbody>\n",
       "</table>\n",
       "</div>"
      ],
      "text/plain": [
       "        ID   LATITUDE  LONGITUDE\n",
       "0  4681706  41.943458 -87.707740\n",
       "1  4681707  41.766313 -87.615277\n",
       "2  4681708  41.917234 -87.720926\n",
       "3  4681711  41.777275 -87.649580\n",
       "4  4681715  41.906458 -87.762082"
      ]
     },
     "execution_count": 4,
     "metadata": {},
     "output_type": "execute_result"
    }
   ],
   "source": [
    "crime = pd.read_csv('Crime_Reverse_Geocoding.csv')\n",
    "crime.head()"
   ]
  },
  {
   "cell_type": "code",
   "execution_count": 26,
   "metadata": {
    "collapsed": false
   },
   "outputs": [],
   "source": [
    "lat = crime.loc[0, 'LATITUDE']\n",
    "long = crime.loc[0, 'LONGITUDE']"
   ]
  },
  {
   "cell_type": "code",
   "execution_count": 30,
   "metadata": {
    "collapsed": false
   },
   "outputs": [
    {
     "data": {
      "text/plain": [
       "'60618'"
      ]
     },
     "execution_count": 30,
     "metadata": {},
     "output_type": "execute_result"
    }
   ],
   "source": [
    "results = Geocoder.reverse_geocode(lat, long)\n",
    "results.postal_code"
   ]
  },
  {
   "cell_type": "code",
   "execution_count": 20,
   "metadata": {
    "collapsed": false
   },
   "outputs": [],
   "source": [
    "def get_postalcode(x):\n",
    "    results = Geocoder.reverse_geocode( x['LATITUDE'], x['LONGITUDE'] )\n",
    "    postalcode = results.postal_code\n",
    "    return postalcode"
   ]
  },
  {
   "cell_type": "code",
   "execution_count": 33,
   "metadata": {
    "collapsed": false
   },
   "outputs": [],
   "source": [
    "crime['postalcode'] = crime.iloc[0:10].apply(get_postalcode, axis = 1)\n",
    "crime.head()"
   ]
  }
 ],
 "metadata": {
  "kernelspec": {
   "display_name": "Python [Root]",
   "language": "python",
   "name": "Python [Root]"
  },
  "language_info": {
   "codemirror_mode": {
    "name": "ipython",
    "version": 3
   },
   "file_extension": ".py",
   "mimetype": "text/x-python",
   "name": "python",
   "nbconvert_exporter": "python",
   "pygments_lexer": "ipython3",
   "version": "3.5.2"
  }
 },
 "nbformat": 4,
 "nbformat_minor": 0
}
