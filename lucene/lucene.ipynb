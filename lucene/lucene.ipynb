{
 "cells": [
  {
   "cell_type": "markdown",
   "metadata": {
    "toc": "true"
   },
   "source": [
    "# Table of Contents\n",
    " <p>"
   ]
  },
  {
   "cell_type": "markdown",
   "metadata": {},
   "source": [
    "Lucene is a platform where we index information to make it easily searchable. The act of adding documents to the data store is called **indexing** and the data store itself is referred to as an **index**.\n",
    "\n",
    "Lucene assigns an unique document id (DocId) to each document when they are added to an index, which is used to return the details of a document in the search result. Assume we start a new index and added three documents:\n",
    "\n",
    "```\n",
    "Document id 1:  Lucene\n",
    "Document id 2:  Lucene and Solr\n",
    "Document id 3:  Solr extends Lucene\n",
    "```\n",
    "\n",
    "Lucene then indexes these documents by tokening the phrases into keywords and putting them into an **inverted index**, which serves as a lookup table between keyword and DocId. Thus the inverted index table for our sample data above would look like:\n",
    "\n",
    "```\n",
    "and : 2\n",
    "Lucene : 1, 2, 3\n",
    "extends : 3\n",
    "Solr : 2, 3\n",
    "```\n",
    "\n",
    "Notice that the keyword is sorted, this inverted index allows us to quickly answer questions such as: Get me all the documents with the term xyz."
   ]
  }
 ],
 "metadata": {
  "kernelspec": {
   "display_name": "Python 3",
   "language": "python",
   "name": "python3"
  },
  "language_info": {
   "codemirror_mode": {
    "name": "ipython",
    "version": 3
   },
   "file_extension": ".py",
   "mimetype": "text/x-python",
   "name": "python",
   "nbconvert_exporter": "python",
   "pygments_lexer": "ipython3",
   "version": "3.5.2"
  },
  "toc": {
   "colors": {
    "hover_highlight": "#DAA520",
    "running_highlight": "#FF0000",
    "selected_highlight": "#FFD700"
   },
   "moveMenuLeft": true,
   "nav_menu": {
    "height": "12px",
    "width": "252px"
   },
   "navigate_menu": true,
   "number_sections": true,
   "sideBar": true,
   "threshold": 4,
   "toc_cell": true,
   "toc_section_display": "block",
   "toc_window_display": true
  }
 },
 "nbformat": 4,
 "nbformat_minor": 2
}
