{
 "cells": [
  {
   "cell_type": "code",
   "execution_count": null,
   "metadata": {
    "collapsed": true
   },
   "outputs": [],
   "source": [
    "def memoize(f):\n",
    "    \"\"\"\n",
    "    caches a function's return value each time it is called,\n",
    "    if called later with the same arguments, \n",
    "    the cached value is returned (not reevaluated)\n",
    "    \"\"\"\n",
    "    memo = {}\n",
    "    def helper( c, ts ):\n",
    "        if x not in memo:            \n",
    "            memo[( c, ts )] = f( c, ts )\n",
    "        return memo[( c, ts )]\n",
    "    return helper"
   ]
  },
  {
   "cell_type": "code",
   "execution_count": null,
   "metadata": {
    "collapsed": true
   },
   "outputs": [],
   "source": [
    "@memoize\n",
    "def rec_tsp_solve(c, ts):\n",
    "    if ts:       \n",
    "        value = min( ( d[lc][c] + rec_tsp_solve( lc, ts - frozenset([lc]) )[0], lc )\n",
    "                   for lc in ts)\n",
    "        print(value)\n",
    "        return value\n",
    "    else:\n",
    "        return d[0][c], 0"
   ]
  },
  {
   "cell_type": "code",
   "execution_count": null,
   "metadata": {
    "collapsed": true
   },
   "outputs": [],
   "source": [
    "def tsp_rec_solve(d):\n",
    "    def rec_tsp_solve(c, ts):\n",
    "        assert c not in ts\n",
    "        if ts:\n",
    "            return min((d[lc][c] + rec_tsp_solve(lc, ts - set([lc]))[0], lc)\n",
    "                       for lc in ts)\n",
    "        else:\n",
    "            return (d[0][c], 0)\n",
    " \n",
    "    best_tour = []\n",
    "    c = 0\n",
    "    cs = set(range(1, len(d)))\n",
    "    while True:\n",
    "        l, lc = rec_tsp_solve(c, cs)\n",
    "        if lc == 0:\n",
    "            break\n",
    "        best_tour.append(lc)\n",
    "        c = lc\n",
    "        cs = cs - set([lc])\n",
    " \n",
    "    best_tour = tuple(reversed(best_tour))\n",
    " \n",
    "    return best_tour"
   ]
  },
  {
   "cell_type": "markdown",
   "metadata": {},
   "source": [
    "Get the path of minimum length that starts at city 0, passes through a set of cities ts (not including i or 0) in any order and ends at city c. where c represents the target city, ts is the intermediate set of cities and the next-to-last city is returned to allow reconstructing the path. Adding the reconstruction code:"
   ]
  },
  {
   "cell_type": "code",
   "execution_count": null,
   "metadata": {
    "collapsed": true
   },
   "outputs": [],
   "source": [
    "best_tour = []\n",
    "c = 0 # starting city (target city)\n",
    "cs = frozenset( range( 1, len(d) ) ) # city set (rest of the cities)\n",
    "cs - set({1})"
   ]
  },
  {
   "cell_type": "markdown",
   "metadata": {},
   "source": [
    "# Dynamic Programming\n",
    "\n",
    "Dynamic programming is a really useful general technique for solving problems that involves breaking down problems into smaller overlapping sub-problems, storing the results computed from the sub-problems and reusing those results on larger chunks of the problem. This approach is pretty much always more efficent than naive brute-force solutions.\n",
    "  \n",
    "While the core ideas behind dynamic programming are actually pretty simple, it turns out that it's fairly challenging to use on non-trivial problems because it's often not obvious how to frame a difficult problem in terms of overlapping sub-problems. We'll try to build solutions to several well-known problems and see how the problems can be decomposed to use dynamic programming.\n",
    "\n",
    "## Fibonacci Numbers\n",
    "\n",
    "First we'll look at the problem of computing numbers in the [Fibonacci sequence](https://en.wikipedia.org/wiki/Fibonacci_number).  The problem definition is very simple - each number in the sequence is the sum of the two previous numbers in the sequence.  Or, more formally:\n",
    "\n",
    "$F_n = F_{n-1} + F_{n-2}$, with $F_0 = 0$ and $F_1 = 1$ as the seed values.\n",
    "\n",
    "Our solution will be responsible for calculating each of Fibonacci numbers up to some defined limit.  We'll first implement a naive solution that re-calculates each number in the sequence from scratch."
   ]
  },
  {
   "cell_type": "code",
   "execution_count": null,
   "metadata": {
    "collapsed": true
   },
   "outputs": [],
   "source": [
    "def fib(n):\n",
    "    if n == 0:\n",
    "        return 0\n",
    "    if n == 1:\n",
    "        return 1\n",
    "    \n",
    "    return fib(n - 1) + fib(n - 2)\n",
    "\n",
    "def all_fib(n):\n",
    "    fibs = []\n",
    "    for i in range(n):\n",
    "        fibs.append(fib(i))\n",
    "    \n",
    "    return fibs"
   ]
  },
  {
   "cell_type": "code",
   "execution_count": null,
   "metadata": {
    "collapsed": true
   },
   "outputs": [],
   "source": [
    "# naive recursion implementation's running time (around 1 minute)\n",
    "# %time print(all_fib(40))"
   ]
  },
  {
   "cell_type": "code",
   "execution_count": null,
   "metadata": {
    "collapsed": true
   },
   "outputs": [],
   "source": [
    "def memoize(f):\n",
    "    \"\"\"\n",
    "    caches a function's return value each time it is called,\n",
    "    if called later with the same arguments, \n",
    "    the cached value is returned (not reevaluated)\n",
    "    \"\"\"\n",
    "    memo = {}\n",
    "    def helper(x):\n",
    "        if x not in memo:            \n",
    "            memo[x] = f(x)\n",
    "        return memo[x]\n",
    "    return helper\n",
    "\n",
    "@memoize\n",
    "def fib1(n):\n",
    "    if n == 0:\n",
    "        return 0\n",
    "    if n == 1:\n",
    "        return 1\n",
    "    \n",
    "    return fib(n - 1) + fib(n - 2)"
   ]
  },
  {
   "cell_type": "code",
   "execution_count": null,
   "metadata": {
    "collapsed": true
   },
   "outputs": [],
   "source": [
    "%time print(fib1(40))"
   ]
  },
  {
   "cell_type": "code",
   "execution_count": 20,
   "metadata": {
    "collapsed": true
   },
   "outputs": [],
   "source": [
    "import numpy as np\n",
    "from itertools import combinations"
   ]
  },
  {
   "cell_type": "code",
   "execution_count": 2,
   "metadata": {
    "collapsed": false
   },
   "outputs": [],
   "source": [
    "d = np.array( [[ 0, 1, 15, 6 ], [ 2, 0, 7, 3 ], [ 9, 6, 0, 12 ], [ 10, 4, 8, 0 ] ] )"
   ]
  },
  {
   "cell_type": "code",
   "execution_count": 32,
   "metadata": {
    "collapsed": false
   },
   "outputs": [
    {
     "data": {
      "text/plain": [
       "array([[ 0,  2,  9, 10],\n",
       "       [ 1,  0,  6,  4],\n",
       "       [15,  7,  0,  8],\n",
       "       [ 6,  3, 12,  0]])"
      ]
     },
     "execution_count": 32,
     "metadata": {},
     "output_type": "execute_result"
    }
   ],
   "source": [
    "d = np.array( [[ 0, 2, 9, 10 ], [ 1, 0, 6, 4 ], [ 15, 7, 0, 8 ], [ 6, 3, 12, 0 ] ] )\n",
    "\n",
    "# start from 0\n",
    "d"
   ]
  },
  {
   "cell_type": "code",
   "execution_count": 53,
   "metadata": {
    "collapsed": false
   },
   "outputs": [],
   "source": [
    "n = d.shape[0]\n",
    "C = {} # key is the from, to; value is the cost and the from city\n",
    "\n",
    "# starts from city 0\n",
    "for k in range( 1, n ):\n",
    "    C[( k, 0 )] = ( d[k][0], 0 ) "
   ]
  },
  {
   "cell_type": "code",
   "execution_count": 54,
   "metadata": {
    "collapsed": false
   },
   "outputs": [
    {
     "data": {
      "text/plain": [
       "{(1, 0): (1, 0), (2, 0): (15, 0), (3, 0): (6, 0)}"
      ]
     },
     "execution_count": 54,
     "metadata": {},
     "output_type": "execute_result"
    }
   ],
   "source": [
    "C"
   ]
  },
  {
   "cell_type": "code",
   "execution_count": 55,
   "metadata": {
    "collapsed": false
   },
   "outputs": [
    {
     "data": {
      "text/plain": [
       "{1, 2, 3}"
      ]
     },
     "execution_count": 55,
     "metadata": {},
     "output_type": "execute_result"
    }
   ],
   "source": [
    "whole_set = set(range( 1, n ))\n",
    "whole_set"
   ]
  },
  {
   "cell_type": "code",
   "execution_count": 56,
   "metadata": {
    "collapsed": false
   },
   "outputs": [],
   "source": [
    "# 1\n",
    "for subset in whole_set:\n",
    "    remaining = whole_set - set({subset})\n",
    "    for r in remaining:\n",
    "        C[( subset, r )] = ( d[subset][r] + d[r][0], r )"
   ]
  },
  {
   "cell_type": "code",
   "execution_count": 49,
   "metadata": {
    "collapsed": false
   },
   "outputs": [
    {
     "name": "stdout",
     "output_type": "stream",
     "text": [
      "(1, 2)\n",
      "frozenset({3})\n",
      "(1, 3)\n",
      "frozenset({2})\n",
      "(2, 3)\n",
      "frozenset({1})\n"
     ]
    }
   ],
   "source": [
    "for subsets in combinations( whole_set, 2 ):\n",
    "    print(subsets)\n",
    "    subsets = set(subsets)\n",
    "    remaining = whole_set - subsets # remaining length = 1\n",
    "    \n",
    "    dists\n",
    "    for subset in subsets:\n",
    "        dist = d[remaining][subset] + \n",
    "        dists.append(dist)\n",
    "    print(remaining)"
   ]
  },
  {
   "cell_type": "code",
   "execution_count": null,
   "metadata": {
    "collapsed": true
   },
   "outputs": [],
   "source": [
    "# 2\n"
   ]
  },
  {
   "cell_type": "code",
   "execution_count": 42,
   "metadata": {
    "collapsed": false
   },
   "outputs": [
    {
     "data": {
      "text/plain": [
       "{(1, 0): (1, 0),\n",
       " (1, 2): (21, 2),\n",
       " (1, 3): (10, 3),\n",
       " (2, 0): (15, 0),\n",
       " (2, 1): (8, 1),\n",
       " (2, 3): (14, 3),\n",
       " (3, 0): (6, 0),\n",
       " (3, 1): (4, 1),\n",
       " (3, 2): (27, 2)}"
      ]
     },
     "execution_count": 42,
     "metadata": {},
     "output_type": "execute_result"
    }
   ],
   "source": [
    "C"
   ]
  },
  {
   "cell_type": "code",
   "execution_count": 25,
   "metadata": {
    "collapsed": false
   },
   "outputs": [
    {
     "name": "stdout",
     "output_type": "stream",
     "text": [
      "{2}\n",
      "{1}\n",
      "{3}\n",
      "{1}\n",
      "{3}\n",
      "{2}\n",
      "{2, 3}\n",
      "{1, 3}\n",
      "{1, 2}\n"
     ]
    }
   ],
   "source": [
    "for subset_size in range( 2, n ):\n",
    "    for subsets in combinations( range( 1, n ), subset_size ):\n",
    "        # find the lowest cost to get to this subset\n",
    "        subsets = set(subsets)\n",
    "        for subset in subsets:\n",
    "            s = subsets - set({subset})\n",
    "            print(s)"
   ]
  },
  {
   "cell_type": "code",
   "execution_count": 16,
   "metadata": {
    "collapsed": false
   },
   "outputs": [
    {
     "data": {
      "text/plain": [
       "{(2, 1): (1, 0), (4, 2): (15, 0), (8, 3): (6, 0)}"
      ]
     },
     "execution_count": 16,
     "metadata": {},
     "output_type": "execute_result"
    }
   ],
   "source": [
    "C = {}\n",
    "\n",
    "    # Set transition cost from initial state\n",
    "for k in range(1, n):\n",
    "    C[(1 << k, k)] = (d[0][k], 0)\n",
    "C"
   ]
  },
  {
   "cell_type": "code",
   "execution_count": 13,
   "metadata": {
    "collapsed": false
   },
   "outputs": [
    {
     "data": {
      "text/plain": [
       "(21, [0, 1, 3, 2])"
      ]
     },
     "execution_count": 13,
     "metadata": {},
     "output_type": "execute_result"
    }
   ],
   "source": [
    "held_karp(d)"
   ]
  },
  {
   "cell_type": "code",
   "execution_count": 14,
   "metadata": {
    "collapsed": false
   },
   "outputs": [
    {
     "data": {
      "text/plain": [
       "4"
      ]
     },
     "execution_count": 14,
     "metadata": {},
     "output_type": "execute_result"
    }
   ],
   "source": [
    "1 << 2"
   ]
  },
  {
   "cell_type": "code",
   "execution_count": 12,
   "metadata": {
    "collapsed": true
   },
   "outputs": [],
   "source": [
    "def held_karp(dists):\n",
    "    \"\"\"\n",
    "    Implementation of Held-Karp, an algorithm that solves the Traveling\n",
    "    Salesman Problem using dynamic programming with memoization.\n",
    "    Parameters:\n",
    "        dists: distance matrix\n",
    "    Returns:\n",
    "        A tuple, (cost, path).\n",
    "    \"\"\"\n",
    "    n = len(dists)\n",
    "\n",
    "    # Maps each subset of the nodes to the cost to reach that subset, as well\n",
    "    # as what node it passed before reaching this subset.\n",
    "    # Node subsets are represented as set bits.\n",
    "    C = {}\n",
    "\n",
    "    # Set transition cost from initial state\n",
    "    for k in range(1, n):\n",
    "        C[(1 << k, k)] = (dists[0][k], 0)\n",
    "\n",
    "    # Iterate subsets of increasing length and store intermediate results\n",
    "    # in classic dynamic programming manner\n",
    "    for subset_size in range(2, n):\n",
    "        for subset in combinations(range(1, n), subset_size):\n",
    "            # Set bits for all nodes in this subset\n",
    "            bits = 0\n",
    "            for bit in subset:\n",
    "                bits |= 1 << bit\n",
    "\n",
    "            # Find the lowest cost to get to this subset\n",
    "            for k in subset:\n",
    "                prev = bits & ~(1 << k)\n",
    "\n",
    "                res = []\n",
    "                for m in subset:\n",
    "                    if m == 0 or m == k:\n",
    "                        continue\n",
    "                    res.append((C[(prev, m)][0] + dists[m][k], m))\n",
    "                C[(bits, k)] = min(res)\n",
    "\n",
    "    # We're interested in all bits but the least significant (the start state)\n",
    "    bits = (2**n - 1) - 1\n",
    "\n",
    "    # Calculate optimal cost\n",
    "    res = []\n",
    "    for k in range(1, n):\n",
    "        res.append((C[(bits, k)][0] + dists[k][0], k))\n",
    "    opt, parent = min(res)\n",
    "\n",
    "    # Backtrack to find full path\n",
    "    path = []\n",
    "    for i in range(n - 1):\n",
    "        path.append(parent)\n",
    "        new_bits = bits & ~(1 << parent)\n",
    "        _, parent = C[(bits, parent)]\n",
    "        bits = new_bits\n",
    "\n",
    "    # Add implicit start state\n",
    "    path.append(0)\n",
    "\n",
    "    return opt, list(reversed(path))"
   ]
  },
  {
   "cell_type": "markdown",
   "metadata": {},
   "source": [
    "## DP\n",
    "\n",
    "http://www.geeksforgeeks.org/travelling-salesman-problem-set-1/\n",
    "\n",
    "https://mchouza.wordpress.com/2010/11/21/solving-the-travelling-salesman-problem/\n",
    "\n",
    "http://episte.math.ntu.edu.tw/articles/mm/mm_11_3_02/page3.html\n",
    "\n",
    "https://github.com/phvargas/TSP-python/blob/master/TSP.py\n",
    "\n",
    "https://github.com/VedantPro/dynamic_TSP/blob/master/TSP.py\n",
    "\n",
    "--- \n",
    "\n",
    "- [Other People's Notes on Dynamic Programming](http://nbviewer.jupyter.org/github/jdwittenauer/ipython-notebooks/blob/master/notebooks/misc/DynamicProgramming.ipynb)\n",
    "- [memoization](http://www.python-course.eu/python3_memoization.php)"
   ]
  },
  {
   "cell_type": "markdown",
   "metadata": {},
   "source": [
    "## Branch and Bound\n",
    "\n",
    "http://episte.math.ntu.edu.tw/articles/mm/mm_11_3_02/page2.html\n",
    "\n",
    "http://neo.lcc.uma.es/vrp/solution-methods/branch-and-bound/\n",
    "\n",
    "https://www.quora.com/What-is-the-branch-and-bound-algorithm-technique\n",
    "\n",
    "https://github.com/mostafabahri/TSP_Branch-Bound/blob/master/TSP/TSP.py"
   ]
  }
 ],
 "metadata": {
  "anaconda-cloud": {},
  "kernelspec": {
   "display_name": "Python [Root]",
   "language": "python",
   "name": "Python [Root]"
  },
  "language_info": {
   "codemirror_mode": {
    "name": "ipython",
    "version": 3
   },
   "file_extension": ".py",
   "mimetype": "text/x-python",
   "name": "python",
   "nbconvert_exporter": "python",
   "pygments_lexer": "ipython3",
   "version": "3.5.2"
  }
 },
 "nbformat": 4,
 "nbformat_minor": 0
}
