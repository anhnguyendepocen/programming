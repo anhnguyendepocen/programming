{
 "cells": [
  {
   "cell_type": "code",
   "execution_count": 8,
   "metadata": {},
   "outputs": [
    {
     "data": {
      "text/plain": [
       "{'bugs': [14, 3, 91, 1, 53],\n",
       " 'costs': [242.54272559997509,\n",
       "  258.63572946889803,\n",
       "  130.71352455498393,\n",
       "  153.34341290821087,\n",
       "  572.8387907407689],\n",
       " 'days': [1, 2, 3, 4, 5]}"
      ]
     },
     "execution_count": 8,
     "metadata": {},
     "output_type": "execute_result"
    }
   ],
   "source": [
    "import random\n",
    "bars_count = 5\n",
    "data = {\"days\": [], \"bugs\": [], \"costs\": []}\n",
    "for i in range(1, bars_count + 1):\n",
    "    data['days'].append(i)\n",
    "    data['bugs'].append(random.randint(1,100))\n",
    "    data['costs'].append(random.uniform(1.00, 1000.00))\n",
    "\n",
    "data"
   ]
  },
  {
   "cell_type": "code",
   "execution_count": 10,
   "metadata": {
    "collapsed": true
   },
   "outputs": [],
   "source": [
    "from bokeh.embed import components\n",
    "\n",
    "p = figure(plot_width=400, plot_height=400, title=\"My Line Plot\")\n",
    "\n",
    "# add a line renderer\n",
    "plot = p.line([1, 2, 3, 4, 5], [6, 7, 2, 4, 5], line_width=2)\n",
    "\n",
    "# Generate the script and HTML for the plot\n",
    "script, div = components(plot)"
   ]
  },
  {
   "cell_type": "code",
   "execution_count": 13,
   "metadata": {
    "collapsed": true
   },
   "outputs": [],
   "source": [
    "from bokeh.resources import CDN"
   ]
  },
  {
   "cell_type": "code",
   "execution_count": 9,
   "metadata": {},
   "outputs": [
    {
     "data": {
      "text/html": [
       "\n",
       "<div class=\"bk-root\">\n",
       "    <div class=\"bk-plotdiv\" id=\"f8742bb8-bb48-48cf-940f-11e544a3440d\"></div>\n",
       "</div>"
      ]
     },
     "metadata": {},
     "output_type": "display_data"
    },
    {
     "data": {
      "application/javascript": [
       "(function(root) {\n",
       "  function embed_document(root) {\n",
       "    var docs_json = {\"15b0a537-6a74-4d7d-be60-2964e6529016\":{\"roots\":{\"references\":[{\"attributes\":{\"formatter\":{\"id\":\"2554fd17-3f87-4254-ac68-e3082a61c0c1\",\"type\":\"BasicTickFormatter\"},\"plot\":{\"id\":\"2c0c442e-ce29-4263-9674-5fa6462c6089\",\"subtype\":\"Figure\",\"type\":\"Plot\"},\"ticker\":{\"id\":\"6acd732c-e178-416a-97f9-def3100d42cb\",\"type\":\"BasicTicker\"}},\"id\":\"8ba6a415-5f2d-4dfa-b243-bf89fbc09935\",\"type\":\"LinearAxis\"},{\"attributes\":{},\"id\":\"6acd732c-e178-416a-97f9-def3100d42cb\",\"type\":\"BasicTicker\"},{\"attributes\":{\"bottom_units\":\"screen\",\"fill_alpha\":{\"value\":0.5},\"fill_color\":{\"value\":\"lightgrey\"},\"left_units\":\"screen\",\"level\":\"overlay\",\"line_alpha\":{\"value\":1.0},\"line_color\":{\"value\":\"black\"},\"line_dash\":[4,4],\"line_width\":{\"value\":2},\"plot\":null,\"render_mode\":\"css\",\"right_units\":\"screen\",\"top_units\":\"screen\"},\"id\":\"9a731d6f-3d3c-4eb6-86d9-c91f22084804\",\"type\":\"BoxAnnotation\"},{\"attributes\":{\"data_source\":{\"id\":\"45570e00-f0f7-40e4-b02c-7dad951ffbb0\",\"type\":\"ColumnDataSource\"},\"glyph\":{\"id\":\"8a5787c5-b533-4f38-ad20-9c4eb3ed8437\",\"type\":\"VBar\"},\"hover_glyph\":null,\"muted_glyph\":null,\"nonselection_glyph\":{\"id\":\"708bd75d-a070-4fb9-a579-f2da701e03c0\",\"type\":\"VBar\"},\"selection_glyph\":null,\"view\":{\"id\":\"bc7f8e20-9972-4034-8038-e976556ff7eb\",\"type\":\"CDSView\"}},\"id\":\"23bdac97-b92c-49b8-b118-85974d10f229\",\"type\":\"GlyphRenderer\"},{\"attributes\":{},\"id\":\"41ac84f1-1bf9-4462-9329-380252a8a6dd\",\"type\":\"PanTool\"},{\"attributes\":{\"callback\":null},\"id\":\"db27fca6-1442-489a-9cab-052b9b8dbe9c\",\"type\":\"DataRange1d\"},{\"attributes\":{},\"id\":\"0183edd7-595f-461d-8c27-903da922547a\",\"type\":\"HelpTool\"},{\"attributes\":{\"formatter\":{\"id\":\"9c298ba8-7112-4de2-aa0f-c67a0037b899\",\"type\":\"BasicTickFormatter\"},\"plot\":{\"id\":\"2c0c442e-ce29-4263-9674-5fa6462c6089\",\"subtype\":\"Figure\",\"type\":\"Plot\"},\"ticker\":{\"id\":\"e720c21c-2aaa-4eb8-95a4-827a48b400cb\",\"type\":\"BasicTicker\"}},\"id\":\"cd4499f9-31cc-47be-9a27-d479ed69d378\",\"type\":\"LinearAxis\"},{\"attributes\":{},\"id\":\"3ea3168d-c843-4341-93ef-518f3c29460f\",\"type\":\"LinearScale\"},{\"attributes\":{\"callback\":null},\"id\":\"ea3b86f2-de2d-4119-b2fe-1d7c5e8d14bb\",\"type\":\"DataRange1d\"},{\"attributes\":{\"below\":[{\"id\":\"cd4499f9-31cc-47be-9a27-d479ed69d378\",\"type\":\"LinearAxis\"}],\"left\":[{\"id\":\"8ba6a415-5f2d-4dfa-b243-bf89fbc09935\",\"type\":\"LinearAxis\"}],\"plot_height\":400,\"plot_width\":400,\"renderers\":[{\"id\":\"cd4499f9-31cc-47be-9a27-d479ed69d378\",\"type\":\"LinearAxis\"},{\"id\":\"ca80cf74-b305-4c95-bc01-ed011a39e23a\",\"type\":\"Grid\"},{\"id\":\"8ba6a415-5f2d-4dfa-b243-bf89fbc09935\",\"type\":\"LinearAxis\"},{\"id\":\"d323b5c2-fd5f-459b-8921-d0090c456635\",\"type\":\"Grid\"},{\"id\":\"9a731d6f-3d3c-4eb6-86d9-c91f22084804\",\"type\":\"BoxAnnotation\"},{\"id\":\"23bdac97-b92c-49b8-b118-85974d10f229\",\"type\":\"GlyphRenderer\"}],\"title\":{\"id\":\"6b728824-4505-4af5-aff7-dcb5dae72f00\",\"type\":\"Title\"},\"toolbar\":{\"id\":\"5537cf43-5abb-458a-a3bc-cc671cfe5e06\",\"type\":\"Toolbar\"},\"x_range\":{\"id\":\"ea3b86f2-de2d-4119-b2fe-1d7c5e8d14bb\",\"type\":\"DataRange1d\"},\"x_scale\":{\"id\":\"55de7a58-ae81-491c-80d3-49ab33475a35\",\"type\":\"LinearScale\"},\"y_range\":{\"id\":\"db27fca6-1442-489a-9cab-052b9b8dbe9c\",\"type\":\"DataRange1d\"},\"y_scale\":{\"id\":\"3ea3168d-c843-4341-93ef-518f3c29460f\",\"type\":\"LinearScale\"}},\"id\":\"2c0c442e-ce29-4263-9674-5fa6462c6089\",\"subtype\":\"Figure\",\"type\":\"Plot\"},{\"attributes\":{\"callback\":null,\"column_names\":[\"x\",\"top\"],\"data\":{\"top\":[1.2,2.5,3.7],\"x\":[1,2,3]}},\"id\":\"45570e00-f0f7-40e4-b02c-7dad951ffbb0\",\"type\":\"ColumnDataSource\"},{\"attributes\":{},\"id\":\"9c298ba8-7112-4de2-aa0f-c67a0037b899\",\"type\":\"BasicTickFormatter\"},{\"attributes\":{},\"id\":\"11cfcdd8-f29d-4d78-9973-75c35eccae7c\",\"type\":\"SaveTool\"},{\"attributes\":{\"plot\":null,\"text\":\"\"},\"id\":\"6b728824-4505-4af5-aff7-dcb5dae72f00\",\"type\":\"Title\"},{\"attributes\":{\"fill_alpha\":{\"value\":0.1},\"fill_color\":{\"value\":\"#1f77b4\"},\"line_alpha\":{\"value\":0.1},\"line_color\":{\"value\":\"#1f77b4\"},\"top\":{\"field\":\"top\"},\"width\":{\"value\":0.5},\"x\":{\"field\":\"x\"}},\"id\":\"708bd75d-a070-4fb9-a579-f2da701e03c0\",\"type\":\"VBar\"},{\"attributes\":{\"fill_color\":{\"value\":\"firebrick\"},\"line_color\":{\"value\":\"firebrick\"},\"top\":{\"field\":\"top\"},\"width\":{\"value\":0.5},\"x\":{\"field\":\"x\"}},\"id\":\"8a5787c5-b533-4f38-ad20-9c4eb3ed8437\",\"type\":\"VBar\"},{\"attributes\":{},\"id\":\"e41fd262-ebfe-422f-9096-4a2feb8ce173\",\"type\":\"ResetTool\"},{\"attributes\":{},\"id\":\"2554fd17-3f87-4254-ac68-e3082a61c0c1\",\"type\":\"BasicTickFormatter\"},{\"attributes\":{},\"id\":\"e720c21c-2aaa-4eb8-95a4-827a48b400cb\",\"type\":\"BasicTicker\"},{\"attributes\":{},\"id\":\"e2d16d29-92f2-4766-8f54-ea7c2b362264\",\"type\":\"WheelZoomTool\"},{\"attributes\":{\"source\":{\"id\":\"45570e00-f0f7-40e4-b02c-7dad951ffbb0\",\"type\":\"ColumnDataSource\"}},\"id\":\"bc7f8e20-9972-4034-8038-e976556ff7eb\",\"type\":\"CDSView\"},{\"attributes\":{},\"id\":\"55de7a58-ae81-491c-80d3-49ab33475a35\",\"type\":\"LinearScale\"},{\"attributes\":{\"plot\":{\"id\":\"2c0c442e-ce29-4263-9674-5fa6462c6089\",\"subtype\":\"Figure\",\"type\":\"Plot\"},\"ticker\":{\"id\":\"e720c21c-2aaa-4eb8-95a4-827a48b400cb\",\"type\":\"BasicTicker\"}},\"id\":\"ca80cf74-b305-4c95-bc01-ed011a39e23a\",\"type\":\"Grid\"},{\"attributes\":{\"dimension\":1,\"plot\":{\"id\":\"2c0c442e-ce29-4263-9674-5fa6462c6089\",\"subtype\":\"Figure\",\"type\":\"Plot\"},\"ticker\":{\"id\":\"6acd732c-e178-416a-97f9-def3100d42cb\",\"type\":\"BasicTicker\"}},\"id\":\"d323b5c2-fd5f-459b-8921-d0090c456635\",\"type\":\"Grid\"},{\"attributes\":{\"overlay\":{\"id\":\"9a731d6f-3d3c-4eb6-86d9-c91f22084804\",\"type\":\"BoxAnnotation\"}},\"id\":\"3feaedfa-ecde-4b1c-ac01-71a3b7552b41\",\"type\":\"BoxZoomTool\"},{\"attributes\":{\"active_drag\":\"auto\",\"active_inspect\":\"auto\",\"active_scroll\":\"auto\",\"active_tap\":\"auto\",\"tools\":[{\"id\":\"41ac84f1-1bf9-4462-9329-380252a8a6dd\",\"type\":\"PanTool\"},{\"id\":\"e2d16d29-92f2-4766-8f54-ea7c2b362264\",\"type\":\"WheelZoomTool\"},{\"id\":\"3feaedfa-ecde-4b1c-ac01-71a3b7552b41\",\"type\":\"BoxZoomTool\"},{\"id\":\"11cfcdd8-f29d-4d78-9973-75c35eccae7c\",\"type\":\"SaveTool\"},{\"id\":\"e41fd262-ebfe-422f-9096-4a2feb8ce173\",\"type\":\"ResetTool\"},{\"id\":\"0183edd7-595f-461d-8c27-903da922547a\",\"type\":\"HelpTool\"}]},\"id\":\"5537cf43-5abb-458a-a3bc-cc671cfe5e06\",\"type\":\"Toolbar\"}],\"root_ids\":[\"2c0c442e-ce29-4263-9674-5fa6462c6089\"]},\"title\":\"Bokeh Application\",\"version\":\"0.12.9\"}};\n",
       "    var render_items = [{\"docid\":\"15b0a537-6a74-4d7d-be60-2964e6529016\",\"elementid\":\"f8742bb8-bb48-48cf-940f-11e544a3440d\",\"modelid\":\"2c0c442e-ce29-4263-9674-5fa6462c6089\"}];\n",
       "\n",
       "    root.Bokeh.embed.embed_items(docs_json, render_items);\n",
       "  }\n",
       "\n",
       "  if (root.Bokeh !== undefined) {\n",
       "    embed_document(root);\n",
       "  } else {\n",
       "    var attempts = 0;\n",
       "    var timer = setInterval(function(root) {\n",
       "      if (root.Bokeh !== undefined) {\n",
       "        embed_document(root);\n",
       "        clearInterval(timer);\n",
       "      }\n",
       "      attempts++;\n",
       "      if (attempts > 100) {\n",
       "        console.log(\"Bokeh: ERROR: Unable to embed document because BokehJS library is missing\")\n",
       "        clearInterval(timer);\n",
       "      }\n",
       "    }, 10, root)\n",
       "  }\n",
       "})(window);"
      ],
      "application/vnd.bokehjs_exec.v0+json": ""
     },
     "metadata": {
      "application/vnd.bokehjs_exec.v0+json": {
       "id": "2c0c442e-ce29-4263-9674-5fa6462c6089"
      }
     },
     "output_type": "display_data"
    }
   ],
   "source": [
    "from bokeh.plotting import figure, show, output_file\n",
    "\n",
    "\n",
    "p = figure(plot_width=400, plot_height=400)\n",
    "p.vbar(x=[1, 2, 3], width=0.5, bottom=0,\n",
    "       top=[1.2, 2.5, 3.7], color=\"firebrick\")\n",
    "\n",
    "show(p)"
   ]
  },
  {
   "cell_type": "markdown",
   "metadata": {},
   "source": [
    "# Reference\n",
    "\n",
    "- https://www.youtube.com/watch?v=LXLQTuSSKfY&index=7&list=PLYx7XA2nY5Gf37zYZMw6OqGFRPjB1jCy6\n",
    "- https://github.com/bokeh/bokeh-notebooks"
   ]
  }
 ],
 "metadata": {
  "kernelspec": {
   "display_name": "Python 3",
   "language": "python",
   "name": "python3"
  },
  "language_info": {
   "codemirror_mode": {
    "name": "ipython",
    "version": 3
   },
   "file_extension": ".py",
   "mimetype": "text/x-python",
   "name": "python",
   "nbconvert_exporter": "python",
   "pygments_lexer": "ipython3",
   "version": "3.5.2"
  },
  "toc": {
   "colors": {
    "hover_highlight": "#DAA520",
    "running_highlight": "#FF0000",
    "selected_highlight": "#FFD700"
   },
   "moveMenuLeft": true,
   "nav_menu": {
    "height": "48px",
    "width": "252px"
   },
   "navigate_menu": true,
   "number_sections": true,
   "sideBar": true,
   "threshold": 4,
   "toc_cell": false,
   "toc_section_display": "block",
   "toc_window_display": true
  }
 },
 "nbformat": 4,
 "nbformat_minor": 2
}
