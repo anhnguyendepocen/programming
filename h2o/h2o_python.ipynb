{
 "cells": [
  {
   "cell_type": "code",
   "execution_count": 1,
   "metadata": {
    "collapsed": false
   },
   "outputs": [
    {
     "data": {
      "text/html": [
       "<style>\n",
       "@import url('http://fonts.googleapis.com/css?family=Source+Code+Pro');\n",
       "@import url('http://fonts.googleapis.com/css?family=Vollkorn');\n",
       "@import url('http://fonts.googleapis.com/css?family=Arimo');\n",
       "@import url('http://fonts.googleapis.com/css?family=Fira_sans');\n",
       "\n",
       "    div.cell{\n",
       "        width: 1000px;\n",
       "        margin-left: 0% !important;\n",
       "        margin-right: auto;\n",
       "    }\n",
       "    div.text_cell code {\n",
       "        background: transparent;\n",
       "        color: #000000;\n",
       "        font-weight: 600;\n",
       "        font-size: 12pt;\n",
       "        font-style: bold;\n",
       "        font-family:  'Source Code Pro', Consolas, monocco, monospace;\n",
       "   }\n",
       "    h1 {\n",
       "        font-family: 'Open sans',verdana,arial,sans-serif;\n",
       "\t}\n",
       "\t\n",
       "    div.input_area {\n",
       "        background: #F6F6F9;\n",
       "        border: 1px solid #586e75;\n",
       "    }\n",
       "\n",
       "    .text_cell_render h1 {\n",
       "        font-weight: 200;\n",
       "        font-size: 30pt;\n",
       "        line-height: 100%;\n",
       "        color:#c76c0c;\n",
       "        margin-bottom: 0.5em;\n",
       "        margin-top: 1em;\n",
       "        display: block;\n",
       "        white-space: wrap;\n",
       "        text-align: left;\n",
       "    } \n",
       "    h2 {\n",
       "        font-family: 'Open sans',verdana,arial,sans-serif;\n",
       "        text-align: left;\n",
       "    }\n",
       "    .text_cell_render h2 {\n",
       "        font-weight: 200;\n",
       "        font-size: 16pt;\n",
       "        font-style: italic;\n",
       "        line-height: 100%;\n",
       "        color:#c76c0c;\n",
       "        margin-bottom: 0.5em;\n",
       "        margin-top: 1.5em;\n",
       "        display: block;\n",
       "        white-space: wrap;\n",
       "        text-align: left;\n",
       "    } \n",
       "    h3 {\n",
       "        font-family: 'Open sans',verdana,arial,sans-serif;\n",
       "    }\n",
       "    .text_cell_render h3 {\n",
       "        font-weight: 200;\n",
       "        font-size: 14pt;\n",
       "        line-height: 100%;\n",
       "        color:#d77c0c;\n",
       "        margin-bottom: 0.5em;\n",
       "        margin-top: 2em;\n",
       "        display: block;\n",
       "        white-space: wrap;\n",
       "        text-align: left;\n",
       "    }\n",
       "    h4 {\n",
       "        font-family: 'Open sans',verdana,arial,sans-serif;\n",
       "    }\n",
       "    .text_cell_render h4 {\n",
       "        font-weight: 100;\n",
       "        font-size: 14pt;\n",
       "        color:#d77c0c;\n",
       "        margin-bottom: 0.5em;\n",
       "        margin-top: 0.5em;\n",
       "        display: block;\n",
       "        white-space: nowrap;\n",
       "    }\n",
       "    h5 {\n",
       "        font-family: 'Open sans',verdana,arial,sans-serif;\n",
       "    }\n",
       "    .text_cell_render h5 {\n",
       "        font-weight: 200;\n",
       "        font-style: normal;\n",
       "        color: #1d3b84;\n",
       "        font-size: 16pt;\n",
       "        margin-bottom: 0em;\n",
       "        margin-top: 0.5em;\n",
       "        display: block;\n",
       "        white-space: nowrap;\n",
       "    }\n",
       "    div.text_cell_render{\n",
       "        font-family: 'Fira sans', verdana,arial,sans-serif;\n",
       "        line-height: 125%;\n",
       "        font-size: 115%;\n",
       "        text-align:justify;\n",
       "        text-justify:inter-word;\n",
       "    }\n",
       "    div.output_subarea.output_text.output_pyout {\n",
       "        overflow-x: auto;\n",
       "        overflow-y: scroll;\n",
       "        max-height: 50000px;\n",
       "    }\n",
       "    div.output_subarea.output_stream.output_stdout.output_text {\n",
       "        overflow-x: auto;\n",
       "        overflow-y: scroll;\n",
       "        max-height: 50000px;\n",
       "    }\n",
       "    div.output_wrapper{\n",
       "        margin-top:0.2em;\n",
       "        margin-bottom:0.2em;\n",
       "}\n",
       "\n",
       "    code{\n",
       "      font-size: 70%;\n",
       "    }\n",
       "    .rendered_html code{\n",
       "    background-color: transparent;\n",
       "    }\n",
       "    ul{\n",
       "        margin: 2em;\n",
       "    }\n",
       "    ul li{\n",
       "        padding-left: 0.5em; \n",
       "        margin-bottom: 0.5em; \n",
       "        margin-top: 0.5em; \n",
       "    }\n",
       "    ul li li{\n",
       "        padding-left: 0.2em; \n",
       "        margin-bottom: 0.2em; \n",
       "        margin-top: 0.2em; \n",
       "    }\n",
       "    ol{\n",
       "        margin: 2em;\n",
       "    }\n",
       "    ol li{\n",
       "        padding-left: 0.5em; \n",
       "        margin-bottom: 0.5em; \n",
       "        margin-top: 0.5em; \n",
       "    }\n",
       "    ul li{\n",
       "        padding-left: 0.5em; \n",
       "        margin-bottom: 0.5em; \n",
       "        margin-top: 0.2em; \n",
       "    }\n",
       "    a:link{\n",
       "       font-weight: bold;\n",
       "       color:#447adb;\n",
       "    }\n",
       "    a:visited{\n",
       "       font-weight: bold;\n",
       "       color: #1d3b84;\n",
       "    }\n",
       "    a:hover{\n",
       "       font-weight: bold;\n",
       "       color: #1d3b84;\n",
       "    }\n",
       "    a:focus{\n",
       "       font-weight: bold;\n",
       "       color:#447adb;\n",
       "    }\n",
       "    a:active{\n",
       "       font-weight: bold;\n",
       "       color:#447adb;\n",
       "    }\n",
       "    .rendered_html :link {\n",
       "       text-decoration: underline; \n",
       "    }\n",
       "    .rendered_html :hover {\n",
       "       text-decoration: none; \n",
       "    }\n",
       "    .rendered_html :visited {\n",
       "      text-decoration: none;\n",
       "    }\n",
       "    .rendered_html :focus {\n",
       "      text-decoration: none;\n",
       "    }\n",
       "    .rendered_html :active {\n",
       "      text-decoration: none;\n",
       "    }\n",
       "    .warning{\n",
       "        color: rgb( 240, 20, 20 )\n",
       "    } \n",
       "    hr {\n",
       "      color: #f3f3f3;\n",
       "      background-color: #f3f3f3;\n",
       "      height: 1px;\n",
       "    }\n",
       "    blockquote{\n",
       "      display:block;\n",
       "      background: #fcfcfc;\n",
       "      border-left: 5px solid #c76c0c;\n",
       "      font-family: 'Open sans',verdana,arial,sans-serif;\n",
       "      width:680px;\n",
       "      padding: 10px 10px 10px 10px;\n",
       "      text-align:justify;\n",
       "      text-justify:inter-word;\n",
       "      }\n",
       "      blockquote p {\n",
       "        margin-bottom: 0;\n",
       "        line-height: 125%;\n",
       "        font-size: 100%;\n",
       "      }\n",
       "</style>\n",
       "<script>\n",
       "    MathJax.Hub.Config({\n",
       "                        TeX: {\n",
       "                           extensions: [\"AMSmath.js\"]\n",
       "                           },\n",
       "                tex2jax: {\n",
       "                    inlineMath: [ ['$','$'], [\"\\\\(\",\"\\\\)\"] ],\n",
       "                    displayMath: [ ['$$','$$'], [\"\\\\[\",\"\\\\]\"] ]\n",
       "                },\n",
       "                displayAlign: 'center', // Change this to 'center' to center equations.\n",
       "                \"HTML-CSS\": {\n",
       "                    scale:100,\n",
       "                        availableFonts: [],\n",
       "                        preferredFont:null,\n",
       "                        webFont: \"TeX\",\n",
       "                    styles: {'.MathJax_Display': {\"margin\": 4}}\n",
       "                }\n",
       "        });\n",
       "</script>\n"
      ],
      "text/plain": [
       "<IPython.core.display.HTML object>"
      ]
     },
     "execution_count": 1,
     "metadata": {},
     "output_type": "execute_result"
    }
   ],
   "source": [
    "# code for loading the format for the notebook\n",
    "import os\n",
    "\n",
    "# path : store the current path to convert back to it later\n",
    "path = os.getcwd()\n",
    "os.chdir('../notebook_format')\n",
    "from formats import load_style\n",
    "load_style()"
   ]
  },
  {
   "cell_type": "code",
   "execution_count": 3,
   "metadata": {
    "collapsed": false
   },
   "outputs": [
    {
     "data": {
      "text/html": [
       "<div style=\"overflow:auto\"><table style=\"width:50%\"><tr><td>H2O cluster uptime: </td>\n",
       "<td>5 seconds 246 milliseconds </td></tr>\n",
       "<tr><td>H2O cluster version: </td>\n",
       "<td>3.8.2.6</td></tr>\n",
       "<tr><td>H2O cluster name: </td>\n",
       "<td>H2O_started_from_python_ethen_lvf444</td></tr>\n",
       "<tr><td>H2O cluster total nodes: </td>\n",
       "<td>1</td></tr>\n",
       "<tr><td>H2O cluster total free memory: </td>\n",
       "<td>8.88 GB</td></tr>\n",
       "<tr><td>H2O cluster total cores: </td>\n",
       "<td>8</td></tr>\n",
       "<tr><td>H2O cluster allowed cores: </td>\n",
       "<td>8</td></tr>\n",
       "<tr><td>H2O cluster healthy: </td>\n",
       "<td>True</td></tr>\n",
       "<tr><td>H2O Connection ip: </td>\n",
       "<td>127.0.0.1</td></tr>\n",
       "<tr><td>H2O Connection port: </td>\n",
       "<td>54321</td></tr>\n",
       "<tr><td>H2O Connection proxy: </td>\n",
       "<td>None</td></tr>\n",
       "<tr><td>Python Version: </td>\n",
       "<td>3.5.1</td></tr></table></div>"
      ],
      "text/plain": [
       "------------------------------  ------------------------------------\n",
       "H2O cluster uptime:             5 seconds 246 milliseconds\n",
       "H2O cluster version:            3.8.2.6\n",
       "H2O cluster name:               H2O_started_from_python_ethen_lvf444\n",
       "H2O cluster total nodes:        1\n",
       "H2O cluster total free memory:  8.88 GB\n",
       "H2O cluster total cores:        8\n",
       "H2O cluster allowed cores:      8\n",
       "H2O cluster healthy:            True\n",
       "H2O Connection ip:              127.0.0.1\n",
       "H2O Connection port:            54321\n",
       "H2O Connection proxy:\n",
       "Python Version:                 3.5.1\n",
       "------------------------------  ------------------------------------"
      ]
     },
     "metadata": {},
     "output_type": "display_data"
    }
   ],
   "source": [
    "os.chdir(path)\n",
    "\n",
    "import h2o\n",
    "%matplotlib inline\n",
    "import pandas as pd                   \n",
    "import matplotlib.pyplot as plt\n",
    "from h2o.grid.grid_search import H2OGridSearch\n",
    "from h2o.estimators.gbm import H2OGradientBoostingEstimator\n",
    "from h2o.estimators.glm import H2OGeneralizedLinearEstimator\n",
    "from h2o.estimators.deeplearning import H2ODeepLearningEstimator\n",
    "from h2o.estimators.random_forest import H2ORandomForestEstimator\n",
    "\n",
    "# initialize h2o cluster, nthreads = -1 uses all possible cores,\n",
    "# and max_mem_size stands for maximum memory size allowed\n",
    "h2o.init( nthreads = -1, max_mem_size = 10 )"
   ]
  },
  {
   "cell_type": "markdown",
   "metadata": {},
   "source": [
    "# h2o python API\n",
    "\n",
    "```shell\n",
    "# The following command removes the H2O module for Python.\n",
    "pip uninstall h2o\n",
    "\n",
    "# Next, use pip to install this version of the H2O Python module.\n",
    "pip install http://h2o-release.s3.amazonaws.com/h2o/rel-turchin/6/Python/h2o-3.8.2.6-py2.py3-none-any.whl\n",
    "\n",
    "```\n",
    "\n",
    "The following examples use the Covertype dataset from UC Irvine, which concerns predicting forest cover based on cartographical data. We import the full covertype dataset (581k rows, 13 columns, 10 numerical, 3 categorical) and then split the data 3 ways:\n",
    "\n",
    "- 60% for training\n",
    "- 20% for validation (hyper parameter tuning)\n",
    "- 20% for final testing\n",
    "\n",
    "We will train a data set on one set and use the others to test the validity of the model by ensuring that it can predict accurately on data the model has not been shown."
   ]
  },
  {
   "cell_type": "code",
   "execution_count": 3,
   "metadata": {
    "collapsed": false
   },
   "outputs": [
    {
     "name": "stdout",
     "output_type": "stream",
     "text": [
      "\n",
      "Parse Progress: [##################################################] 100%\n"
     ]
    },
    {
     "data": {
      "text/plain": [
       "'Cover_Type'"
      ]
     },
     "execution_count": 3,
     "metadata": {},
     "output_type": "execute_result"
    }
   ],
   "source": [
    "# load the data\n",
    "covtype_df = h2o.import_file( path = 'covtype.full.csv' )\n",
    "\n",
    "# split the data 60 training, 20 validation, 20 test\n",
    "train, valid, test = covtype_df.split_frame( [ 0.6, 0.2 ], seed = 1234 )\n",
    "\n",
    "# prepare predictors and response columns\n",
    "covtype_X = covtype_df.col_names[:-1]      \n",
    "covtype_y = covtype_df.col_names[-1]\n",
    "covtype_y"
   ]
  },
  {
   "cell_type": "code",
   "execution_count": 4,
   "metadata": {
    "collapsed": false
   },
   "outputs": [
    {
     "data": {
      "text/plain": [
       "{'Aspect': 'int',\n",
       " 'Cover_Type': 'enum',\n",
       " 'Elevation': 'int',\n",
       " 'Hillshade_3pm': 'int',\n",
       " 'Hillshade_9am': 'int',\n",
       " 'Hillshade_Noon': 'int',\n",
       " 'Horizontal_Distance_To_Fire_Points': 'int',\n",
       " 'Horizontal_Distance_To_Hydrology': 'int',\n",
       " 'Horizontal_Distance_To_Roadways': 'int',\n",
       " 'Slope': 'int',\n",
       " 'Soil_Type': 'enum',\n",
       " 'Vertical_Distance_To_Hydrology': 'int',\n",
       " 'Wilderness_Area': 'enum'}"
      ]
     },
     "execution_count": 4,
     "metadata": {},
     "output_type": "execute_result"
    }
   ],
   "source": [
    "# types of each column, h2o will automatically perform one-hot encoding\n",
    "# with enum column\n",
    "covtype_df.types"
   ]
  },
  {
   "cell_type": "markdown",
   "metadata": {},
   "source": [
    "## Deep Learning "
   ]
  },
  {
   "cell_type": "code",
   "execution_count": 5,
   "metadata": {
    "collapsed": false
   },
   "outputs": [
    {
     "name": "stdout",
     "output_type": "stream",
     "text": [
      "\n",
      "deeplearning Model Build Progress: [##################################################] 100%\n"
     ]
    }
   ],
   "source": [
    "covtype_model_v1 = H2ODeepLearningEstimator( \n",
    "    model_id = \"covtype_v1\", \n",
    "    epochs = 1, \n",
    "    variable_importances = True\n",
    ")\n",
    "covtype_model_v1.train( covtype_X, covtype_y, training_frame = train, validation_frame = valid )"
   ]
  },
  {
   "cell_type": "code",
   "execution_count": 6,
   "metadata": {
    "collapsed": false
   },
   "outputs": [
    {
     "name": "stdout",
     "output_type": "stream",
     "text": [
      "(56, 4)\n"
     ]
    },
    {
     "data": {
      "text/html": [
       "<div>\n",
       "<table border=\"1\" class=\"dataframe\">\n",
       "  <thead>\n",
       "    <tr style=\"text-align: right;\">\n",
       "      <th></th>\n",
       "      <th>Variable</th>\n",
       "      <th>Relative Importance</th>\n",
       "      <th>Scaled Importance</th>\n",
       "      <th>Percentage</th>\n",
       "    </tr>\n",
       "  </thead>\n",
       "  <tbody>\n",
       "    <tr>\n",
       "      <th>0</th>\n",
       "      <td>Horizontal_Distance_To_Roadways</td>\n",
       "      <td>1.000000</td>\n",
       "      <td>1.000000</td>\n",
       "      <td>0.029993</td>\n",
       "    </tr>\n",
       "    <tr>\n",
       "      <th>1</th>\n",
       "      <td>Wilderness_Area.area_0</td>\n",
       "      <td>0.978557</td>\n",
       "      <td>0.978557</td>\n",
       "      <td>0.029350</td>\n",
       "    </tr>\n",
       "    <tr>\n",
       "      <th>2</th>\n",
       "      <td>Elevation</td>\n",
       "      <td>0.974501</td>\n",
       "      <td>0.974501</td>\n",
       "      <td>0.029228</td>\n",
       "    </tr>\n",
       "    <tr>\n",
       "      <th>3</th>\n",
       "      <td>Horizontal_Distance_To_Fire_Points</td>\n",
       "      <td>0.898124</td>\n",
       "      <td>0.898124</td>\n",
       "      <td>0.026937</td>\n",
       "    </tr>\n",
       "    <tr>\n",
       "      <th>4</th>\n",
       "      <td>Wilderness_Area.area_3</td>\n",
       "      <td>0.865383</td>\n",
       "      <td>0.865383</td>\n",
       "      <td>0.025955</td>\n",
       "    </tr>\n",
       "    <tr>\n",
       "      <th>5</th>\n",
       "      <td>Wilderness_Area.area_2</td>\n",
       "      <td>0.819163</td>\n",
       "      <td>0.819163</td>\n",
       "      <td>0.024569</td>\n",
       "    </tr>\n",
       "    <tr>\n",
       "      <th>6</th>\n",
       "      <td>Soil_Type.type_30</td>\n",
       "      <td>0.794104</td>\n",
       "      <td>0.794104</td>\n",
       "      <td>0.023818</td>\n",
       "    </tr>\n",
       "    <tr>\n",
       "      <th>7</th>\n",
       "      <td>Soil_Type.type_23</td>\n",
       "      <td>0.776099</td>\n",
       "      <td>0.776099</td>\n",
       "      <td>0.023277</td>\n",
       "    </tr>\n",
       "    <tr>\n",
       "      <th>8</th>\n",
       "      <td>Soil_Type.type_21</td>\n",
       "      <td>0.749806</td>\n",
       "      <td>0.749806</td>\n",
       "      <td>0.022489</td>\n",
       "    </tr>\n",
       "    <tr>\n",
       "      <th>9</th>\n",
       "      <td>Wilderness_Area.area_1</td>\n",
       "      <td>0.739182</td>\n",
       "      <td>0.739182</td>\n",
       "      <td>0.022170</td>\n",
       "    </tr>\n",
       "  </tbody>\n",
       "</table>\n",
       "</div>"
      ],
      "text/plain": [
       "                             Variable  Relative Importance  Scaled Importance  \\\n",
       "0     Horizontal_Distance_To_Roadways             1.000000           1.000000   \n",
       "1              Wilderness_Area.area_0             0.978557           0.978557   \n",
       "2                           Elevation             0.974501           0.974501   \n",
       "3  Horizontal_Distance_To_Fire_Points             0.898124           0.898124   \n",
       "4              Wilderness_Area.area_3             0.865383           0.865383   \n",
       "5              Wilderness_Area.area_2             0.819163           0.819163   \n",
       "6                   Soil_Type.type_30             0.794104           0.794104   \n",
       "7                   Soil_Type.type_23             0.776099           0.776099   \n",
       "8                   Soil_Type.type_21             0.749806           0.749806   \n",
       "9              Wilderness_Area.area_1             0.739182           0.739182   \n",
       "\n",
       "   Percentage  \n",
       "0    0.029993  \n",
       "1    0.029350  \n",
       "2    0.029228  \n",
       "3    0.026937  \n",
       "4    0.025955  \n",
       "5    0.024569  \n",
       "6    0.023818  \n",
       "7    0.023277  \n",
       "8    0.022489  \n",
       "9    0.022170  "
      ]
     },
     "execution_count": 6,
     "metadata": {},
     "output_type": "execute_result"
    }
   ],
   "source": [
    "# access the variable importance\n",
    "var_df = pd.DataFrame( \n",
    "    covtype_model_v1.varimp(), \n",
    "    columns = [\"Variable\", \"Relative Importance\", \"Scaled Importance\", \"Percentage\"] \n",
    ")\n",
    "print(var_df.shape)\n",
    "var_df.head(10)"
   ]
  },
  {
   "cell_type": "markdown",
   "metadata": {},
   "source": [
    "Now we run another, smaller network and we let it stop automatically once the misclassification rate converges (specifically if the moving average of length 2 does not improve by at least 1% for 2 consecutive scoring events)."
   ]
  },
  {
   "cell_type": "code",
   "execution_count": 7,
   "metadata": {
    "collapsed": false
   },
   "outputs": [
    {
     "name": "stdout",
     "output_type": "stream",
     "text": [
      "\n",
      "deeplearning Model Build Progress: [##################################################] 100%\n"
     ]
    }
   ],
   "source": [
    "covtype_model_v2 = H2ODeepLearningEstimator(\n",
    "    model_id = \"covtype_v2\", \n",
    "    hidden = [ 32, 32, 32 ],           # small network, runs faster\n",
    "    epochs = 1000000,                  # hopefully converges earlier...\n",
    "    score_validation_samples = 10000,  # sample the validation dataset (faster)\n",
    "    stopping_rounds = 2,\n",
    "    stopping_metric = \"misclassification\", # alternatives: \"MSE\",\"logloss\",\"r2\"\n",
    "    stopping_tolerance = 0.01\n",
    ")\n",
    "covtype_model_v2.train( covtype_X, covtype_y, training_frame = train, validation_frame = valid )"
   ]
  },
  {
   "cell_type": "code",
   "execution_count": 8,
   "metadata": {
    "collapsed": false
   },
   "outputs": [
    {
     "data": {
      "image/png": "[encoded data removed]",
      "text/plain": [
       "<matplotlib.figure.Figure at 0x117847940>"
      ]
     },
     "metadata": {},
     "output_type": "display_data"
    }
   ],
   "source": [
    "# we can visualize the scoring history\n",
    "cov_v2_df = covtype_model_v2.scoring_history()\n",
    "plt.plot( cov_v2_df['training_classification_error'], label = \"training_classification_error\" )\n",
    "plt.plot( cov_v2_df['validation_classification_error'], label = \"validation_classification_error\" )\n",
    "plt.title(\"Covertype Deep Learner (Early Stop)\")\n",
    "plt.legend()\n",
    "plt.show()"
   ]
  },
  {
   "cell_type": "markdown",
   "metadata": {},
   "source": [
    "We can see that the test set's number is fairly in line with our validation results from the graph."
   ]
  },
  {
   "cell_type": "code",
   "execution_count": 9,
   "metadata": {
    "collapsed": false
   },
   "outputs": [
    {
     "name": "stdout",
     "output_type": "stream",
     "text": [
      "\n",
      "deeplearning prediction Progress: [##################################################] 100%\n"
     ]
    },
    {
     "data": {
      "text/plain": [
       "0.84206623612895437"
      ]
     },
     "execution_count": 9,
     "metadata": {},
     "output_type": "execute_result"
    }
   ],
   "source": [
    "pred = covtype_model_v2.predict(test).as_data_frame( use_pandas = True )\n",
    "test_actual = test.as_data_frame( use_pandas = True )['Cover_Type']\n",
    "( test_actual == pred['predict'] ).mean()"
   ]
  },
  {
   "cell_type": "markdown",
   "metadata": {},
   "source": [
    "Sample script for grid search, not going to run it here to save time.\n",
    "\n",
    "```python\n",
    "\n",
    "activation_opt = [ \"RectifierWithDropout\", \"MaxoutWithDropout\" ]\n",
    "l1_opt = [ 0.01, 0.1 ]\n",
    "l2_opt = [ 0.01, 0.1 ]\n",
    "dl_params = { 'activation': activation_opt, 'l1': l1_opt, 'l2': l2_opt }\n",
    "\n",
    "# Search criteria, use 'RandomDiscrete' strategy to \n",
    "# get random search of all the combinations of your hyperparameters\n",
    "search_criteria = {'strategy': 'RandomDiscrete', 'max_models': 2 }\n",
    "\n",
    "dl_grid = H2OGridSearch(\n",
    "    model = H2ODeepLearningEstimator,\n",
    "    grid_id = 'dl_grid',\n",
    "    hyper_params = dl_params,\n",
    "    search_criteria = search_criteria\n",
    ")\n",
    "\n",
    "dl_grid.train(\n",
    "    x = covtype_X, \n",
    "    y = covtype_y,\n",
    "    training_frame = train, \n",
    "    validation_frame = valid,\n",
    "    epochs = 1,\n",
    "    hidden = [ 10, 10 ],\n",
    "    stopping_rounds = 2,\n",
    "    stopping_metric = \"misclassification\", # alternatives: \"MSE\",\"logloss\",\"r2\"\n",
    "    stopping_tolerance = 0.01\n",
    ")\n",
    "\n",
    "# obtain the model with the best auc score and predict on the test set\n",
    "best_model_id = gs.sort_by( metric = 'auc', decreasing = True )['Model Id'][0]\n",
    "best_model = h2o.get_model(best_model_id)\n",
    "best_model.predict(test)\n",
    "\n",
    "```"
   ]
  },
  {
   "cell_type": "markdown",
   "metadata": {},
   "source": [
    "## H2O Deep Learning Tips & Tricks\n",
    "\n",
    "\n",
    "### Activation Functions\n",
    "\n",
    "While sigmoids have been used historically for neural networks, H2O Deep Learning implements Tanh, a scaled and shifted variant of the sigmoid which is symmetric around 0. Since its output values are bounded by -1..1, the stability of the neural network is rarely endangered. However, the derivative of the tanh function is always non-zero and back-propagation (training) of the weights is more computationally expensive than for rectified linear units, or Rectifier, which is max(0,x) and has vanishing gradient for x<=0, leading to much faster training speed for large networks and is often the fastest path to accuracy on larger problems. In case you encounter instabilities with the Rectifier (in which case model building is automatically aborted), try a limited value to re-scale the weights: max_w2=10. The Maxout activation function is computationally more expensive, but can lead to higher accuracy. It is a generalized version of the Rectifier with two non-zero channels. In practice, the Rectifier (and RectifierWithDropout, see below regarding Dropout) is the most versatile and performant option for most problems.\n",
    "\n",
    "### Generalization Techniques\n",
    "\n",
    "L1 and L2 penalties can be applied by specifying the l1 and l2 parameters. Intuition: L1 lets only strong weights survive (constant pulling force towards zero), while L2 prevents any single weight from getting too big. Dropout has recently been introduced as a powerful generalization technique, and is available as a parameter per layer, including the input layer. input_dropout_ratio controls the amount of input layer neurons that are randomly dropped (set to zero), while hidden_dropout_ratios are specified for each hidden layer. The former controls overfitting with respect to the input data (useful for high-dimensional noisy data), while the latter controls overfitting of the learned features. Note that hidden_dropout_ratios require the activation function to end with ...WithDropout.\n",
    "\n",
    "### Early stopping and optimizing for lowest validation error\n",
    "\n",
    "By default, Deep Learning training stops when the stopping_metric does not improve by at least stopping_tolerance (0.01 means 1% improvement) for stopping_rounds consecutive scoring events on the training (or validation) data. By default, overwrite_with_best_model is enabled and the model returned after training for the specified number of epochs (or after stopping early due to convergence) is the model that has the best training set error (according to the metric specified by stopping_metric), or, if a validation set is provided, the lowest validation set error. For early stopping on a predefined error rate on the training data (accuracy for classification or MSE for regression), specify classification_stop or regression_stop.\n",
    "\n",
    "### Categorical Data\n",
    "\n",
    "For categorical data, a feature with K factor levels is automatically one-hot encoded (horizontalized) into K-1 input neurons. Hence, the input neuron layer can grow substantially for datasets with high factor counts. In these cases, it might make sense to reduce the number of hidden neurons in the first hidden layer, such that large numbers of factor levels can be handled. In the limit of 1 neuron in the first hidden layer, the resulting model is similar to logistic regression with stochastic gradient descent, except that for classification problems, there's still a softmax output layer, and that the activation function is not necessarily a sigmoid (Tanh). If variable importances are computed, it is recommended to turn on use_all_factor_levels (K input neurons for K levels). The experimental option max_categorical_features uses feature hashing to reduce the number of input neurons via the hash trick at the expense of hash collisions and reduced accuracy.\n",
    "\n",
    "### Reproducibility\n",
    "\n",
    "Every run of DeepLearning results in different results since multithreading is done via Hogwild! that benefits from intentional lock-free race conditions between threads. To get reproducible results for small datasets and testing purposes, set reproducible=True and set seed=1337 (pick any integer). This will not work for big data for technical reasons, and is probably also not desired because of the significant slowdown (runs on 1 core only).\n",
    "\n",
    "### Scoring on Training/Validation Sets During Training\n",
    "\n",
    "The training and/or validation set errors can be based on a subset of the training or validation data, depending on the values for score_validation_samples (defaults to 0: all) or score_training_samples (defaults to 10,000 rows, since the training error is only used for early stopping and monitoring).\n",
    "\n",
    "Note that the default value of score_duty_cycle=0.1 limits the amount of time spent in scoring to 10%, so a large number of scoring samples won't slow down overall training progress too much, but it will always score once after the first MapReduce iteration, and once at the end of training.\n",
    "\n",
    "Stratified sampling of the validation dataset can help with scoring on datasets with class imbalance. Note that this option also requires balance_classes to be enabled."
   ]
  },
  {
   "cell_type": "markdown",
   "metadata": {},
   "source": [
    "## Ensemble Tree"
   ]
  },
  {
   "cell_type": "code",
   "execution_count": 10,
   "metadata": {
    "collapsed": false
   },
   "outputs": [
    {
     "name": "stdout",
     "output_type": "stream",
     "text": [
      "\n",
      "drf Model Build Progress: [##################################################] 100%\n"
     ]
    }
   ],
   "source": [
    "# randomforest\n",
    "rf_v2 = H2ORandomForestEstimator(\n",
    "    model_id = \"rf_covType_v2\",\n",
    "    ntrees = 200,\n",
    "    max_depth = 15,\n",
    "    stopping_rounds = 2,\n",
    "    stopping_metric = 'logloss',\n",
    "    stopping_tolerance = 0.5\n",
    ")\n",
    "rf_v2.train( covtype_X, covtype_y, training_frame = train, validation_frame = valid )"
   ]
  },
  {
   "cell_type": "code",
   "execution_count": 11,
   "metadata": {
    "collapsed": false
   },
   "outputs": [
    {
     "name": "stdout",
     "output_type": "stream",
     "text": [
      "\n",
      "drf prediction Progress: [##################################################] 100%\n"
     ]
    },
    {
     "data": {
      "text/plain": [
       "predict    0.884117\n",
       "dtype: float64"
      ]
     },
     "execution_count": 11,
     "metadata": {},
     "output_type": "execute_result"
    }
   ],
   "source": [
    "final_rf_predictions = rf_v2.predict(test)\n",
    "( final_rf_predictions['predict'] == test['Cover_Type'] ).as_data_frame( use_pandas = True ).mean()"
   ]
  },
  {
   "cell_type": "markdown",
   "metadata": {},
   "source": [
    "Notes.\n",
    "\n",
    "1. In a production setting where fine-grain accuracy is beneficial, it is common to set the learn rate to a very small number, such as 0.01 or smaller, and add trees to match. \n",
    "2. Use of early stopping is very powerful in allowing the setting of a low learning rate and the building as many trees as needed until the desired convergence is met."
   ]
  },
  {
   "cell_type": "code",
   "execution_count": 12,
   "metadata": {
    "collapsed": false
   },
   "outputs": [],
   "source": [
    "# grid search, gradient boosting\n",
    "\n",
    "\n",
    "# Depth 10 is usually plenty of depth for most datasets, but you never know\n",
    "# hyper_params = { 'max_depth': range( 1, 30, 2 ) }\n",
    "\n",
    "max_depth_opt = [ 5, 10, 15 ]\n",
    "hyper_parameters = { \n",
    "    \"max_depth\": max_depth_opt\n",
    "}\n",
    "# you can pass in additional search_criteria for random search; e.g.\n",
    "# search_criteria = { 'strategy': 'RandomDiscrete', 'max_models': 3 }\n",
    "gs = H2OGridSearch( \n",
    "    model = H2OGradientBoostingEstimator( distribution = \"multinomial\" ), \n",
    "    hyper_params = hyper_parameters,\n",
    "    grid_id = \"grid1\",\n",
    "    search_criteria = { 'strategy': 'RandomDiscrete', 'max_models': 2 }\n",
    ")"
   ]
  },
  {
   "cell_type": "code",
   "execution_count": 13,
   "metadata": {
    "collapsed": false
   },
   "outputs": [
    {
     "name": "stdout",
     "output_type": "stream",
     "text": [
      "\n",
      "gbm Grid Build Progress: [##################################################] 100%\n"
     ]
    }
   ],
   "source": [
    "# note that is .train not .fit to train the model\n",
    "gs.train(\n",
    "    x = covtype_X, \n",
    "    y = covtype_y,\n",
    "    training_frame = train,\n",
    "    validation_frame = valid,\n",
    "    \n",
    "    # more trees is better if the learning rate is small enough \n",
    "    # here, use \"more than enough\" trees - we have early stopping\n",
    "    ntrees = 1000,\n",
    "    \n",
    "    # smaller learning rate is better, but takes longer\n",
    "    learn_rate = 0.1,\n",
    "    \n",
    "    # sample 80% of rows per tree\n",
    "    sample_rate = 0.8,\n",
    "    \n",
    "    # sample 80% of columns per split\n",
    "    col_sample_rate = 0.8,\n",
    "\n",
    "    # early stopping once the validation AUC doesn't improve by at least 0.01% for \n",
    "    # 5 consecutive scoring events\n",
    "    stopping_rounds = 5,\n",
    "    stopping_metric = 'logloss',\n",
    "    stopping_tolerance = 0.5\n",
    ")"
   ]
  },
  {
   "cell_type": "markdown",
   "metadata": {},
   "source": [
    "Sort the models in the grid space by a metric , 'mse', 'r2', 'logloss'; obtain the model id of the model with the best score."
   ]
  },
  {
   "cell_type": "code",
   "execution_count": 14,
   "metadata": {
    "collapsed": false
   },
   "outputs": [
    {
     "name": "stdout",
     "output_type": "stream",
     "text": [
      "\n",
      "gbm prediction Progress: [##################################################] 100%\n"
     ]
    },
    {
     "data": {
      "text/html": [
       "<table>\n",
       "<tr><th>predict  </th><th style=\"text-align: right;\">    class_1</th><th style=\"text-align: right;\">    class_2</th><th style=\"text-align: right;\">    class_3</th><th style=\"text-align: right;\">    class_4</th><th style=\"text-align: right;\">    class_5</th><th style=\"text-align: right;\">    class_6</th><th style=\"text-align: right;\">    class_7</th></tr>\n",
       "<tr><td>class_1  </td><td style=\"text-align: right;\">0.997719   </td><td style=\"text-align: right;\">0.00228116 </td><td style=\"text-align: right;\">9.32382e-21</td><td style=\"text-align: right;\">6.04334e-39</td><td style=\"text-align: right;\">1.09192e-16</td><td style=\"text-align: right;\">1.95881e-16</td><td style=\"text-align: right;\">2.66524e-10</td></tr>\n",
       "<tr><td>class_7  </td><td style=\"text-align: right;\">1.49955e-05</td><td style=\"text-align: right;\">5.09355e-10</td><td style=\"text-align: right;\">2.19877e-24</td><td style=\"text-align: right;\">3.53698e-44</td><td style=\"text-align: right;\">4.5432e-21 </td><td style=\"text-align: right;\">4.64339e-21</td><td style=\"text-align: right;\">0.999985   </td></tr>\n",
       "<tr><td>class_1  </td><td style=\"text-align: right;\">0.999962   </td><td style=\"text-align: right;\">3.83688e-05</td><td style=\"text-align: right;\">3.96744e-19</td><td style=\"text-align: right;\">8.94703e-40</td><td style=\"text-align: right;\">6.17692e-17</td><td style=\"text-align: right;\">5.30651e-19</td><td style=\"text-align: right;\">7.09604e-15</td></tr>\n",
       "<tr><td>class_2  </td><td style=\"text-align: right;\">1.94394e-05</td><td style=\"text-align: right;\">0.999981   </td><td style=\"text-align: right;\">6.22323e-13</td><td style=\"text-align: right;\">2.78953e-39</td><td style=\"text-align: right;\">6.37271e-10</td><td style=\"text-align: right;\">5.50467e-15</td><td style=\"text-align: right;\">4.09785e-22</td></tr>\n",
       "<tr><td>class_1  </td><td style=\"text-align: right;\">0.999981   </td><td style=\"text-align: right;\">1.88895e-05</td><td style=\"text-align: right;\">1.65157e-19</td><td style=\"text-align: right;\">5.76709e-40</td><td style=\"text-align: right;\">2.91191e-18</td><td style=\"text-align: right;\">4.18885e-19</td><td style=\"text-align: right;\">6.03138e-11</td></tr>\n",
       "<tr><td>class_2  </td><td style=\"text-align: right;\">0.000189306</td><td style=\"text-align: right;\">0.999811   </td><td style=\"text-align: right;\">4.55524e-19</td><td style=\"text-align: right;\">3.01722e-39</td><td style=\"text-align: right;\">1.93769e-09</td><td style=\"text-align: right;\">1.75067e-14</td><td style=\"text-align: right;\">1.70263e-21</td></tr>\n",
       "<tr><td>class_1  </td><td style=\"text-align: right;\">0.99966    </td><td style=\"text-align: right;\">0.000339914</td><td style=\"text-align: right;\">4.4661e-19 </td><td style=\"text-align: right;\">2.97936e-39</td><td style=\"text-align: right;\">1.75253e-17</td><td style=\"text-align: right;\">3.65026e-18</td><td style=\"text-align: right;\">4.95407e-10</td></tr>\n",
       "<tr><td>class_2  </td><td style=\"text-align: right;\">0.000585881</td><td style=\"text-align: right;\">0.999414   </td><td style=\"text-align: right;\">2.97038e-15</td><td style=\"text-align: right;\">3.51191e-39</td><td style=\"text-align: right;\">2.67628e-09</td><td style=\"text-align: right;\">1.81391e-13</td><td style=\"text-align: right;\">5.48435e-17</td></tr>\n",
       "<tr><td>class_1  </td><td style=\"text-align: right;\">0.998059   </td><td style=\"text-align: right;\">0.00194072 </td><td style=\"text-align: right;\">1.08244e-14</td><td style=\"text-align: right;\">6.51983e-39</td><td style=\"text-align: right;\">2.60743e-08</td><td style=\"text-align: right;\">7.26596e-13</td><td style=\"text-align: right;\">1.40772e-19</td></tr>\n",
       "<tr><td>class_2  </td><td style=\"text-align: right;\">0.000287691</td><td style=\"text-align: right;\">0.999411   </td><td style=\"text-align: right;\">3.70376e-16</td><td style=\"text-align: right;\">1.26125e-38</td><td style=\"text-align: right;\">0.000301384</td><td style=\"text-align: right;\">4.06382e-12</td><td style=\"text-align: right;\">1.73317e-15</td></tr>\n",
       "</table>"
      ]
     },
     "metadata": {},
     "output_type": "display_data"
    },
    {
     "data": {
      "text/plain": []
     },
     "execution_count": 14,
     "metadata": {},
     "output_type": "execute_result"
    }
   ],
   "source": [
    "best_model_id = gs.sort_by( metric = \"logloss\", increasing = True )['Model Id'][0]\n",
    "best_model = h2o.get_model(best_model_id)\n",
    "best_model.predict(train)"
   ]
  },
  {
   "cell_type": "code",
   "execution_count": 15,
   "metadata": {
    "collapsed": false
   },
   "outputs": [
    {
     "name": "stdout",
     "output_type": "stream",
     "text": [
      "Hyperparameters: [max_depth]\n"
     ]
    },
    {
     "data": {
      "text/plain": [
       "[10]"
      ]
     },
     "execution_count": 15,
     "metadata": {},
     "output_type": "execute_result"
    }
   ],
   "source": [
    "# best_model.model_performance().confusion_matrix()\n",
    "gs.get_hyperparams(best_model_id)"
   ]
  },
  {
   "cell_type": "markdown",
   "metadata": {},
   "source": [
    "## Reference\n",
    "\n",
    "- [h2o python booklet](https://github.com/ethen8181/machine-learning/blob/master/h2o/Python_booklet.pdf)\n",
    "- [h2o deep learning tutorial](http://nbviewer.jupyter.org/github/h2oai/h2o-tutorials/blob/master/tutorials/deeplearning/deeplearning.ipynb)\n",
    "- [h2o Getting information about the grid search model workflow](https://github.com/h2oai/h2o-3/blob/master/h2o-docs/src/product/tutorials/GridSearch.md#random-hyper-parmameter-grid-search-example)"
   ]
  }
 ],
 "metadata": {
  "kernelspec": {
   "display_name": "Python 3",
   "language": "python",
   "name": "python3"
  },
  "language_info": {
   "codemirror_mode": {
    "name": "ipython",
    "version": 3
   },
   "file_extension": ".py",
   "mimetype": "text/x-python",
   "name": "python",
   "nbconvert_exporter": "python",
   "pygments_lexer": "ipython3",
   "version": "3.5.1"
  }
 },
 "nbformat": 4,
 "nbformat_minor": 0
}
