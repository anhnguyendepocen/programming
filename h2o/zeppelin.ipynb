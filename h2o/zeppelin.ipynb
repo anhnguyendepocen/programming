{
 "cells": [
  {
   "cell_type": "code",
   "execution_count": null,
   "metadata": {
    "collapsed": true
   },
   "outputs": [],
   "source": [
    "# installing sparkling water\n",
    "# http://h2o-release.s3.amazonaws.com/sparkling-water/rel-2.2/7/index.html\n",
    "\n",
    "# examples\n",
    "# https://github.com/h2oai/sparkling-water/tree/master/examples\n",
    "\n",
    "# configuring spark properties in zeppelin\n",
    "# https://zeppelin.apache.org/docs/0.7.3/interpreter/spark.html\n",
    "\n",
    "# zeppelin examples\n",
    "# https://github.com/hortonworks-gallery/zeppelin-notebooks\n",
    "\n",
    "# sparkling water\n",
    "# https://aichamp.wordpress.com/2017/04/23/binomial-classification-example-in-scala-and-glm-with-h2o/\n",
    "\n",
    "# stacked ensemble\n",
    "# https://aichamp.wordpress.com/2017/09/22/stacked-ensemble-model-in-scala-using-h2o-gbm-and-deep-learning-models/"
   ]
  },
  {
   "cell_type": "markdown",
   "metadata": {},
   "source": [
    "```bash\n",
    "bin/zeppelin-daemon.sh start\n",
    "\n",
    "bin/zeppelin-daemon.sh stop\n",
    "\n",
    "bin/zeppelin-daemon.sh restart\n",
    "```"
   ]
  }
 ],
 "metadata": {
  "kernelspec": {
   "display_name": "Python 3",
   "language": "python",
   "name": "python3"
  },
  "language_info": {
   "codemirror_mode": {
    "name": "ipython",
    "version": 3
   },
   "file_extension": ".py",
   "mimetype": "text/x-python",
   "name": "python",
   "nbconvert_exporter": "python",
   "pygments_lexer": "ipython3",
   "version": "3.6.3"
  },
  "toc": {
   "nav_menu": {},
   "number_sections": true,
   "sideBar": true,
   "skip_h1_title": false,
   "title_cell": "Table of Contents",
   "title_sidebar": "Contents",
   "toc_cell": false,
   "toc_position": {
    "height": "calc(100% - 180px)",
    "left": "10px",
    "top": "150px",
    "width": "171px"
   },
   "toc_section_display": true,
   "toc_window_display": true
  },
  "varInspector": {
   "cols": {
    "lenName": 16,
    "lenType": 16,
    "lenVar": 40
   },
   "kernels_config": {
    "python": {
     "delete_cmd_postfix": "",
     "delete_cmd_prefix": "del ",
     "library": "var_list.py",
     "varRefreshCmd": "print(var_dic_list())"
    },
    "r": {
     "delete_cmd_postfix": ") ",
     "delete_cmd_prefix": "rm(",
     "library": "var_list.r",
     "varRefreshCmd": "cat(var_dic_list()) "
    }
   },
   "types_to_exclude": [
    "module",
    "function",
    "builtin_function_or_method",
    "instance",
    "_Feature"
   ],
   "window_display": false
  }
 },
 "nbformat": 4,
 "nbformat_minor": 2
}
