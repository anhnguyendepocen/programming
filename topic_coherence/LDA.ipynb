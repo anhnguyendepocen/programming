{
 "cells": [
  {
   "cell_type": "markdown",
   "metadata": {},
   "source": [
    "# Future LDA"
   ]
  },
  {
   "cell_type": "code",
   "execution_count": null,
   "metadata": {
    "collapsed": true
   },
   "outputs": [],
   "source": [
    "from gensim.models import CoherenceModel\n",
    "\n",
    "lda_good_cm = CoherenceModel( lda_good, corpus = corpus, dictionary = dictionary, coherence = 'u_mass')\n",
    "lda_bad_cm  = CoherenceModel( lda_bad, corpus = corpus, dictionary = dictionary, coherence = 'u_mass')\n",
    "lda_good_cm.get_coherence()\n",
    "lda_bad_cm.get_coherence()"
   ]
  },
  {
   "cell_type": "code",
   "execution_count": null,
   "metadata": {
    "collapsed": true
   },
   "outputs": [],
   "source": [
    "# pip install pyldavis\n",
    "import pyLDAvis.gensim\n",
    "pyLDAvis.enable_notebook()\n",
    "pyLDAvis.gensim.prepare(topic_model, corpus, dictionary)"
   ]
  },
  {
   "cell_type": "markdown",
   "metadata": {},
   "source": [
    "document retrieval\n",
    "\n",
    "- http://localhost:8888/notebooks/washington-machine-learning-specialization/course-4/5_lda_blank.ipynb\n",
    "\n",
    "Other\n",
    "\n",
    "- Comparing sklearn, gensim LDA (speed?)\n",
    "\n",
    "Coherence\n",
    "\n",
    "- http://nbviewer.jupyter.org/github/dsquareindia/gensim/blob/a4b2629c0fdb0a7932db24dfcf06699c928d112f/docs/notebooks/topic_coherence_tutorial.ipynb#topic=0&lambda=0.81&term=\n",
    "- http://nbviewer.jupyter.org/github/RaRe-Technologies/gensim/blob/develop/docs/notebooks/topic_coherence_tutorial.ipynb#topic=1&lambda=0.33&term=\n",
    "- http://qpleple.com/topic-coherence-to-evaluate-topic-models/\n",
    "- http://rare-technologies.com/what-is-topic-coherence/\n",
    "\n",
    "\n",
    "LDAvis\n",
    "\n",
    "- https://github.com/bmabey/hacker_news_topic_modelling\n",
    "- https://github.com/bmabey/pyLDAvis\n",
    "\n",
    "\n",
    "- http://www.kdnuggets.com/2016/07/americas-next-topic-model.html\n",
    "- http://nbviewer.jupyter.org/github/RaRe-Technologies/gensim/blob/develop/docs/notebooks/topic_methods.ipynb\n",
    "\n",
    "- http://www.kdnuggets.com/2016/07/text-mining-101-topic-modeling.html\n",
    "\n",
    "- https://rstudio-pubs-static.s3.amazonaws.com/79360_850b2a69980c4488b1db95987a24867a.html\n",
    "\n",
    "- http://radimrehurek.com/topic_modeling_tutorial/2%20-%20Topic%20Modeling.html\n",
    "\n",
    "- http://d10genes.github.io/blog/2013/07/04/nyt-nlp/"
   ]
  }
 ],
 "metadata": {
  "kernelspec": {
   "display_name": "Python [Root]",
   "language": "python",
   "name": "Python [Root]"
  },
  "language_info": {
   "codemirror_mode": {
    "name": "ipython",
    "version": 3
   },
   "file_extension": ".py",
   "mimetype": "text/x-python",
   "name": "python",
   "nbconvert_exporter": "python",
   "pygments_lexer": "ipython3",
   "version": "3.5.2"
  }
 },
 "nbformat": 4,
 "nbformat_minor": 0
}
