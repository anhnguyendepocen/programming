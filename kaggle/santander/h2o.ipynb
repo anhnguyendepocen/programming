{
 "cells": [
  {
   "cell_type": "code",
   "execution_count": 1,
   "metadata": {
    "collapsed": false
   },
   "outputs": [
    {
     "data": {
      "text/html": [
       "<style>\n",
       "@import url('http://fonts.googleapis.com/css?family=Source+Code+Pro');\n",
       "@import url('http://fonts.googleapis.com/css?family=Vollkorn');\n",
       "@import url('http://fonts.googleapis.com/css?family=Arimo');\n",
       "@import url('http://fonts.googleapis.com/css?family=Fira_sans');\n",
       "    \n",
       "    div.cell {\n",
       "        width: 1000px;\n",
       "        margin-left: 0% !important;\n",
       "        margin-right: auto;\n",
       "    }\n",
       "    div.text_cell code {\n",
       "        background: transparent;\n",
       "        color: #000000;\n",
       "        font-weight: 600;\n",
       "        font-size: 12pt;\n",
       "        font-style: bold;\n",
       "        font-family:  'Source Code Pro', Consolas, monocco, monospace;\n",
       "    }\n",
       "    h1 {\n",
       "        font-family: 'Open sans',verdana,arial,sans-serif;\n",
       "\t}\n",
       "\t\n",
       "    div.input_area {\n",
       "        background: #F6F6F9;\n",
       "        border: 1px solid #586e75;\n",
       "    }\n",
       "\n",
       "    .text_cell_render h1 {\n",
       "        font-weight: 200;\n",
       "        font-size: 30pt;\n",
       "        line-height: 100%;\n",
       "        color:#c76c0c;\n",
       "        margin-bottom: 0.5em;\n",
       "        margin-top: 1em;\n",
       "        display: block;\n",
       "        white-space: wrap;\n",
       "        text-align: left;\n",
       "    } \n",
       "    h2 {\n",
       "        font-family: 'Open sans',verdana,arial,sans-serif;\n",
       "        text-align: left;\n",
       "    }\n",
       "    .text_cell_render h2 {\n",
       "        font-weight: 200;\n",
       "        font-size: 16pt;\n",
       "        font-style: italic;\n",
       "        line-height: 100%;\n",
       "        color:#c76c0c;\n",
       "        margin-bottom: 0.5em;\n",
       "        margin-top: 1.5em;\n",
       "        display: block;\n",
       "        white-space: wrap;\n",
       "        text-align: left;\n",
       "    } \n",
       "    h3 {\n",
       "        font-family: 'Open sans',verdana,arial,sans-serif;\n",
       "    }\n",
       "    .text_cell_render h3 {\n",
       "        font-weight: 200;\n",
       "        font-size: 14pt;\n",
       "        line-height: 100%;\n",
       "        color:#d77c0c;\n",
       "        margin-bottom: 0.5em;\n",
       "        margin-top: 2em;\n",
       "        display: block;\n",
       "        white-space: wrap;\n",
       "        text-align: left;\n",
       "    }\n",
       "    h4 {\n",
       "        font-family: 'Open sans',verdana,arial,sans-serif;\n",
       "    }\n",
       "    .text_cell_render h4 {\n",
       "        font-weight: 100;\n",
       "        font-size: 14pt;\n",
       "        color:#d77c0c;\n",
       "        margin-bottom: 0.5em;\n",
       "        margin-top: 0.5em;\n",
       "        display: block;\n",
       "        white-space: nowrap;\n",
       "    }\n",
       "    h5 {\n",
       "        font-family: 'Open sans',verdana,arial,sans-serif;\n",
       "    }\n",
       "    .text_cell_render h5 {\n",
       "        font-weight: 200;\n",
       "        font-style: normal;\n",
       "        color: #1d3b84;\n",
       "        font-size: 16pt;\n",
       "        margin-bottom: 0em;\n",
       "        margin-top: 0.5em;\n",
       "        display: block;\n",
       "        white-space: nowrap;\n",
       "    }\n",
       "    div.text_cell_render{\n",
       "        font-family: 'Fira sans', verdana,arial,sans-serif;\n",
       "        line-height: 125%;\n",
       "        font-size: 115%;\n",
       "        text-align:justify;\n",
       "        text-justify:inter-word;\n",
       "    }\n",
       "    div.output_wrapper{\n",
       "        margin-top:0.2em;\n",
       "        margin-bottom:0.2em;\n",
       "    }\n",
       "\n",
       "    code{\n",
       "      font-size: 70%;\n",
       "    }\n",
       "    .rendered_html code{\n",
       "    background-color: transparent;\n",
       "    }\n",
       "    ul{\n",
       "        margin: 2em;\n",
       "    }\n",
       "    ul li{\n",
       "        padding-left: 0.5em; \n",
       "        margin-bottom: 0.5em; \n",
       "        margin-top: 0.5em; \n",
       "    }\n",
       "    ul li li{\n",
       "        padding-left: 0.2em; \n",
       "        margin-bottom: 0.2em; \n",
       "        margin-top: 0.2em; \n",
       "    }\n",
       "    ol{\n",
       "        margin: 2em;\n",
       "    }\n",
       "    ol li{\n",
       "        padding-left: 0.5em; \n",
       "        margin-bottom: 0.5em; \n",
       "        margin-top: 0.5em; \n",
       "    }\n",
       "    ul li{\n",
       "        padding-left: 0.5em; \n",
       "        margin-bottom: 0.5em; \n",
       "        margin-top: 0.2em; \n",
       "    }\n",
       "    a:link{\n",
       "       font-weight: bold;\n",
       "       color:#447adb;\n",
       "    }\n",
       "    a:visited{\n",
       "       font-weight: bold;\n",
       "       color: #1d3b84;\n",
       "    }\n",
       "    a:hover{\n",
       "       font-weight: bold;\n",
       "       color: #1d3b84;\n",
       "    }\n",
       "    a:focus{\n",
       "       font-weight: bold;\n",
       "       color:#447adb;\n",
       "    }\n",
       "    a:active{\n",
       "       font-weight: bold;\n",
       "       color:#447adb;\n",
       "    }\n",
       "    .rendered_html :link {\n",
       "       text-decoration: underline; \n",
       "    }\n",
       "    .rendered_html :hover {\n",
       "       text-decoration: none; \n",
       "    }\n",
       "    .rendered_html :visited {\n",
       "      text-decoration: none;\n",
       "    }\n",
       "    .rendered_html :focus {\n",
       "      text-decoration: none;\n",
       "    }\n",
       "    .rendered_html :active {\n",
       "      text-decoration: none;\n",
       "    }\n",
       "    .warning{\n",
       "        color: rgb( 240, 20, 20 )\n",
       "    } \n",
       "    hr {\n",
       "      color: #f3f3f3;\n",
       "      background-color: #f3f3f3;\n",
       "      height: 1px;\n",
       "    }\n",
       "    blockquote{\n",
       "      display:block;\n",
       "      background: #fcfcfc;\n",
       "      border-left: 5px solid #c76c0c;\n",
       "      font-family: 'Open sans',verdana,arial,sans-serif;\n",
       "      width:680px;\n",
       "      padding: 10px 10px 10px 10px;\n",
       "      text-align:justify;\n",
       "      text-justify:inter-word;\n",
       "      }\n",
       "      blockquote p {\n",
       "        margin-bottom: 0;\n",
       "        line-height: 125%;\n",
       "        font-size: 100%;\n",
       "      }\n",
       "</style>\n",
       "<script>\n",
       "    MathJax.Hub.Config({\n",
       "                        TeX: {\n",
       "                           extensions: [\"AMSmath.js\"]\n",
       "                           },\n",
       "                tex2jax: {\n",
       "                    inlineMath: [ ['$','$'], [\"\\\\(\",\"\\\\)\"] ],\n",
       "                    displayMath: [ ['$$','$$'], [\"\\\\[\",\"\\\\]\"] ]\n",
       "                },\n",
       "                displayAlign: 'center', // Change this to 'center' to center equations.\n",
       "                \"HTML-CSS\": {\n",
       "                    scale:100,\n",
       "                        availableFonts: [],\n",
       "                        preferredFont:null,\n",
       "                        webFont: \"TeX\",\n",
       "                    styles: {'.MathJax_Display': {\"margin\": 4}}\n",
       "                }\n",
       "        });\n",
       "</script>\n"
      ],
      "text/plain": [
       "<IPython.core.display.HTML object>"
      ]
     },
     "execution_count": 1,
     "metadata": {},
     "output_type": "execute_result"
    }
   ],
   "source": [
    "# code for loading the format for the notebook\n",
    "import os\n",
    "\n",
    "# path : store the current path to convert back to it later\n",
    "path = os.getcwd()\n",
    "os.chdir(\"../notebook_format\")\n",
    "from formats import load_style\n",
    "load_style()"
   ]
  },
  {
   "cell_type": "code",
   "execution_count": 2,
   "metadata": {
    "collapsed": false
   },
   "outputs": [
    {
     "name": "stdout",
     "output_type": "stream",
     "text": [
      "Ethen 2016-08-04 08:46:20 \n",
      "\n",
      "CPython 3.5.2\n",
      "IPython 4.2.0\n",
      "\n",
      "numpy 1.11.1\n",
      "pandas 0.18.1\n",
      "matplotlib 1.5.1\n",
      "h2o 3.8.2.9\n"
     ]
    }
   ],
   "source": [
    "os.chdir(path)\n",
    "%matplotlib inline\n",
    "import numpy as np\n",
    "import pandas as pd\n",
    "import matplotlib.pyplot as plt\n",
    "plt.rcParams['figure.figsize'] = 8, 6 # change default figure size\n",
    "\n",
    "# 1. magic to print version\n",
    "# 2. magic so that the notebook will reload external python modules\n",
    "%load_ext watermark\n",
    "%load_ext autoreload \n",
    "%autoreload 2\n",
    "\n",
    "%watermark -a 'Ethen' -d -t -v -p numpy,pandas,matplotlib,h2o"
   ]
  },
  {
   "cell_type": "markdown",
   "metadata": {},
   "source": [
    "## h2o Preprocessing"
   ]
  },
  {
   "cell_type": "code",
   "execution_count": 3,
   "metadata": {
    "collapsed": false
   },
   "outputs": [
    {
     "name": "stdout",
     "output_type": "stream",
     "text": [
      "\n",
      "\n",
      "No instance found at ip and port: localhost:54321. Trying to start local jar...\n",
      "\n",
      "\n",
      "JVM stdout: /var/folders/x3/zghnnw9x1nl2x4vsqd97kxym0000gn/T/tmpcuicty3_/h2o_ethen_started_from_python.out\n",
      "JVM stderr: /var/folders/x3/zghnnw9x1nl2x4vsqd97kxym0000gn/T/tmpcqx3h7zm/h2o_ethen_started_from_python.err\n",
      "Using ice_root: /var/folders/x3/zghnnw9x1nl2x4vsqd97kxym0000gn/T/tmpgzu6rbwk\n",
      "\n",
      "\n",
      "Java Version: java version \"1.6.0_65\"\n",
      "Java(TM) SE Runtime Environment (build 1.6.0_65-b14-468-11M4833)\n",
      "Java HotSpot(TM) 64-Bit Server VM (build 20.65-b04-468, mixed mode)\n",
      "\n",
      "\n",
      "Starting H2O JVM and connecting: ................. Connection successful!\n"
     ]
    },
    {
     "data": {
      "text/html": [
       "<div style=\"overflow:auto\"><table style=\"width:50%\"><tr><td>H2O cluster uptime: </td>\n",
       "<td>1 seconds 819 milliseconds </td></tr>\n",
       "<tr><td>H2O cluster version: </td>\n",
       "<td>3.8.1.4</td></tr>\n",
       "<tr><td>H2O cluster name: </td>\n",
       "<td>H2O_started_from_python_ethen_vhz326</td></tr>\n",
       "<tr><td>H2O cluster total nodes: </td>\n",
       "<td>1</td></tr>\n",
       "<tr><td>H2O cluster total free memory: </td>\n",
       "<td>4.98 GB</td></tr>\n",
       "<tr><td>H2O cluster total cores: </td>\n",
       "<td>8</td></tr>\n",
       "<tr><td>H2O cluster allowed cores: </td>\n",
       "<td>8</td></tr>\n",
       "<tr><td>H2O cluster healthy: </td>\n",
       "<td>True</td></tr>\n",
       "<tr><td>H2O Connection ip: </td>\n",
       "<td>127.0.0.1</td></tr>\n",
       "<tr><td>H2O Connection port: </td>\n",
       "<td>54321</td></tr>\n",
       "<tr><td>H2O Connection proxy: </td>\n",
       "<td>None</td></tr>\n",
       "<tr><td>Python Version: </td>\n",
       "<td>3.5.1</td></tr></table></div>"
      ],
      "text/plain": [
       "------------------------------  ------------------------------------\n",
       "H2O cluster uptime:             1 seconds 819 milliseconds\n",
       "H2O cluster version:            3.8.1.4\n",
       "H2O cluster name:               H2O_started_from_python_ethen_vhz326\n",
       "H2O cluster total nodes:        1\n",
       "H2O cluster total free memory:  4.98 GB\n",
       "H2O cluster total cores:        8\n",
       "H2O cluster allowed cores:      8\n",
       "H2O cluster healthy:            True\n",
       "H2O Connection ip:              127.0.0.1\n",
       "H2O Connection port:            54321\n",
       "H2O Connection proxy:\n",
       "Python Version:                 3.5.1\n",
       "------------------------------  ------------------------------------"
      ]
     },
     "metadata": {},
     "output_type": "display_data"
    }
   ],
   "source": [
    "import h2o\n",
    "from h2o.estimators.gbm import H2OGradientBoostingEstimator\n",
    "from h2o.estimators.random_forest import H2ORandomForestEstimator\n",
    "h2o.init( nthreads = -1, max_mem_size = 5 )"
   ]
  },
  {
   "cell_type": "code",
   "execution_count": 4,
   "metadata": {
    "collapsed": false
   },
   "outputs": [
    {
     "name": "stdout",
     "output_type": "stream",
     "text": [
      "\n",
      "Parse Progress: [##################################################] 100%\n",
      "\n",
      "Parse Progress: [##################################################] 100%\n"
     ]
    }
   ],
   "source": [
    "# 1. upload the python object directy to h2o, the column_names requires a list\n",
    "# 2. destination_frame is the key assigned to the imported file, easier to track later \n",
    "\"\"\"\n",
    "h2o_train = h2o.H2OFrame.from_python( \n",
    "    train.values, \n",
    "    destination_frame = \"h2o_train\",\n",
    "    column_names = train.columns.tolist()\n",
    ")\n",
    "\n",
    "h2o_test = h2o.H2OFrame.from_python( \n",
    "    test.values, \n",
    "    destination_frame = \"h2o_test\",\n",
    "    column_names = test.columns.tolist()\n",
    ")\n",
    "\"\"\"\n",
    "\n",
    "# faster to save and load it\n",
    "h2o_train = h2o.import_file( path = \"df_train.csv\", destination_frame = \"h2o_train\" )\n",
    "h2o_test  = h2o.import_file( path = \"df_test.csv\" , destination_frame = \"h2o_test\"  )"
   ]
  },
  {
   "cell_type": "code",
   "execution_count": 5,
   "metadata": {
    "collapsed": false
   },
   "outputs": [],
   "source": [
    "# 1. we want to train a classification model, we must ensure that the response is \n",
    "#    coded as a factor. If the response is numeric 0/1, H2O will \n",
    "#    train a regression model instead\n",
    "#    Use .asfactor the convert the output column to factor variable\n",
    "# 2. drop the id column\n",
    "h2o_train[\"TARGET\"] = h2o_train[\"TARGET\"].asfactor()\n",
    "test_ids  = h2o_test[\"ID\"]\n",
    "h2o_test  = h2o_test.drop(\"ID\")\n",
    "h2o_train = h2o_train.drop(\"ID\")"
   ]
  },
  {
   "cell_type": "code",
   "execution_count": 6,
   "metadata": {
    "collapsed": false
   },
   "outputs": [
    {
     "name": "stdout",
     "output_type": "stream",
     "text": [
      "TARGET\n"
     ]
    }
   ],
   "source": [
    "# extract the input and output column\n",
    "X = h2o_train.col_names[:-1]      \n",
    "y = h2o_train.col_names[-1]\n",
    "print(y)"
   ]
  },
  {
   "cell_type": "markdown",
   "metadata": {},
   "source": [
    "## h2o Modeling"
   ]
  },
  {
   "cell_type": "code",
   "execution_count": 7,
   "metadata": {
    "collapsed": true
   },
   "outputs": [],
   "source": [
    "rf1 = H2ORandomForestEstimator(\n",
    "    model_id = \"rf1\",\n",
    "    ntrees = 250,\n",
    "    max_depth = 12,\n",
    "    nfolds = 10,\n",
    "    balance_classes = True,\n",
    "    stopping_rounds = 5,\n",
    "    stopping_metric = \"AUC\",\n",
    "    stopping_tolerance = 0.05,\n",
    ")"
   ]
  },
  {
   "cell_type": "code",
   "execution_count": 8,
   "metadata": {
    "collapsed": false
   },
   "outputs": [
    {
     "name": "stdout",
     "output_type": "stream",
     "text": [
      "\n",
      "drf Model Build Progress: [##################################################] 100%\n"
     ]
    }
   ],
   "source": [
    "rf1.train( X, y, training_frame = h2o_train )"
   ]
  },
  {
   "cell_type": "code",
   "execution_count": 9,
   "metadata": {
    "collapsed": false
   },
   "outputs": [],
   "source": [
    "# set a small learning rate, and tune the max_depth parameter\n",
    "gbm1 = H2OGradientBoostingEstimator(\n",
    "    model_id = \"gbm1\",\n",
    "    ntrees = 200,\n",
    "    learn_rate = 0.01,\n",
    "    max_depth = 6,\n",
    "    sample_rate = 0.7,\n",
    "    col_sample_rate = 0.7,\n",
    "    nfolds = 10,\n",
    "    balance_classes = True,\n",
    "    stopping_rounds = 5,\n",
    "    stopping_metric = \"AUC\",\n",
    "    stopping_tolerance = 0.05\n",
    ")"
   ]
  },
  {
   "cell_type": "code",
   "execution_count": 10,
   "metadata": {
    "collapsed": false
   },
   "outputs": [
    {
     "name": "stdout",
     "output_type": "stream",
     "text": [
      "\n",
      "gbm Model Build Progress: [##################################################] 100%\n"
     ]
    }
   ],
   "source": [
    "gbm1.train( X, y, training_frame = h2o_train )"
   ]
  },
  {
   "cell_type": "markdown",
   "metadata": {},
   "source": [
    "## Creating Submission, Saving & Loading Models"
   ]
  },
  {
   "cell_type": "code",
   "execution_count": 31,
   "metadata": {
    "collapsed": false
   },
   "outputs": [],
   "source": [
    "def write_submission( h2o_model, test_ids, dirs, filename ):\n",
    "    pred = test_ids.as_data_frame()\n",
    "    pred['TARGET'] = h2o_model.predict(h2o_test)['p0'].as_data_frame()\n",
    "    pred.to_csv( os.path.join( dirs, 'submission_' + filename + '.csv' ), index = False )"
   ]
  },
  {
   "cell_type": "code",
   "execution_count": 32,
   "metadata": {
    "collapsed": false
   },
   "outputs": [
    {
     "name": "stdout",
     "output_type": "stream",
     "text": [
      "\n",
      "drf prediction Progress: [##################################################] 100%\n",
      "\n",
      "gbm prediction Progress: [##################################################] 100%\n"
     ]
    }
   ],
   "source": [
    "dirs = \"submission\"\n",
    "\n",
    "# auc 0.803467\n",
    "write_submission( h2o_model = rf1, test_ids = test_ids, dirs = dirs, filename = \"rf1\" ) \n",
    "\n",
    "# auc 0.816301\n",
    "write_submission( h2o_model = gbm1, test_ids = test_ids, dirs = dirs,  filename = \"gbm1\" )"
   ]
  },
  {
   "cell_type": "code",
   "execution_count": 13,
   "metadata": {
    "collapsed": false
   },
   "outputs": [],
   "source": [
    "# saving and loading model\n",
    "# path = h2o.save_model( gbm1, force = True )\n",
    "# print(path)\n",
    "\n",
    "# gbm_load = h2o.load_model(path)\n",
    "\n",
    "# access variable importance\n",
    "# for var_name, _, _, imp in gbm_load.varimp()[:5]:\n",
    "#     print( var_name, imp )"
   ]
  },
  {
   "cell_type": "markdown",
   "metadata": {},
   "source": [
    "## Other Tricks Not Implemented"
   ]
  },
  {
   "cell_type": "code",
   "execution_count": 34,
   "metadata": {
    "collapsed": false
   },
   "outputs": [
    {
     "name": "stdout",
     "output_type": "stream",
     "text": [
      "    Count\n",
      "---------\n",
      "0.960352\n",
      "0.0396483\n",
      "\n",
      "[2 rows x 1 column]\n",
      "    Count\n",
      "---------\n",
      "0.960748\n",
      "0.0392516\n",
      "\n",
      "[2 rows x 1 column]\n"
     ]
    }
   ],
   "source": [
    "# Construct a column that can be used to perform a random stratified split,\n",
    "# stratified split is preferred for unbalanced dataset, since it makes sure that\n",
    "# the splitted folds are made by preserving the percentage of samples for each output class\n",
    "stratified = h2o_train[\"TARGET\"].stratified_split( test_frac = 0.2, seed = 1234 )\n",
    "h2o_train1 = h2o_train[ stratified == \"train\" ]\n",
    "h2o_valid1 = h2o_train[ stratified == \"test\"  ]\n",
    "\n",
    "# code to double check the TARGET distribution is stratified splitted\n",
    "train1_tb = h2o_train1[\"TARGET\"].table()\n",
    "valid1_tb = h2o_valid1[\"TARGET\"].table()\n",
    "print( train1_tb[\"Count\"] / train1_tb[\"Count\"].sum() )\n",
    "print( valid1_tb[\"Count\"] / valid1_tb[\"Count\"].sum() )"
   ]
  },
  {
   "cell_type": "code",
   "execution_count": 35,
   "metadata": {
    "collapsed": false
   },
   "outputs": [],
   "source": [
    "def plot_scoring_history(h2o_model):\n",
    "    \"\"\"\n",
    "    access the scoring_history of a h2o_model\n",
    "    and plot the training and validation's evaluation score to spot\n",
    "    sign of overfitting, only usefule if you're using a validation_frame \n",
    "    instead of doing cross validation\n",
    "    \"\"\"\n",
    "    score_fig = plt.figure( figsize = ( 8, 6 ) )   \n",
    "    score = h2o_model.scoring_history()\n",
    "    plt.plot( score.loc[ 1:, 'training_AUC'], label = \"training_AUC\" )\n",
    "    plt.plot( score.loc[ 1:, 'validation_AUC' ], label = \"validation_AUC\" )\n",
    "    plt.title(h2o_model.__class__.__name__)\n",
    "    plt.legend( loc = \"lower right\" )\n",
    "    return score_fig"
   ]
  },
  {
   "cell_type": "code",
   "execution_count": 36,
   "metadata": {
    "collapsed": false
   },
   "outputs": [],
   "source": [
    "# print( rf1.auc( valid = True ) )\n",
    "# rf1_fig = plot_scoring_history(rf1)\n",
    "# print( gbm1.auc( valid = True ) )\n",
    "# gbm1_fig = plot_scoring_history(gbm1)"
   ]
  }
 ],
 "metadata": {
  "anaconda-cloud": {},
  "kernelspec": {
   "display_name": "Python [Root]",
   "language": "python",
   "name": "Python [Root]"
  },
  "language_info": {
   "codemirror_mode": {
    "name": "ipython",
    "version": 3
   },
   "file_extension": ".py",
   "mimetype": "text/x-python",
   "name": "python",
   "nbconvert_exporter": "python",
   "pygments_lexer": "ipython3",
   "version": "3.5.2"
  }
 },
 "nbformat": 4,
 "nbformat_minor": 0
}
