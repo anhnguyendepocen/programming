{
 "cells": [
  {
   "cell_type": "code",
   "execution_count": 1,
   "metadata": {},
   "outputs": [
    {
     "data": {
      "text/html": [
       "<style>\n",
       "@import url('http://fonts.googleapis.com/css?family=Source+Code+Pro');\n",
       "@import url('http://fonts.googleapis.com/css?family=Vollkorn');\n",
       "@import url('http://fonts.googleapis.com/css?family=Arimo');\n",
       "@import url('http://fonts.googleapis.com/css?family=Fira_sans');\n",
       "    \n",
       "    div.cell {\n",
       "        width: 1000px;\n",
       "        margin-left: 0% !important;\n",
       "        margin-right: auto;\n",
       "    }\n",
       "    div.text_cell code {\n",
       "        background: transparent;\n",
       "        color: #000000;\n",
       "        font-weight: 600;\n",
       "        font-size: 12pt;\n",
       "        font-style: bold;\n",
       "        font-family:  'Source Code Pro', Consolas, monocco, monospace;\n",
       "    }\n",
       "    h1 {\n",
       "        font-family: 'Open sans',verdana,arial,sans-serif;\n",
       "\t}\n",
       "\t\n",
       "    div.input_area {\n",
       "        background: #F6F6F9;\n",
       "        border: 1px solid #586e75;\n",
       "    }\n",
       "\n",
       "    .text_cell_render h1 {\n",
       "        font-weight: 200;\n",
       "        font-size: 30pt;\n",
       "        line-height: 100%;\n",
       "        color:#c76c0c;\n",
       "        margin-bottom: 0.5em;\n",
       "        margin-top: 1em;\n",
       "        display: block;\n",
       "        white-space: wrap;\n",
       "        text-align: left;\n",
       "    } \n",
       "    h2 {\n",
       "        font-family: 'Open sans',verdana,arial,sans-serif;\n",
       "        text-align: left;\n",
       "    }\n",
       "    .text_cell_render h2 {\n",
       "        font-weight: 200;\n",
       "        font-size: 16pt;\n",
       "        font-style: italic;\n",
       "        line-height: 100%;\n",
       "        color:#c76c0c;\n",
       "        margin-bottom: 0.5em;\n",
       "        margin-top: 1.5em;\n",
       "        display: block;\n",
       "        white-space: wrap;\n",
       "        text-align: left;\n",
       "    } \n",
       "    h3 {\n",
       "        font-family: 'Open sans',verdana,arial,sans-serif;\n",
       "    }\n",
       "    .text_cell_render h3 {\n",
       "        font-weight: 200;\n",
       "        font-size: 14pt;\n",
       "        line-height: 100%;\n",
       "        color:#d77c0c;\n",
       "        margin-bottom: 0.5em;\n",
       "        margin-top: 2em;\n",
       "        display: block;\n",
       "        white-space: wrap;\n",
       "        text-align: left;\n",
       "    }\n",
       "    h4 {\n",
       "        font-family: 'Open sans',verdana,arial,sans-serif;\n",
       "    }\n",
       "    .text_cell_render h4 {\n",
       "        font-weight: 100;\n",
       "        font-size: 14pt;\n",
       "        color:#d77c0c;\n",
       "        margin-bottom: 0.5em;\n",
       "        margin-top: 0.5em;\n",
       "        display: block;\n",
       "        white-space: nowrap;\n",
       "    }\n",
       "    h5 {\n",
       "        font-family: 'Open sans',verdana,arial,sans-serif;\n",
       "    }\n",
       "    .text_cell_render h5 {\n",
       "        font-weight: 200;\n",
       "        font-style: normal;\n",
       "        color: #1d3b84;\n",
       "        font-size: 16pt;\n",
       "        margin-bottom: 0em;\n",
       "        margin-top: 0.5em;\n",
       "        display: block;\n",
       "        white-space: nowrap;\n",
       "    }\n",
       "    div.text_cell_render{\n",
       "        font-family: 'Fira sans', verdana,arial,sans-serif;\n",
       "        line-height: 125%;\n",
       "        font-size: 115%;\n",
       "        text-align:justify;\n",
       "        text-justify:inter-word;\n",
       "    }\n",
       "    div.output_wrapper{\n",
       "        margin-top:0.2em;\n",
       "        margin-bottom:0.2em;\n",
       "    }\n",
       "\n",
       "    code{\n",
       "      font-size: 70%;\n",
       "    }\n",
       "    .rendered_html code{\n",
       "    background-color: transparent;\n",
       "    }\n",
       "    ul{\n",
       "        margin: 2em;\n",
       "    }\n",
       "    ul li{\n",
       "        padding-left: 0.5em; \n",
       "        margin-bottom: 0.5em; \n",
       "        margin-top: 0.5em; \n",
       "    }\n",
       "    ul li li{\n",
       "        padding-left: 0.2em; \n",
       "        margin-bottom: 0.2em; \n",
       "        margin-top: 0.2em; \n",
       "    }\n",
       "    ol{\n",
       "        margin: 2em;\n",
       "    }\n",
       "    ol li{\n",
       "        padding-left: 0.5em; \n",
       "        margin-bottom: 0.5em; \n",
       "        margin-top: 0.5em; \n",
       "    }\n",
       "    ul li{\n",
       "        padding-left: 0.5em; \n",
       "        margin-bottom: 0.5em; \n",
       "        margin-top: 0.2em; \n",
       "    }\n",
       "    a:link{\n",
       "       font-weight: bold;\n",
       "       color:#447adb;\n",
       "    }\n",
       "    a:visited{\n",
       "       font-weight: bold;\n",
       "       color: #1d3b84;\n",
       "    }\n",
       "    a:hover{\n",
       "       font-weight: bold;\n",
       "       color: #1d3b84;\n",
       "    }\n",
       "    a:focus{\n",
       "       font-weight: bold;\n",
       "       color:#447adb;\n",
       "    }\n",
       "    a:active{\n",
       "       font-weight: bold;\n",
       "       color:#447adb;\n",
       "    }\n",
       "    .rendered_html :link {\n",
       "       text-decoration: underline; \n",
       "    }\n",
       "    .rendered_html :hover {\n",
       "       text-decoration: none; \n",
       "    }\n",
       "    .rendered_html :visited {\n",
       "      text-decoration: none;\n",
       "    }\n",
       "    .rendered_html :focus {\n",
       "      text-decoration: none;\n",
       "    }\n",
       "    .rendered_html :active {\n",
       "      text-decoration: none;\n",
       "    }\n",
       "    .warning{\n",
       "        color: rgb( 240, 20, 20 )\n",
       "    } \n",
       "    hr {\n",
       "      color: #f3f3f3;\n",
       "      background-color: #f3f3f3;\n",
       "      height: 1px;\n",
       "    }\n",
       "    blockquote{\n",
       "      display:block;\n",
       "      background: #fcfcfc;\n",
       "      border-left: 5px solid #c76c0c;\n",
       "      font-family: 'Open sans',verdana,arial,sans-serif;\n",
       "      width:680px;\n",
       "      padding: 10px 10px 10px 10px;\n",
       "      text-align:justify;\n",
       "      text-justify:inter-word;\n",
       "      }\n",
       "      blockquote p {\n",
       "        margin-bottom: 0;\n",
       "        line-height: 125%;\n",
       "        font-size: 100%;\n",
       "      }\n",
       "</style>\n",
       "<script>\n",
       "    MathJax.Hub.Config({\n",
       "                        TeX: {\n",
       "                           extensions: [\"AMSmath.js\"]\n",
       "                           },\n",
       "                tex2jax: {\n",
       "                    inlineMath: [ ['$','$'], [\"\\\\(\",\"\\\\)\"] ],\n",
       "                    displayMath: [ ['$$','$$'], [\"\\\\[\",\"\\\\]\"] ]\n",
       "                },\n",
       "                displayAlign: 'center', // Change this to 'center' to center equations.\n",
       "                \"HTML-CSS\": {\n",
       "                    scale:100,\n",
       "                        availableFonts: [],\n",
       "                        preferredFont:null,\n",
       "                        webFont: \"TeX\",\n",
       "                    styles: {'.MathJax_Display': {\"margin\": 4}}\n",
       "                }\n",
       "        });\n",
       "</script>\n"
      ],
      "text/plain": [
       "<IPython.core.display.HTML object>"
      ]
     },
     "execution_count": 1,
     "metadata": {},
     "output_type": "execute_result"
    }
   ],
   "source": [
    "# code for loading the format for the notebook\n",
    "import os\n",
    "\n",
    "# path : store the current path to convert back to it later\n",
    "path = os.getcwd()\n",
    "os.chdir(os.path.join('..', 'notebook_format'))\n",
    "from formats import load_style\n",
    "load_style(plot_style = False)"
   ]
  },
  {
   "cell_type": "code",
   "execution_count": 2,
   "metadata": {},
   "outputs": [
    {
     "name": "stdout",
     "output_type": "stream",
     "text": [
      "Ethen 2017-07-27 20:16:19 \n",
      "\n",
      "CPython 3.5.2\n",
      "IPython 6.1.0\n",
      "\n",
      "numpy 1.13.1\n",
      "pandas 0.19.2\n",
      "matplotlib 2.0.0\n",
      "sklearn 0.18.1\n"
     ]
    }
   ],
   "source": [
    "os.chdir(path)\n",
    "import numpy as np\n",
    "import pandas as pd\n",
    "import matplotlib.pyplot as plt\n",
    "\n",
    "# 1. magic for inline plot\n",
    "# 2. magic to print version\n",
    "# 3. magic so that the notebook will reload external python modules\n",
    "# 4. a ipython magic to enable retina (high resolution) plots\n",
    "# https://gist.github.com/minrk/3301035\n",
    "%matplotlib inline\n",
    "%load_ext watermark\n",
    "%load_ext autoreload\n",
    "%autoreload 2\n",
    "%config InlineBackend.figure_format = 'retina'\n",
    "\n",
    "from sklearn.metrics import roc_auc_score\n",
    "from sklearn.tree import DecisionTreeClassifier\n",
    "from sklearn.model_selection import train_test_split\n",
    "\n",
    "%watermark -a 'Ethen' -d -t -v -p numpy,pandas,matplotlib,sklearn"
   ]
  },
  {
   "cell_type": "markdown",
   "metadata": {},
   "source": [
    "# ROC AUC for Evaluating Binary Classifiers\n",
    "\n"
   ]
  },
  {
   "cell_type": "code",
   "execution_count": 3,
   "metadata": {},
   "outputs": [
    {
     "name": "stdout",
     "output_type": "stream",
     "text": [
      "dimensions:  (12000, 7)\n"
     ]
    },
    {
     "data": {
      "text/html": [
       "<div>\n",
       "<table border=\"1\" class=\"dataframe\">\n",
       "  <thead>\n",
       "    <tr style=\"text-align: right;\">\n",
       "      <th></th>\n",
       "      <th>S</th>\n",
       "      <th>LPE</th>\n",
       "      <th>NP</th>\n",
       "      <th>ANH</th>\n",
       "      <th>TIC</th>\n",
       "      <th>Newborn</th>\n",
       "      <th>left</th>\n",
       "    </tr>\n",
       "  </thead>\n",
       "  <tbody>\n",
       "    <tr>\n",
       "      <th>0</th>\n",
       "      <td>0.38</td>\n",
       "      <td>0.53</td>\n",
       "      <td>2</td>\n",
       "      <td>157</td>\n",
       "      <td>3</td>\n",
       "      <td>0</td>\n",
       "      <td>1</td>\n",
       "    </tr>\n",
       "    <tr>\n",
       "      <th>1</th>\n",
       "      <td>0.80</td>\n",
       "      <td>0.86</td>\n",
       "      <td>5</td>\n",
       "      <td>262</td>\n",
       "      <td>6</td>\n",
       "      <td>0</td>\n",
       "      <td>1</td>\n",
       "    </tr>\n",
       "    <tr>\n",
       "      <th>2</th>\n",
       "      <td>0.11</td>\n",
       "      <td>0.88</td>\n",
       "      <td>7</td>\n",
       "      <td>272</td>\n",
       "      <td>4</td>\n",
       "      <td>0</td>\n",
       "      <td>1</td>\n",
       "    </tr>\n",
       "    <tr>\n",
       "      <th>3</th>\n",
       "      <td>0.72</td>\n",
       "      <td>0.87</td>\n",
       "      <td>5</td>\n",
       "      <td>223</td>\n",
       "      <td>5</td>\n",
       "      <td>0</td>\n",
       "      <td>1</td>\n",
       "    </tr>\n",
       "    <tr>\n",
       "      <th>4</th>\n",
       "      <td>0.37</td>\n",
       "      <td>0.52</td>\n",
       "      <td>2</td>\n",
       "      <td>159</td>\n",
       "      <td>3</td>\n",
       "      <td>0</td>\n",
       "      <td>1</td>\n",
       "    </tr>\n",
       "  </tbody>\n",
       "</table>\n",
       "</div>"
      ],
      "text/plain": [
       "      S   LPE  NP  ANH  TIC  Newborn  left\n",
       "0  0.38  0.53   2  157    3        0     1\n",
       "1  0.80  0.86   5  262    6        0     1\n",
       "2  0.11  0.88   7  272    4        0     1\n",
       "3  0.72  0.87   5  223    5        0     1\n",
       "4  0.37  0.52   2  159    3        0     1"
      ]
     },
     "execution_count": 3,
     "metadata": {},
     "output_type": "execute_result"
    }
   ],
   "source": [
    "filename = 'HR.csv'\n",
    "data = pd.read_csv(filename)\n",
    "print('dimensions: ', data.shape)\n",
    "data.head()"
   ]
  },
  {
   "cell_type": "markdown",
   "metadata": {},
   "source": [
    "To train and evaluate the model, we’ll perform a simple train/test split. 80 percent of the dataset will be used to actually train the model, while the rest will be used to evaluate the accuracy of this model, i.e. out of sample error. Note that the best practice is to split it in three ways train/validation/test split."
   ]
  },
  {
   "cell_type": "code",
   "execution_count": 4,
   "metadata": {},
   "outputs": [
    {
     "name": "stdout",
     "output_type": "stream",
     "text": [
      "labels distribution: [ 0.83333333  0.16666667]\n"
     ]
    }
   ],
   "source": [
    "label_col = 'left'\n",
    "label = data[label_col].values\n",
    "data = data.drop(label_col, axis = 1)\n",
    "print('labels distribution:', np.bincount(label) / label.size)\n",
    "\n",
    "test_size = 0.2\n",
    "random_state = 1234\n",
    "data_train, data_test, y_train, y_test = train_test_split(\n",
    "    data, label, test_size = test_size, random_state = random_state, stratify = label)"
   ]
  },
  {
   "cell_type": "markdown",
   "metadata": {},
   "source": [
    "This probability table tells you that around 16 percent of the employees who became a staff member of yours have left! If those employees are all the ones that are performing well in the company, then this is probabliy not a good sign. We'll leave out the exploratory analysis part to you ...\n",
    "\n",
    "## Sklearn Transformer\n",
    "\n",
    "We then convert perform some generic data preprocessing including standardizing the numeric columns and one-hot-encode the categorical columns (the \"Newborn\" variable is treated as a categorical variable) and convert everything into a numpy array that sklearn expects. This generic preprocessing step is written as a custom sklearn Transformer. You don't have to follow this structure if you prefer your way of doing it.\n",
    "\n",
    "To roll out our own Transformer a adheres to the sklearn API, we need to \n",
    "\n",
    "- Ensure that all arguments to the `__init__` method should be explicit: i.e. `*args` or `**kwargs` should be avoided, as they will not be correctly handled within cross-validation routines\n",
    "- Subclass/Inherit [`BaseEstimator`](http://scikit-learn.org/stable/modules/generated/sklearn.base.BaseEstimator.html) to get some free stuff. It will give us class representations that are more informative when printing the class object. And provides us a `get_params` and `set_params` functions. These functionalities are used in sklearn's methods such as GridSearch and RandomSearch.\n",
    "- Subclass/Inherit an appropriate class for your task (one of ClassifierMixin, RegressorMixin, ClusterMixin, TransformerMixin). In our case, we will be implementing a Transformer, thus we'll be subclassing [`TransformerMixin`](http://scikit-learn.org/stable/modules/generated/sklearn.base.TransformerMixin.html). For transformer, we need to implement a `.fit` method which fits some stuff on the training data and a `.transform` method that can perform transformation on both the training and test data. Note that we don't need to subclass [`TransformerMixin`](http://scikit-learn.org/stable/modules/generated/sklearn.base.TransformerMixin.html) this to work, but it does give the end-user the idea that this is a Transformer and we get the `.fit_transform` method that does the fitting and transformer on the training data in one shot for free\n",
    "- In the fit implementation, you'll notice results that were learned during the `.fit` method is stored with a trailing underscore (e.g., self.colnames_). This is a convention used in sklearn so that we can quickly scan the members of an estimator and distinguish which members are fitting during training time\n",
    "\n",
    "If you would like to read more on this topic. The following two link might be of interest to you.\n",
    "\n",
    "- [Blog: Creating your own estimator in scikit-learn](http://danielhnyk.cz/creating-your-own-estimator-scikit-learn/)\n",
    "- [scikit-learn Documentation: Rolling your own estimator](http://scikit-learn.org/dev/developers/contributing.html#rolling-your-own-estimator)"
   ]
  },
  {
   "cell_type": "code",
   "execution_count": 5,
   "metadata": {
    "collapsed": true
   },
   "outputs": [],
   "source": [
    "from collections import defaultdict\n",
    "from sklearn.base import BaseEstimator, TransformerMixin\n",
    "from sklearn.preprocessing import LabelEncoder, OneHotEncoder, StandardScaler\n",
    "\n",
    "\n",
    "class Preprocess(BaseEstimator, TransformerMixin):\n",
    "    \"\"\"\n",
    "    \n",
    "    Parameters\n",
    "    ----------\n",
    "    num_cols : list\n",
    "    \n",
    "    cat_cols : list\n",
    "    \n",
    "    Attributes\n",
    "    ----------\n",
    "    colnames_\n",
    "    \n",
    "    cat_encode_\n",
    "    \n",
    "    scaler_\n",
    "    \n",
    "    label_encode_dict_\n",
    "    \"\"\"\n",
    "    def __init__(self, num_cols = None, cat_cols = None):\n",
    "        self.num_cols = num_cols\n",
    "        self.cat_cols = cat_cols\n",
    "\n",
    "    def fit(self, data):\n",
    "        data = data.copy()\n",
    "        \n",
    "        # Label encoding across multiple columns in scikit-learn\n",
    "        # https://stackoverflow.com/questions/24458645/label-encoding-across-multiple-columns-in-scikit-learn\n",
    "        if self.cat_cols is not None:\n",
    "            self.label_encode_dict_ = defaultdict(LabelEncoder)\n",
    "            label_encoded = (data[self.cat_cols]\n",
    "                             .apply(lambda x: self.label_encode_dict_[x.name].fit_transform(x)))\n",
    "\n",
    "            self.cat_encode_ = OneHotEncoder(sparse = False)\n",
    "            self.cat_encode_.fit(label_encoded)\n",
    "        \n",
    "        if self.num_cols is not None:\n",
    "            self.scaler_ = StandardScaler().fit(data[self.num_cols])\n",
    "        \n",
    "        # store the column names (numeric columns comes before the\n",
    "        # categorical columns) so we can refer to them later\n",
    "        if self.num_cols is not None:\n",
    "            colnames = self.num_cols.copy()\n",
    "        else:\n",
    "            colnames = []\n",
    "        \n",
    "        if self.cat_cols is not None:\n",
    "            for col in self.cat_cols:\n",
    "                cat_colnames = [col + '_' + str(classes)\n",
    "                                for classes in self.label_encode_dict_[col].classes_]\n",
    "                colnames += cat_colnames\n",
    "\n",
    "        self.colnames_ = colnames\n",
    "        return self\n",
    "\n",
    "    def transform(self, data):\n",
    "        if self.cat_cols is not None:\n",
    "            label_encoded = (data[self.cat_cols]\n",
    "                             .apply(lambda x: self.label_encode_dict_[x.name].transform(x)))\n",
    "            cat_encoded = self.cat_encode_.transform(label_encoded)\n",
    "        \n",
    "        if self.num_cols is not None:\n",
    "            scaled = self.scaler_.transform(data[self.num_cols])\n",
    "        \n",
    "        # combine encoded categorical columns and scaled numerical\n",
    "        # columns, it's the same as concatenate it along axis 1\n",
    "        if self.cat_cols is not None and self.num_cols is not None:\n",
    "            X = np.hstack((scaled, cat_encoded))\n",
    "        elif self.num_cols is None:\n",
    "            X = cat_encoded\n",
    "        else:\n",
    "            X = scaled\n",
    "        \n",
    "        return X"
   ]
  },
  {
   "cell_type": "code",
   "execution_count": 6,
   "metadata": {},
   "outputs": [
    {
     "name": "stdout",
     "output_type": "stream",
     "text": [
      "colnames ['S', 'LPE', 'NP', 'ANH', 'TIC', 'Newborn_0', 'Newborn_1']\n"
     ]
    },
    {
     "data": {
      "text/plain": [
       "array([[ 0.24997745,  0.61402599,  0.16885833, ...,  0.72182646,\n",
       "         1.        ,  0.        ],\n",
       "       [ 0.12545568, -0.27568766,  1.02655144, ..., -0.22007024,\n",
       "         1.        ,  0.        ],\n",
       "       [ 0.58203549, -1.34334405,  0.16885833, ..., -0.22007024,\n",
       "         1.        ,  0.        ],\n",
       "       ..., \n",
       "       [-1.32729826, -0.75020161, -0.68883478, ..., -0.22007024,\n",
       "         1.        ,  0.        ],\n",
       "       [ 0.58203549, -0.21637342, -0.68883478, ..., -1.16196694,\n",
       "         0.        ,  1.        ],\n",
       "       [ 0.45751372,  0.25814053, -0.68883478, ..., -0.22007024,\n",
       "         1.        ,  0.        ]])"
      ]
     },
     "execution_count": 6,
     "metadata": {},
     "output_type": "execute_result"
    }
   ],
   "source": [
    "num_cols = ['S', 'LPE', 'NP', 'ANH', 'TIC']\n",
    "cat_cols = ['Newborn']\n",
    "\n",
    "preprocess = Preprocess(num_cols, cat_cols)\n",
    "X_train = preprocess.fit_transform(data_train)\n",
    "X_test = preprocess.transform(data_test)\n",
    "\n",
    "print('colnames', preprocess.colnames_)\n",
    "X_train"
   ]
  },
  {
   "cell_type": "code",
   "execution_count": 7,
   "metadata": {},
   "outputs": [
    {
     "data": {
      "text/plain": [
       "DecisionTreeClassifier(class_weight=None, criterion='gini', max_depth=None,\n",
       "            max_features=None, max_leaf_nodes=None,\n",
       "            min_impurity_split=1e-07, min_samples_leaf=1,\n",
       "            min_samples_split=2, min_weight_fraction_leaf=0.0,\n",
       "            presort=False, random_state=None, splitter='best')"
      ]
     },
     "execution_count": 7,
     "metadata": {},
     "output_type": "execute_result"
    }
   ],
   "source": [
    "tree = DecisionTreeClassifier()\n",
    "tree.fit(X_train, y_train)"
   ]
  },
  {
   "cell_type": "markdown",
   "metadata": {},
   "source": [
    "After training our model, we need to evaluate whether its any good or not and probably the most straightforward and intuitive metric for a supervised classifier's performance is accuracy. Unfortunately, there are circumstances where simple accuracy does not work well. For example, with a disease that only affects 1 in a million people, a completely bogus screening test that always reports \"negative\" will be 99.9999% accurate. Unlike accuracy, ROC curves are less sensitive to class imbalance; the bogus screening test would have an AUC of 0.5, which is like not having a test at all. \n",
    "\n",
    "\n",
    "## ROC curves\n",
    "\n",
    "**ROC curve (Receiver Operating Characteristic)** is a commonly used way to visualize the performance of a binary classifier and AUC (Area Under the ROC Curve) is used to summarize its performance in a single number. Most machine learning algorithms have the ability to produce probability scores that tells us the strength in which it thinks a given observation is positive. Turning these probability scores into yes or no predictions requires setting a threshold; cases with scores above the threshold are classified as positive, and vice versa. Different threshold values can lead to different result:\n",
    "\n",
    "- A higher threshold is more conservative about labelling a case as positive; this makes it less likely to produce false positive (an observation that has a negative label but gets classified as positive by the model) results but more likely to miss cases that are in fact positive (lower true positive rate)\n",
    "- A lower threshold produces positive labels more liberally, so it creates more false positives but also generate more true positives\n",
    "\n",
    "The ROC curve is created by plotting the true positive rate (when it's actually a yes, how often does it predict yes?) on the y axis against the false positive rate (when it's actually a no, how often does it predict yes?) on the x axis at various cutoff settings, giving us a picture of the whole spectrum of the tradeoff we're making between the two measures.\n",
    "\n",
    "If all these true/false positive terminology is confusing to you, consider reading the material at the following link. [Blog: Simple guide to confusion matrix terminology](http://www.dataschool.io/simple-guide-to-confusion-matrix-terminology/)\n",
    "\n",
    "There are commonly used packages to plot ROC curves and to compute metrics from them, but it can still be worthwhile to work through how these curves are calculated from scratch to try to understand better what they show us."
   ]
  },
  {
   "cell_type": "code",
   "execution_count": 11,
   "metadata": {
    "collapsed": true
   },
   "outputs": [],
   "source": [
    "def _binary_clf_curve(y_true, y_score):\n",
    "    \"\"\"\n",
    "    Calculate true and false positives per binary classification\n",
    "    threshold (can be used for roc curve or precision/recall curve);\n",
    "    the calcuation makes the assumption that the positive case\n",
    "    will always be labeled as 1\n",
    "\n",
    "    Parameters\n",
    "    ----------\n",
    "    y_true : 1d nd.array, shape = [n_samples]\n",
    "        True targets/labels of binary classification\n",
    "\n",
    "    y_score : 1d nd.array, shape = [n_samples]\n",
    "        Estimated probabilities or scores\n",
    "\n",
    "    Returns\n",
    "    -------\n",
    "    tps : 1d nd.array\n",
    "        True positives counts, index i records the number\n",
    "        of positive samples that got assigned a\n",
    "        score >= thresholds[i].\n",
    "        The total number of positive samples is equal to\n",
    "        tps[-1] (thus false negatives are given by tps[-1] - tps)\n",
    "\n",
    "    fps : 1d nd.array\n",
    "        False positives counts, index i records the number\n",
    "        of negative samples that got assigned a\n",
    "        score >= thresholds[i].\n",
    "        The total number of negative samples is equal to\n",
    "        fps[-1] (thus true negatives are given by fps[-1] - fps)\n",
    "\n",
    "    thresholds : 1d nd.array\n",
    "        predicted score sorted in decreasing order\n",
    "\n",
    "    References\n",
    "    ----------\n",
    "    Github: scikit-learn _binary_clf_curve\n",
    "    - https://github.com/scikit-learn/scikit-learn/blob/ab93d65/sklearn/metrics/ranking.py#L263\n",
    "    \"\"\"\n",
    "\n",
    "    # sort predicted scores in descending order\n",
    "    # and also reorder corresponding truth values\n",
    "    desc_score_indices = np.argsort(y_score)[::-1]\n",
    "    y_score = y_score[desc_score_indices]\n",
    "    y_true = y_true[desc_score_indices]\n",
    "\n",
    "    # y_score typically consists of tied values. Here we extract\n",
    "    # the indices associated with the distinct values. We also\n",
    "    # concatenate a value for the end of the curve\n",
    "    distinct_indices = np.where(np.diff(y_score))[0]\n",
    "    end = np.array([y_true.size - 1])\n",
    "    threshold_indices = np.hstack((distinct_indices, end))\n",
    "\n",
    "    thresholds = y_score[threshold_indices]\n",
    "    tps = np.cumsum(y_true)[threshold_indices]\n",
    "\n",
    "    # (1 + threshold_indices) = the number of positives\n",
    "    # at each index, thus number of data points minus true\n",
    "    # positives = false positives\n",
    "    fps = (1 + threshold_indices) - tps\n",
    "    return tps, fps, thresholds"
   ]
  },
  {
   "cell_type": "code",
   "execution_count": 14,
   "metadata": {},
   "outputs": [
    {
     "name": "stdout",
     "output_type": "stream",
     "text": [
      "thresholds: [ 0.8   0.45  0.4   0.35]\n",
      "true positive rate: [1 2 2 3]\n",
      "false positive rate: [0 0 1 2]\n"
     ]
    }
   ],
   "source": [
    "# we'll work with some toy data so it's easier to\n",
    "# show and confirm the calculated result\n",
    "y_true = np.array([1, 0, 1, 0, 1])\n",
    "y_score = np.array([0.45, 0.4, 0.35, 0.35, 0.8])\n",
    "\n",
    "\n",
    "tps, fps, thresholds = _binary_clf_curve(y_true, y_score)\n",
    "print('thresholds:', thresholds)\n",
    "print('true positive count:', tps)\n",
    "print('false positive count:', fps)"
   ]
  },
  {
   "cell_type": "markdown",
   "metadata": {},
   "source": [
    "From the result above, we can see that the function will compute the true/false positive count for all unique threshold in the predicted score `y_score`. We can validate the result by hand to confirm that the calculation this in fact correct.\n",
    "\n",
    "Recall that ROC curve plots that true positive rate on the y-axis and false positive rate on the x-axis. Thus all we need to do is to convert the count into rate and we have our ROC curve."
   ]
  },
  {
   "cell_type": "code",
   "execution_count": 16,
   "metadata": {},
   "outputs": [
    {
     "data": {
      "image/png": "[encoded data removed]",
      "text/plain": [
       "<matplotlib.figure.Figure at 0x1157a77f0>"
      ]
     },
     "metadata": {
      "image/png": {
       "height": 392,
       "width": 504
      }
     },
     "output_type": "display_data"
    }
   ],
   "source": [
    "# convert count to rate\n",
    "tpr = tps / tps[-1]\n",
    "fpr = fps / fps[-1]\n",
    "\n",
    "plt.plot(fpr, tpr, lw = 1)\n",
    "plt.xlabel('false positive rate')\n",
    "plt.ylabel('true positive rate')\n",
    "plt.title('Receiver Operator Characteristic')\n",
    "plt.show()"
   ]
  },
  {
   "cell_type": "markdown",
   "metadata": {},
   "source": [
    "Now to calculate the AUC (Area Under the Curve)"
   ]
  },
  {
   "cell_type": "code",
   "execution_count": 17,
   "metadata": {
    "collapsed": true
   },
   "outputs": [],
   "source": [
    "def _roc_auc_score(y_true, y_score):\n",
    "    \"\"\"\n",
    "    Compute Area Under the Curve (AUC) from prediction scores\n",
    "\n",
    "    Parameters\n",
    "    ----------\n",
    "    y_true : 1d nd.array, shape = [n_samples]\n",
    "        True targets/labels of binary classification\n",
    "\n",
    "    y_score : 1d nd.array, shape = [n_samples]\n",
    "        Estimated probabilities or scores\n",
    "\n",
    "    Returns\n",
    "    -------\n",
    "    auc : float\n",
    "    \"\"\"\n",
    "\n",
    "    # ensure the target is binary\n",
    "    if np.unique(y_true).size != 2:\n",
    "        raise ValueError('Only two class should be present in y_true. ROC AUC score '\n",
    "                         'is not defined in that case.')\n",
    "    \n",
    "    tps, fps, _ = _binary_clf_curve(y_true, y_score)\n",
    "\n",
    "    # convert count to rate\n",
    "    tpr = tps / tps[-1]\n",
    "    fpr = fps / fps[-1]\n",
    "\n",
    "    # compute AUC using the trapezoidal rule;\n",
    "    # appending an extra 0 is just to ensure the length matches\n",
    "    zero = np.array([0])\n",
    "    tpr_diff = np.hstack((np.diff(tpr), zero))\n",
    "    fpr_diff = np.hstack((np.diff(fpr), zero))\n",
    "    auc = np.dot(tpr, fpr_diff) + np.dot(tpr_diff, fpr_diff) / 2\n",
    "    return auc"
   ]
  },
  {
   "cell_type": "code",
   "execution_count": 19,
   "metadata": {},
   "outputs": [
    {
     "name": "stdout",
     "output_type": "stream",
     "text": [
      "auc score: 0.75\n",
      "package auc socre: 0.75\n"
     ]
    }
   ],
   "source": [
    "from sklearn.metrics import roc_auc_score\n",
    "\n",
    "auc = _roc_auc_score(y_true, y_score)\n",
    "print('auc score:', auc)\n",
    "\n",
    "# confirm with scikit-learn's result\n",
    "auc = roc_auc_score(y_true, y_score)\n",
    "print('package auc socre:', auc)"
   ]
  },
  {
   "cell_type": "code",
   "execution_count": null,
   "metadata": {
    "collapsed": true
   },
   "outputs": [],
   "source": []
  },
  {
   "cell_type": "code",
   "execution_count": 8,
   "metadata": {},
   "outputs": [
    {
     "data": {
      "image/png": "[encoded data removed]",
      "text/plain": [
       "<matplotlib.figure.Figure at 0x11404c2e8>"
      ]
     },
     "metadata": {
      "image/png": {
       "height": 418,
       "width": 561
      }
     },
     "output_type": "display_data"
    }
   ],
   "source": [
    "from sklearn.metrics import roc_curve, auc\n",
    "\n",
    "\n",
    "# calling the roc_curve, extract the probability of \n",
    "# the positive class from the predicted probability\n",
    "tree_test_pred = tree.predict_proba(X_test)[:, 1]\n",
    "fpr, tpr, thresholds = roc_curve(y_test, tree_test_pred, pos_label = 1)\n",
    "\n",
    "# AUC score that summarizes the ROC curve\n",
    "roc_auc = auc(fpr, tpr)\n",
    "\n",
    "\n",
    "plt.rcParams['figure.figsize'] = 8, 6\n",
    "plt.rcParams['font.size'] = 12\n",
    "\n",
    "plt.plot(fpr, tpr, lw = 1, label = 'ROC AUC: {:.2f}'.format(roc_auc))\n",
    "plt.plot([0, 1], [0, 1],\n",
    "         linestyle = '--',\n",
    "         color = (0.6, 0.6, 0.6),\n",
    "         label = 'random guessing')\n",
    "plt.plot([0, 0, 1], [0, 1, 1],\n",
    "         linestyle = ':', lw = 2,\n",
    "         color = 'black', \n",
    "         label = 'perfect performance')\n",
    "\n",
    "plt.xlim([-0.05, 1.05])\n",
    "plt.ylim([-0.05, 1.05])\n",
    "plt.xlabel('false positive rate')\n",
    "plt.ylabel('true positive rate')\n",
    "plt.title('Receiver Operator Characteristic')\n",
    "plt.legend(loc = \"lower right\")\n",
    "plt.tight_layout()\n",
    "plt.show()"
   ]
  },
  {
   "cell_type": "code",
   "execution_count": 9,
   "metadata": {},
   "outputs": [
    {
     "name": "stdout",
     "output_type": "stream",
     "text": [
      "train auc 0.999999960937\n",
      "test auc 0.948\n"
     ]
    }
   ],
   "source": [
    "tree_train_pred = tree.predict_proba(X_train)[:, 1]\n",
    "tree_test_pred = tree.predict_proba(X_test)[:, 1]\n",
    "tree_train_auc = roc_auc_score(y_train, tree_train_pred)\n",
    "tree_test_auc = roc_auc_score(y_test, tree_test_pred)\n",
    "print('train auc', tree_train_auc)\n",
    "print('test auc', tree_test_auc)"
   ]
  },
  {
   "cell_type": "code",
   "execution_count": 10,
   "metadata": {},
   "outputs": [
    {
     "ename": "NameError",
     "evalue": "name 'hi' is not defined",
     "output_type": "error",
     "traceback": [
      "\u001b[0;31m---------------------------------------------------------------------------\u001b[0m",
      "\u001b[0;31mNameError\u001b[0m                                 Traceback (most recent call last)",
      "\u001b[0;32m<ipython-input-10-764efa883dda>\u001b[0m in \u001b[0;36m<module>\u001b[0;34m()\u001b[0m\n\u001b[0;32m----> 1\u001b[0;31m \u001b[0mhi\u001b[0m\u001b[0;34m\u001b[0m\u001b[0m\n\u001b[0m",
      "\u001b[0;31mNameError\u001b[0m: name 'hi' is not defined"
     ]
    }
   ],
   "source": [
    "hi"
   ]
  },
  {
   "cell_type": "code",
   "execution_count": null,
   "metadata": {
    "collapsed": true
   },
   "outputs": [],
   "source": [
    "from sklearn.metrics import accuracy_score\n",
    "tree_train_pred = tree.predict(X_train)\n",
    "tree_test_pred = tree.predict(X_test)\n",
    "tree_train_accuracy = accuracy_score(y_train, tree_train_pred)\n",
    "tree_test_accuracy = accuracy_score(y_test, tree_test_pred)\n",
    "print('train accuracy', tree_train_accuracy)\n",
    "print('test accuracy', tree_test_accuracy)"
   ]
  },
  {
   "cell_type": "code",
   "execution_count": null,
   "metadata": {},
   "outputs": [],
   "source": [
    "from sklearn.metrics import roc_auc_score\n",
    "roc_auc_score(y_true, y_score)\n",
    "y_true = np.array([1, 0, 1, 0, 1])\n",
    "y_score = np.array([0.45, 0.4, 0.35, 0.35, 0.8])\n",
    "\n",
    "\n",
    "\n",
    "roc_auc_score(y_true, y_score)"
   ]
  },
  {
   "cell_type": "code",
   "execution_count": null,
   "metadata": {},
   "outputs": [],
   "source": [
    "zero = np.array([0])\n",
    "tpr_diff = np.hstack((np.diff(tpr), zero))\n",
    "fpr_diff = np.hstack((np.diff(fpr), zero))\n",
    "auc = np.dot(tpr, fpr_diff) + np.dot(tpr_diff, fpr_diff) / 2\n",
    "auc"
   ]
  },
  {
   "cell_type": "code",
   "execution_count": null,
   "metadata": {},
   "outputs": [],
   "source": [
    "tpr"
   ]
  },
  {
   "cell_type": "code",
   "execution_count": null,
   "metadata": {},
   "outputs": [],
   "source": [
    "tpr_diff"
   ]
  },
  {
   "cell_type": "code",
   "execution_count": null,
   "metadata": {},
   "outputs": [],
   "source": [
    "fpr_diff"
   ]
  },
  {
   "cell_type": "code",
   "execution_count": null,
   "metadata": {},
   "outputs": [],
   "source": [
    "%matplotlib inline\n",
    "import matplotlib.pyplot as plt\n",
    "\n",
    "plt.plot(fpr, tpr, lw = 1)\n",
    "plt.show()"
   ]
  },
  {
   "cell_type": "code",
   "execution_count": null,
   "metadata": {
    "collapsed": true
   },
   "outputs": [],
   "source": [
    "# 0.75\n",
    "# y_true = np.array([0, 0, 1, 1])\n",
    "# y_score = np.array([0.1, 0.4, 0.35, 0.8])\n",
    "# roc_auc_score(y_true, y_score)"
   ]
  },
  {
   "cell_type": "code",
   "execution_count": null,
   "metadata": {
    "collapsed": true
   },
   "outputs": [],
   "source": [
    "def _binary_roc_auc_score(y_true, y_score, sample_weight=None):\n",
    "    fpr, tpr, tresholds = roc_curve(y_true, y_score,\n",
    "                                    sample_weight=sample_weight)\n",
    "    return auc(fpr, tpr, reorder=True)\n",
    "\n",
    "return _average_binary_score(\n",
    "    _binary_roc_auc_score, y_true, y_score, average,\n",
    "    sample_weight=sample_weight)"
   ]
  },
  {
   "cell_type": "markdown",
   "metadata": {},
   "source": [
    "While AUC gives a single-number summary of classifier performance that is suitable in some circumstances, other metrics are often more appropriate. For binary classifiers, evaluation metrics that take into account the actual costs of false positive and false negative errors may be much more appropriate than AUC. If we know these costs, we can use them not only to tie to more directly to the business value but also choose the final cutoff threhold for the classifier.\n",
    "\n",
    "In real world application, the cost that comes along with making these two mistakes (false positive and false negative) are usually a whole lot different. Take our case for example, a false negative (FN) means an employee left our company but our model failed to detect that, while a false positive (FP) means an employee is still currently working at our company and our model told us that they will be leaving. The former mistake would be a tragedy, since, well, the emplyoee left and we didn’t do anything about it! As for conducting the latter mistake, we might be wasting like 15 minutes of a HR manager's time when we arrange a face to face interview with a employee, questioning about how the company can do better to retain him, while he's perfectly fine with the current situation."
   ]
  },
  {
   "cell_type": "markdown",
   "metadata": {},
   "source": [
    "# Reference\n",
    "\n",
    "- [Blog: Calculating AUC: the area under a ROC Curve](http://blog.revolutionanalytics.com/2016/11/calculating-auc.html)"
   ]
  }
 ],
 "metadata": {
  "kernelspec": {
   "display_name": "Python 3",
   "language": "python",
   "name": "python3"
  },
  "language_info": {
   "codemirror_mode": {
    "name": "ipython",
    "version": 3
   },
   "file_extension": ".py",
   "mimetype": "text/x-python",
   "name": "python",
   "nbconvert_exporter": "python",
   "pygments_lexer": "ipython3",
   "version": "3.5.2"
  },
  "toc": {
   "colors": {
    "hover_highlight": "#DAA520",
    "running_highlight": "#FF0000",
    "selected_highlight": "#FFD700"
   },
   "moveMenuLeft": true,
   "nav_menu": {
    "height": "12px",
    "width": "252px"
   },
   "navigate_menu": true,
   "number_sections": true,
   "sideBar": true,
   "threshold": 4,
   "toc_cell": false,
   "toc_section_display": "block",
   "toc_window_display": true,
   "widenNotebook": false
  }
 },
 "nbformat": 4,
 "nbformat_minor": 2
}
