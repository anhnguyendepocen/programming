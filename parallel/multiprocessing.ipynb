{
 "cells": [
  {
   "cell_type": "markdown",
   "metadata": {},
   "source": [
    "## Joblib\n",
    "\n",
    "pitfalls: resource contention, we want to be parallelizing tasks to match our resources, e.g. we have multiple CPU, thus ideally we want to parallelize things that is going to use the CPU not something like reading/writing to disk/database since we usually only have 1 of them. And our different parallel tasks will be contending and fighting for that one shared resources.\n",
    "\n",
    "\n",
    "common operation: map\n",
    "\n",
    "M = function(item) ...\n",
    "map(M, items) = function(item1), function(item2)"
   ]
  },
  {
   "cell_type": "code",
   "execution_count": 1,
   "metadata": {
    "collapsed": false
   },
   "outputs": [
    {
     "data": {
      "text/plain": [
       "8"
      ]
     },
     "execution_count": 1,
     "metadata": {},
     "output_type": "execute_result"
    }
   ],
   "source": [
    "import multiprocessing\n",
    "from joblib import Parallel, delayed\n",
    "n_cores = multiprocessing.cpu_count()\n",
    "n_cores"
   ]
  },
  {
   "cell_type": "code",
   "execution_count": 3,
   "metadata": {
    "collapsed": false
   },
   "outputs": [
    {
     "data": {
      "text/plain": [
       "[0, 1, 4, 9, 16, 25, 36, 49, 64, 81]"
      ]
     },
     "execution_count": 3,
     "metadata": {},
     "output_type": "execute_result"
    }
   ],
   "source": [
    "def square(num):\n",
    "    \"\"\"a function that we wish to run in parallel\"\"\"\n",
    "    return num * num\n",
    "\n",
    "# we run the Parallel function specifying the number of cores,\n",
    "# wrap our function in the delayed function and specify the range\n",
    "# or the input items we want to iterate over\n",
    "\n",
    "# it's also going to take care of making sure everything gets returned\n",
    "# in order\n",
    "Parallel(n_jobs = n_cores)( delayed(square)(i) for i in range(10) )"
   ]
  },
  {
   "cell_type": "code",
   "execution_count": 4,
   "metadata": {
    "collapsed": false
   },
   "outputs": [
    {
     "data": {
      "text/plain": [
       "[0, 1, 2, 3]"
      ]
     },
     "execution_count": 4,
     "metadata": {},
     "output_type": "execute_result"
    }
   ],
   "source": [
    "# modify A in place\n",
    "A = [0, 0, 0, 0]\n",
    "\n",
    "def update_array(i):\n",
    "    global A\n",
    "    A[i] = i\n",
    "\n",
    "# when we run this in a normal for loop\n",
    "for i in range(4):\n",
    "    update_array(i)\n",
    "    \n",
    "A"
   ]
  },
  {
   "cell_type": "code",
   "execution_count": 8,
   "metadata": {
    "collapsed": false
   },
   "outputs": [
    {
     "data": {
      "text/plain": [
       "[None, None, None, None]"
      ]
     },
     "execution_count": 8,
     "metadata": {},
     "output_type": "execute_result"
    }
   ],
   "source": [
    "A = [0, 0, 0, 0]\n",
    "\n",
    "# when we run the parallel task, each cores will get a copy of\n",
    "# the array A, thus it's not going to modify the global array A\n",
    "Parallel(n_jobs = -1)( delayed(update_array)(i) for i in range(4) )\n",
    "A"
   ]
  },
  {
   "cell_type": "code",
   "execution_count": 9,
   "metadata": {
    "collapsed": false
   },
   "outputs": [
    {
     "data": {
      "text/plain": [
       "[0, 1, 2, 3]"
      ]
     },
     "execution_count": 9,
     "metadata": {},
     "output_type": "execute_result"
    }
   ],
   "source": [
    "# so the better way to do this is to simply have function that\n",
    "# returns the information from the parallelized task\n",
    "def update_array2(i):\n",
    "    return i\n",
    "\n",
    "Parallel(n_jobs = -1)( delayed(update_array2)(i) for i in range(4) )"
   ]
  },
  {
   "cell_type": "code",
   "execution_count": null,
   "metadata": {
    "collapsed": true
   },
   "outputs": [],
   "source": [
    "# example of the scikit-learn library,\n",
    "# changing n_jobs"
   ]
  },
  {
   "cell_type": "markdown",
   "metadata": {},
   "source": [
    "- [Youtube: Parallel Programming in R and Python](https://www.youtube.com/watch?v=FIS_LsOzxYo)"
   ]
  },
  {
   "cell_type": "markdown",
   "metadata": {},
   "source": [
    "## Parallel Processing\n",
    "\n",
    "Modern computers often have multiple cores, we should leverage the capabilities of these processors to increase performance. To do so, we need to divide a problem into sub-problems and tackle them independently. We'll first look at the `multiprocessing` library.\n",
    "\n",
    "The following sections follows the tutorial given in the Youtube link below.\n",
    "\n",
    "- [Youtube: Multiprocessing - Intermediate Python Programming p.10](https://www.youtube.com/watch?v=oEYDqQ1pq9o&t=599s)\n",
    "- [Youtube: Getting returned values from Processes - Intermediate Python Programming p.11](https://www.youtube.com/watch?v=kUKOEuPJXGc)"
   ]
  },
  {
   "cell_type": "code",
   "execution_count": null,
   "metadata": {
    "collapsed": true
   },
   "outputs": [],
   "source": [
    "from multiprocessing import Process\n",
    "\n",
    "def spawn(num):\n",
    "    print('Spawned {}'.format(num))\n",
    "\n",
    "if __name__ == '__main__':\n",
    "    for i in range(5):\n",
    "        # initiate a process using the function as the target,\n",
    "        # then pass in the argument to the function in the args\n",
    "        # argument; the argument expects a tuple so (i,) allows\n",
    "        # us to create a one-element tuple, after that we can\n",
    "        # start the process   \n",
    "        p = Process( target = spawn, args = (i,) )\n",
    "        p.start()\n",
    "        \n",
    "        # here we're calling .join() to\n",
    "        # join the process, this is basically waiting for \n",
    "        # each individual process to complete so they come in the\n",
    "        # pre-defined order, we wouldn't need this if task is\n",
    "        # independent of each other and the order of completion\n",
    "        # also does not matter\n",
    "        p.join()"
   ]
  },
  {
   "cell_type": "markdown",
   "metadata": {},
   "source": [
    "Next, we'll see how we can introduce communications between processes, so instead of printing stuff out, we can return values."
   ]
  },
  {
   "cell_type": "code",
   "execution_count": null,
   "metadata": {
    "collapsed": true
   },
   "outputs": [],
   "source": [
    "from multiprocessing import Pool\n",
    "\n",
    "def job(num):\n",
    "    return num * 2\n",
    "\n",
    "# we create a Pool, and the processes argument refers\n",
    "# to how many stuff will be processed at a single time\n",
    "# after that we call map to apply the function to an iterable.\n",
    "# to our function, we can have multiple map (task)\n",
    "with Pool(processes = 10) as p:\n",
    "    data = p.map( job, range(5) )\n",
    "\n",
    "data"
   ]
  }
 ],
 "metadata": {
  "anaconda-cloud": {},
  "kernelspec": {
   "display_name": "Python [Root]",
   "language": "python",
   "name": "Python [Root]"
  },
  "language_info": {
   "codemirror_mode": {
    "name": "ipython",
    "version": 3
   },
   "file_extension": ".py",
   "mimetype": "text/x-python",
   "name": "python",
   "nbconvert_exporter": "python",
   "pygments_lexer": "ipython3",
   "version": "3.5.2"
  }
 },
 "nbformat": 4,
 "nbformat_minor": 0
}
