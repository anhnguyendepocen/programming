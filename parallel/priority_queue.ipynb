{
 "cells": [
  {
   "cell_type": "markdown",
   "metadata": {},
   "source": [
    "# Priority Queue\n",
    "\n",
    "We can think of priority queue as a modified queue: instead of retrieving the next element by insertion time, it retrieves the highest-priority element. The priority of individual elements is decided by the ordering applied to their keys.\n",
    "\n",
    "Priority queues are commonly used for dealing with scheduling problems. High-priority tasks on the system should take precedence over lower-priority tasks. By organizing pending tasks in a priority queue that uses the task urgency as the key, the task scheduler can allow the highest-priority tasks to run first.\n",
    "\n",
    "Let’s take a look at how we can implement priority queues in Python using built-in data structures or data structures that ship with Python’s standard library."
   ]
  },
  {
   "cell_type": "code",
   "execution_count": 1,
   "metadata": {},
   "outputs": [
    {
     "name": "stdout",
     "output_type": "stream",
     "text": [
      "(1, 'eat')\n",
      "(2, 'code')\n",
      "(3, 'sleep')\n"
     ]
    }
   ],
   "source": [
    "from queue import PriorityQueue\n",
    "\n",
    "q = PriorityQueue()\n",
    "q.put((2, 'code'))\n",
    "q.put((1, 'eat'))\n",
    "q.put((3, 'sleep'))\n",
    "\n",
    "while not q.empty():\n",
    "    # note that apart from returning\n",
    "    # the item from the queue, it will\n",
    "    # also remove it from the queue\n",
    "    next_item = q.get()\n",
    "    print(next_item)"
   ]
  },
  {
   "cell_type": "markdown",
   "metadata": {},
   "source": [
    "As we can infer from the output, prioriy queue stores the elements by its priority, in this case the first element in the tuple.\n",
    "\n",
    "After from sorting primitive types such as integers, we can also sort objects that we've defined. To perform sorting on custom objects we need to implement the dunder methods for all 6 comparisons.\n",
    "\n",
    "| Operator | Method     |\n",
    "|----------|------------|\n",
    "| ==       | ``__eq__`` |\n",
    "| !=       | ``__ne__`` |\n",
    "| <        | ``__le__`` |\n",
    "| <=       | ``__le__`` |\n",
    "| >        | ``__gt__`` |\n",
    "| >=       | ``__ge__`` |"
   ]
  },
  {
   "cell_type": "code",
   "execution_count": 10,
   "metadata": {
    "collapsed": true
   },
   "outputs": [],
   "source": [
    "class Skill:\n",
    "    def __init__(self, priority, description):\n",
    "        self.priority = priority\n",
    "        self.description = description\n",
    "        \n",
    "    def __eq__(self, other):\n",
    "        return self.priority == other.priority\n",
    "\n",
    "    def __ne__(self, other):\n",
    "        return self.priority != other.priority\n",
    "\n",
    "    def __lt__(self, other):\n",
    "        return self.priority < other.priority\n",
    "\n",
    "    def __le__(self, other):\n",
    "        return self.priority <= other.priority\n",
    "\n",
    "    def __gt__(self, other):\n",
    "        return self.priority > other.priority\n",
    "\n",
    "    def __ge__(self, other):\n",
    "        return self.priority >= other.priority\n",
    "\n",
    "    def __repr__(self):\n",
    "        return '{}: {}'.format(self.description, self.priority)"
   ]
  },
  {
   "cell_type": "code",
   "execution_count": 11,
   "metadata": {},
   "outputs": [
    {
     "name": "stdout",
     "output_type": "stream",
     "text": [
      "Java: 1\n",
      "R: 5\n",
      "Python: 10\n"
     ]
    }
   ],
   "source": [
    "q = PriorityQueue()\n",
    "q.put(Skill(5, 'R'))\n",
    "q.put(Skill(10, 'Python'))\n",
    "q.put(Skill(1, 'Java'))\n",
    "\n",
    "while not q.empty():\n",
    "    next_item = q.get()\n",
    "    print(next_item)"
   ]
  },
  {
   "cell_type": "markdown",
   "metadata": {},
   "source": [
    "# Reference\n",
    "\n",
    "- [Blog: Priority Queues in Python](https://dbader.org/blog/priority-queues-in-python)\n",
    "- [Notes: Comparing and Sorting](http://portingguide.readthedocs.io/en/latest/comparisons.html)"
   ]
  }
 ],
 "metadata": {
  "kernelspec": {
   "display_name": "Python 3",
   "language": "python",
   "name": "python3"
  },
  "language_info": {
   "codemirror_mode": {
    "name": "ipython",
    "version": 3
   },
   "file_extension": ".py",
   "mimetype": "text/x-python",
   "name": "python",
   "nbconvert_exporter": "python",
   "pygments_lexer": "ipython3",
   "version": "3.5.2"
  },
  "toc": {
   "colors": {
    "hover_highlight": "#DAA520",
    "running_highlight": "#FF0000",
    "selected_highlight": "#FFD700"
   },
   "moveMenuLeft": true,
   "nav_menu": {
    "height": "48px",
    "width": "252px"
   },
   "navigate_menu": true,
   "number_sections": true,
   "sideBar": true,
   "threshold": 4,
   "toc_cell": false,
   "toc_section_display": "block",
   "toc_window_display": true
  }
 },
 "nbformat": 4,
 "nbformat_minor": 2
}
