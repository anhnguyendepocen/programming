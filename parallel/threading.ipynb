{
 "cells": [
  {
   "cell_type": "code",
   "execution_count": 1,
   "metadata": {
    "collapsed": true
   },
   "outputs": [],
   "source": [
    "import time\n",
    "import threading"
   ]
  },
  {
   "cell_type": "markdown",
   "metadata": {},
   "source": [
    "Threading allows us to run multiple tasks concurrently, so if I have two tasks, task A and task B, I can run them simultaneously without having to wait for task A to finish before running running task B.\n",
    "\n",
    "When task run simultaneously, they're utilizing multiple CPUs. However, this can cause a problem in Python due to the GIL (Global Interpreter Lock). The GIL prevents threads from actually running in parallel and they can only use one processor at a time within a script, so to actually run tasks concurrently, Python uses another technique called task switching. Python rapidly switches between each thread to make it seem like our program is actually running multiple tasks in parallel.\n",
    "\n",
    "This can actually be very useful for event-driven tasks that have a lot of downtime and are waiting for the user to input something.\n",
    "\n",
    "\n",
    "Before we create/initialize a thread, we need to create a function."
   ]
  },
  {
   "cell_type": "code",
   "execution_count": 2,
   "metadata": {
    "collapsed": true
   },
   "outputs": [],
   "source": [
    "def sleeper(n, name):\n",
    "    print('I am {}. Going to sleep for {} seconds'.format(name, n))\n",
    "    time.sleep(n)\n",
    "    print('{} has woken up from sleep'.format(name))"
   ]
  },
  {
   "cell_type": "markdown",
   "metadata": {},
   "source": [
    "We then initialize our thread with the `Thread` class from the `threading` module.\n",
    "\n",
    "- `target`: accepts the function that we're going to execute\n",
    "- `name`: is basically just naming the thread; this allows us to easily differentiate between threads when we have multiple threads\n",
    "- `args`: pass in the argument to our function here"
   ]
  },
  {
   "cell_type": "code",
   "execution_count": 3,
   "metadata": {},
   "outputs": [
    {
     "name": "stdout",
     "output_type": "stream",
     "text": [
      "I am thread1. Going to sleep for 3 seconds\n",
      "thread1 has woken up from sleep\n"
     ]
    }
   ],
   "source": [
    "# we call .start to start executing the function from the thread\n",
    "thread = threading.Thread(target = sleeper, name = 'thread1', args = (3, 'thread1'))\n",
    "thread.start()"
   ]
  },
  {
   "cell_type": "markdown",
   "metadata": {},
   "source": [
    "Suppose we consider the main program as the main thread and our thread as its own separate thread, when we run a program and something is sleeping for a few seconds we have wait for thatportion to wake up before we can continue with the rest of the program. The code chunk below demonstrates the concurrency property, i.e. we don't have to wait for the thread we created to finish before running the rest of our program."
   ]
  },
  {
   "cell_type": "code",
   "execution_count": 4,
   "metadata": {},
   "outputs": [
    {
     "name": "stdout",
     "output_type": "stream",
     "text": [
      "I am thread2. Going to sleep for 3 seconds\n",
      "\n",
      "hello\n",
      "thread2 has woken up from sleep\n"
     ]
    }
   ],
   "source": [
    "# hello is printed before the wake up message from the function\n",
    "thread = threading.Thread(target = sleeper, name = 'thread1', args = (3, 'thread2'))\n",
    "thread.start()\n",
    "\n",
    "print()\n",
    "print('hello')"
   ]
  },
  {
   "cell_type": "markdown",
   "metadata": {},
   "source": [
    "Sometimes, we don't want Python to switch to the main thread until the thread we defined has finished executing its function. To do this, we can use `.join` method, this is essentially what they call a blocking call. It blocks the interpreter from accessing or executing the main program until the thread finishes it task."
   ]
  },
  {
   "cell_type": "code",
   "execution_count": 5,
   "metadata": {},
   "outputs": [
    {
     "name": "stdout",
     "output_type": "stream",
     "text": [
      "I am thread2. Going to sleep for 3 seconds\n",
      "thread2 has woken up from sleep\n",
      "\n",
      "hello\n"
     ]
    }
   ],
   "source": [
    "# hello is printed after the wake up message from the function\n",
    "thread = threading.Thread(target = sleeper, name = 'thread1', args = (3, 'thread2'))\n",
    "thread.start()\n",
    "thread.join()\n",
    "\n",
    "print()\n",
    "print('hello')"
   ]
  },
  {
   "cell_type": "markdown",
   "metadata": {},
   "source": [
    "## Multithreading\n",
    "\n",
    "The following code chunk showcase how to initialize and utilize multiple threads."
   ]
  },
  {
   "cell_type": "code",
   "execution_count": 6,
   "metadata": {},
   "outputs": [
    {
     "name": "stdout",
     "output_type": "stream",
     "text": [
      "I am thread_0. Going to sleep for 3 secondsI am thread_3. Going to sleep for 3 secondsI am thread_2. Going to sleep for 3 secondsI am thread_1. Going to sleep for 3 seconds\n",
      "\n",
      "\n",
      "\n",
      "I am thread_4. Going to sleep for 3 seconds\n",
      "thread_4 has woken up from sleep\n",
      "thread_0 has woken up from sleepthread_1 has woken up from sleepthread_2 has woken up from sleepthread_3 has woken up from sleepElapse time:  \n",
      "\n",
      "\n",
      "3.007716178894043\n",
      "\n",
      "All 5 tasks have finished their job\n"
     ]
    }
   ],
   "source": [
    "# create n_threads number of threads and store them in a list\n",
    "n_threads = 5\n",
    "threads = []\n",
    "\n",
    "start = time.time()\n",
    "for i in range(n_threads):\n",
    "    name = 'thread_{}'.format(i)\n",
    "    thread = threading.Thread(target = sleeper, name = name, args = (3, name))\n",
    "    threads.append(thread)\n",
    "    thread.start() \n",
    "\n",
    "for thread in threads:\n",
    "    thread.join()\n",
    "\n",
    "# we can see from the elapse time that it doesn't take\n",
    "# n_threads * (the time we told the sleep function to sleep) amount\n",
    "# of time to finish all the task\n",
    "elapse = time.time() - start\n",
    "print('Elapse time: ', elapse)\n",
    "print('All {} tasks have finished their job'.format(n_threads))"
   ]
  },
  {
   "cell_type": "markdown",
   "metadata": {},
   "source": [
    "The take home message is that threads are very efficient and beneficial for task that are not CPU intensive. Threads are really efficient at using any downtime or idle time, so when one thread is waiting for something we can have another thread performing another task. So in our example, when one thread is sleeping or not using much of the CPU resources, we can switch to execute another task to make sure the CPU is always busy.\n",
    "\n",
    "Things like networking and web services are two type of operations that these small idle tiems that can be made more efficient using threads.\n",
    "\n",
    "When we have something that's CPU intensive, there's actually something called multiprocessing.\n",
    "\n",
    "\n",
    "## Daemon Threads\n",
    "\n",
    "Daemon is an attribute for our threads. i.e. when we initialize the threads we have an option to set daemon as true or false. What daemon does is that it ends the thread when the main program finishes. "
   ]
  },
  {
   "cell_type": "code",
   "execution_count": null,
   "metadata": {
    "collapsed": true
   },
   "outputs": [],
   "source": []
  },
  {
   "cell_type": "markdown",
   "metadata": {},
   "source": [
    "# Reference\n",
    "\n",
    "- [Youtube: Python Threading - Multithreading Playlist](https://www.youtube.com/playlist?list=PLGKQkV4guDKEv1DoK4LYdo2ZPLo6cyLbm)"
   ]
  }
 ],
 "metadata": {
  "kernelspec": {
   "display_name": "Python 3",
   "language": "python",
   "name": "python3"
  },
  "language_info": {
   "codemirror_mode": {
    "name": "ipython",
    "version": 3
   },
   "file_extension": ".py",
   "mimetype": "text/x-python",
   "name": "python",
   "nbconvert_exporter": "python",
   "pygments_lexer": "ipython3",
   "version": "3.5.2"
  },
  "toc": {
   "colors": {
    "hover_highlight": "#DAA520",
    "navigate_num": "#000000",
    "navigate_text": "#333333",
    "running_highlight": "#FF0000",
    "selected_highlight": "#FFD700",
    "sidebar_border": "#EEEEEE",
    "wrapper_background": "#FFFFFF"
   },
   "moveMenuLeft": true,
   "nav_menu": {
    "height": "66px",
    "width": "252px"
   },
   "navigate_menu": true,
   "number_sections": true,
   "sideBar": true,
   "threshold": 4,
   "toc_cell": false,
   "toc_section_display": "block",
   "toc_window_display": true,
   "widenNotebook": false
  }
 },
 "nbformat": 4,
 "nbformat_minor": 2
}
