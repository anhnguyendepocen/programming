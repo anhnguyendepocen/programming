{
 "cells": [
  {
   "cell_type": "code",
   "execution_count": 1,
   "metadata": {},
   "outputs": [
    {
     "data": {
      "text/html": [
       "<style>\n",
       "@import url('http://fonts.googleapis.com/css?family=Source+Code+Pro');\n",
       "@import url('http://fonts.googleapis.com/css?family=Vollkorn');\n",
       "@import url('http://fonts.googleapis.com/css?family=Arimo');\n",
       "@import url('http://fonts.googleapis.com/css?family=Fira_sans');\n",
       "    \n",
       "    div.cell {\n",
       "        width: 1000px;\n",
       "        margin-left: 0% !important;\n",
       "        margin-right: auto;\n",
       "    }\n",
       "    div.text_cell code {\n",
       "        background: transparent;\n",
       "        color: #000000;\n",
       "        font-weight: 600;\n",
       "        font-size: 12pt;\n",
       "        font-style: bold;\n",
       "        font-family:  'Source Code Pro', Consolas, monocco, monospace;\n",
       "    }\n",
       "    h1 {\n",
       "        font-family: 'Open sans',verdana,arial,sans-serif;\n",
       "\t}\n",
       "\t\n",
       "    div.input_area {\n",
       "        background: #F6F6F9;\n",
       "        border: 1px solid #586e75;\n",
       "    }\n",
       "\n",
       "    .text_cell_render h1 {\n",
       "        font-weight: 200;\n",
       "        font-size: 30pt;\n",
       "        line-height: 100%;\n",
       "        color:#c76c0c;\n",
       "        margin-bottom: 0.5em;\n",
       "        margin-top: 1em;\n",
       "        display: block;\n",
       "        white-space: wrap;\n",
       "        text-align: left;\n",
       "    } \n",
       "    h2 {\n",
       "        font-family: 'Open sans',verdana,arial,sans-serif;\n",
       "        text-align: left;\n",
       "    }\n",
       "    .text_cell_render h2 {\n",
       "        font-weight: 200;\n",
       "        font-size: 16pt;\n",
       "        font-style: italic;\n",
       "        line-height: 100%;\n",
       "        color:#c76c0c;\n",
       "        margin-bottom: 0.5em;\n",
       "        margin-top: 1.5em;\n",
       "        display: block;\n",
       "        white-space: wrap;\n",
       "        text-align: left;\n",
       "    } \n",
       "    h3 {\n",
       "        font-family: 'Open sans',verdana,arial,sans-serif;\n",
       "    }\n",
       "    .text_cell_render h3 {\n",
       "        font-weight: 200;\n",
       "        font-size: 14pt;\n",
       "        line-height: 100%;\n",
       "        color:#d77c0c;\n",
       "        margin-bottom: 0.5em;\n",
       "        margin-top: 2em;\n",
       "        display: block;\n",
       "        white-space: wrap;\n",
       "        text-align: left;\n",
       "    }\n",
       "    h4 {\n",
       "        font-family: 'Open sans',verdana,arial,sans-serif;\n",
       "    }\n",
       "    .text_cell_render h4 {\n",
       "        font-weight: 100;\n",
       "        font-size: 14pt;\n",
       "        color:#d77c0c;\n",
       "        margin-bottom: 0.5em;\n",
       "        margin-top: 0.5em;\n",
       "        display: block;\n",
       "        white-space: nowrap;\n",
       "    }\n",
       "    h5 {\n",
       "        font-family: 'Open sans',verdana,arial,sans-serif;\n",
       "    }\n",
       "    .text_cell_render h5 {\n",
       "        font-weight: 200;\n",
       "        font-style: normal;\n",
       "        color: #1d3b84;\n",
       "        font-size: 16pt;\n",
       "        margin-bottom: 0em;\n",
       "        margin-top: 0.5em;\n",
       "        display: block;\n",
       "        white-space: nowrap;\n",
       "    }\n",
       "    div.text_cell_render{\n",
       "        font-family: 'Fira sans', verdana,arial,sans-serif;\n",
       "        line-height: 125%;\n",
       "        font-size: 115%;\n",
       "        text-align:justify;\n",
       "        text-justify:inter-word;\n",
       "    }\n",
       "    div.output_wrapper{\n",
       "        margin-top:0.2em;\n",
       "        margin-bottom:0.2em;\n",
       "    }\n",
       "\n",
       "    code{\n",
       "      font-size: 70%;\n",
       "    }\n",
       "    .rendered_html code{\n",
       "    background-color: transparent;\n",
       "    }\n",
       "    ul{\n",
       "        margin: 2em;\n",
       "    }\n",
       "    ul li{\n",
       "        padding-left: 0.5em; \n",
       "        margin-bottom: 0.5em; \n",
       "        margin-top: 0.5em; \n",
       "    }\n",
       "    ul li li{\n",
       "        padding-left: 0.2em; \n",
       "        margin-bottom: 0.2em; \n",
       "        margin-top: 0.2em; \n",
       "    }\n",
       "    ol{\n",
       "        margin: 2em;\n",
       "    }\n",
       "    ol li{\n",
       "        padding-left: 0.5em; \n",
       "        margin-bottom: 0.5em; \n",
       "        margin-top: 0.5em; \n",
       "    }\n",
       "    ul li{\n",
       "        padding-left: 0.5em; \n",
       "        margin-bottom: 0.5em; \n",
       "        margin-top: 0.2em; \n",
       "    }\n",
       "    a:link{\n",
       "       font-weight: bold;\n",
       "       color:#447adb;\n",
       "    }\n",
       "    a:visited{\n",
       "       font-weight: bold;\n",
       "       color: #1d3b84;\n",
       "    }\n",
       "    a:hover{\n",
       "       font-weight: bold;\n",
       "       color: #1d3b84;\n",
       "    }\n",
       "    a:focus{\n",
       "       font-weight: bold;\n",
       "       color:#447adb;\n",
       "    }\n",
       "    a:active{\n",
       "       font-weight: bold;\n",
       "       color:#447adb;\n",
       "    }\n",
       "    .rendered_html :link {\n",
       "       text-decoration: underline; \n",
       "    }\n",
       "    .rendered_html :hover {\n",
       "       text-decoration: none; \n",
       "    }\n",
       "    .rendered_html :visited {\n",
       "      text-decoration: none;\n",
       "    }\n",
       "    .rendered_html :focus {\n",
       "      text-decoration: none;\n",
       "    }\n",
       "    .rendered_html :active {\n",
       "      text-decoration: none;\n",
       "    }\n",
       "    .warning{\n",
       "        color: rgb( 240, 20, 20 )\n",
       "    } \n",
       "    hr {\n",
       "      color: #f3f3f3;\n",
       "      background-color: #f3f3f3;\n",
       "      height: 1px;\n",
       "    }\n",
       "    blockquote{\n",
       "      display:block;\n",
       "      background: #fcfcfc;\n",
       "      border-left: 5px solid #c76c0c;\n",
       "      font-family: 'Open sans',verdana,arial,sans-serif;\n",
       "      width:680px;\n",
       "      padding: 10px 10px 10px 10px;\n",
       "      text-align:justify;\n",
       "      text-justify:inter-word;\n",
       "      }\n",
       "      blockquote p {\n",
       "        margin-bottom: 0;\n",
       "        line-height: 125%;\n",
       "        font-size: 100%;\n",
       "      }\n",
       "</style>\n",
       "<script>\n",
       "    MathJax.Hub.Config({\n",
       "                        TeX: {\n",
       "                           extensions: [\"AMSmath.js\"]\n",
       "                           },\n",
       "                tex2jax: {\n",
       "                    inlineMath: [ ['$','$'], [\"\\\\(\",\"\\\\)\"] ],\n",
       "                    displayMath: [ ['$$','$$'], [\"\\\\[\",\"\\\\]\"] ]\n",
       "                },\n",
       "                displayAlign: 'center', // Change this to 'center' to center equations.\n",
       "                \"HTML-CSS\": {\n",
       "                    scale:100,\n",
       "                        availableFonts: [],\n",
       "                        preferredFont:null,\n",
       "                        webFont: \"TeX\",\n",
       "                    styles: {'.MathJax_Display': {\"margin\": 4}}\n",
       "                }\n",
       "        });\n",
       "</script>\n"
      ],
      "text/plain": [
       "<IPython.core.display.HTML object>"
      ]
     },
     "execution_count": 1,
     "metadata": {},
     "output_type": "execute_result"
    }
   ],
   "source": [
    "# code for loading the format for the notebook\n",
    "import os\n",
    "\n",
    "# path : store the current path to convert back to it later\n",
    "path = os.getcwd()\n",
    "os.chdir(os.path.join('..', 'notebook_format'))\n",
    "from formats import load_style\n",
    "load_style(plot_style = False)"
   ]
  },
  {
   "cell_type": "code",
   "execution_count": 2,
   "metadata": {},
   "outputs": [
    {
     "name": "stdout",
     "output_type": "stream",
     "text": [
      "Ethen 2017-08-25 13:54:46 \n",
      "\n",
      "CPython 3.5.2\n",
      "IPython 5.4.1\n"
     ]
    }
   ],
   "source": [
    "os.chdir(path)\n",
    "\n",
    "# 1. magic for inline plot\n",
    "# 2. magic to print version\n",
    "# 3. magic so that the notebook will reload external python modules\n",
    "# 4. a ipython magic to enable retina (high resolution) plots\n",
    "# https://gist.github.com/minrk/3301035\n",
    "%matplotlib inline\n",
    "%load_ext watermark\n",
    "%load_ext autoreload\n",
    "%autoreload 2\n",
    "%config InlineBackend.figure_format = 'retina'\n",
    "\n",
    "import time\n",
    "import threading\n",
    "\n",
    "%watermark -a 'Ethen' -d -t -v"
   ]
  },
  {
   "cell_type": "markdown",
   "metadata": {},
   "source": [
    "# Threading\n",
    "\n",
    "Threading allows us to run multiple tasks concurrently, so if we have two tasks on our hand, task A and task B, we can run them simultaneously without having to wait for task A to finish before running running task B. Let's look at some examples of working with threads. Before we create/initialize a thread, we define a simple function that simply sleeps for a specified amount of time."
   ]
  },
  {
   "cell_type": "code",
   "execution_count": 3,
   "metadata": {
    "collapsed": true
   },
   "outputs": [],
   "source": [
    "def sleeper(n_time, name):\n",
    "    print('I am {}. Going to sleep for {} seconds'.format(name, n_time))\n",
    "    time.sleep(n_time)\n",
    "    print('{} has woken up from sleep'.format(name))"
   ]
  },
  {
   "cell_type": "markdown",
   "metadata": {},
   "source": [
    "We then initialize our thread with the `Thread` class from the `threading` module.\n",
    "\n",
    "- `target`: accepts the function that we're going to execute\n",
    "- `name`: is basically just naming the thread; this allows us to easily differentiate between threads when we have multiple threads\n",
    "- `args`: pass in the argument to our function here"
   ]
  },
  {
   "cell_type": "code",
   "execution_count": 4,
   "metadata": {},
   "outputs": [
    {
     "name": "stdout",
     "output_type": "stream",
     "text": [
      "I am thread1. Going to sleep for 2 seconds\n",
      "thread1 has woken up from sleep\n"
     ]
    }
   ],
   "source": [
    "# we call .start to start executing the function from the thread\n",
    "n_time = 2\n",
    "thread = threading.Thread(target = sleeper, name = 'thread1', args = (n_time, 'thread1'))\n",
    "thread.start()"
   ]
  },
  {
   "cell_type": "markdown",
   "metadata": {},
   "source": [
    "When we run a program and something is sleeping for a few seconds, we would have wait for that portion to wake up before we can continue with the rest of the program, but the concurrency of threads can bypass this behavior. Suppose we consider the main program as the main thread and our thread as its own separate thread, the code chunk below demonstrates the concurrency property, i.e. we don't have to wait for the main calling thread, i.e. the Python interpreter thread to finish before running the rest of our program."
   ]
  },
  {
   "cell_type": "code",
   "execution_count": 5,
   "metadata": {},
   "outputs": [
    {
     "name": "stdout",
     "output_type": "stream",
     "text": [
      "I am thread2. Going to sleep for 2 seconds\n",
      "\n",
      "hello\n",
      "thread2 has woken up from sleep\n"
     ]
    }
   ],
   "source": [
    "# hello is printed before the wake up message from the function\n",
    "thread = threading.Thread(target = sleeper, name = 'thread1', args = (n_time, 'thread2'))\n",
    "thread.start()\n",
    "\n",
    "print()\n",
    "print('hello')"
   ]
  },
  {
   "cell_type": "markdown",
   "metadata": {},
   "source": [
    "Sometimes, we don't want Python to switch to the main thread until the thread we defined has finished executing its function. To do this, we can use `.join` method, this is essentially what they called the blocking call. It blocks the interpreter from accessing or executing the main program until the thread finishes it task."
   ]
  },
  {
   "cell_type": "code",
   "execution_count": 6,
   "metadata": {},
   "outputs": [
    {
     "name": "stdout",
     "output_type": "stream",
     "text": [
      "I am thread2. Going to sleep for 2 seconds\n",
      "thread2 has woken up from sleep\n",
      "\n",
      "hello\n"
     ]
    }
   ],
   "source": [
    "# hello is printed after the wake up message from the function\n",
    "thread = threading.Thread(target = sleeper, name = 'thread1', args = (n_time, 'thread2'))\n",
    "thread.start()\n",
    "thread.join()\n",
    "\n",
    "print()\n",
    "print('hello')"
   ]
  },
  {
   "cell_type": "markdown",
   "metadata": {},
   "source": [
    "## Multithreading\n",
    "\n",
    "The following code chunk showcase how to initialize and utilize multiple threads."
   ]
  },
  {
   "cell_type": "code",
   "execution_count": 10,
   "metadata": {},
   "outputs": [
    {
     "name": "stdout",
     "output_type": "stream",
     "text": [
      "I am thread_0. Going to sleep for 2 seconds\n",
      "I am thread_1. Going to sleep for 2 seconds\n",
      "I am thread_2. Going to sleep for 2 seconds\n",
      "I am thread_3. Going to sleep for 2 seconds\n",
      "I am thread_4. Going to sleep for 2 seconds\n",
      "thread_0 has woken up from sleep\n",
      "thread_1 has woken up from sleepthread_2 has woken up from sleepthread_4 has woken up from sleepthread_3 has woken up from sleep\n",
      "Elapse time: \n",
      "\n",
      "\n",
      "\n",
      " 2.006500005722046\n"
     ]
    }
   ],
   "source": [
    "n_time = 2\n",
    "n_threads = 5\n",
    "start = time.time()\n",
    "\n",
    "# create n_threads number of threads and store them in a list\n",
    "threads = []\n",
    "for i in range(n_threads):\n",
    "    name = 'thread_{}'.format(i)\n",
    "    args = n_time, name\n",
    "    thread = threading.Thread(target = sleeper, name = name, args = args)\n",
    "    threads.append(thread)\n",
    "    # we can start the thread while we're creating it, or move\n",
    "    # this to its own loop\n",
    "    thread.start()\n",
    "\n",
    "# we could instead start the thread in a separate loop\n",
    "# for thread in threads:\n",
    "#     thread.start()\n",
    "\n",
    "# ensure all threads have finished before executing main program\n",
    "for thread in threads:\n",
    "    thread.join()\n",
    "\n",
    "elapse = time.time() - start\n",
    "print()\n",
    "print('Elapse time: ', elapse)"
   ]
  },
  {
   "cell_type": "markdown",
   "metadata": {},
   "source": [
    "From the result above, we can observe that the elapse time that it doesn't take n_threads * (the time we told the sleep function to sleep) amount of time to finish all the task. Next we'll take a look at places where threads in Python would disappoint us. \n",
    "\n",
    "The following code chunk simply generate a random number and append that number to a list and we would repeat this operation for a specified number of times. The expectation is that on a multi-core machine a multithreaded code should make use of these extra cores and thus increase overall performance."
   ]
  },
  {
   "cell_type": "code",
   "execution_count": 11,
   "metadata": {
    "collapsed": true
   },
   "outputs": [],
   "source": [
    "import random\n",
    "\n",
    "\n",
    "def list_append(out_list, count):\n",
    "    \"\"\"\n",
    "    Creates an empty list and then appends a \n",
    "    random number to the list 'count' number\n",
    "    of times. A CPU-heavy operation!\n",
    "    \"\"\"\n",
    "    for i in range(count):\n",
    "        out_list.append(random.random())"
   ]
  },
  {
   "cell_type": "code",
   "execution_count": 12,
   "metadata": {},
   "outputs": [
    {
     "name": "stdout",
     "output_type": "stream",
     "text": [
      "Elapse time:  0.04074811935424805\n"
     ]
    }
   ],
   "source": [
    "count = 50000\n",
    "start = time.time()\n",
    "for i in range(n_threads):\n",
    "    out_list = []\n",
    "    list_append(out_list, count)\n",
    "\n",
    "elapse = time.time() - start\n",
    "print('Elapse time: ', elapse)"
   ]
  },
  {
   "cell_type": "code",
   "execution_count": 13,
   "metadata": {},
   "outputs": [
    {
     "name": "stdout",
     "output_type": "stream",
     "text": [
      "Elapse time:  0.041841983795166016\n"
     ]
    }
   ],
   "source": [
    "start = time.time()\n",
    "threads = []\n",
    "n_threads = 5\n",
    "for i in range(n_threads):\n",
    "    name = 'thread_{}'.format(i)\n",
    "    out_list = []\n",
    "    thread = threading.Thread(target = list_append, name = name, args = (out_list, count))\n",
    "    threads.append(thread)\n",
    "    thread.start() \n",
    "\n",
    "for thread in threads:\n",
    "    thread.join()\n",
    "\n",
    "elapse = time.time() - start\n",
    "print('Elapse time: ', elapse)"
   ]
  },
  {
   "cell_type": "markdown",
   "metadata": {},
   "source": [
    "With the 5 threads that we've specified, we might expect less than 5X speedup (less than 5 because we expect there's always going to overhead associated with creating the threads and managing the coordination between them). But in this example, the performance is even slightly worse than the serial implementation. So why is this the case?\n",
    "\n",
    "This is due to the **GIL (Global Interpreter Lock)** in Python that prevents threads from actually running in parallel. The GIL is necessary because the Python interpreter is not thread safe. This means that there is a globally enforced lock when trying to safely access Python objects from within threads. At any one time only a single thread can acquire a lock for a Python object or C API. This is the reason that makes threads unsuitable for CPU intensive tasks in Python.\n",
    "\n",
    "On the other hand, threads are very efficient and beneficial for task that are not CPU intensive. The benefit of threading in Python appears when our problems are network bound or data input/output (I/O) bound. This means that the Python interpreter is waiting for the result of a function call that's manipulating with data from an external source, such as network address or hard disk. \n",
    "\n",
    "For example, consider a Python code that is scraping many web URLs. By adding a new thread for each download resource, the code can download multiple data sources in parallel and combine the results at the end of every download. This means that each subsequent download is not waiting on the download of earlier web pages. In this case the program is now bound by the bandwidth limitations of the client/server(s) instead."
   ]
  },
  {
   "cell_type": "markdown",
   "metadata": {},
   "source": [
    "## Locks\n",
    "\n",
    "The next topic is to introduce Locks. Locks are used when multiple threads are trying to access the same variable. By using locks we can guard ourselves from accessing the same object from multiple threads simultaneously, which can potentially corrupting our data."
   ]
  },
  {
   "cell_type": "code",
   "execution_count": 59,
   "metadata": {},
   "outputs": [],
   "source": [
    "class Counter:\n",
    "    \"\"\"Just count some stuff\"\"\"\n",
    "    def __init__(self, count = 0):\n",
    "        self.count = count\n",
    "        \n",
    "    def increment(self):\n",
    "        self.count += 1\n",
    "\n",
    "\n",
    "def worker(counter, n_times):\n",
    "    for _ in range(n_times):\n",
    "        counter.increment()\n",
    "\n",
    "\n",
    "def run_threads(n_threads, target, args):\n",
    "    threads = []\n",
    "    for i in range(n_threads):\n",
    "        thread = threading.Thread(target = target, args = args)\n",
    "        threads.append(thread)\n",
    "        thread.start()\n",
    "\n",
    "    for thread in threads:\n",
    "        thread.join()"
   ]
  },
  {
   "cell_type": "code",
   "execution_count": 60,
   "metadata": {},
   "outputs": [
    {
     "name": "stdout",
     "output_type": "stream",
     "text": [
      "count should be 500000, got 478579\n"
     ]
    }
   ],
   "source": [
    "n_threads = 5\n",
    "n_times = 10 ** 5\n",
    "counter = Counter()\n",
    "args = counter, n_times\n",
    "run_threads(n_threads, target = worker, args = args)\n",
    "print('count should be {}, got {}'.format(n_threads * n_times, counter.count))"
   ]
  },
  {
   "cell_type": "code",
   "execution_count": null,
   "metadata": {
    "collapsed": true
   },
   "outputs": [],
   "source": [
    "class Counter:\n",
    "    \n",
    "    def __init__(self, count = 0):\n",
    "        self.count = count\n",
    "        self._lock = threading.Lock()\n",
    "        \n",
    "    def increment(self):\n",
    "        with self._lock:\n",
    "            self.count += 1"
   ]
  },
  {
   "cell_type": "code",
   "execution_count": null,
   "metadata": {
    "collapsed": true
   },
   "outputs": [],
   "source": [
    "n_threads = 5\n",
    "n_times = 10 ** 5\n",
    "counter = Counter()\n",
    "args = counter, n_times\n",
    "run_threads(n_threads, target = worker, args = args)\n",
    "print('count should be {}, got {}'.format(n_threads * n_times, counter.count))"
   ]
  },
  {
   "cell_type": "code",
   "execution_count": 63,
   "metadata": {
    "collapsed": true
   },
   "outputs": [],
   "source": [
    "class Counter:\n",
    "    \n",
    "    def __init__(self, count = 0):\n",
    "        self.count = count\n",
    "        self._lock = threading.Lock()\n",
    "        \n",
    "    def increment(self):\n",
    "        with self._lock:\n",
    "            self.count += 1"
   ]
  },
  {
   "cell_type": "code",
   "execution_count": 64,
   "metadata": {},
   "outputs": [
    {
     "name": "stdout",
     "output_type": "stream",
     "text": [
      "count should be 500000, got 500000\n"
     ]
    }
   ],
   "source": [
    "n_threads = 5\n",
    "n_times = 10 ** 5\n",
    "counter = Counter()\n",
    "args = counter, n_times\n",
    "run_threads(n_threads, target = worker, args = args)\n",
    "print('count should be {}, got {}'.format(n_threads * n_times, counter.count))"
   ]
  },
  {
   "cell_type": "markdown",
   "metadata": {},
   "source": [
    "When two threads are making changes to the same variable at the same time"
   ]
  },
  {
   "cell_type": "markdown",
   "metadata": {},
   "source": [
    "## Daemon Threads\n",
    "\n",
    "Daemon is an attribute for our threads. i.e. when we initialize the threads we have an option to set daemon as true or false. What daemon does is that it ends the thread when the main program finishes. "
   ]
  },
  {
   "cell_type": "code",
   "execution_count": null,
   "metadata": {
    "collapsed": true
   },
   "outputs": [],
   "source": []
  },
  {
   "cell_type": "markdown",
   "metadata": {},
   "source": [
    "So to actually run tasks concurrently, Python uses another technique called task switching. Python rapidly switches between each thread to make it seem like our program is actually running multiple tasks in parallel.\n",
    "\n",
    "This can actually be very useful for event-driven tasks that have a lot of downtime and are waiting for the user to input something.\n",
    "\n",
    "Threads are really efficient at using any downtime or idle time, so when one thread is waiting for something we can have another thread performing another task. So in our first example, when one thread is sleeping or not using much of the CPU resources, we can switch to execute another task to make sure the CPU is always busy.\n",
    "\n",
    "When we have something that's CPU intensive, there's actually something called multiprocessing."
   ]
  },
  {
   "cell_type": "markdown",
   "metadata": {},
   "source": [
    "# Reference\n",
    "\n",
    "- [Youtube: Python Threading - Multithreading Playlist](https://www.youtube.com/playlist?list=PLGKQkV4guDKEv1DoK4LYdo2ZPLo6cyLbm)"
   ]
  }
 ],
 "metadata": {
  "kernelspec": {
   "display_name": "Python 3",
   "language": "python",
   "name": "python3"
  },
  "language_info": {
   "codemirror_mode": {
    "name": "ipython",
    "version": 3
   },
   "file_extension": ".py",
   "mimetype": "text/x-python",
   "name": "python",
   "nbconvert_exporter": "python",
   "pygments_lexer": "ipython3",
   "version": "3.5.2"
  },
  "toc": {
   "colors": {
    "hover_highlight": "#DAA520",
    "navigate_num": "#000000",
    "navigate_text": "#333333",
    "running_highlight": "#FF0000",
    "selected_highlight": "#FFD700",
    "sidebar_border": "#EEEEEE",
    "wrapper_background": "#FFFFFF"
   },
   "moveMenuLeft": true,
   "nav_menu": {
    "height": "66px",
    "width": "252px"
   },
   "navigate_menu": true,
   "number_sections": true,
   "sideBar": true,
   "threshold": 4,
   "toc_cell": false,
   "toc_section_display": "block",
   "toc_window_display": true,
   "widenNotebook": false
  }
 },
 "nbformat": 4,
 "nbformat_minor": 2
}
