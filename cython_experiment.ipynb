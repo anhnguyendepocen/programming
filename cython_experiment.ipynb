{
 "cells": [
  {
   "cell_type": "markdown",
   "metadata": {},
   "source": [
    "```\n",
    "The Cython wrapper code for cfib.h is fewer than 10 lines:\n",
    "double cfib(int n);\n",
    "\n",
    "cdef extern from \"cfib.h\": \n",
    "    double cfib(int n)\n",
    "\n",
    "def fib(n):\n",
    "    \"\"\"Returns the nth Fibonacci number.\"\"\" \n",
    "    return cfib(n)\n",
    "```"
   ]
  },
  {
   "cell_type": "code",
   "execution_count": 1,
   "metadata": {},
   "outputs": [
    {
     "name": "stdout",
     "output_type": "stream",
     "text": [
      "models._als_solver\n",
      "['recsys/models/_als_solver.pyx']\n",
      "funcs\n",
      "['recsys/funcs.pyx', 'recsys/add.cpp']\n"
     ]
    }
   ],
   "source": [
    "import os\n",
    "src_root = 'recsys'\n",
    "names = ['models._als_solver', 'funcs']\n",
    "src_ext = '.pyx'\n",
    "modules = []\n",
    "for name in names:\n",
    "    pyx_name = name.split('.')\n",
    "    pyx_name[-1] = pyx_name[-1] + src_ext\n",
    "    pyx_name = os.path.join(src_root, *pyx_name)\n",
    "    sources = [pyx_name]\n",
    "    if name == 'funcs':\n",
    "        cpp_name = os.path.join(src_root, 'add.cpp')\n",
    "        sources.append(cpp_name)\n",
    "    \n",
    "    print(name)\n",
    "    print(sources)\n"
   ]
  },
  {
   "cell_type": "code",
   "execution_count": 2,
   "metadata": {
    "collapsed": true
   },
   "outputs": [],
   "source": [
    "from recsys.funcs import random_choice1"
   ]
  },
  {
   "cell_type": "code",
   "execution_count": 3,
   "metadata": {},
   "outputs": [
    {
     "data": {
      "text/plain": [
       "[0, 9]"
      ]
     },
     "execution_count": 3,
     "metadata": {},
     "output_type": "execute_result"
    }
   ],
   "source": [
    "import numpy as np\n",
    "\n",
    "# indices = np.arange(0, 100)\n",
    "indices = np.arange(0, 100)\n",
    "random_choice1(indices, 2, 434)"
   ]
  },
  {
   "cell_type": "code",
   "execution_count": 4,
   "metadata": {},
   "outputs": [
    {
     "data": {
      "text/plain": [
       "array([ 0,  1,  2,  3,  4,  5,  6,  7,  8,  9, 10, 11, 12, 13, 14, 15, 16,\n",
       "       17, 18, 19, 20, 21, 22, 23, 24, 25, 26, 27, 28, 29, 30, 31, 32, 33,\n",
       "       34, 35, 36, 37, 38, 39, 40, 41, 42, 43, 44, 45, 46, 47, 48, 49, 50,\n",
       "       51, 52, 53, 54, 55, 56, 57, 58, 59, 60, 61, 62, 63, 64, 65, 66, 67,\n",
       "       68, 69, 70, 71, 72, 73, 74, 75, 76, 77, 78, 79, 80, 81, 82, 83, 84,\n",
       "       85, 86, 87, 88, 89, 90, 91, 92, 93, 94, 95, 96, 97, 98, 99])"
      ]
     },
     "execution_count": 4,
     "metadata": {},
     "output_type": "execute_result"
    }
   ],
   "source": [
    "indices"
   ]
  },
  {
   "cell_type": "code",
   "execution_count": 5,
   "metadata": {
    "collapsed": true
   },
   "outputs": [],
   "source": [
    "from recsys.models import _als_solver\n",
    "from recsys.utils import create_matrix"
   ]
  }
 ],
 "metadata": {
  "kernelspec": {
   "display_name": "Python 3",
   "language": "python",
   "name": "python3"
  },
  "language_info": {
   "codemirror_mode": {
    "name": "ipython",
    "version": 3
   },
   "file_extension": ".py",
   "mimetype": "text/x-python",
   "name": "python",
   "nbconvert_exporter": "python",
   "pygments_lexer": "ipython3",
   "version": "3.5.2"
  },
  "toc": {
   "colors": {
    "hover_highlight": "#DAA520",
    "running_highlight": "#FF0000",
    "selected_highlight": "#FFD700"
   },
   "moveMenuLeft": true,
   "nav_menu": {
    "height": "12px",
    "width": "252px"
   },
   "navigate_menu": true,
   "number_sections": true,
   "sideBar": true,
   "threshold": 4,
   "toc_cell": false,
   "toc_section_display": "block",
   "toc_window_display": true
  }
 },
 "nbformat": 4,
 "nbformat_minor": 2
}
