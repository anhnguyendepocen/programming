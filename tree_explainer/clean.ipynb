{
 "cells": [
  {
   "cell_type": "code",
   "execution_count": 1,
   "metadata": {},
   "outputs": [
    {
     "name": "stdout",
     "output_type": "stream",
     "text": [
      "Ethen 2017-07-05 19:59:39 \n",
      "\n",
      "CPython 3.5.2\n",
      "IPython 6.1.0\n",
      "\n",
      "numpy 1.12.1\n",
      "pandas 0.19.2\n",
      "matplotlib 2.0.0\n",
      "sklearn 0.18.1\n"
     ]
    }
   ],
   "source": [
    "import numpy as np\n",
    "import pandas as pd\n",
    "import matplotlib.pyplot as plt\n",
    "\n",
    "# 1. magic for inline plot\n",
    "# 2. magic to print version\n",
    "# 3. magic so that the notebook will reload external python modules\n",
    "%matplotlib inline\n",
    "%load_ext watermark\n",
    "%load_ext autoreload\n",
    "%autoreload 2\n",
    "\n",
    "from graphviz import Source\n",
    "from sklearn.datasets import load_iris\n",
    "from sklearn.metrics import accuracy_score\n",
    "from sklearn.tree import export_graphviz\n",
    "from sklearn.tree import DecisionTreeClassifier\n",
    "from sklearn.ensemble import RandomForestClassifier\n",
    "from sklearn.model_selection import train_test_split\n",
    "\n",
    "%watermark -a 'Ethen' -d -t -v -p numpy,pandas,matplotlib,sklearn"
   ]
  },
  {
   "cell_type": "markdown",
   "metadata": {},
   "source": [
    "# Tree Explanation"
   ]
  },
  {
   "cell_type": "code",
   "execution_count": 2,
   "metadata": {},
   "outputs": [
    {
     "data": {
      "text/plain": [
       "0.62189479247970103"
      ]
     },
     "execution_count": 2,
     "metadata": {},
     "output_type": "execute_result"
    }
   ],
   "source": [
    "from sklearn.metrics import r2_score\n",
    "from sklearn.datasets import load_boston\n",
    "from sklearn.tree import DecisionTreeRegressor\n",
    "from sklearn.ensemble import RandomForestRegressor\n",
    "\n",
    "boston = load_boston()\n",
    "X = boston.data\n",
    "y = boston.target\n",
    "feature_names = boston.feature_names\n",
    "\n",
    "X_train, X_test, y_train, y_test = train_test_split(\n",
    "    X, y, test_size = 0.2, random_state = 14)\n",
    "\n",
    "model_tree = DecisionTreeRegressor(max_depth = 2, random_state = 1234)\n",
    "model_tree.fit(X_train, y_train)\n",
    "model_tree_pred = model_tree.predict(X_test)\n",
    "r2_score(y_test, model_tree_pred)"
   ]
  },
  {
   "cell_type": "code",
   "execution_count": 4,
   "metadata": {},
   "outputs": [
    {
     "name": "stdout",
     "output_type": "stream",
     "text": [
      "bias: 23.0051980198\n",
      "prediction: 15.197826087\n",
      "bias + contribution = prediction: True\n"
     ]
    },
    {
     "data": {
      "text/html": [
       "<div>\n",
       "<table border=\"1\" class=\"dataframe\">\n",
       "  <thead>\n",
       "    <tr style=\"text-align: right;\">\n",
       "      <th></th>\n",
       "      <th>contrib</th>\n",
       "      <th>feature</th>\n",
       "      <th>value</th>\n",
       "    </tr>\n",
       "  </thead>\n",
       "  <tbody>\n",
       "    <tr>\n",
       "      <th>0</th>\n",
       "      <td>-2.895377</td>\n",
       "      <td>RM</td>\n",
       "      <td>5.782</td>\n",
       "    </tr>\n",
       "    <tr>\n",
       "      <th>1</th>\n",
       "      <td>-4.911995</td>\n",
       "      <td>LSTAT</td>\n",
       "      <td>15.940</td>\n",
       "    </tr>\n",
       "  </tbody>\n",
       "</table>\n",
       "</div>"
      ],
      "text/plain": [
       "    contrib feature   value\n",
       "0 -2.895377      RM   5.782\n",
       "1 -4.911995   LSTAT  15.940"
      ]
     },
     "execution_count": 4,
     "metadata": {},
     "output_type": "execute_result"
    }
   ],
   "source": [
    "from tree_explainer import DecisionTreeExplainer\n",
    "\n",
    "tree_explain = DecisionTreeExplainer(model_tree, feature_names)\n",
    "df_explained, pred_info = tree_explain.explain(X_train[0])\n",
    "\n",
    "print('bias:', tree_explain.bias_)\n",
    "print('prediction:', pred_info['predict'])\n",
    "equal = tree_explain.bias_ + df_explained['contrib'].sum() == pred_info['predict']\n",
    "print('bias + contribution = prediction:', equal)\n",
    "\n",
    "df_explained"
   ]
  },
  {
   "cell_type": "code",
   "execution_count": 5,
   "metadata": {},
   "outputs": [
    {
     "data": {
      "text/plain": [
       "0.80884945547269571"
      ]
     },
     "execution_count": 5,
     "metadata": {},
     "output_type": "execute_result"
    }
   ],
   "source": [
    "model_rf = RandomForestRegressor(max_depth = 6)\n",
    "model_rf.fit(X_train, y_train)\n",
    "r2_score(y_test, model_rf.predict(X_test))"
   ]
  },
  {
   "cell_type": "code",
   "execution_count": 6,
   "metadata": {},
   "outputs": [
    {
     "name": "stdout",
     "output_type": "stream",
     "text": [
      "bias: 22.7769554455\n",
      "prediction: 19.9117643993\n",
      "bias + contribution = prediction: True\n"
     ]
    },
    {
     "name": "stderr",
     "output_type": "stream",
     "text": [
      "[Parallel(n_jobs=-1)]: Done   6 out of  10 | elapsed:    0.0s remaining:    0.0s\n",
      "[Parallel(n_jobs=-1)]: Done  10 out of  10 | elapsed:    0.0s finished\n"
     ]
    },
    {
     "data": {
      "text/html": [
       "<div>\n",
       "<table border=\"1\" class=\"dataframe\">\n",
       "  <thead>\n",
       "    <tr style=\"text-align: right;\">\n",
       "      <th></th>\n",
       "      <th>contrib</th>\n",
       "      <th>feature</th>\n",
       "      <th>value</th>\n",
       "    </tr>\n",
       "  </thead>\n",
       "  <tbody>\n",
       "    <tr>\n",
       "      <th>0</th>\n",
       "      <td>1.348791</td>\n",
       "      <td>AGE</td>\n",
       "      <td>71.70000</td>\n",
       "    </tr>\n",
       "    <tr>\n",
       "      <th>1</th>\n",
       "      <td>1.029506</td>\n",
       "      <td>NOX</td>\n",
       "      <td>0.54400</td>\n",
       "    </tr>\n",
       "    <tr>\n",
       "      <th>2</th>\n",
       "      <td>0.604594</td>\n",
       "      <td>DIS</td>\n",
       "      <td>4.03170</td>\n",
       "    </tr>\n",
       "    <tr>\n",
       "      <th>3</th>\n",
       "      <td>0.457747</td>\n",
       "      <td>B</td>\n",
       "      <td>396.90000</td>\n",
       "    </tr>\n",
       "    <tr>\n",
       "      <th>4</th>\n",
       "      <td>0.236032</td>\n",
       "      <td>PTRATIO</td>\n",
       "      <td>18.40000</td>\n",
       "    </tr>\n",
       "    <tr>\n",
       "      <th>5</th>\n",
       "      <td>0.212034</td>\n",
       "      <td>CRIM</td>\n",
       "      <td>0.24522</td>\n",
       "    </tr>\n",
       "    <tr>\n",
       "      <th>6</th>\n",
       "      <td>0.043407</td>\n",
       "      <td>INDUS</td>\n",
       "      <td>9.90000</td>\n",
       "    </tr>\n",
       "    <tr>\n",
       "      <th>7</th>\n",
       "      <td>-0.047917</td>\n",
       "      <td>TAX</td>\n",
       "      <td>304.00000</td>\n",
       "    </tr>\n",
       "    <tr>\n",
       "      <th>8</th>\n",
       "      <td>-1.700067</td>\n",
       "      <td>RM</td>\n",
       "      <td>5.78200</td>\n",
       "    </tr>\n",
       "    <tr>\n",
       "      <th>9</th>\n",
       "      <td>-5.049319</td>\n",
       "      <td>LSTAT</td>\n",
       "      <td>15.94000</td>\n",
       "    </tr>\n",
       "  </tbody>\n",
       "</table>\n",
       "</div>"
      ],
      "text/plain": [
       "    contrib  feature      value\n",
       "0  1.348791      AGE   71.70000\n",
       "1  1.029506      NOX    0.54400\n",
       "2  0.604594      DIS    4.03170\n",
       "3  0.457747        B  396.90000\n",
       "4  0.236032  PTRATIO   18.40000\n",
       "5  0.212034     CRIM    0.24522\n",
       "6  0.043407    INDUS    9.90000\n",
       "7 -0.047917      TAX  304.00000\n",
       "8 -1.700067       RM    5.78200\n",
       "9 -5.049319    LSTAT   15.94000"
      ]
     },
     "execution_count": 6,
     "metadata": {},
     "output_type": "execute_result"
    }
   ],
   "source": [
    "from tree_explainer import RandomForestExplainer\n",
    "\n",
    "rf_explain = RandomForestExplainer(model_rf, feature_names)\n",
    "df_explained, pred_info = rf_explain.explain(X_train[0])\n",
    "\n",
    "print('bias:', rf_explain.bias_)\n",
    "print('prediction:', pred_info['predict'])\n",
    "actual_sum = rf_explain.bias_ + df_explained['contrib'].sum()\n",
    "equal = np.allclose(actual_sum, pred_info['predict'])\n",
    "print('bias + contribution = prediction:', equal)\n",
    "\n",
    "df_explained"
   ]
  },
  {
   "cell_type": "code",
   "execution_count": 7,
   "metadata": {},
   "outputs": [
    {
     "data": {
      "image/svg+xml": [
       "<?xml version=\"1.0\" encoding=\"UTF-8\" standalone=\"no\"?>\n",
       "<!DOCTYPE svg PUBLIC \"-//W3C//DTD SVG 1.1//EN\"\n",
       " \"http://www.w3.org/Graphics/SVG/1.1/DTD/svg11.dtd\">\n",
       "<!-- Generated by graphviz version 2.38.0 (20140413.2041)\n",
       " -->\n",
       "<!-- Title: Tree Pages: 1 -->\n",
       "<svg width=\"490pt\" height=\"300pt\"\n",
       " viewBox=\"0.00 0.00 489.71 300.00\" xmlns=\"http://www.w3.org/2000/svg\" xmlns:xlink=\"http://www.w3.org/1999/xlink\">\n",
       "<g id=\"graph0\" class=\"graph\" transform=\"scale(1 1) rotate(0) translate(4 296)\">\n",
       "<title>Tree</title>\n",
       "<polygon fill=\"white\" stroke=\"none\" points=\"-4,4 -4,-296 485.713,-296 485.713,4 -4,4\"/>\n",
       "<!-- 0 -->\n",
       "<g id=\"node1\" class=\"node\"><title>0</title>\n",
       "<polygon fill=\"#e58139\" fill-opacity=\"0.262745\" stroke=\"black\" points=\"293.57,-292 187.143,-292 187.143,-214 293.57,-214 293.57,-292\"/>\n",
       "<text text-anchor=\"middle\" x=\"240.356\" y=\"-276.8\" font-family=\"Times,serif\" font-size=\"14.00\">node #0</text>\n",
       "<text text-anchor=\"middle\" x=\"240.356\" y=\"-262.8\" font-family=\"Times,serif\" font-size=\"14.00\">RM &lt;= 6.941</text>\n",
       "<text text-anchor=\"middle\" x=\"240.356\" y=\"-248.8\" font-family=\"Times,serif\" font-size=\"14.00\">mse = 88.4295</text>\n",
       "<text text-anchor=\"middle\" x=\"240.356\" y=\"-234.8\" font-family=\"Times,serif\" font-size=\"14.00\">samples = 404</text>\n",
       "<text text-anchor=\"middle\" x=\"240.356\" y=\"-220.8\" font-family=\"Times,serif\" font-size=\"14.00\">value = 23.0052</text>\n",
       "</g>\n",
       "<!-- 1 -->\n",
       "<g id=\"node2\" class=\"node\"><title>1</title>\n",
       "<polygon fill=\"#e58139\" fill-opacity=\"0.164706\" stroke=\"black\" points=\"231.57,-178 125.143,-178 125.143,-100 231.57,-100 231.57,-178\"/>\n",
       "<text text-anchor=\"middle\" x=\"178.356\" y=\"-162.8\" font-family=\"Times,serif\" font-size=\"14.00\">node #1</text>\n",
       "<text text-anchor=\"middle\" x=\"178.356\" y=\"-148.8\" font-family=\"Times,serif\" font-size=\"14.00\">LSTAT &lt;= 14.4</text>\n",
       "<text text-anchor=\"middle\" x=\"178.356\" y=\"-134.8\" font-family=\"Times,serif\" font-size=\"14.00\">mse = 39.5192</text>\n",
       "<text text-anchor=\"middle\" x=\"178.356\" y=\"-120.8\" font-family=\"Times,serif\" font-size=\"14.00\">samples = 336</text>\n",
       "<text text-anchor=\"middle\" x=\"178.356\" y=\"-106.8\" font-family=\"Times,serif\" font-size=\"14.00\">value = 20.1098</text>\n",
       "</g>\n",
       "<!-- 0&#45;&gt;1 -->\n",
       "<g id=\"edge1\" class=\"edge\"><title>0&#45;&gt;1</title>\n",
       "<path fill=\"none\" stroke=\"black\" d=\"M219.193,-213.769C214.405,-205.119 209.267,-195.838 204.306,-186.877\"/>\n",
       "<polygon fill=\"black\" stroke=\"black\" points=\"207.33,-185.112 199.425,-178.058 201.206,-188.503 207.33,-185.112\"/>\n",
       "<text text-anchor=\"middle\" x=\"192.52\" y=\"-197.886\" font-family=\"Times,serif\" font-size=\"14.00\">True</text>\n",
       "</g>\n",
       "<!-- 4 -->\n",
       "<g id=\"node5\" class=\"node\"><title>4</title>\n",
       "<polygon fill=\"#e58139\" fill-opacity=\"0.741176\" stroke=\"black\" points=\"356.557,-178 250.156,-178 250.156,-100 356.557,-100 356.557,-178\"/>\n",
       "<text text-anchor=\"middle\" x=\"303.356\" y=\"-162.8\" font-family=\"Times,serif\" font-size=\"14.00\">node #4</text>\n",
       "<text text-anchor=\"middle\" x=\"303.356\" y=\"-148.8\" font-family=\"Times,serif\" font-size=\"14.00\">RM &lt;= 7.435</text>\n",
       "<text text-anchor=\"middle\" x=\"303.356\" y=\"-134.8\" font-family=\"Times,serif\" font-size=\"14.00\">mse = 84.0034</text>\n",
       "<text text-anchor=\"middle\" x=\"303.356\" y=\"-120.8\" font-family=\"Times,serif\" font-size=\"14.00\">samples = 68</text>\n",
       "<text text-anchor=\"middle\" x=\"303.356\" y=\"-106.8\" font-family=\"Times,serif\" font-size=\"14.00\">value = 37.3118</text>\n",
       "</g>\n",
       "<!-- 0&#45;&gt;4 -->\n",
       "<g id=\"edge4\" class=\"edge\"><title>0&#45;&gt;4</title>\n",
       "<path fill=\"none\" stroke=\"black\" d=\"M261.861,-213.769C266.727,-205.119 271.948,-195.838 276.988,-186.877\"/>\n",
       "<polygon fill=\"black\" stroke=\"black\" points=\"280.096,-188.49 281.949,-178.058 273.995,-185.058 280.096,-188.49\"/>\n",
       "<text text-anchor=\"middle\" x=\"288.689\" y=\"-197.933\" font-family=\"Times,serif\" font-size=\"14.00\">False</text>\n",
       "</g>\n",
       "<!-- 2 -->\n",
       "<g id=\"node3\" class=\"node\"><title>2</title>\n",
       "<polygon fill=\"#e58139\" fill-opacity=\"0.278431\" stroke=\"black\" points=\"106.57,-64 0.143169,-64 0.143169,-0 106.57,-0 106.57,-64\"/>\n",
       "<text text-anchor=\"middle\" x=\"53.3564\" y=\"-48.8\" font-family=\"Times,serif\" font-size=\"14.00\">node #2</text>\n",
       "<text text-anchor=\"middle\" x=\"53.3564\" y=\"-34.8\" font-family=\"Times,serif\" font-size=\"14.00\">mse = 26.338</text>\n",
       "<text text-anchor=\"middle\" x=\"53.3564\" y=\"-20.8\" font-family=\"Times,serif\" font-size=\"14.00\">samples = 198</text>\n",
       "<text text-anchor=\"middle\" x=\"53.3564\" y=\"-6.8\" font-family=\"Times,serif\" font-size=\"14.00\">value = 23.5333</text>\n",
       "</g>\n",
       "<!-- 1&#45;&gt;2 -->\n",
       "<g id=\"edge2\" class=\"edge\"><title>1&#45;&gt;2</title>\n",
       "<path fill=\"none\" stroke=\"black\" d=\"M132.875,-99.7956C121.532,-90.2671 109.378,-80.0585 98.0723,-70.5614\"/>\n",
       "<polygon fill=\"black\" stroke=\"black\" points=\"100.309,-67.8692 90.4007,-64.1172 95.8066,-73.2291 100.309,-67.8692\"/>\n",
       "</g>\n",
       "<!-- 3 -->\n",
       "<g id=\"node4\" class=\"node\"><title>3</title>\n",
       "<polygon fill=\"none\" stroke=\"black\" points=\"231.57,-64 125.143,-64 125.143,-0 231.57,-0 231.57,-64\"/>\n",
       "<text text-anchor=\"middle\" x=\"178.356\" y=\"-48.8\" font-family=\"Times,serif\" font-size=\"14.00\">node #3</text>\n",
       "<text text-anchor=\"middle\" x=\"178.356\" y=\"-34.8\" font-family=\"Times,serif\" font-size=\"14.00\">mse = 17.4873</text>\n",
       "<text text-anchor=\"middle\" x=\"178.356\" y=\"-20.8\" font-family=\"Times,serif\" font-size=\"14.00\">samples = 138</text>\n",
       "<text text-anchor=\"middle\" x=\"178.356\" y=\"-6.8\" font-family=\"Times,serif\" font-size=\"14.00\">value = 15.1978</text>\n",
       "</g>\n",
       "<!-- 1&#45;&gt;3 -->\n",
       "<g id=\"edge3\" class=\"edge\"><title>1&#45;&gt;3</title>\n",
       "<path fill=\"none\" stroke=\"black\" d=\"M178.356,-99.7956C178.356,-91.4581 178.356,-82.6 178.356,-74.1534\"/>\n",
       "<polygon fill=\"black\" stroke=\"black\" points=\"181.857,-74.1171 178.356,-64.1172 174.857,-74.1172 181.857,-74.1171\"/>\n",
       "</g>\n",
       "<!-- 5 -->\n",
       "<g id=\"node6\" class=\"node\"><title>5</title>\n",
       "<polygon fill=\"#e58139\" fill-opacity=\"0.564706\" stroke=\"black\" points=\"356.57,-64 250.143,-64 250.143,-0 356.57,-0 356.57,-64\"/>\n",
       "<text text-anchor=\"middle\" x=\"303.356\" y=\"-48.8\" font-family=\"Times,serif\" font-size=\"14.00\">node #5</text>\n",
       "<text text-anchor=\"middle\" x=\"303.356\" y=\"-34.8\" font-family=\"Times,serif\" font-size=\"14.00\">mse = 46.2365</text>\n",
       "<text text-anchor=\"middle\" x=\"303.356\" y=\"-20.8\" font-family=\"Times,serif\" font-size=\"14.00\">samples = 40</text>\n",
       "<text text-anchor=\"middle\" x=\"303.356\" y=\"-6.8\" font-family=\"Times,serif\" font-size=\"14.00\">value = 31.9525</text>\n",
       "</g>\n",
       "<!-- 4&#45;&gt;5 -->\n",
       "<g id=\"edge5\" class=\"edge\"><title>4&#45;&gt;5</title>\n",
       "<path fill=\"none\" stroke=\"black\" d=\"M303.356,-99.7956C303.356,-91.4581 303.356,-82.6 303.356,-74.1534\"/>\n",
       "<polygon fill=\"black\" stroke=\"black\" points=\"306.857,-74.1171 303.356,-64.1172 299.857,-74.1172 306.857,-74.1171\"/>\n",
       "</g>\n",
       "<!-- 6 -->\n",
       "<g id=\"node7\" class=\"node\"><title>6</title>\n",
       "<polygon fill=\"#e58139\" stroke=\"black\" points=\"481.57,-64 375.143,-64 375.143,-0 481.57,-0 481.57,-64\"/>\n",
       "<text text-anchor=\"middle\" x=\"428.356\" y=\"-48.8\" font-family=\"Times,serif\" font-size=\"14.00\">node #6</text>\n",
       "<text text-anchor=\"middle\" x=\"428.356\" y=\"-34.8\" font-family=\"Times,serif\" font-size=\"14.00\">mse = 38.3093</text>\n",
       "<text text-anchor=\"middle\" x=\"428.356\" y=\"-20.8\" font-family=\"Times,serif\" font-size=\"14.00\">samples = 28</text>\n",
       "<text text-anchor=\"middle\" x=\"428.356\" y=\"-6.8\" font-family=\"Times,serif\" font-size=\"14.00\">value = 44.9679</text>\n",
       "</g>\n",
       "<!-- 4&#45;&gt;6 -->\n",
       "<g id=\"edge6\" class=\"edge\"><title>4&#45;&gt;6</title>\n",
       "<path fill=\"none\" stroke=\"black\" d=\"M348.838,-99.7956C360.181,-90.2671 372.334,-80.0585 383.641,-70.5614\"/>\n",
       "<polygon fill=\"black\" stroke=\"black\" points=\"385.906,-73.2291 391.312,-64.1172 381.404,-67.8692 385.906,-73.2291\"/>\n",
       "</g>\n",
       "</g>\n",
       "</svg>\n"
      ],
      "text/plain": [
       "<graphviz.files.Source at 0x107c4a080>"
      ]
     },
     "execution_count": 7,
     "metadata": {},
     "output_type": "execute_result"
    }
   ],
   "source": [
    "export_graphviz(model_tree, feature_names = boston.feature_names,\n",
    "                filled = True, node_ids = True, out_file = 'tree.dot')\n",
    "\n",
    "# read it in and visualize it, or if we wish to\n",
    "# convert the .dot file into other formats, we can do:\n",
    "# import os\n",
    "# os.system('dot -Tpng tree1.dot -o tree1.jpeg')\n",
    "with open('tree.dot') as f:\n",
    "    dot_graph = f.read()\n",
    "\n",
    "Source(dot_graph)"
   ]
  },
  {
   "cell_type": "code",
   "execution_count": 8,
   "metadata": {},
   "outputs": [
    {
     "name": "stdout",
     "output_type": "stream",
     "text": [
      "node 0 left child 1\n",
      "node 1 left child 2\n",
      "value for representing leaf node: -1\n",
      "total number of nodes: 7\n"
     ]
    }
   ],
   "source": [
    "from sklearn.tree import _tree\n",
    "\n",
    "# for instance we can see that\n",
    "# node 0's (node 0 is the root node) \n",
    "# left children is node 1, so if we \n",
    "# do a search on the left children\n",
    "node_id = 0\n",
    "left_child = model_tree.tree_.children_left[node_id]\n",
    "print('node {} left child {}'.format(node_id, left_child))\n",
    "\n",
    "# and node 1 is a leaf node (no left or right children)\n",
    "node_id = 1\n",
    "left_child = model_tree.tree_.children_left[node_id]\n",
    "print('node {} left child {}'.format(node_id, left_child))\n",
    "\n",
    "# we can see that sklearn represents the leaf node using\n",
    "# the number -1, and we'll use this information to obtain\n",
    "# the decision tree path later\n",
    "print('value for representing leaf node:', _tree.TREE_LEAF)\n",
    "\n",
    "# we can confirm that the node count matches the total count\n",
    "# that was shown on the decision tree graph above\n",
    "print('total number of nodes:', model_tree.tree_.node_count)"
   ]
  },
  {
   "cell_type": "markdown",
   "metadata": {},
   "source": [
    "The `.tree_` attribute provides the tree object of the DecisionTree model. Look up the docstring by doing `?model_tree.tree_`, it provides lots of useful documentation of information the tree object contains, which we'll be using in our implementation."
   ]
  },
  {
   "cell_type": "code",
   "execution_count": 9,
   "metadata": {
    "collapsed": true
   },
   "outputs": [],
   "source": [
    "def _get_tree_paths(tree, node_id):\n",
    "    \"\"\"\n",
    "    returns all paths through the tree as list\n",
    "    of node_ids, note that the path here will\n",
    "    be the sequence of nodes from the leaf node\n",
    "    to the root node\n",
    "    \"\"\"\n",
    "    left_node = tree.children_left[node_id]\n",
    "    right_node = tree.children_right[node_id]\n",
    "\n",
    "    if left_node != _tree.TREE_LEAF:\n",
    "        left_paths = _get_tree_paths(tree, left_node)\n",
    "        right_paths = _get_tree_paths(tree, right_node)\n",
    "\n",
    "        for path in left_paths:\n",
    "            path.append(node_id)\n",
    "\n",
    "        for path in right_paths:\n",
    "            path.append(node_id)\n",
    "\n",
    "        paths = left_paths + right_paths\n",
    "    else:\n",
    "        paths = [[node_id]]\n",
    "    \n",
    "    # recursive algorithm can be unintuitive sometimes,\n",
    "    # we can print the path to see the steps along the way\n",
    "    # print(paths)\n",
    "    return paths"
   ]
  },
  {
   "cell_type": "code",
   "execution_count": 10,
   "metadata": {},
   "outputs": [
    {
     "data": {
      "text/plain": [
       "{2: [0, 1, 2], 3: [0, 1, 3], 5: [0, 4, 5], 6: [0, 4, 6]}"
      ]
     },
     "execution_count": 10,
     "metadata": {},
     "output_type": "execute_result"
    }
   ],
   "source": [
    "paths = _get_tree_paths(tree = model_tree.tree_, node_id = 0)\n",
    "\n",
    "# map leaves to paths,\n",
    "# and reverse the path so\n",
    "# that the sequence starts with the root node\n",
    "leaf_to_path = {}\n",
    "for path in paths:\n",
    "    path.reverse()\n",
    "    leaf_to_path[path[-1]] = path\n",
    "    \n",
    "leaf_to_path"
   ]
  },
  {
   "cell_type": "code",
   "execution_count": 11,
   "metadata": {
    "collapsed": true
   },
   "outputs": [],
   "source": [
    "def compute_contrib(model_tree, values, leaf_to_path):\n",
    "    \"\"\"\n",
    "    compute the contribution vector for each unique tree leaf nodes\n",
    "    and store the result into a dictionary, whose keys are leaf nodes\n",
    "    and the corresponding value refers to the contribution vector of the leaf node.\n",
    "    after that we can simply assign the contribution vector to each observation\n",
    "    by looking up which leaf node it is assigned\n",
    "    \"\"\"\n",
    "    # convert numpy array into python list,\n",
    "    # accessing values will be faster\n",
    "    # https://stackoverflow.com/questions/35020604/why-is-numpy-list-access-slower-than-vanilla-python\n",
    "    values = list(values)\n",
    "\n",
    "    # feature[i] holds the feature to split on,\n",
    "    # for the internal node i\n",
    "    feature = list(model_tree.tree_.feature)\n",
    "\n",
    "    unique_contribs = {}\n",
    "    for leaf, path in leaf_to_path.items():\n",
    "        # compute the contribution of each feature\n",
    "        # for a given observation\n",
    "        contribs = np.zeros(model_tree.n_features_)\n",
    "        for depth in range(len(path) - 1):\n",
    "            contrib = values[path[depth + 1]] - values[path[depth]]\n",
    "            feature_idx = feature[path[depth]]\n",
    "            contribs[feature_idx] += contrib\n",
    "\n",
    "        unique_contribs[leaf] = contribs\n",
    "\n",
    "    return unique_contribs"
   ]
  },
  {
   "cell_type": "code",
   "execution_count": 12,
   "metadata": {},
   "outputs": [
    {
     "data": {
      "text/plain": [
       "array([ 0.        ,  0.        ,  0.        ,  0.        ,  0.        ,\n",
       "       -2.89537659,  0.        ,  0.        ,  0.        ,  0.        ,\n",
       "        0.        ,  0.        ,  3.4235119 ])"
      ]
     },
     "execution_count": 12,
     "metadata": {},
     "output_type": "execute_result"
    }
   ],
   "source": [
    "# obtain the prediction value at each node,\n",
    "# remove the single-dimensional inner arrays\n",
    "values = model_tree.tree_.value.squeeze()\n",
    "\n",
    "# the bias is always simply the value at the root node\n",
    "bias = values[0]\n",
    "\n",
    "unique_contribs = compute_contrib(model_tree, values, leaf_to_path)\n",
    "\n",
    "# e.g. if the data point ends up in node 2,\n",
    "# we can look up the contribution of each feature using:\n",
    "unique_contribs[2]"
   ]
  },
  {
   "cell_type": "code",
   "execution_count": 13,
   "metadata": {},
   "outputs": [
    {
     "data": {
      "text/html": [
       "<div>\n",
       "<table border=\"1\" class=\"dataframe\">\n",
       "  <thead>\n",
       "    <tr style=\"text-align: right;\">\n",
       "      <th></th>\n",
       "      <th>contrib</th>\n",
       "      <th>feature</th>\n",
       "      <th>value</th>\n",
       "    </tr>\n",
       "  </thead>\n",
       "  <tbody>\n",
       "    <tr>\n",
       "      <th>0</th>\n",
       "      <td>-2.895377</td>\n",
       "      <td>RM</td>\n",
       "      <td>5.782</td>\n",
       "    </tr>\n",
       "    <tr>\n",
       "      <th>1</th>\n",
       "      <td>-4.911995</td>\n",
       "      <td>LSTAT</td>\n",
       "      <td>15.940</td>\n",
       "    </tr>\n",
       "  </tbody>\n",
       "</table>\n",
       "</div>"
      ],
      "text/plain": [
       "    contrib feature   value\n",
       "0 -2.895377      RM   5.782\n",
       "1 -4.911995   LSTAT  15.940"
      ]
     },
     "execution_count": 13,
     "metadata": {},
     "output_type": "execute_result"
    }
   ],
   "source": [
    "# return the leaf index each data points ends up in\n",
    "# and obtain prediction for each observation\n",
    "# by using which leaf it belongs to;\n",
    "# prediction is essentially the same as calling\n",
    "# model_tree.predict(X) for regression tree\n",
    "data_row = X_train[0]\n",
    "X = np.atleast_2d(data_row)\n",
    "leaf = model_tree.apply(X)[0]\n",
    "prediction = values[leaf]\n",
    "contrib = unique_contribs[leaf]\n",
    "\n",
    "# convert the explanation to dataframe for better interpretation\n",
    "value_col = 'value'\n",
    "contrib_col = 'contrib'\n",
    "feature_col = 'feature'\n",
    "explained = {value_col: data_row,\n",
    "             contrib_col: contrib,\n",
    "             feature_col: feature_names}\n",
    "df_explained = pd.DataFrame(explained, columns = [contrib_col, feature_col, value_col])\n",
    "df_explained = (df_explained\n",
    "                .loc[df_explained[contrib_col] != 0.0]\n",
    "                .sort_values(contrib_col, ascending = False)\n",
    "                .reset_index(drop = True))\n",
    "df_explained"
   ]
  },
  {
   "cell_type": "code",
   "execution_count": 14,
   "metadata": {},
   "outputs": [
    {
     "data": {
      "text/plain": [
       "True"
      ]
     },
     "execution_count": 14,
     "metadata": {},
     "output_type": "execute_result"
    }
   ],
   "source": [
    "bias + df_explained['contrib'].sum() == prediction"
   ]
  },
  {
   "cell_type": "code",
   "execution_count": 15,
   "metadata": {},
   "outputs": [
    {
     "data": {
      "text/plain": [
       "0.96666666666666667"
      ]
     },
     "execution_count": 15,
     "metadata": {},
     "output_type": "execute_result"
    }
   ],
   "source": [
    "iris = load_iris()\n",
    "X_train, X_test, y_train, y_test = train_test_split(\n",
    "    iris.data, iris.target, test_size = 0.2, random_state = 14)\n",
    "\n",
    "model_rf = RandomForestClassifier(max_depth = 6)\n",
    "model_rf.fit(X_train, y_train)\n",
    "accuracy_score(y_test, model_rf.predict(X_test))"
   ]
  },
  {
   "cell_type": "code",
   "execution_count": 16,
   "metadata": {},
   "outputs": [
    {
     "name": "stdout",
     "output_type": "stream",
     "text": [
      "bias: 0.300833333333\n",
      "predicted class:  0\n",
      "predicted proba: 1.0\n",
      "bias + contribution = prediction: True\n"
     ]
    },
    {
     "name": "stderr",
     "output_type": "stream",
     "text": [
      "[Parallel(n_jobs=-1)]: Done   6 out of  10 | elapsed:    0.0s remaining:    0.0s\n",
      "[Parallel(n_jobs=-1)]: Done  10 out of  10 | elapsed:    0.0s finished\n"
     ]
    },
    {
     "data": {
      "text/html": [
       "<div>\n",
       "<table border=\"1\" class=\"dataframe\">\n",
       "  <thead>\n",
       "    <tr style=\"text-align: right;\">\n",
       "      <th></th>\n",
       "      <th>contrib</th>\n",
       "      <th>feature</th>\n",
       "      <th>value</th>\n",
       "    </tr>\n",
       "  </thead>\n",
       "  <tbody>\n",
       "    <tr>\n",
       "      <th>0</th>\n",
       "      <td>0.406349</td>\n",
       "      <td>petal width (cm)</td>\n",
       "      <td>0.2</td>\n",
       "    </tr>\n",
       "    <tr>\n",
       "      <th>1</th>\n",
       "      <td>0.177880</td>\n",
       "      <td>petal length (cm)</td>\n",
       "      <td>1.5</td>\n",
       "    </tr>\n",
       "    <tr>\n",
       "      <th>2</th>\n",
       "      <td>0.114937</td>\n",
       "      <td>sepal length (cm)</td>\n",
       "      <td>5.1</td>\n",
       "    </tr>\n",
       "  </tbody>\n",
       "</table>\n",
       "</div>"
      ],
      "text/plain": [
       "    contrib            feature  value\n",
       "0  0.406349   petal width (cm)    0.2\n",
       "1  0.177880  petal length (cm)    1.5\n",
       "2  0.114937  sepal length (cm)    5.1"
      ]
     },
     "execution_count": 16,
     "metadata": {},
     "output_type": "execute_result"
    }
   ],
   "source": [
    "from tree_explainer import RandomForestExplainer\n",
    "\n",
    "rf_explain = RandomForestExplainer(model_rf, iris.feature_names)\n",
    "df_explained, pred_info = rf_explain.explain(X_train[0])\n",
    "\n",
    "model_rf_pred = pred_info['predict']\n",
    "bias = rf_explain.bias_[model_rf_pred]\n",
    "model_rf_pred_proba = pred_info['predict_proba'][model_rf_pred]\n",
    "\n",
    "print('bias:', bias)\n",
    "print('predicted class:', model_rf_pred)\n",
    "print('predicted proba:', model_rf_pred_proba)\n",
    "actual_sum = bias + df_explained['contrib'].sum()\n",
    "equal = np.allclose(actual_sum, model_rf_pred_proba)\n",
    "print('bias + contribution = prediction:', equal)\n",
    "\n",
    "df_explained"
   ]
  }
 ],
 "metadata": {
  "kernelspec": {
   "display_name": "Python 3",
   "language": "python",
   "name": "python3"
  },
  "language_info": {
   "codemirror_mode": {
    "name": "ipython",
    "version": 3
   },
   "file_extension": ".py",
   "mimetype": "text/x-python",
   "name": "python",
   "nbconvert_exporter": "python",
   "pygments_lexer": "ipython3",
   "version": "3.5.2"
  },
  "toc": {
   "colors": {
    "hover_highlight": "#DAA520",
    "running_highlight": "#FF0000",
    "selected_highlight": "#FFD700"
   },
   "moveMenuLeft": true,
   "nav_menu": {
    "height": "30px",
    "width": "252px"
   },
   "navigate_menu": true,
   "number_sections": true,
   "sideBar": true,
   "threshold": 4,
   "toc_cell": false,
   "toc_section_display": "block",
   "toc_window_display": true
  }
 },
 "nbformat": 4,
 "nbformat_minor": 2
}
