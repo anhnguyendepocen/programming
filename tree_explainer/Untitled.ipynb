{
 "cells": [
  {
   "cell_type": "markdown",
   "metadata": {},
   "source": [
    "Given a binary tree containing digits from 0-9 only, each root-to-leaf path could represent a number. An example is the root-to-leaf path 1->2->3 which represents the number 123. Find the total sum of all root-to-leaf numbers. For example:\n",
    "\n",
    "```\n",
    "    1\n",
    "   / \\\n",
    "  2   3\n",
    "```\n",
    "\n",
    "- The root-to-leaf path 1->2 represents the number 12\n",
    "- The root-to-leaf path 1->3 represents the number 13\n",
    "- Return the sum = 12 + 13 = 25\n",
    "\n",
    "https://codereview.stackexchange.com/questions/134226/calculate-the-path-sum-of-a-binary-tree"
   ]
  },
  {
   "cell_type": "code",
   "execution_count": 7,
   "metadata": {
    "collapsed": true
   },
   "outputs": [],
   "source": [
    "class Node:\n",
    "    def __init__(self, value, left = None, right = None):\n",
    "        # we should use default arguments. If we wanted to create a leaf node, \n",
    "        # it is much easier to use Node(3) than Node(3, None, None)\n",
    "        self.value = value\n",
    "        self.left = left\n",
    "        self.right = right\n",
    "        \n",
    "\n",
    "def sum1(node, prefix = 0):\n",
    "    if node is None:\n",
    "        return 0\n",
    "    \n",
    "    p = prefix * 10 + node.value\n",
    "    if node.left is not None or node.right is not None:\n",
    "        return sum1(node.left, p) + sum1(node.right, p)\n",
    "\n",
    "    return p"
   ]
  },
  {
   "cell_type": "code",
   "execution_count": 2,
   "metadata": {
    "collapsed": true
   },
   "outputs": [],
   "source": [
    "node2 = Node(2)\n",
    "node3 = Node(3)\n",
    "node1 = Node(1, node2, node3)\n",
    "sum1(node1)"
   ]
  },
  {
   "cell_type": "code",
   "execution_count": 8,
   "metadata": {},
   "outputs": [
    {
     "data": {
      "text/plain": [
       "414"
      ]
     },
     "execution_count": 8,
     "metadata": {},
     "output_type": "execute_result"
    }
   ],
   "source": [
    "node3 = Node(3)\n",
    "node5 = Node(5)\n",
    "node6 = Node(6)\n",
    "node4 = Node(4, node5, node6)\n",
    "node2 = Node(2, node3, None)\n",
    "node1 = Node(1, node2, node4)\n",
    "sum1(node1)"
   ]
  }
 ],
 "metadata": {
  "kernelspec": {
   "display_name": "Python 3",
   "language": "python",
   "name": "python3"
  },
  "language_info": {
   "codemirror_mode": {
    "name": "ipython",
    "version": 3
   },
   "file_extension": ".py",
   "mimetype": "text/x-python",
   "name": "python",
   "nbconvert_exporter": "python",
   "pygments_lexer": "ipython3",
   "version": "3.5.2"
  },
  "toc": {
   "colors": {
    "hover_highlight": "#DAA520",
    "running_highlight": "#FF0000",
    "selected_highlight": "#FFD700"
   },
   "moveMenuLeft": true,
   "nav_menu": {
    "height": "12px",
    "width": "252px"
   },
   "navigate_menu": true,
   "number_sections": true,
   "sideBar": true,
   "threshold": 4,
   "toc_cell": false,
   "toc_section_display": "block",
   "toc_window_display": true
  }
 },
 "nbformat": 4,
 "nbformat_minor": 2
}
