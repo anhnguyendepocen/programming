{
 "cells": [
  {
   "cell_type": "code",
   "execution_count": 1,
   "metadata": {
    "collapsed": true
   },
   "outputs": [],
   "source": [
    "import pandas as pd\n",
    "from pyspark.conf import SparkConf\n",
    "from pyspark.sql import SparkSession \n",
    "from pyspark.ml.feature import VectorAssembler, StandardScaler, PCA\n",
    "\n",
    "# create the SparkSession class,\n",
    "# which is the entry point into all functionality in Spark\n",
    "spark = (SparkSession\n",
    "         .builder\n",
    "         .master('local[4]') # set it to run on 4 cores on local\n",
    "         .appName('PCA')\n",
    "         .config(conf = SparkConf())\n",
    "         .getOrCreate())"
   ]
  },
  {
   "cell_type": "code",
   "execution_count": 3,
   "metadata": {
    "collapsed": false
   },
   "outputs": [
    {
     "name": "stdout",
     "output_type": "stream",
     "text": [
      "+------+--------+---------+\n",
      "|hostid|itemname|itemvalue|\n",
      "+------+--------+---------+\n",
      "|     1|       A|       10|\n",
      "|     1|       B|        3|\n",
      "|     2|       A|        9|\n",
      "|     2|       C|       40|\n",
      "+------+--------+---------+\n",
      "\n"
     ]
    }
   ],
   "source": [
    "data = {\n",
    "    'hostid': [1, 1, 2, 2],\n",
    "    'itemname': ['A', 'B', 'A', 'C'],\n",
    "    'itemvalue': [10, 3, 9, 40]\n",
    "}\n",
    "\n",
    "data = pd.DataFrame(data)\n",
    "df = spark.createDataFrame(data)\n",
    "df.show()"
   ]
  },
  {
   "cell_type": "markdown",
   "metadata": {},
   "source": [
    "[Stackoverflow: Pivot rows in mysql](https://stackoverflow.com/questions/1241178/mysql-rows-to-columns/9668036#9668036)"
   ]
  },
  {
   "cell_type": "code",
   "execution_count": 11,
   "metadata": {
    "collapsed": false
   },
   "outputs": [
    {
     "name": "stdout",
     "output_type": "stream",
     "text": [
      "+------+----+----+----+\n",
      "|hostid|   A|   B|   C|\n",
      "+------+----+----+----+\n",
      "|     1|  10|null|null|\n",
      "|     1|null|   3|null|\n",
      "|     2|   9|null|null|\n",
      "|     2|null|null|  40|\n",
      "+------+----+----+----+\n",
      "\n"
     ]
    }
   ],
   "source": [
    "df.createOrReplaceTempView(\"history\")\n",
    "sql_df1 = spark.sql(\n",
    "    \"\"\"\n",
    "    SELECT \n",
    "        hostid,\n",
    "        CASE WHEN itemname = \"A\" THEN itemvalue END AS A,\n",
    "        CASE WHEN itemname = \"B\" THEN itemvalue END AS B,\n",
    "        CASE WHEN itemname = \"C\" THEN itemvalue END AS C\n",
    "    FROM \n",
    "        history\n",
    "    \"\"\"\n",
    ")\n",
    "sql_df1.show()"
   ]
  },
  {
   "cell_type": "code",
   "execution_count": 21,
   "metadata": {
    "collapsed": false
   },
   "outputs": [
    {
     "name": "stdout",
     "output_type": "stream",
     "text": [
      "+------+---+---+---+\n",
      "|hostid|  A|  B|  C|\n",
      "+------+---+---+---+\n",
      "|     1| 10|  3|  0|\n",
      "|     2|  9|  0| 40|\n",
      "+------+---+---+---+\n",
      "\n"
     ]
    }
   ],
   "source": [
    "sql_df1.createOrReplaceTempView('history_extended')\n",
    "sql_df2 = spark.sql(\n",
    "    \"\"\"\n",
    "    SELECT\n",
    "        hostid,\n",
    "        MIN(A) AS A,\n",
    "        MIN(B) AS B,\n",
    "        MIN(C) AS C\n",
    "    FROM \n",
    "        history_extended\n",
    "    GROUP BY \n",
    "        hostid\n",
    "    \"\"\"\n",
    ")\n",
    "sql_df2.show()"
   ]
  },
  {
   "cell_type": "code",
   "execution_count": 20,
   "metadata": {
    "collapsed": false
   },
   "outputs": [
    {
     "name": "stdout",
     "output_type": "stream",
     "text": [
      "+------+---+---+---+\n",
      "|hostid|  A|  B|  C|\n",
      "+------+---+---+---+\n",
      "|     1| 10|  3|  0|\n",
      "|     2|  9|  0| 40|\n",
      "+------+---+---+---+\n",
      "\n"
     ]
    }
   ],
   "source": [
    "sql_df1 = spark.sql(\n",
    "    \"\"\"\n",
    "    SELECT\n",
    "        hostid, \n",
    "        SUM( IF(itemname = 'A', itemvalue, 0) ) AS A,  \n",
    "        SUM( IF(itemname = 'B', itemvalue, 0) ) AS B, \n",
    "        SUM( IF(itemname = 'C', itemvalue, 0) ) AS C \n",
    "    FROM \n",
    "        history\n",
    "    GROUP BY\n",
    "        hostid\n",
    "    \"\"\"\n",
    ")\n",
    "sql_df1.show()"
   ]
  }
 ],
 "metadata": {
  "kernelspec": {
   "display_name": "Python [Root]",
   "language": "python",
   "name": "Python [Root]"
  },
  "language_info": {
   "codemirror_mode": {
    "name": "ipython",
    "version": 3
   },
   "file_extension": ".py",
   "mimetype": "text/x-python",
   "name": "python",
   "nbconvert_exporter": "python",
   "pygments_lexer": "ipython3",
   "version": "3.5.2"
  }
 },
 "nbformat": 4,
 "nbformat_minor": 0
}
