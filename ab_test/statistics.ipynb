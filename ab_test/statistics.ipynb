{
 "cells": [
  {
   "cell_type": "markdown",
   "metadata": {},
   "source": [
    "Effective way of performing sampling\n",
    "\n",
    "We don't have to test the entire population, we can test a sample instead. We choose our sample so that it's fairly representative of the population (conducting a sample survey involving just a sample is less time-consuming and expensive then performing a population census)\n",
    "\n",
    "The key to sampling is to choose an sample that's representative of the population. If it's representative, it means it has similar characteristic (e.g. where the center of the data is) to the population.\n",
    "\n",
    "We need a mechansim for making sure our samples our reliable representation of the population.\n",
    "\n",
    "- Define the target population\n",
    "- Define the sampling unit\n",
    "- Define the sampling frame (a list of all the sampling units within our targeted population, preferably with each sampling unit either named or numbered, but it's likely that this isn't practical. Instead we can settle for a list showing how many units are there within each characteristic, e.g. how many gumballs there are in the population for each color)\n",
    "\n",
    "e.g. when sampling from a list of registered customers, we need ot make sure the sample is fairly representative by customer gender, age group. So we can use stratified sampling, where we divide the customer into different strata, then use a simple random sampling to choose a proportionate number of each of the four colors.\n",
    "\n",
    "We know that an unbiased sample shares the same characterisitics as its parent population, but what's the best way to analyze the sampled data points."
   ]
  },
  {
   "cell_type": "markdown",
   "metadata": {},
   "source": [
    "Estimating the population mean: We'd expect the distribution of the population to be a similar shape to that of the sample, so we can assume that the mean of the sample and the population should have the same value. Note that we can't say that they exactly match, but it's the best estimate we can make.\n",
    "\n",
    "The population mean is often denoted as $\\mu$, the estimated population mean as $\\hat{\\mu}$, mean of the sample $\\bar{x}$. So here we're basically saying $\\hat{\\mu} = \\bar{x}$, where we're using the sample mean to estimate the mean of the population and usually the larger the size of our sample, the more accurate our point estimator for the estimated population mean is going to be.\n",
    "\n",
    "---\n",
    "\n",
    "It's great that we've come up with a good estimate for the population mean, but what about the variance. If we can come up with a good estimate of the population varaince, then we will be able to tell how much variance there's likely to be based on the results of the sample data.\n",
    "\n",
    "When we choose a sample, we have a smaller number of values than the population, and since we have fewer values, there's a good chance that they're more clustered around the mean. The rationale is that more extreme values are less likely to be in your sample.\n",
    "\n",
    "If the size of the sample is $n$, we can estimate the population variance using:\n",
    "\n",
    "$$\n",
    "\\hat{\\sigma^2} = \\frac{\\sum(x - \\bar{x})^2}{n - 1}\n",
    "$$\n",
    "\n",
    "It's just like finding the variance of the values in the sample, but dividing by $n - 1$ instead of $n$. Dividing by $n - 1$ gives a higher value than dividing by $n$, and this difference is more noticeable when $n$ is fairly small. Since the population variance tends to be higher than the variance of the data in the sample, this formula is a slightly better point estimate for the population variance."
   ]
  },
  {
   "cell_type": "markdown",
   "metadata": {},
   "source": [
    "Thus time we're did a survey on a random sample of people and asked them whether they prefer gumballs produced by brand A or whether they prefer those of company A's main rival. We're hoping we can use the result to predict what proportion of the population is likely to prefer brand A.\n",
    "\n",
    "We found that in a sample of 40 people, 32 of them prefer company A and the other prefer those of their rival. So how do we use the sample data to predict the proportion of sucess in the population. In the same way that our best estimate of the population mean is the mean of the sample, our best guess for the proportion of successes in the population has to be the proportion of successes in the sample. i.e. $\\hat{p} = p_s$, the point estimator for the proprotion of successes in the population is equivalent to the proportion of successes in the sample.\n",
    "\n",
    "- Look at all possible samples the same size as the one we're considering\n",
    "- Look at the distribution formed by all the samples, and find the expectation and variance for the population"
   ]
  }
 ],
 "metadata": {
  "kernelspec": {
   "display_name": "Python 3",
   "language": "python",
   "name": "python3"
  },
  "language_info": {
   "codemirror_mode": {
    "name": "ipython",
    "version": 3
   },
   "file_extension": ".py",
   "mimetype": "text/x-python",
   "name": "python",
   "nbconvert_exporter": "python",
   "pygments_lexer": "ipython3",
   "version": "3.5.2"
  },
  "toc": {
   "colors": {
    "hover_highlight": "#DAA520",
    "navigate_num": "#000000",
    "navigate_text": "#333333",
    "running_highlight": "#FF0000",
    "selected_highlight": "#FFD700",
    "sidebar_border": "#EEEEEE",
    "wrapper_background": "#FFFFFF"
   },
   "moveMenuLeft": true,
   "nav_menu": {
    "height": "12px",
    "width": "252px"
   },
   "navigate_menu": true,
   "number_sections": true,
   "sideBar": true,
   "threshold": 4,
   "toc_cell": false,
   "toc_section_display": "block",
   "toc_window_display": true,
   "widenNotebook": false
  }
 },
 "nbformat": 4,
 "nbformat_minor": 2
}
