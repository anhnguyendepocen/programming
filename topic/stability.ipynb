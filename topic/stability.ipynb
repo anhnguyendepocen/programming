{
 "cells": [
  {
   "cell_type": "code",
   "execution_count": 1,
   "metadata": {
    "collapsed": false
   },
   "outputs": [
    {
     "data": {
      "text/html": [
       "\n",
       "<style>\n",
       "    html {\n",
       "        font-size: 18px !important;\n",
       "    }\n",
       "\n",
       "    body {\n",
       "        background-color: #FFF !important;\n",
       "        font-weight: 1rem;\n",
       "        font-family: 'Source Sans Pro', \"Helvetica Neue\", Helvetica, Arial, sans-serif;\n",
       "    }\n",
       "\n",
       "    body .notebook-app {\n",
       "        background-color: #FFF !important;\n",
       "    }\n",
       "\n",
       "    #header {\n",
       "        box-shadow: none !important;\n",
       "    }\n",
       "\n",
       "    #notebook {\n",
       "        padding-top: 0px;\n",
       "    }\n",
       "\n",
       "    #notebook-container {\n",
       "        box-shadow: none;\n",
       "        -webkit-box-shadow: none;\n",
       "        padding: 10px;\n",
       "    }\n",
       "\n",
       "    div.cell {\n",
       "        width: 1000px;\n",
       "        margin-left: 0% !important;\n",
       "        margin-right: auto;\n",
       "    }\n",
       "\n",
       "    div.cell.selected {\n",
       "        border: 1px dashed #CCCCCC;\n",
       "    }\n",
       "\n",
       "    .edit_mode div.cell.selected {\n",
       "        border: 1px dashed #828282;\n",
       "    }\n",
       "\n",
       "    div.output_wrapper {\n",
       "        margin-top: 8px;\n",
       "    }\n",
       "\n",
       "    a {\n",
       "        color: #383838;\n",
       "    }\n",
       "\n",
       "    code,\n",
       "    kbd,\n",
       "    pre,\n",
       "    samp {\n",
       "        font-family: 'Menlo', monospace !important;\n",
       "        font-size: 0.75rem !important;\n",
       "    }\n",
       "\n",
       "    h1 {\n",
       "        font-size: 2rem !important;\n",
       "        font-weight: 500 !important;\n",
       "        letter-spacing: 3px !important;\n",
       "        text-transform: uppercase !important;\n",
       "    }\n",
       "\n",
       "    h2 {\n",
       "        font-size: 1.8rem !important;\n",
       "        font-weight: 400 !important;\n",
       "        letter-spacing: 3px !important;\n",
       "        text-transform: none !important;\n",
       "    }\n",
       "\n",
       "    h3 {\n",
       "        font-size: 1.5rem !important;\n",
       "        font-weight: 400 !important;\n",
       "        font-style: italic !important;\n",
       "        display: block !important;\n",
       "    }\n",
       "\n",
       "    h4,\n",
       "    h5,\n",
       "    h6 {\n",
       "        font-size: 1rem !important;\n",
       "        font-weight: 400 !important;\n",
       "        display: block !important;\n",
       "    }\n",
       "\n",
       "    .prompt {\n",
       "        font-family: 'Menlo', monospace !important;\n",
       "        font-size: 0.75rem;\n",
       "        text-align: right;\n",
       "        line-height: 1.21429rem;\n",
       "    }\n",
       "\n",
       "    /* INTRO PAGE */\n",
       "\n",
       "    .toolbar_info,\n",
       "    .list-container {\n",
       "        ;\n",
       "    }\n",
       "    /* NOTEBOOK */\n",
       "\n",
       "    div#header-container {\n",
       "        display: none !important;\n",
       "    }\n",
       "\n",
       "    div#notebook {\n",
       "        border-top: none;\n",
       "        font-size: 1rem;\n",
       "    }\n",
       "\n",
       "    div.input_prompt {\n",
       "        color: #C74483;\n",
       "    }\n",
       "\n",
       "    .code_cell div.input_prompt:after,\n",
       "    div.output_prompt:after {\n",
       "        content: '\\25b6';\n",
       "    }\n",
       "\n",
       "    div.output_prompt {\n",
       "        color: #2B88D9;\n",
       "    }\n",
       "\n",
       "    div.input_area {\n",
       "        border-radius: 0px;\n",
       "        border: 1px solid #d8d8d8;\n",
       "    }\n",
       "\n",
       "    div.output_area pre {\n",
       "        font-weight: normal;\n",
       "    }\n",
       "\n",
       "    div.output_subarea {\n",
       "        font-weight: normal;\n",
       "    }\n",
       "\n",
       "    .rendered_html pre,\n",
       "    .rendered_html table,\n",
       "    .rendered_html th,\n",
       "    .rendered_html tr,\n",
       "    .rendered_html td {\n",
       "        border: 1px #828282 solid;\n",
       "        font-size: 0.75rem;\n",
       "        font-family: 'Menlo', monospace;\n",
       "    }\n",
       "\n",
       "    .rendered_html th,\n",
       "    .rendered_html tr,\n",
       "    .rendered_html td {\n",
       "        padding: 5px 10px;\n",
       "    }\n",
       "\n",
       "    .rendered_html th {\n",
       "        font-weight: normal;\n",
       "        background: #f8f8f8;\n",
       "    }\n",
       "\n",
       "    a:link{\n",
       "       font-weight: bold;\n",
       "       color:#447adb;\n",
       "    }\n",
       "    a:visited{\n",
       "       font-weight: bold;\n",
       "       color: #1d3b84;\n",
       "    }\n",
       "    a:hover{\n",
       "       font-weight: bold;\n",
       "       color: #1d3b84;\n",
       "    }\n",
       "    a:focus{\n",
       "       font-weight: bold;\n",
       "       color:#447adb;\n",
       "    }\n",
       "    a:active{\n",
       "       font-weight: bold;\n",
       "       color:#447adb;\n",
       "    }\n",
       "    .rendered_html :link {\n",
       "       text-decoration: underline; \n",
       "    }\n",
       "\n",
       "    div.output_html {\n",
       "        font-weight: 1rem;\n",
       "        font-family: 'Source Sans Pro', \"Helvetica Neue\", Helvetica, Arial, sans-serif;\n",
       "    }\n",
       "\n",
       "    table.dataframe tr {\n",
       "        border: 1px #CCCCCC;\n",
       "    }\n",
       "\n",
       "    div.cell.selected {\n",
       "        border-radius: 0px;\n",
       "    }\n",
       "\n",
       "    div.cell.edit_mode {\n",
       "        border-radius: 0px;\n",
       "        border: thin solid #CF5804;\n",
       "    }\n",
       "\n",
       "    span.ansiblue {\n",
       "        color: #00A397;\n",
       "    }\n",
       "\n",
       "    span.ansigray {\n",
       "        color: #d8d8d8;\n",
       "    }\n",
       "\n",
       "    span.ansigreen {\n",
       "        color: #688A0A;\n",
       "    }\n",
       "\n",
       "    span.ansipurple {\n",
       "        color: #975DDE;\n",
       "    }\n",
       "\n",
       "    span.ansired {\n",
       "        color: #D43132;\n",
       "    }\n",
       "\n",
       "    span.ansiyellow {\n",
       "        color: #D9AA00;\n",
       "    }\n",
       "\n",
       "    div.output_stderr {\n",
       "        background-color: #D43132;\n",
       "    }\n",
       "\n",
       "    div.output_stderr pre {\n",
       "        color: #e8e8e8;\n",
       "    }\n",
       "\n",
       "    .cm-s-ipython.CodeMirror {\n",
       "        background: #F8F8F8;\n",
       "    }\n",
       "\n",
       "    .cm-s-ipython div.CodeMirror-selected {\n",
       "        background: #e8e8e8 !important;\n",
       "    }\n",
       "\n",
       "    .cm-s-ipython .CodeMirror-gutters {\n",
       "        background: #F8F8F8;\n",
       "        border-right: 0px;\n",
       "    }\n",
       "\n",
       "    .cm-s-ipython .CodeMirror-linenumber {\n",
       "        color: #b8b8b8;\n",
       "    }\n",
       "\n",
       "    .cm-s-ipython .CodeMirror-cursor {\n",
       "        border-left: 1px solid #585858 !important;\n",
       "    }\n",
       "\n",
       "    .cm-s-ipython span.cm-atom {\n",
       "        color: #C74483;\n",
       "    }\n",
       "\n",
       "    .cm-s-ipython span.cm-number {\n",
       "        color: #C74483;\n",
       "    }\n",
       "\n",
       "    .cm-s-ipython span.cm-property,\n",
       "    .cm-s-ipython span.cm-attribute {\n",
       "        color: #688A0A;\n",
       "    }\n",
       "\n",
       "    .cm-s-ipython span.cm-keyword {\n",
       "        font-weight: normal;\n",
       "        color: #D43132;\n",
       "    }\n",
       "\n",
       "    .cm-s-ipython span.cm-string {\n",
       "        color: #D9AA00;\n",
       "    }\n",
       "\n",
       "    .cm-s-ipython span.cm-operator {\n",
       "        font-weight: normal;\n",
       "    }\n",
       "\n",
       "    .cm-s-ipython span.cm-builtin {\n",
       "        color: #2B88D9;\n",
       "    }\n",
       "\n",
       "    .cm-s-ipython span.cm-variable {\n",
       "        color: #00A397;\n",
       "    }\n",
       "\n",
       "    .cm-s-ipython span.cm-variable-2 {\n",
       "        color: #2B88D9;\n",
       "    }\n",
       "\n",
       "    .cm-s-ipython span.cm-def {\n",
       "        color: #00A397;\n",
       "    }\n",
       "\n",
       "    .cm-s-ipython span.cm-error {\n",
       "        background: #FFBDBD;\n",
       "        color: #D43132;\n",
       "    }\n",
       "\n",
       "    .cm-s-ipython span.cm-tag {\n",
       "        color: #D43132;\n",
       "    }\n",
       "\n",
       "    .cm-s-ipython span.cm-link {\n",
       "        color: #975DDE;\n",
       "    }\n",
       "\n",
       "    .cm-s-ipython .CodeMirror-matchingbracket {\n",
       "        text-decoration: underline;\n",
       "         !important;\n",
       "    }\n",
       "</style>\n",
       "\n",
       "<script>\n",
       "    MathJax.Hub.Config({\n",
       "                        TeX: {\n",
       "                           extensions: [\"AMSmath.js\"]\n",
       "                           },\n",
       "                tex2jax: {\n",
       "                    inlineMath: [ ['$','$'], [\"\\\\(\",\"\\\\)\"] ],\n",
       "                    displayMath: [ ['$$','$$'], [\"\\\\[\",\"\\\\]\"] ]\n",
       "                },\n",
       "                displayAlign: 'center', // Change this to 'center' to center equations.\n",
       "                \"HTML-CSS\": {\n",
       "                    scale:100,\n",
       "                        availableFonts: [],\n",
       "                        preferredFont:null,\n",
       "                        webFont: \"TeX\",\n",
       "                    styles: {'.MathJax_Display': {\"margin\": 4}}\n",
       "                }\n",
       "        });\n",
       "</script>"
      ],
      "text/plain": [
       "<IPython.core.display.HTML object>"
      ]
     },
     "execution_count": 1,
     "metadata": {},
     "output_type": "execute_result"
    }
   ],
   "source": [
    "# code for loading the format for the notebook\n",
    "import os\n",
    "\n",
    "# path : store the current path to convert back to it later\n",
    "path = os.getcwd()\n",
    "\n",
    "os.chdir( os.path.join('..', 'notebook_format') )\n",
    "from formats import load_style\n",
    "load_style()"
   ]
  },
  {
   "cell_type": "code",
   "execution_count": 2,
   "metadata": {
    "collapsed": false
   },
   "outputs": [
    {
     "name": "stdout",
     "output_type": "stream",
     "text": [
      "Ethen 2016-11-05 15:07:44 \n",
      "\n",
      "CPython 3.5.2\n",
      "IPython 4.2.0\n",
      "\n",
      "numpy 1.11.1\n",
      "pandas 0.18.1\n",
      "matplotlib 1.5.1\n",
      "gensim 0.13.1\n",
      "scikit-learn 0.17.1\n",
      "scipy 0.18.0\n"
     ]
    }
   ],
   "source": [
    "os.chdir(path)\n",
    "%matplotlib inline\n",
    "import numpy as np\n",
    "import pandas as pd\n",
    "import matplotlib.pyplot as plt\n",
    "plt.rcParams['figure.figsize'] = 8, 6 # change default figure size\n",
    "plt.rcParams['font.size'] = 12 # and font size\n",
    "\n",
    "# 1. magic to print version\n",
    "# 2. magic so that the notebook will reload external python modules\n",
    "%load_ext watermark\n",
    "%load_ext autoreload \n",
    "%autoreload 2\n",
    "\n",
    "from gensim.corpora.dictionary import Dictionary\n",
    "from gensim.models.ldamodel import LdaModel\n",
    "from gensim.models.coherencemodel import CoherenceModel\n",
    "\n",
    "from scipy.optimize import linear_sum_assignment\n",
    "from sklearn.feature_extraction.text import TfidfVectorizer\n",
    "from sklearn.feature_extraction.text import CountVectorizer\n",
    "from sklearn.decomposition import LatentDirichletAllocation\n",
    "\n",
    "%watermark -a 'Ethen' -d -t -v -p numpy,pandas,matplotlib,gensim,scikit-learn,scipy"
   ]
  },
  {
   "cell_type": "code",
   "execution_count": 3,
   "metadata": {
    "collapsed": false
   },
   "outputs": [
    {
     "name": "stdout",
     "output_type": "stream",
     "text": [
      "Topic #0:\n",
      "human, interface, eps, computer, minors, response, graph minors, time, user, survey, response time, graph, trees\n",
      "\n",
      "Topic #1:\n",
      "response time, time, response, survey, graph minors, trees, minors, graph, user, computer, interface, human, eps\n",
      "\n",
      "\n"
     ]
    }
   ],
   "source": [
    "texts = ['human interface computer',\n",
    "         'survey user computer system response time',\n",
    "         'eps user interface system',\n",
    "         'system human system eps',\n",
    "         'user response time',\n",
    "         'trees',\n",
    "         'graph trees',\n",
    "         'graph minors trees',\n",
    "         'graph minors survey']\n",
    "\n",
    "count_vec = CountVectorizer(ngram_range = (1, 2), stop_words = 'english', \n",
    "                            min_df = 2, max_df = 0.9, max_features = 10000)\n",
    "\n",
    "X_dtm = count_vec.fit_transform(texts)\n",
    "lda = LatentDirichletAllocation(n_topics = 2, max_iter = 10, n_jobs = 1)\n",
    "doc_topic_distr = lda.fit_transform(X_dtm)\n",
    "\n",
    "TOPWORDS = 15\n",
    "\n",
    "def print_top_words(lda_model, vec, n_top_words):\n",
    "    \"\"\"top words associated with each topic for the sklearn LDA model\"\"\"\n",
    "    features = vec.get_feature_names()\n",
    "    for topic_idx, topic in enumerate(lda_model.components_):\n",
    "        print( 'Topic #{}:'.format(topic_idx) )\n",
    "        print( ', '.join([ features[i] for i in np.argsort(topic)[-n_top_words:] ]) )\n",
    "        print()\n",
    "    \n",
    "    print()\n",
    "\n",
    "print_top_words(lda_model = lda, vec = count_vec, n_top_words = TOPWORDS)"
   ]
  },
  {
   "cell_type": "code",
   "execution_count": 4,
   "metadata": {
    "collapsed": false
   },
   "outputs": [],
   "source": [
    "R1 = [\n",
    "    ['album'],\n",
    "    ['album', 'music'],\n",
    "    ['album', 'music', 'best'],\n",
    "    ['album', 'music', 'best', 'award'],\n",
    "    ['album', 'music', 'best', 'award', 'win']\n",
    "]\n",
    "\n",
    "R2 = [\n",
    "    ['sport'],\n",
    "    ['sport', 'best'],\n",
    "    ['sport', 'best', 'win'],\n",
    "    ['sport', 'best', 'win', 'medal'],\n",
    "    ['sport', 'best', 'win', 'medal', 'award']\n",
    "]"
   ]
  },
  {
   "cell_type": "code",
   "execution_count": 5,
   "metadata": {
    "collapsed": false
   },
   "outputs": [],
   "source": [
    "def compute_jaccard(ranking1, ranking2):\n",
    "    \"\"\"\n",
    "    compute jaccard similarity that does not take into account \n",
    "    rank positions and indefinite list\n",
    "    \"\"\"\n",
    "    set1 = set(ranking1)\n",
    "    set2 = set(ranking2)\n",
    "    \n",
    "    # if the numerator or the denominator turned out\n",
    "    # to be 0, return 0 as the jaccard similarity\n",
    "    numerator = len( set1.intersection(set2) )\n",
    "    if not numerator:\n",
    "        return 0\n",
    "\n",
    "    denominator = len( set1.union(set2) )\n",
    "    jaccard_sim = numerator / denominator\n",
    "    return jaccard_sim"
   ]
  },
  {
   "cell_type": "code",
   "execution_count": 6,
   "metadata": {
    "collapsed": false
   },
   "outputs": [],
   "source": [
    "def compute_avg_jaccard(ranking1, ranking2):\n",
    "    \"\"\"\n",
    "    weighted version of jaccard similarity, \n",
    "    which takes into account rank positions\n",
    "    \"\"\"\n",
    "    total = 0\n",
    "    k = len(ranking1)\n",
    "    for i in range(1, k + 1):\n",
    "        total += compute_jaccard( ranking1[:i], ranking2[:i] )\n",
    "        \n",
    "    avg_jaccard_sim = total / k\n",
    "    return avg_jaccard_sim"
   ]
  },
  {
   "cell_type": "code",
   "execution_count": 7,
   "metadata": {
    "collapsed": false
   },
   "outputs": [
    {
     "data": {
      "text/plain": [
       "0.15428571428571428"
      ]
     },
     "execution_count": 7,
     "metadata": {},
     "output_type": "execute_result"
    }
   ],
   "source": [
    "ranking1 = R1[4]\n",
    "ranking2 = R2[4]\n",
    "compute_jaccard(ranking1, ranking2)\n",
    "compute_avg_jaccard(ranking1, ranking2)"
   ]
  },
  {
   "cell_type": "code",
   "execution_count": 8,
   "metadata": {
    "collapsed": true
   },
   "outputs": [],
   "source": [
    "# compare between two ranking the set\n",
    "# where the length of the set is simply\n",
    "# the number of topics in each topic model\n",
    "S1 = [\n",
    "    ['sport', 'win', 'award'],\n",
    "    ['bank', 'finance', 'money'],\n",
    "    ['music', 'album', 'band']\n",
    "]\n",
    "\n",
    "S2 = [\n",
    "    ['finance', 'bank', 'economy'],\n",
    "    ['music', 'band', 'award'],\n",
    "    ['win', 'sport', 'money']\n",
    "]"
   ]
  },
  {
   "cell_type": "code",
   "execution_count": 9,
   "metadata": {
    "collapsed": false
   },
   "outputs": [
    {
     "data": {
      "text/plain": [
       "array([[ 0.        ,  0.06666667,  0.5       ],\n",
       "       [ 0.5       ,  0.        ,  0.06666667],\n",
       "       [ 0.        ,  0.61111111,  0.        ]])"
      ]
     },
     "execution_count": 9,
     "metadata": {},
     "output_type": "execute_result"
    }
   ],
   "source": [
    "n_topic = len(S1)\n",
    "sim_mat = np.zeros(( n_topic, n_topic ))\n",
    "for row in range(n_topic):  \n",
    "    for col in range(n_topic):\n",
    "        sim_mat[row, col] = compute_avg_jaccard(S1[row], S2[col])\n",
    "\n",
    "sim_mat"
   ]
  },
  {
   "cell_type": "code",
   "execution_count": 10,
   "metadata": {
    "collapsed": false
   },
   "outputs": [
    {
     "data": {
      "text/plain": [
       "0.53703703703703709"
      ]
     },
     "execution_count": 10,
     "metadata": {},
     "output_type": "execute_result"
    }
   ],
   "source": [
    "# solve for the optimal permutation using hungarian algorithm,\n",
    "# for the scipy implement, each element is presented as cost\n",
    "# hence we take the negative sign of the similarity matrix\n",
    "row_ind, col_ind = linear_sum_assignment(-sim_mat)\n",
    "agreement = np.mean( sim_mat[row_ind, col_ind] )\n",
    "agreement"
   ]
  },
  {
   "cell_type": "code",
   "execution_count": 11,
   "metadata": {
    "collapsed": true
   },
   "outputs": [],
   "source": [
    "def compute_agreement(S1, S2):\n",
    "    \"\"\"\n",
    "    measuring the agreement between two different \n",
    "    k-way topic models, represented as two rank sets;\n",
    "    the rank set is simply the top words for each topic\n",
    "    \"\"\"\n",
    "    \n",
    "    # compute the similarity matrix\n",
    "    n_topic = len(S1)\n",
    "    sim_mat = np.zeros(( n_topic, n_topic ))\n",
    "    for row in range(n_topic):\n",
    "        for col in range(n_topic):\n",
    "            sim_mat[row, col] = compute_avg_jaccard(S1[row], S2[col])    \n",
    "    \n",
    "    # solve for the optimal permutation using hungarian algorithm,\n",
    "    # for the scipy implement, each element is presented as cost\n",
    "    # hence we use the negative sign of the similarity matrix as input\n",
    "    row_ind, col_ind = linear_sum_assignment(-sim_mat)\n",
    "    agreement = np.mean( sim_mat[row_ind, col_ind] )\n",
    "    return agreement"
   ]
  },
  {
   "cell_type": "code",
   "execution_count": 12,
   "metadata": {
    "collapsed": false
   },
   "outputs": [
    {
     "data": {
      "text/plain": [
       "0.53703703703703709"
      ]
     },
     "execution_count": 12,
     "metadata": {},
     "output_type": "execute_result"
    }
   ],
   "source": [
    "agreement = compute_agreement(S1, S2)\n",
    "agreement"
   ]
  },
  {
   "cell_type": "markdown",
   "metadata": {},
   "source": [
    "- Randomly generate $\\gamma$ samples of the dataset, each containing $\\beta \\times n$ documents ($n$ is simply the total number of documents). \n",
    "- For each value of $k \\in [kmin, kmax]$:\n",
    "    - Apply the topic modeling algorithm to the complete data set of $n$ documents to generate $k$ topics, and represent the output as the reference ranking set $S_0$.\n",
    "    - For each sample $\\gamma$:\n",
    "        - Apply the topic modeling algorithm to it to generate k topics, and represent the output as the ranking set $S_i$. \n",
    "        - Calculate the agreement score agree ($S_0$, $S_i$).\n",
    "    - Compute the mean agreement score for $k$ over all $\\gamma$ samples.\n",
    "- Select one or more values for k based upon the highest mean agreement scores.\n",
    "\n",
    "When preprocessing the data, terms occurring in < 20 documents were removed, along with English language stop words, but no stemming was performed. Standard log TF-IDF and L2 document length normalization procedures were then applied to the term-document matrix.\n",
    "\n",
    "we report stability scores for t = 20 (number of top terms used to represent each topic when measuring agreement between ranked lists)."
   ]
  },
  {
   "cell_type": "code",
   "execution_count": 13,
   "metadata": {
    "collapsed": true
   },
   "outputs": [],
   "source": [
    "from sklearn.datasets import fetch_20newsgroups\n",
    "newsgroups_all = fetch_20newsgroups(subset = 'all')"
   ]
  },
  {
   "cell_type": "code",
   "execution_count": 14,
   "metadata": {
    "collapsed": false
   },
   "outputs": [],
   "source": [
    "X = np.array(newsgroups_all.data)\n",
    "n_top_words = 20\n",
    "n_topics_range = [10, 15, 20, 25]\n",
    "n_sample_frac = 0.8\n",
    "n_sample_time = 2"
   ]
  },
  {
   "cell_type": "code",
   "execution_count": 15,
   "metadata": {
    "collapsed": true
   },
   "outputs": [],
   "source": [
    "def compute_stability(X, n_topics_range, n_top_words, n_sample_time, n_sample_frac):\n",
    "    \n",
    "    topics = len(n_topics_range)\n",
    "    avg_agreements = np.zeros(topics)\n",
    "    max_probs = np.zeros(( topics, len(X) ))\n",
    "    n_sample_size = int(X.shape[0] * n_sample_frac)\n",
    "    \n",
    "    for idx, k in enumerate(n_topics_range):\n",
    "        # we could possibly support different vectorizer and models\n",
    "        vec = TfidfVectorizer(stop_words = 'english', min_df = 20)\n",
    "        X_dtm = vec.fit_transform(X)\n",
    "        features = vec.get_feature_names()\n",
    "        \n",
    "        # apply LDA to the complete dataset and \n",
    "        # obtain the reference rank set\n",
    "        lda = LatentDirichletAllocation(n_topics = k, max_iter = 20, \n",
    "                                        n_jobs = 1, evaluate_every = 5)\n",
    "        doc_topic_distr = lda.fit_transform(X_dtm)\n",
    "        S_reference = get_rank_set(lda, features, n_top_words)\n",
    "        \n",
    "        # for each document we'll also store the probability of belonging\n",
    "        # to the most likely topic (maximum probability), this will be\n",
    "        # used to visualize the histogram of the max probability later;\n",
    "        # we'll also normalize the document-topic distribution, because\n",
    "        # the current verson of the probability is not normalized (0.17)\n",
    "        doc_topic_distr /= np.sum(doc_topic_distr, axis = 1, keepdims = 1)\n",
    "        max_probs[idx] = np.max(doc_topic_distr, axis = 1)\n",
    "        \n",
    "        # apply LDA to each samples and obtain each samples' rank set\n",
    "        S_samples = []\n",
    "        for _ in range(n_sample_time):\n",
    "            sample = np.random.choice(X, n_sample_size)\n",
    "            sample_dtm = vec.transform(sample)\n",
    "            lda.fit(sample_dtm)\n",
    "            S_sample = get_rank_set(lda, features, n_top_words)\n",
    "            S_samples.append(S_sample)\n",
    "        \n",
    "        # compute average agreement score between reference and samples\n",
    "        agreements = np.zeros(n_sample_time)\n",
    "        for s in range(n_sample_time):\n",
    "            agreements[s] = compute_agreement(S_reference, S_samples[s])\n",
    "\n",
    "        avg_agreements[idx] = np.mean(agreements)\n",
    "    \n",
    "    best_n_topic = n_topics_range[ np.argmax(avg_agreements) ]\n",
    "    return best_n_topic, avg_agreements, max_probs"
   ]
  },
  {
   "cell_type": "code",
   "execution_count": 16,
   "metadata": {
    "collapsed": true
   },
   "outputs": [],
   "source": [
    "def get_rank_set(lda_model, features, n_top_words):\n",
    "    \"\"\"\n",
    "    the rank set for the topic model is simply the top words\n",
    "    for each topic (a list of list)\n",
    "    \"\"\"\n",
    "    S = []\n",
    "    for topic in lda_model.components_:\n",
    "        top_terms = [ features[i] for i in np.argsort(topic)[-n_top_words:] ]\n",
    "        S.append(top_terms)\n",
    "        \n",
    "    return S"
   ]
  },
  {
   "cell_type": "code",
   "execution_count": 17,
   "metadata": {
    "collapsed": false
   },
   "outputs": [
    {
     "data": {
      "text/plain": [
       "15"
      ]
     },
     "execution_count": 17,
     "metadata": {},
     "output_type": "execute_result"
    }
   ],
   "source": [
    "best_n_topic, avg_agreements, max_probs = compute_stability(\n",
    "    X,\n",
    "    n_topics_range, \n",
    "    n_top_words,\n",
    "    n_sample_time,\n",
    "    n_sample_frac\n",
    ")\n",
    "\n",
    "best_n_topic"
   ]
  },
  {
   "cell_type": "code",
   "execution_count": 19,
   "metadata": {
    "collapsed": false
   },
   "outputs": [
    {
     "data": {
      "image/png": "[encoded data removed]",
      "text/plain": [
       "<matplotlib.figure.Figure at 0x120c6b048>"
      ]
     },
     "metadata": {},
     "output_type": "display_data"
    }
   ],
   "source": [
    "plt.plot(n_topics_range, avg_agreements)\n",
    "plt.show()"
   ]
  },
  {
   "cell_type": "code",
   "execution_count": 21,
   "metadata": {
    "collapsed": false
   },
   "outputs": [
    {
     "data": {
      "image/png": "[encoded data removed]",
      "text/plain": [
       "<matplotlib.figure.Figure at 0x3ffc4b898>"
      ]
     },
     "metadata": {},
     "output_type": "display_data"
    }
   ],
   "source": [
    "fig = plt.figure(figsize = (10, 6))\n",
    "\n",
    "# for acessing the color cycle\n",
    "# http://stackoverflow.com/questions/34247297/matplotlib-1-5-usage-of-axes-prop-cycle\n",
    "colors = list(plt.rcParams['axes.prop_cycle'])\n",
    "\n",
    "for k in range( len(n_topics_range) ):    \n",
    "    plt.subplot(2, 2, k + 1)\n",
    "    prob = max_probs[k]\n",
    "    mean_prob = np.round( np.mean(prob), 2 )\n",
    "    plt.hist( prob, histtype = 'stepfilled', alpha = 0.85, \n",
    "              color = colors[k]['color'], bins = 30 )\n",
    "    plt.title( '{} topics, mean prob of {}'.format( n_topics_range[k], mean_prob ) )\n",
    "    plt.axvline(x = 0.5, color = \"black\", linestyle = '--')\n",
    "    \n",
    "fig.tight_layout()\n",
    "fig.show()"
   ]
  },
  {
   "cell_type": "code",
   "execution_count": null,
   "metadata": {
    "collapsed": false
   },
   "outputs": [],
   "source": []
  },
  {
   "cell_type": "markdown",
   "metadata": {},
   "source": [
    "## Reference\n",
    "\n",
    "- [How Many Topics? Stability Analysis for Topic Models (2014) Derek Greene, Derek O'Callaghan, Pádraig Cunningham](https://arxiv.org/abs/1404.4606)"
   ]
  }
 ],
 "metadata": {
  "anaconda-cloud": {},
  "kernelspec": {
   "display_name": "Python [Root]",
   "language": "python",
   "name": "Python [Root]"
  },
  "language_info": {
   "codemirror_mode": {
    "name": "ipython",
    "version": 3
   },
   "file_extension": ".py",
   "mimetype": "text/x-python",
   "name": "python",
   "nbconvert_exporter": "python",
   "pygments_lexer": "ipython3",
   "version": "3.5.2"
  }
 },
 "nbformat": 4,
 "nbformat_minor": 0
}
