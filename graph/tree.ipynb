{
 "cells": [
  {
   "cell_type": "markdown",
   "metadata": {},
   "source": [
    "# Tree Data Structure\n",
    "\n",
    "## Tree Traversal\n",
    "\n",
    "Resources:\n",
    "\n",
    "- [Blog: Demystifying Depth-First Search](https://medium.com/basecs/demystifying-depth-first-search-a7c14cccf056)\n",
    "- [Blog: Breaking Down Breadth-First Search](https://medium.com/basecs/breaking-down-breadth-first-search-cebe696709d9)\n",
    "\n",
    "### Summary\n",
    "\n",
    "There are two main ways to traverse through a tree. By traversing, we essentially mean we try to walk through the tree without repeating ourselves.\n",
    "\n",
    "- For **depth first search (DFS)**, we start down a path and we won't stop until we get to the end. In other words, we traverse through one branch of the tree until we get to a leaf and only then will we work back up to the trunk of the tree.\n",
    "- In **breadth first search (BFS)**, we would search through the nodes from one level to the next, and traverse through all the children of a node before moving on to visit the grandchildren nodes\n",
    "\n",
    "<img src=\"img/dfs-bfs.png\" width=\"60%\" height=\"60%\">\n",
    "\n",
    "### Implementation\n",
    "\n",
    "Resources:\n",
    "\n",
    "- [Blog: How to Implement Breadth-First Search in Python](https://pythoninwonderland.wordpress.com/2017/03/18/how-to-implement-breadth-first-search-in-python/)\n",
    "- [Blog: Depth-First Search and Breadth-First Search in Python](http://eddmann.com/posts/depth-first-search-and-breadth-first-search-in-python/)\n",
    "\n",
    "\n",
    "From an implementation standpoint, the difference between the two is that the breadth first search uses a queue, while depth first search uses a stack.\n",
    "\n",
    "**Breadth First Search (BFS)**\n",
    "\n",
    "We will use a graph that has 7 nodes and 7 edges as our exmaple. The edges are undirected and unweighted. Distance between two nodes will be measured based on the number of edges separating two vertices.\n",
    "\n",
    "<img src=\"img/graph1.png\" width=\"50%\" height=\"50%\">\n",
    "\n",
    "When using BFS to traverse through all the nodes in the graph, the algorithm follows the following steps:\n",
    "\n",
    "- Check the starting node and add its neighbours to the queue.\n",
    "- Mark the starting node as explored.\n",
    "- Get the first node from the queue / remove it from the queue.\n",
    "- Check if node has already been visited.\n",
    "- If not, go through the neighbours of the node.\n",
    "- Add the neighbour nodes to the queue.\n",
    "- Mark the node as explored.\n",
    "- Loop through steps 3 to 7 until the queue is empty."
   ]
  },
  {
   "cell_type": "code",
   "execution_count": 1,
   "metadata": {
    "collapsed": true
   },
   "outputs": [],
   "source": [
    "# adjacency list can be efficiently represented as\n",
    "# a python dictionary, where the nodes are the keys\n",
    "# and the nodes that they are connected to are stored\n",
    "# as a list of values\n",
    "graph = {'A': ['B', 'C', 'E'],\n",
    "         'B': ['A','D', 'E'],\n",
    "         'C': ['A', 'F', 'G'],\n",
    "         'D': ['B'],\n",
    "         'E': ['A', 'B','D'],\n",
    "         'F': ['C'],\n",
    "         'G': ['C']}"
   ]
  },
  {
   "cell_type": "code",
   "execution_count": 2,
   "metadata": {
    "collapsed": true
   },
   "outputs": [],
   "source": [
    "from collections import deque\n",
    "\n",
    "\n",
    "def bfs(graph, start):\n",
    "    \"\"\"Graph traversal using Breadth First Searh\"\"\"\n",
    "    # keep track of all visited nodes\n",
    "    visited = set()\n",
    "\n",
    "    # keep track nodes to be checked\n",
    "    queue = deque(start)\n",
    "    while queue:\n",
    "        node = queue.popleft()\n",
    "        if node not in visited:\n",
    "            visited.add(node)\n",
    "            neighbors = graph[node]\n",
    "            for neighbor in neighbors:\n",
    "                queue.append(neighbor)\n",
    "      \n",
    "    return visited"
   ]
  },
  {
   "cell_type": "code",
   "execution_count": 3,
   "metadata": {},
   "outputs": [
    {
     "data": {
      "text/plain": [
       "{'A', 'B', 'C', 'D', 'E', 'F', 'G'}"
      ]
     },
     "execution_count": 3,
     "metadata": {},
     "output_type": "execute_result"
    }
   ],
   "source": [
    "start = 'A'\n",
    "bfs(graph, start)"
   ]
  },
  {
   "cell_type": "markdown",
   "metadata": {},
   "source": [
    "For depth first search, the list of actions to perform upon each visit to a node:\n",
    "\n",
    "- Mark the current vertex as being visited.\n",
    "- Explore each adjacent vertex that is not included in the visited set."
   ]
  },
  {
   "cell_type": "code",
   "execution_count": 4,
   "metadata": {
    "collapsed": true
   },
   "outputs": [],
   "source": [
    "def dfs(graph, start):\n",
    "    \"\"\"Graph traversal using Depth First Searh\"\"\"\n",
    "    visited = set()\n",
    "    stack = [start]\n",
    "    while stack:\n",
    "        node = stack.pop()\n",
    "        if node not in visited:\n",
    "            visited.add(node)\n",
    "            neighbors = graph[node]\n",
    "            for neighbor in neighbors:\n",
    "                stack.append(neighbor)\n",
    "    \n",
    "    return visited"
   ]
  },
  {
   "cell_type": "code",
   "execution_count": 5,
   "metadata": {},
   "outputs": [
    {
     "data": {
      "text/plain": [
       "{'A', 'B', 'C', 'D', 'E', 'F', 'G'}"
      ]
     },
     "execution_count": 5,
     "metadata": {},
     "output_type": "execute_result"
    }
   ],
   "source": [
    "start = 'A'\n",
    "dfs(graph, start)"
   ]
  },
  {
   "cell_type": "markdown",
   "metadata": {},
   "source": [
    "## Binary Seach Tree\n",
    "\n",
    "Resources:\n",
    "\n",
    "- [Blog: Leaf It Up To Binary Trees](https://medium.com/basecs/leaf-it-up-to-binary-trees-11001aaf746d)\n",
    "\n",
    "### Summary\n",
    "\n",
    "In order for a binary tree to be searchable, all of the nodes to the left of root node must be smaller than the value of the root node. On the other hand, all the value to the right of the root node must be bigger than the root node's value. This property also applies to every subtree.\n",
    "\n",
    "<img src=\"img/binary-search-tree.png\" width=\"70%\" height=\"70%\">"
   ]
  },
  {
   "cell_type": "markdown",
   "metadata": {},
   "source": [
    "## Heap\n",
    "\n",
    "- [Blog: ](https://medium.com/basecs/learning-to-love-heaps-cef2b273a238)\n",
    "\n",
    "### Summary\n",
    "\n",
    "The heap is a binary tree with two additional rules\n",
    "\n",
    "- The shape: An entire level of nodes must all have children added to them before any of the child node can have grandchildren nodes\n",
    "- The ordering: the parent nodes must be either greater or equal to the value of its child nodes or less or equal to the value of its child node. Both formats are both acceptable.\n",
    "\n",
    "<img src=\"img/heap-1.png\" width=\"50%\" height=\"50%\">\n",
    "\n",
    "We can classify heap into two categories based on the ordering, a minheap or a maxheap.\n",
    "\n",
    "<img src=\"img/heap-2.png\" width=\"50%\" height=\"50%\">\n",
    "\n",
    "From an implementation standpoint, heaps are often times represented as arrays. We start off by representing the root node of the heap as the first element of the array. Then if a parent node’s index is represented by index i in an array, then it’s left child will always be located at 2i + 1. Similarly, if a parent node’s index is represented by index i in an array, then it’s right child will always be located at 2i + 2.\n",
    "\n",
    "<img src=\"img/heap-3.png\" width=\"50%\" height=\"50%\">"
   ]
  }
 ],
 "metadata": {
  "kernelspec": {
   "display_name": "Python 3",
   "language": "python",
   "name": "python3"
  },
  "language_info": {
   "codemirror_mode": {
    "name": "ipython",
    "version": 3
   },
   "file_extension": ".py",
   "mimetype": "text/x-python",
   "name": "python",
   "nbconvert_exporter": "python",
   "pygments_lexer": "ipython3",
   "version": "3.5.2"
  },
  "toc": {
   "colors": {
    "hover_highlight": "#DAA520",
    "running_highlight": "#FF0000",
    "selected_highlight": "#FFD700"
   },
   "moveMenuLeft": true,
   "nav_menu": {
    "height": "48px",
    "width": "252px"
   },
   "navigate_menu": true,
   "number_sections": true,
   "sideBar": true,
   "threshold": 4,
   "toc_cell": false,
   "toc_section_display": "block",
   "toc_window_display": true
  }
 },
 "nbformat": 4,
 "nbformat_minor": 2
}
