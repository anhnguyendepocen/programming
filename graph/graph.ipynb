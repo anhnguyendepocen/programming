{
 "cells": [
  {
   "cell_type": "markdown",
   "metadata": {},
   "source": [
    "# Breadth First Search (BFS)\n",
    "\n",
    "https://www.hackerearth.com/zh/practice/algorithms/graphs/breadth-first-search/tutorial/\n",
    "\n",
    "When using BFS to traverse through all the nodes in the graph, the algorithm follows the following steps:\n",
    "\n",
    "- Check the starting node and add its neighbours to the queue.\n",
    "- Mark the starting node as explored.\n",
    "- Get the first node from the queue / remove it from the queue.\n",
    "- Check if node has already been visited.\n",
    "- If not, go through the neighbours of the node.\n",
    "- Add the neighbour nodes to the queue.\n",
    "- Mark the node as explored.\n",
    "- Loop through steps 3 to 7 until the queue is empty."
   ]
  },
  {
   "cell_type": "code",
   "execution_count": 1,
   "metadata": {
    "collapsed": true
   },
   "outputs": [],
   "source": [
    "# adjacency list can be efficiently represented as\n",
    "# a python dictionary, where the nodes are the keys\n",
    "# and the nodes that they are connected to are stored\n",
    "# as a list of values\n",
    "graph = {'A': ['B', 'C', 'E'],\n",
    "         'B': ['A','D', 'E'],\n",
    "         'C': ['A', 'F', 'G'],\n",
    "         'D': ['B'],\n",
    "         'E': ['A', 'B','D'],\n",
    "         'F': ['C'],\n",
    "         'G': ['C']}"
   ]
  },
  {
   "cell_type": "code",
   "execution_count": 7,
   "metadata": {},
   "outputs": [
    {
     "data": {
      "text/plain": [
       "{'A', 'B', 'C', 'D', 'E', 'F', 'G'}"
      ]
     },
     "execution_count": 7,
     "metadata": {},
     "output_type": "execute_result"
    }
   ],
   "source": [
    "from collections import deque\n",
    "\n",
    "\n",
    "def bfs_connected_components(graph, start):\n",
    "    \"\"\"Graph traversal using Breadth First Searh\"\"\"\n",
    "    # keep track of all visited nodes\n",
    "    explored = set()\n",
    "\n",
    "    # keep track nodes to be checked\n",
    "    queue = deque(start)\n",
    "    while queue:\n",
    "        node = queue.pop()\n",
    "        if node not in explored:\n",
    "            explored.add(node)\n",
    "            neighbors = graph[node]\n",
    "            for neighbor in neighbors:\n",
    "                queue.append(neighbor)\n",
    "      \n",
    "    return explored\n",
    "        \n",
    "\n",
    "start = 'A'\n",
    "bfs_connected_components(graph, start)"
   ]
  },
  {
   "cell_type": "markdown",
   "metadata": {},
   "source": [
    "# Reference\n",
    "\n",
    "- [Blog: How to Implement Breadth-First Search in Python](https://pythoninwonderland.wordpress.com/2017/03/18/how-to-implement-breadth-first-search-in-python/)"
   ]
  }
 ],
 "metadata": {
  "kernelspec": {
   "display_name": "Python 3",
   "language": "python",
   "name": "python3"
  },
  "language_info": {
   "codemirror_mode": {
    "name": "ipython",
    "version": 3
   },
   "file_extension": ".py",
   "mimetype": "text/x-python",
   "name": "python",
   "nbconvert_exporter": "python",
   "pygments_lexer": "ipython3",
   "version": "3.5.2"
  },
  "toc": {
   "colors": {
    "hover_highlight": "#DAA520",
    "running_highlight": "#FF0000",
    "selected_highlight": "#FFD700"
   },
   "moveMenuLeft": true,
   "nav_menu": {
    "height": "48px",
    "width": "252px"
   },
   "navigate_menu": true,
   "number_sections": true,
   "sideBar": true,
   "threshold": 4,
   "toc_cell": false,
   "toc_section_display": "block",
   "toc_window_display": true
  }
 },
 "nbformat": 4,
 "nbformat_minor": 2
}
