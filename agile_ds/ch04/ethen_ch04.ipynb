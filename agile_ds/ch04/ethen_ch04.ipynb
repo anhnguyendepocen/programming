{
 "cells": [
  {
   "cell_type": "code",
   "execution_count": 1,
   "metadata": {},
   "outputs": [
    {
     "name": "stdout",
     "output_type": "stream",
     "text": [
      "Ethen 2018-03-21 19:08:19 \n",
      "\n",
      "CPython 3.6.4\n",
      "IPython 6.2.1\n",
      "\n",
      "pyspark 2.2.1\n"
     ]
    }
   ],
   "source": [
    "# 1. magic to print version\n",
    "# 2. magic so that the notebook will reload external python modules\n",
    "%load_ext watermark\n",
    "%load_ext autoreload\n",
    "%autoreload 2\n",
    "\n",
    "%watermark -a 'Ethen' -d -t -v -p pyspark"
   ]
  },
  {
   "cell_type": "code",
   "execution_count": 2,
   "metadata": {},
   "outputs": [
    {
     "data": {
      "text/plain": [
       "Collection(Database(MongoClient(host=['localhost:27017'], document_class=dict, tz_aware=False, connect=True), 'agile_data_science'), 'on_time_performance')"
      ]
     },
     "execution_count": 2,
     "metadata": {},
     "output_type": "execute_result"
    }
   ],
   "source": [
    "# https://docs.mongodb.com/manual/tutorial/install-mongodb-on-os-x/\n",
    "# brew install mongodb\n",
    "# mkdir -p /Users/mingyuliu/db\n",
    "# mongod --dbpath /Users/mingyuliu/db\n",
    "\n",
    "import pymongo\n",
    "from subprocess import call, Popen\n",
    "\n",
    "# launch mongodb specifying a custom path to the db\n",
    "Popen('mongod --dbpath /Users/mingyuliu/db', shell = True)\n",
    "\n",
    "# create a new database\n",
    "# and a collection in the database\n",
    "conn = pymongo.MongoClient()\n",
    "db = conn['agile_data_science']\n",
    "collection = db['on_time_performance']\n",
    "collection"
   ]
  },
  {
   "cell_type": "code",
   "execution_count": 3,
   "metadata": {},
   "outputs": [],
   "source": [
    "from pyspark.sql import SparkSession\n",
    "from pyspark.conf import SparkConf\n",
    "\n",
    "# https://docs.mongodb.com/spark-connector/current/\n",
    "# https://stackoverflow.com/questions/48145215/unable-to-connect-to-mongo-from-pyspark\n",
    "# https://spark-packages.org/package/mongodb/mongo-spark\n",
    "# https://stackoverflow.com/questions/46814260/spark-mongodb-connector-scala-missing-database-name\n",
    "conf = SparkConf()\n",
    "conf.setAppName('myApp')\n",
    "conf.set('spark.jars.packages',\n",
    "         'org.mongodb.spark:mongo-spark-connector_2.10:2.2.1,org.elasticsearch:elasticsearch-hadoop:6.2.1')\n",
    "conf.set('spark.mongodb.input.uri', 'mongodb://127.0.0.1/agile_data_science.on_time_performance')\n",
    "conf.set('spark.mongodb.input.readPreference.name', 'secondaryPreferred')\n",
    "conf.set('spark.mongodb.output.uri', 'mongodb://127.0.0.1/agile_data_science.on_time_performance')\n",
    "\n",
    "spark = (SparkSession.\n",
    "    builder.\n",
    "    config(conf = conf).\n",
    "    getOrCreate())"
   ]
  },
  {
   "cell_type": "code",
   "execution_count": 4,
   "metadata": {},
   "outputs": [],
   "source": [
    "# use test to determine whether the hadoop directory exists or not\n",
    "# https://hadoop.apache.org/docs/r2.8.2/hadoop-project-dist/hadoop-common/FileSystemShell.html#test\n",
    "filepath = 'On_Time_On_Time_Performance_2015.csv.bz2'\n",
    "call('hdfs dfs -copyFromLocal /Users/mingyuliu/Agile_Data_Code_2/data/{} .'.format(filepath), shell = True)\n",
    "\n",
    "df_on_time = (spark.read.\n",
    "    format('csv').\n",
    "    options(header = 'true', treatEmptyValuesAsNulls = 'true').\n",
    "    load(filepath))\n",
    "df_on_time.registerTempTable(\"on_time_performance\")"
   ]
  },
  {
   "cell_type": "code",
   "execution_count": 5,
   "metadata": {},
   "outputs": [
    {
     "name": "stdout",
     "output_type": "stream",
     "text": [
      "+----+-------+-----+----------+---------+----------+-------+-------+---------+------+--------------------+-----------+----+--------------------+---------+-------+--------+---------------+-------+------+---------+--------+-------+--------+---------------+---------+--------+-----------------+-------+-------+--------+------------+------------+--------+-------------+-----------------+----------+----------+\n",
      "|Year|Quarter|Month|DayofMonth|DayOfWeek|FlightDate|Carrier|TailNum|FlightNum|Origin|      OriginCityName|OriginState|Dest|        DestCityName|DestState|DepTime|DepDelay|DepDelayMinutes|TaxiOut|TaxiIn|WheelsOff|WheelsOn|ArrTime|ArrDelay|ArrDelayMinutes|Cancelled|Diverted|ActualElapsedTime|AirTime|Flights|Distance|CarrierDelay|WeatherDelay|NASDelay|SecurityDelay|LateAircraftDelay|CRSDepTime|CRSArrTime|\n",
      "+----+-------+-----+----------+---------+----------+-------+-------+---------+------+--------------------+-----------+----+--------------------+---------+-------+--------+---------------+-------+------+---------+--------+-------+--------+---------------+---------+--------+-----------------+-------+-------+--------+------------+------------+--------+-------------+-----------------+----------+----------+\n",
      "|2015|      1|    1|         1|        4|2015-01-01|     AA| N001AA|     1519|   DFW|Dallas/Fort Worth...|         TX| MEM|         Memphis, TN|       TN|   1342|    -3.0|              0|   16.0|   7.0|     1358|    1457|   1504|    -6.0|            0.0|        0|       0|             82.0|   59.0|      1|   432.0|        null|        null|    null|         null|             null|      1345|      1510|\n",
      "|2015|      1|    1|         1|        4|2015-01-01|     AA| N001AA|     1519|   MEM|         Memphis, TN|         TN| DFW|Dallas/Fort Worth...|       TX|   1546|    -4.0|              0|    9.0|   9.0|     1555|    1712|   1721|    -9.0|            0.0|        0|       0|             95.0|   77.0|      1|   432.0|        null|        null|    null|         null|             null|      1550|      1730|\n",
      "|2015|      1|    1|         1|        4|2015-01-01|     AA| N002AA|     2349|   ORD|         Chicago, IL|         IL| DFW|Dallas/Fort Worth...|       TX|   1845|     0.0|              0|   31.0|  16.0|     1916|    2125|   2141|    26.0|           26.0|        0|       0|            176.0|  129.0|      1|   802.0|         0.0|         0.0|    26.0|          0.0|              0.0|      1845|      2115|\n",
      "|2015|      1|    1|         1|        4|2015-01-01|     AA| N003AA|     1298|   DFW|Dallas/Fort Worth...|         TX| ATL|         Atlanta, GA|       GA|   2000|   100.0|            100|   33.0|   6.0|     2033|    2306|   2312|   112.0|          112.0|        0|       0|            132.0|   93.0|      1|   731.0|        19.0|         0.0|    12.0|          0.0|             81.0|      1820|      2120|\n",
      "|2015|      1|    1|         1|        4|2015-01-01|     AA| N003AA|     1422|   DFW|Dallas/Fort Worth...|         TX| HDN|          Hayden, CO|       CO|   0918|    78.0|             78|   30.0|   4.0|     0948|    1039|   1043|    78.0|           78.0|        0|       0|            145.0|  111.0|      1|   769.0|        78.0|         0.0|     0.0|          0.0|              0.0|      0800|      0925|\n",
      "|2015|      1|    1|         1|        4|2015-01-01|     AA| N003AA|     1422|   HDN|          Hayden, CO|         CO| DFW|Dallas/Fort Worth...|       TX|   1537|   332.0|            332|   16.0|  15.0|     1553|    1841|   1856|   336.0|          336.0|        0|       0|            139.0|  108.0|      1|   769.0|       254.0|         0.0|     4.0|          0.0|             78.0|      1005|      1320|\n",
      "+----+-------+-----+----------+---------+----------+-------+-------+---------+------+--------------------+-----------+----+--------------------+---------+-------+--------+---------------+-------+------+---------+--------+-------+--------+---------------+---------+--------+-----------------+-------+-------+--------+------------+------------+--------+-------------+-----------------+----------+----------+\n",
      "only showing top 6 rows\n",
      "\n"
     ]
    }
   ],
   "source": [
    "# data dictionary\n",
    "# https://www.transtats.bts.gov/Fields.asp?Table_ID=236\n",
    "\n",
    "# when parsing types, be aware that mongodb does not recognize float type\n",
    "trimmed_cast_performance = spark.sql(\"\"\"\n",
    "    SELECT\n",
    "      Year, Quarter, Month, DayofMonth, DayOfWeek, FlightDate,\n",
    "      Carrier, TailNum, FlightNum,\n",
    "      Origin, OriginCityName, OriginState,\n",
    "      Dest, DestCityName, DestState,\n",
    "      DepTime, cast(DepDelay as double), cast(DepDelayMinutes as int),\n",
    "      cast(TaxiOut as double), cast(TaxiIn as double),\n",
    "      WheelsOff, WheelsOn,\n",
    "      ArrTime, cast(ArrDelay as double), cast(ArrDelayMinutes as double),\n",
    "      cast(Cancelled as int), cast(Diverted as int),\n",
    "      cast(ActualElapsedTime as double), cast(AirTime as double),\n",
    "      cast(Flights as int), cast(Distance as double),\n",
    "      cast(CarrierDelay as double), cast(WeatherDelay as double), \n",
    "      cast(NASDelay as double),\n",
    "      cast(SecurityDelay as double), \n",
    "      cast(LateAircraftDelay as double),\n",
    "      CRSDepTime, CRSArrTime\n",
    "    FROM\n",
    "      on_time_performance\n",
    "\"\"\")\n",
    "\n",
    "# Replace on_time_performance table# with our new, trimmed table and show its contents\n",
    "trimmed_cast_performance.registerTempTable(\"on_time_performance\")\n",
    "trimmed_cast_performance.limit(6).toPandas()"
   ]
  },
  {
   "cell_type": "code",
   "execution_count": 6,
   "metadata": {},
   "outputs": [],
   "source": [
    "trimmed_cast_performance.write.parquet('on_time_performance.parquet')"
   ]
  },
  {
   "cell_type": "code",
   "execution_count": 7,
   "metadata": {},
   "outputs": [],
   "source": [
    "df_on_time = spark.read.parquet('on_time_performance.parquet')\n",
    "\n",
    "# save to mongodb directly from spark\n",
    "# there's also mode 'append'\n",
    "(df_on_time.write.\n",
    " format('com.mongodb.spark.sql.DefaultSource').\n",
    " option('spark.mongodb.output.uri', 'mongodb://127.0.0.1/agile_data_science.on_time_performance').\n",
    " mode('overwrite').save())"
   ]
  },
  {
   "cell_type": "code",
   "execution_count": 8,
   "metadata": {},
   "outputs": [
    {
     "data": {
      "text/plain": [
       "{'ActualElapsedTime': 82.0,\n",
       " 'AirTime': 59.0,\n",
       " 'ArrDelay': -6.0,\n",
       " 'ArrDelayMinutes': 0.0,\n",
       " 'ArrTime': '1504',\n",
       " 'CRSArrTime': '1510',\n",
       " 'CRSDepTime': '1345',\n",
       " 'Cancelled': 0,\n",
       " 'Carrier': 'AA',\n",
       " 'DayOfWeek': '4',\n",
       " 'DayofMonth': '1',\n",
       " 'DepDelay': -3.0,\n",
       " 'DepDelayMinutes': 0,\n",
       " 'DepTime': '1342',\n",
       " 'Dest': 'MEM',\n",
       " 'DestCityName': 'Memphis, TN',\n",
       " 'DestState': 'TN',\n",
       " 'Distance': 432.0,\n",
       " 'Diverted': 0,\n",
       " 'FlightDate': '2015-01-01',\n",
       " 'FlightNum': '1519',\n",
       " 'Flights': 1,\n",
       " 'Month': '1',\n",
       " 'Origin': 'DFW',\n",
       " 'OriginCityName': 'Dallas/Fort Worth, TX',\n",
       " 'OriginState': 'TX',\n",
       " 'Quarter': '1',\n",
       " 'TailNum': 'N001AA',\n",
       " 'TaxiIn': 7.0,\n",
       " 'TaxiOut': 16.0,\n",
       " 'WheelsOff': '1358',\n",
       " 'WheelsOn': '1457',\n",
       " 'Year': '2015',\n",
       " '_id': ObjectId('5ab31059050f547b4a90ed22')}"
      ]
     },
     "execution_count": 8,
     "metadata": {},
     "output_type": "execute_result"
    }
   ],
   "source": [
    "# sample query\n",
    "temp = collection.find_one({'FlightDate': '2015-01-01'})\n",
    "temp"
   ]
  },
  {
   "cell_type": "code",
   "execution_count": 9,
   "metadata": {},
   "outputs": [
    {
     "data": {
      "text/plain": [
       "'Origin_1_Dest_1_FlightDate_1'"
      ]
     },
     "execution_count": 9,
     "metadata": {},
     "output_type": "execute_result"
    }
   ],
   "source": [
    "# index for faster retrieval\n",
    "collection.create_index([\n",
    "    ('Origin', pymongo.ASCENDING),\n",
    "    ('Dest', pymongo.ASCENDING),\n",
    "    ('FlightDate', pymongo.ASCENDING)\n",
    "], background = True)"
   ]
  },
  {
   "cell_type": "markdown",
   "metadata": {},
   "source": [
    "Similar way of doing it through command line\n",
    "\n",
    "```bash\n",
    "\n",
    "# launch mongodb repl\n",
    "mongo agile_data_science\n",
    "\n",
    "# these queries are all in mongodb repl\n",
    "db.on_time_performance.findOne()\n",
    "\n",
    "db.on_time_performance.findOne(\n",
    "  {Carrier: 'DL', FlightDate: '2015-01-01', FlightNum: '478'})\n",
    "\n",
    "# https://docs.mongodb.com/manual/reference/method/db.collection.createIndex/#ensureindex-options\n",
    "# the 1 specifies ascending order, -1 specifies descending order, this is important\n",
    "# when performing sorting\n",
    "db.on_time_performance.createIndex({Carrier: 1, FlightDate: 1, FlightNum: 1})\n",
    "```"
   ]
  },
  {
   "cell_type": "code",
   "execution_count": 10,
   "metadata": {},
   "outputs": [
    {
     "data": {
      "text/plain": [
       "<subprocess.Popen at 0x103e4cb00>"
      ]
     },
     "execution_count": 10,
     "metadata": {},
     "output_type": "execute_result"
    }
   ],
   "source": [
    "import time\n",
    "\n",
    "# https://www.elastic.co/guide/en/elasticsearch/reference/current/_installation.html\n",
    "# elasticsearch running at http://localhost:9200\n",
    "# kibana running at http://localhost:5601\n",
    "Popen('/Users/mingyuliu/elasticsearch-6.2.2/bin/elasticsearch', shell = True)\n",
    "\n",
    "# wait for a while for elasticsearch to launch before attempting to connect\n",
    "time.sleep(5)\n",
    "Popen('/Users/mingyuliu/kibana-6.2.2-darwin-x86_64/bin/kibana', shell = True)"
   ]
  },
  {
   "cell_type": "code",
   "execution_count": 11,
   "metadata": {},
   "outputs": [
    {
     "data": {
      "text/plain": [
       "7"
      ]
     },
     "execution_count": 11,
     "metadata": {},
     "output_type": "execute_result"
    }
   ],
   "source": [
    "call('bash elastic_create.sh', shell = True)"
   ]
  },
  {
   "cell_type": "code",
   "execution_count": 13,
   "metadata": {},
   "outputs": [],
   "source": [
    "# save the DataFrame to Elasticsearch\n",
    "time.sleep(5)\n",
    "(df_on_time.write.\n",
    " format('org.elasticsearch.spark.sql').\n",
    " option('es.resource', 'agile_data_science/on_time_performance').\n",
    " option('es.batch.size.entries', '100').\n",
    " mode('overwrite').\n",
    " save())"
   ]
  },
  {
   "cell_type": "code",
   "execution_count": 14,
   "metadata": {},
   "outputs": [
    {
     "name": "stdout",
     "output_type": "stream",
     "text": [
      "available keys: dict_keys(['total', 'max_score', 'hits'])\n",
      "total number of records 28\n"
     ]
    },
    {
     "data": {
      "text/plain": [
       "[{'_id': 'xRPSS2IB28xBEfc856l3',\n",
       "  '_index': 'agile_data_science',\n",
       "  '_score': 7.5014405,\n",
       "  '_source': {'ActualElapsedTime': 251.0,\n",
       "   'AirTime': 234.0,\n",
       "   'ArrDelay': 2.0,\n",
       "   'ArrDelayMinutes': 2.0,\n",
       "   'ArrTime': '0126',\n",
       "   'CRSArrTime': '0124',\n",
       "   'CRSDepTime': '2245',\n",
       "   'Cancelled': 0,\n",
       "   'Carrier': 'UA',\n",
       "   'DayOfWeek': '5',\n",
       "   'DayofMonth': '31',\n",
       "   'DepDelay': 30.0,\n",
       "   'DepDelayMinutes': 30,\n",
       "   'DepTime': '2315',\n",
       "   'Dest': 'SFO',\n",
       "   'DestCityName': 'San Francisco, CA',\n",
       "   'DestState': 'CA',\n",
       "   'Distance': 1846.0,\n",
       "   'Diverted': 0,\n",
       "   'FlightDate': '2015-07-31',\n",
       "   'FlightNum': '1778',\n",
       "   'Flights': 1,\n",
       "   'Month': '7',\n",
       "   'Origin': 'ORD',\n",
       "   'OriginCityName': 'Chicago, IL',\n",
       "   'OriginState': 'IL',\n",
       "   'Quarter': '3',\n",
       "   'TailNum': 'N37462',\n",
       "   'TaxiIn': 7.0,\n",
       "   'TaxiOut': 10.0,\n",
       "   'WheelsOff': '2325',\n",
       "   'WheelsOn': '0119',\n",
       "   'Year': '2015'},\n",
       "  '_type': 'on_time_performance'},\n",
       " {'_id': 'rBPSS2IB28xBEfc856-k',\n",
       "  '_index': 'agile_data_science',\n",
       "  '_score': 7.5014405,\n",
       "  '_source': {'ActualElapsedTime': 264.0,\n",
       "   'AirTime': 237.0,\n",
       "   'ArrDelay': 99.0,\n",
       "   'ArrDelayMinutes': 99.0,\n",
       "   'ArrTime': '1839',\n",
       "   'CRSArrTime': '1700',\n",
       "   'CRSDepTime': '1417',\n",
       "   'Cancelled': 0,\n",
       "   'Carrier': 'UA',\n",
       "   'CarrierDelay': 12.0,\n",
       "   'DayOfWeek': '5',\n",
       "   'DayofMonth': '31',\n",
       "   'DepDelay': 118.0,\n",
       "   'DepDelayMinutes': 118,\n",
       "   'DepTime': '1615',\n",
       "   'Dest': 'SFO',\n",
       "   'DestCityName': 'San Francisco, CA',\n",
       "   'DestState': 'CA',\n",
       "   'Distance': 1846.0,\n",
       "   'Diverted': 0,\n",
       "   'FlightDate': '2015-07-31',\n",
       "   'FlightNum': '222',\n",
       "   'Flights': 1,\n",
       "   'LateAircraftDelay': 87.0,\n",
       "   'Month': '7',\n",
       "   'NASDelay': 0.0,\n",
       "   'Origin': 'ORD',\n",
       "   'OriginCityName': 'Chicago, IL',\n",
       "   'OriginState': 'IL',\n",
       "   'Quarter': '3',\n",
       "   'SecurityDelay': 0.0,\n",
       "   'TailNum': 'N440UA',\n",
       "   'TaxiIn': 3.0,\n",
       "   'TaxiOut': 24.0,\n",
       "   'WeatherDelay': 0.0,\n",
       "   'WheelsOff': '1639',\n",
       "   'WheelsOn': '1836',\n",
       "   'Year': '2015'},\n",
       "  '_type': 'on_time_performance'}]"
      ]
     },
     "execution_count": 14,
     "metadata": {},
     "output_type": "execute_result"
    }
   ],
   "source": [
    "# introducing the query language\n",
    "# https://www.elastic.co/guide/en/elasticsearch/reference/current/_introducing_the_query_language.html\n",
    "# https://elasticsearch-py.readthedocs.io/en/master/\n",
    "from elasticsearch import Elasticsearch\n",
    "\n",
    "\n",
    "elastic_url = \"agile_data_science\"\n",
    "elastic = Elasticsearch()\n",
    "\n",
    "dest = 'SFO'\n",
    "origin = 'ORD'\n",
    "flight_date = '2015-07-31'\n",
    "must_query = [\n",
    "    {'match': {'Origin': origin}},\n",
    "    {'match': {'Dest': dest}},\n",
    "    {'match': {'FlightDate': flight_date}}]\n",
    "query = {\n",
    "    'query': {\n",
    "        'bool': {\n",
    "            'must': must_query\n",
    "        }\n",
    "    }\n",
    "}\n",
    "result = elastic.search(index = elastic_url, body = query)\n",
    "\n",
    "# after processing the query, most of the stuff we need are\n",
    "# under the hits key\n",
    "print('available keys:', result['hits'].keys())\n",
    "print('total number of records', result['hits']['total'])\n",
    "\n",
    "# hits returns the list of record,\n",
    "# where the actual content is under\n",
    "# the _source key\n",
    "hits = result['hits']['hits'][:2]\n",
    "hits"
   ]
  },
  {
   "cell_type": "markdown",
   "metadata": {},
   "source": [
    "```bash\n",
    "# or we can use curl to query the data\n",
    "curl 'localhost:9200/agile_data_science/on_time_performance/_search?q=Origin:ATL&pretty'\n",
    "\n",
    "```"
   ]
  }
 ],
 "metadata": {
  "kernelspec": {
   "display_name": "Python 3",
   "language": "python",
   "name": "python3"
  },
  "language_info": {
   "codemirror_mode": {
    "name": "ipython",
    "version": 3
   },
   "file_extension": ".py",
   "mimetype": "text/x-python",
   "name": "python",
   "nbconvert_exporter": "python",
   "pygments_lexer": "ipython3",
   "version": "3.6.4"
  },
  "toc": {
   "nav_menu": {},
   "number_sections": true,
   "sideBar": true,
   "skip_h1_title": false,
   "title_cell": "Table of Contents",
   "title_sidebar": "Contents",
   "toc_cell": false,
   "toc_position": {
    "height": "calc(100% - 180px)",
    "left": "10px",
    "top": "150px",
    "width": "219px"
   },
   "toc_section_display": true,
   "toc_window_display": true
  },
  "varInspector": {
   "cols": {
    "lenName": 16,
    "lenType": 16,
    "lenVar": 40
   },
   "kernels_config": {
    "python": {
     "delete_cmd_postfix": "",
     "delete_cmd_prefix": "del ",
     "library": "var_list.py",
     "varRefreshCmd": "print(var_dic_list())"
    },
    "r": {
     "delete_cmd_postfix": ") ",
     "delete_cmd_prefix": "rm(",
     "library": "var_list.r",
     "varRefreshCmd": "cat(var_dic_list()) "
    }
   },
   "types_to_exclude": [
    "module",
    "function",
    "builtin_function_or_method",
    "instance",
    "_Feature"
   ],
   "window_display": false
  }
 },
 "nbformat": 4,
 "nbformat_minor": 2
}
