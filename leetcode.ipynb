{
 "cells": [
  {
   "cell_type": "markdown",
   "metadata": {},
   "source": [
    "# Leetcode\n",
    "\n",
    "\n",
    "## 001 two sums\n",
    "\n",
    "\n",
    "Given an array of integers, return indices of the two numbers such that they add up to a specific target.\n",
    "\n",
    "You may assume that each input would have exactly one solution, and you may not use the same element twice.\n",
    "\n",
    "Example:\n",
    "\n",
    "Given nums = [2, 7, 11, 15], target = 9,\n",
    "\n",
    "Because nums[0] + nums[1] = 2 + 7 = 9, return [0, 1]."
   ]
  },
  {
   "cell_type": "code",
   "execution_count": 1,
   "metadata": {
    "collapsed": true
   },
   "outputs": [],
   "source": [
    "def solution(nums, target):\n",
    "    d = {}\n",
    "    for i, num in enumerate(nums):\n",
    "        if target - num in d:\n",
    "            result = [d[target - num], i]\n",
    "            return result\n",
    "\n",
    "        d[num] = i"
   ]
  },
  {
   "cell_type": "code",
   "execution_count": 2,
   "metadata": {},
   "outputs": [
    {
     "data": {
      "text/plain": [
       "[0, 1]"
      ]
     },
     "execution_count": 2,
     "metadata": {},
     "output_type": "execute_result"
    }
   ],
   "source": [
    "target = 9\n",
    "nums = [2, 7, 11, 15]\n",
    "solution(nums, target)"
   ]
  },
  {
   "cell_type": "markdown",
   "metadata": {},
   "source": [
    "## 002\n"
   ]
  },
  {
   "cell_type": "markdown",
   "metadata": {},
   "source": [
    "## 003 longest-substring-without-repeating-characters\n",
    "\n",
    "Given a string, find the length of the longest substring without repeating characters.\n",
    "\n",
    "Examples:\n",
    "\n",
    "Given \"abcabcbb\", the answer is \"abc\", which the length is 3.\n",
    "\n",
    "Given \"bbbbb\", the answer is \"b\", with the length of 1.\n",
    "\n",
    "Given \"pwwkew\", the answer is \"wke\", with the length of 3. Note that the answer must be a substring, \"pwke\" is a subsequence and not a substring.\n",
    "\n",
    "https://discuss.leetcode.com/topic/11632/a-python-solution-85ms-o-n"
   ]
  },
  {
   "cell_type": "code",
   "execution_count": 3,
   "metadata": {
    "collapsed": true
   },
   "outputs": [],
   "source": [
    "def solution(string):\n",
    "    used = {}\n",
    "    start = 0\n",
    "    answer = 0\n",
    "    for i, c in enumerate(string):\n",
    "        # hit repeated word, refresh the start position\n",
    "        if c in used:\n",
    "            start = max(start, used[c] + 1)\n",
    "        \n",
    "        # compare the refreshed position word with the\n",
    "        # old word to see which one is longer\n",
    "        answer = max(answer, i - start + 1)\n",
    "        used[c] = i\n",
    "\n",
    "    return answer"
   ]
  },
  {
   "cell_type": "code",
   "execution_count": 4,
   "metadata": {},
   "outputs": [
    {
     "data": {
      "text/plain": [
       "5"
      ]
     },
     "execution_count": 4,
     "metadata": {},
     "output_type": "execute_result"
    }
   ],
   "source": [
    "string = 'abcabcbb'\n",
    "string = 'pwwkew'\n",
    "string = 'bbbbb'\n",
    "string = 'ethten'\n",
    "string = \"tmmzuxt\"\n",
    "solution(string)"
   ]
  },
  {
   "cell_type": "markdown",
   "metadata": {
    "collapsed": true
   },
   "source": [
    "## 004\n",
    "\n",
    "There are two sorted arrays nums1 and nums2 of size m and n respectively.\n",
    "\n",
    "Find the median of the two sorted arrays. The overall run time complexity should be O(log (m+n)).\n",
    "\n",
    "Example 1:\n",
    "\n",
    "nums1 = [1, 3] nums2 = [2]\n",
    "\n",
    "The median is 2.0\n",
    "\n",
    "Example 2:\n",
    "\n",
    "nums1 = [1, 2] nums2 = [3, 4]\n",
    "\n",
    "The median is (2 + 3)/2 = 2.5"
   ]
  },
  {
   "cell_type": "code",
   "execution_count": 5,
   "metadata": {},
   "outputs": [
    {
     "data": {
      "text/plain": [
       "2"
      ]
     },
     "execution_count": 5,
     "metadata": {},
     "output_type": "execute_result"
    }
   ],
   "source": [
    "nums1 = [1, 2, 3]\n",
    "nums2 = [3, 4]\n",
    "len1 = len(nums1)\n",
    "len2 = len(nums2)\n",
    "len2"
   ]
  },
  {
   "cell_type": "markdown",
   "metadata": {},
   "source": [
    "## 215 kth-largest-element-in-an-array\n",
    "\n",
    "Find the kth largest element in an unsorted array. Note that it is the kth largest element in the sorted order, not the kth distinct element.\n",
    "\n",
    "For example, Given [3,2,1,5,6,4] and k = 2, return 5.\n",
    "\n",
    "Note: You may assume k is always valid, 1 ≤ k ≤ array's length.\n",
    "\n",
    "- https://discuss.leetcode.com/topic/14597/solution-explained\n",
    "- https://discuss.leetcode.com/topic/15256/4-c-solutions-using-partition-max-heap-priority_queue-and-multiset-respectively"
   ]
  },
  {
   "cell_type": "code",
   "execution_count": 6,
   "metadata": {},
   "outputs": [
    {
     "data": {
      "text/plain": [
       "5"
      ]
     },
     "execution_count": 6,
     "metadata": {},
     "output_type": "execute_result"
    }
   ],
   "source": [
    "def solution1(nums, k):\n",
    "    \"\"\"\n",
    "    The simplest approach is to sort the entire\n",
    "    input array and then access the element by it's index\n",
    "    \"\"\"\n",
    "    length = len(nums)\n",
    "    return sorted(nums)[length - k]\n",
    "\n",
    "\n",
    "k = 2\n",
    "nums = [3, 2, 1, 5, 6, 4]\n",
    "solution1(nums, k)"
   ]
  },
  {
   "cell_type": "markdown",
   "metadata": {},
   "source": [
    "The smarter approach for this problem is to use the selection algorithm (based on the partion method - the same one as used in quicksort).\n",
    "\n",
    "In [quicksort](http://interactivepython.org/runestone/static/pythonds/SortSearch/TheQuickSort.html), in each iteration, we need to select a pivot and then partition the array into three parts:\n",
    "\n",
    "- Elements smaller than the pivot;\n",
    "- Elements equal to the pivot;\n",
    "- Elements larger than the pivot.\n",
    "\n",
    "Now, let's do an example with the array `[3, 2, 1, 5, 4, 6]` in the problem statement. Let's assume in each time we select the leftmost element to be the pivot, in this case, `3`. We then use it to partition the array into the above 3 parts, which results in `[1, 2, 3, 5, 4, 6]`. Now `3` is in the third position and we know that it is the third smallest element. Now, do you recognize that this subroutine can be used to solve this problem?\n",
    "\n",
    "In fact, the above partition puts elements smaller than the pivot before the pivot and thus the pivot will then be the k-th smallest element if it is at the k-1-th position. Since the problem requires us to find the k-th largest element, we can simply modify the partition to put elements larger than the pivot before the pivot. That is, after partition, the array becomes `[5, 6, 4, 3, 1, 2]`. Now we know that 3 is the 4-th largest element. If we are asked to find the 2-th largest element, then we know it is left to 3. If we are asked to find the 5-th largest element, then we know it is right to 3 (changing whether the numbers is on the left side of the pivot or right side is optional).\n",
    "\n",
    "Psuedocode:\n",
    "\n",
    "- Initialize left to be 0 and right to be (size of array - 1);\n",
    "- Partition the array, if the pivot is at the k-1-th position, return it (we are done);\n",
    "- If the pivot is right to the k-1-th position, update right to be the left neighbor of the pivot;\n",
    "- Else update left to be the right neighbor of the pivot.\n",
    "- Repeat 2."
   ]
  },
  {
   "cell_type": "code",
   "execution_count": 7,
   "metadata": {},
   "outputs": [],
   "source": [
    "def _partition(nums, left, right):\n",
    "    \"\"\"one iteration of quicksort\"\"\"\n",
    "\n",
    "    # store the pivot point's position to\n",
    "    # perform the final swapping at the end\n",
    "    initial = left\n",
    "    pivot = nums[left]\n",
    "    left += 1\n",
    "    while left <= right:\n",
    "        if nums[left] < pivot and nums[right] > pivot:\n",
    "            nums[right], nums[left] = nums[left], nums[right]\n",
    "\n",
    "        if nums[left] >= pivot:\n",
    "            left += 1\n",
    "\n",
    "        if nums[right] <= pivot:\n",
    "            right -= 1  \n",
    "\n",
    "    nums[right], nums[initial] = nums[initial], nums[right]\n",
    "    return right\n",
    "\n",
    "\n",
    "def solution(nums, k):\n",
    "    \"\"\"\n",
    "    The smarter approach for this problem is to use the \n",
    "    selection algorithm (based on the partion method - the\n",
    "    same one as used in quicksort).\n",
    "    \"\"\"\n",
    "    left = 0\n",
    "    right = len(nums) - 1\n",
    "    while True:\n",
    "        pos = _partition(nums, left, right)\n",
    "        # kth largest element should be in the k-1-th position\n",
    "        if pos == k - 1:\n",
    "            return nums[pos]\n",
    "        elif pos > k - 1:\n",
    "            right = pos - 1\n",
    "        else:\n",
    "            left = pos + 1"
   ]
  },
  {
   "cell_type": "code",
   "execution_count": 9,
   "metadata": {},
   "outputs": [
    {
     "data": {
      "text/plain": [
       "5"
      ]
     },
     "execution_count": 9,
     "metadata": {},
     "output_type": "execute_result"
    }
   ],
   "source": [
    "k = 2\n",
    "nums = [3, 2, 1, 5, 6, 4]\n",
    "solution(nums, k)"
   ]
  },
  {
   "cell_type": "markdown",
   "metadata": {},
   "source": [
    "# Reference\n",
    "\n",
    "- [Github: Leetcode Solutions in Python](https://github.com/csujedihy/lc-all-solutions)"
   ]
  }
 ],
 "metadata": {
  "kernelspec": {
   "display_name": "Python 3",
   "language": "python",
   "name": "python3"
  },
  "language_info": {
   "codemirror_mode": {
    "name": "ipython",
    "version": 3
   },
   "file_extension": ".py",
   "mimetype": "text/x-python",
   "name": "python",
   "nbconvert_exporter": "python",
   "pygments_lexer": "ipython3",
   "version": "3.5.2"
  },
  "toc": {
   "colors": {
    "hover_highlight": "#DAA520",
    "running_highlight": "#FF0000",
    "selected_highlight": "#FFD700"
   },
   "moveMenuLeft": true,
   "nav_menu": {
    "height": "12px",
    "width": "252px"
   },
   "navigate_menu": true,
   "number_sections": true,
   "sideBar": true,
   "threshold": 4,
   "toc_cell": false,
   "toc_section_display": "block",
   "toc_window_display": true
  }
 },
 "nbformat": 4,
 "nbformat_minor": 2
}
