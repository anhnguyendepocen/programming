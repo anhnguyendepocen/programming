{
 "cells": [
  {
   "cell_type": "markdown",
   "metadata": {},
   "source": [
    "# Leetcode\n",
    "\n",
    "\n",
    "## 001 Two Sums\n",
    "\n",
    "\n",
    "Given an array of integers, return indices of the two numbers such that they add up to a specific target.\n",
    "\n",
    "You may assume that each input would have exactly one solution, and you may not use the same element twice.\n",
    "\n",
    "Example:\n",
    "\n",
    "Given nums = [2, 7, 11, 15], target = 9,\n",
    "\n",
    "Because nums[0] + nums[1] = 2 + 7 = 9, return [0, 1]."
   ]
  },
  {
   "cell_type": "code",
   "execution_count": 1,
   "metadata": {},
   "outputs": [],
   "source": [
    "def solution(nums, target):\n",
    "    d = {}\n",
    "    for i, num in enumerate(nums):\n",
    "        if target - num in d:\n",
    "            result = [d[target - num], i]\n",
    "            return result\n",
    "\n",
    "        d[num] = i"
   ]
  },
  {
   "cell_type": "code",
   "execution_count": 2,
   "metadata": {},
   "outputs": [
    {
     "data": {
      "text/plain": [
       "[0, 1]"
      ]
     },
     "execution_count": 2,
     "metadata": {},
     "output_type": "execute_result"
    }
   ],
   "source": [
    "target = 9\n",
    "nums = [2, 7, 11, 15]\n",
    "solution(nums, target)"
   ]
  },
  {
   "cell_type": "markdown",
   "metadata": {},
   "source": [
    "## 003 Longest Substring Without Repeating Characters\n",
    "\n",
    "Given a string, find the length of the longest substring without repeating characters.\n",
    "\n",
    "Examples:\n",
    "\n",
    "Given \"abcabcbb\", the answer is \"abc\", which the length is 3.\n",
    "\n",
    "Given \"bbbbb\", the answer is \"b\", with the length of 1.\n",
    "\n",
    "Given \"pwwkew\", the answer is \"wke\", with the length of 3. Note that the answer must be a substring, \"pwke\" is a subsequence and not a substring.\n",
    "\n",
    "https://discuss.leetcode.com/topic/11632/a-python-solution-85ms-o-n"
   ]
  },
  {
   "cell_type": "code",
   "execution_count": 3,
   "metadata": {},
   "outputs": [],
   "source": [
    "def solution(string):\n",
    "    used = {}\n",
    "    start = 0\n",
    "    answer = 0\n",
    "    for i, c in enumerate(string):\n",
    "        # hit repeated word, refresh the start position\n",
    "        if c in used:\n",
    "            start = max(start, used[c] + 1)\n",
    "        \n",
    "        # compare the refreshed position word with the\n",
    "        # old word to see which one is longer\n",
    "        answer = max(answer, i - start + 1)\n",
    "        used[c] = i\n",
    "\n",
    "    return answer"
   ]
  },
  {
   "cell_type": "code",
   "execution_count": 4,
   "metadata": {},
   "outputs": [
    {
     "data": {
      "text/plain": [
       "5"
      ]
     },
     "execution_count": 4,
     "metadata": {},
     "output_type": "execute_result"
    }
   ],
   "source": [
    "string = 'abcabcbb'\n",
    "string = 'pwwkew'\n",
    "string = 'bbbbb'\n",
    "string = 'ethten'\n",
    "string = \"tmmzuxt\"\n",
    "solution(string)"
   ]
  },
  {
   "cell_type": "markdown",
   "metadata": {},
   "source": [
    "## 007 Reverse Digits of an Integer.\n",
    "\n",
    "Example1: x = 123, return 321 Example2: x = -123, return -321\n",
    "\n",
    "Here are some good questions to ask before coding. Bonus points for you if you have already thought through this!\n",
    "\n",
    "- If the integer's last digit is 0, what should the output be? ie, cases such as 10, 100.\n",
    "- Did you notice that the reversed integer might overflow? Assume the input is a 32-bit integer, then the reverse of 1000000003 overflows. How should you handle such cases? For the purpose of this problem, assume that your function returns 0 when the reversed integer overflows.\n",
    "\n",
    "Note: The input is assumed to be a 32-bit signed integer. Your function should return 0 when the reversed integer overflows.\n",
    "\n",
    "https://discuss.leetcode.com/topic/6104/my-accepted-15-lines-of-code-for-java/2"
   ]
  },
  {
   "cell_type": "code",
   "execution_count": 5,
   "metadata": {},
   "outputs": [],
   "source": [
    "def solution(num):\n",
    "    int_max = 2 ** 31 - 1\n",
    "    sign = 1 if num >= 0 else -1\n",
    "    num = abs(num)\n",
    "    result = 0\n",
    "\n",
    "    while num:\n",
    "        # multiply by 10 to advance the digit\n",
    "        new_result = result * 10 + num % 10\n",
    "        if new_result >= int_max:\n",
    "            return 0\n",
    "\n",
    "        num //= 10\n",
    "        result = new_result\n",
    "\n",
    "    result *= sign\n",
    "    return result"
   ]
  },
  {
   "cell_type": "code",
   "execution_count": 6,
   "metadata": {},
   "outputs": [
    {
     "data": {
      "text/plain": [
       "4321"
      ]
     },
     "execution_count": 6,
     "metadata": {},
     "output_type": "execute_result"
    }
   ],
   "source": [
    "num = 1234\n",
    "solution(num)"
   ]
  },
  {
   "cell_type": "markdown",
   "metadata": {},
   "source": [
    "## 026 Remove Duplicates from Sorted Array\n",
    "\n",
    "Given a sorted array, remove the duplicates in place such that each element appear only once and return the new length.\n",
    "\n",
    "Do not allocate extra space for another array, you must do this in place with constant memory.\n",
    "\n",
    "For example, Given input array nums = [1,1,2],\n",
    "\n",
    "Your function should return length = 2, with the first two elements of nums being 1 and 2 respectively. It doesn't matter what you leave beyond the new length.\n",
    "\n",
    "https://discuss.leetcode.com/topic/8907/share-my-clean-c-code"
   ]
  },
  {
   "cell_type": "code",
   "execution_count": 7,
   "metadata": {},
   "outputs": [],
   "source": [
    "def solution(nums):\n",
    "    n_duplicates = 0\n",
    "    for j in range(1, len(nums)):\n",
    "        if nums[j] == nums[j - 1]:\n",
    "            n_duplicates += 1\n",
    "        else:\n",
    "            # jump to the place where the duplicate\n",
    "            # occured, since it doesn't matter what we\n",
    "            # leave beyond the new length, we don't need\n",
    "            # to erase the duplicated elements afterwards\n",
    "            nums[j - n_duplicates] = nums[j]\n",
    "\n",
    "    length = len(nums) - n_duplicates\n",
    "    return length"
   ]
  },
  {
   "cell_type": "code",
   "execution_count": 8,
   "metadata": {},
   "outputs": [
    {
     "name": "stdout",
     "output_type": "stream",
     "text": [
      "length: 3\n"
     ]
    },
    {
     "data": {
      "text/plain": [
       "[1, 5, 3, 5, 3]"
      ]
     },
     "execution_count": 8,
     "metadata": {},
     "output_type": "execute_result"
    }
   ],
   "source": [
    "nums = [1, 1, 1, 5, 3]\n",
    "print('length:', solution(nums))\n",
    "nums"
   ]
  },
  {
   "cell_type": "markdown",
   "metadata": {},
   "source": [
    "## 027 Remove Element\n",
    "\n",
    "Given an array and a value, remove all instances of that value in place and return the new length.\n",
    "\n",
    "Do not allocate extra space for another array, you must do this in place with constant memory.\n",
    "\n",
    "The order of elements can be changed. It doesn't matter what you leave beyond the new length.\n",
    "\n",
    "Example: Given input array nums = [3,2,2,3], val = 3\n",
    "\n",
    "Your function should return length = 2, with the first two elements of nums being 2.\n",
    "\n",
    "> Very similar idea to 026. Remove Duplicates from Sorted Array"
   ]
  },
  {
   "cell_type": "code",
   "execution_count": 9,
   "metadata": {},
   "outputs": [],
   "source": [
    "def solution(nums, val):\n",
    "    position = 0\n",
    "    for j in range(len(nums)):\n",
    "        if nums[j] == val:\n",
    "            position += 1\n",
    "        else:\n",
    "            nums[j - position] = nums[j]\n",
    "\n",
    "    length = len(nums) - position\n",
    "    return length"
   ]
  },
  {
   "cell_type": "code",
   "execution_count": 10,
   "metadata": {},
   "outputs": [
    {
     "name": "stdout",
     "output_type": "stream",
     "text": [
      "length: 2\n"
     ]
    },
    {
     "data": {
      "text/plain": [
       "[2, 2, 2, 3]"
      ]
     },
     "execution_count": 10,
     "metadata": {},
     "output_type": "execute_result"
    }
   ],
   "source": [
    "val = 3\n",
    "nums = [3, 2, 2, 3]\n",
    "\n",
    "print('length:', solution(nums, val))\n",
    "nums"
   ]
  },
  {
   "cell_type": "markdown",
   "metadata": {},
   "source": [
    "## \t035 Search Insert Position\n",
    "\n",
    "Given a sorted array and a target value, return the index if the target is found. If not, return the index where it would be if it were inserted in order.\n",
    "\n",
    "You may assume no duplicates in the array.\n",
    "\n",
    "Here are few examples. [1,3,5,6], 5 → 2 [1,3,5,6], 2 → 1 [1,3,5,6], 7 → 4 [1,3,5,6], 0 → 0"
   ]
  },
  {
   "cell_type": "code",
   "execution_count": 11,
   "metadata": {},
   "outputs": [],
   "source": [
    "def solution(nums, target):\n",
    "    \"\"\"modification of binary search\"\"\"\n",
    "    low = 0\n",
    "    high = len(nums)\n",
    "    while low < high:\n",
    "        mid = low + (high - low) // 2\n",
    "        if nums[mid] == target:\n",
    "            return mid\n",
    "        elif nums[mid] < target:\n",
    "            low = mid + 1\n",
    "        else:\n",
    "            high = mid\n",
    "\n",
    "    return low"
   ]
  },
  {
   "cell_type": "code",
   "execution_count": 12,
   "metadata": {},
   "outputs": [
    {
     "data": {
      "text/plain": [
       "2"
      ]
     },
     "execution_count": 12,
     "metadata": {},
     "output_type": "execute_result"
    }
   ],
   "source": [
    "nums = [1, 3, 5, 6]\n",
    "target = 4\n",
    "solution(nums, target)"
   ]
  },
  {
   "cell_type": "markdown",
   "metadata": {},
   "source": [
    "## 053. Maximum Subarray\n",
    "\n",
    "Find the contiguous subarray within an array (containing at least one number) which has the largest sum.\n",
    "\n",
    "For example, given the array [-2,1,-3,4,-1,2,1,-5,4],the contiguous subarray [4,-1,2,1] has the largest sum = 6.\n",
    "\n",
    "Kadane's algorithm\n",
    "https://www.youtube.com/watch?v=86CQq3pKSUw"
   ]
  },
  {
   "cell_type": "code",
   "execution_count": 13,
   "metadata": {},
   "outputs": [],
   "source": [
    "def solution(nums):\n",
    "    max_global = nums[0]\n",
    "    max_current = nums[0]\n",
    "    for i in range(1, len(nums)):\n",
    "        # the maximum subarray ending at the current index\n",
    "        max_current = max(nums[i], nums[i] + max_current)\n",
    "        max_global = max(max_current, max_global)\n",
    "        \n",
    "    return max_global"
   ]
  },
  {
   "cell_type": "code",
   "execution_count": 14,
   "metadata": {},
   "outputs": [
    {
     "data": {
      "text/plain": [
       "5"
      ]
     },
     "execution_count": 14,
     "metadata": {},
     "output_type": "execute_result"
    }
   ],
   "source": [
    "nums = [-2, 3, 2, -1]\n",
    "solution(nums)"
   ]
  },
  {
   "cell_type": "markdown",
   "metadata": {},
   "source": [
    "## 058 Length of Last Word\n",
    "\n",
    "Given a string s consists of upper/lower-case alphabets and empty space characters ' ', return the length of last word in the string.\n",
    "\n",
    "If the last word does not exist, return 0.\n",
    "\n",
    "Note: A word is defined as a character sequence consists of non-space characters only.\n",
    "\n",
    "For example, \n",
    "Given s = \"Hello World\", return 5.\n",
    "Given s = \"b a \", return 1.\n",
    "\n",
    "https://discuss.leetcode.com/topic/17312/7-lines-4ms-c-solution"
   ]
  },
  {
   "cell_type": "code",
   "execution_count": 15,
   "metadata": {},
   "outputs": [],
   "source": [
    "def solution(s):\n",
    "    length = 0\n",
    "    tail = len(s) - 1\n",
    "    # Start from the tail of the input string and move backwards to find\n",
    "    # the first non-space character (essentially the .trim method)\n",
    "    # and the first tail > 0 will check for edge cases such as ''\n",
    "    while tail > 0 and s[tail] == ' ':\n",
    "        tail -= 1\n",
    "\n",
    "    # Then from this character, move backwards and count the number of\n",
    "    # non-space characters until we pass over the head of s or meet a\n",
    "    # space character    \n",
    "    while tail >= 0 and s[tail] != ' ':\n",
    "        length += 1\n",
    "        tail -= 1\n",
    "\n",
    "    return length"
   ]
  },
  {
   "cell_type": "code",
   "execution_count": 16,
   "metadata": {},
   "outputs": [
    {
     "data": {
      "text/plain": [
       "1"
      ]
     },
     "execution_count": 16,
     "metadata": {},
     "output_type": "execute_result"
    }
   ],
   "source": [
    "s = 'Hello World'\n",
    "s = 'b a '\n",
    "s = 'a'\n",
    "solution(s)"
   ]
  },
  {
   "cell_type": "markdown",
   "metadata": {},
   "source": [
    "## 066. Plus One\n",
    "\n",
    "Given a non-negative integer represented as a non-empty array of digits, plus one to the integer.\n",
    "\n",
    "You may assume the integer do not contain any leading zero, except the number 0 itself.\n",
    "\n",
    "The digits are stored such that the most significant digit is at the head of the list."
   ]
  },
  {
   "cell_type": "code",
   "execution_count": 17,
   "metadata": {},
   "outputs": [],
   "source": [
    "def solution(digits):\n",
    "    n = len(digits)\n",
    "    for i in reversed(range(n)):\n",
    "        # if it doesn't need to carry over to the next digit\n",
    "        if digits[i] < 9:\n",
    "            digits[i] += 1\n",
    "            return digits\n",
    "        else:\n",
    "            digits[i] = 0\n",
    "    \n",
    "    # for cases where all digits are 9\n",
    "    # the resulting number will have more digits than the original input\n",
    "    digits[0] = 1\n",
    "    digits.append(0)\n",
    "    return digits"
   ]
  },
  {
   "cell_type": "code",
   "execution_count": 18,
   "metadata": {},
   "outputs": [
    {
     "data": {
      "text/plain": [
       "[1, 0, 0]"
      ]
     },
     "execution_count": 18,
     "metadata": {},
     "output_type": "execute_result"
    }
   ],
   "source": [
    "digits = [9]\n",
    "digits = [9, 9]\n",
    "solution(digits)\n",
    "digits"
   ]
  },
  {
   "cell_type": "markdown",
   "metadata": {},
   "source": [
    "## 070. Climbing Stairs\n",
    "\n",
    "You are climbing a stair case. It takes n steps to reach to the top.\n",
    "\n",
    "Each time you can either climb 1 or 2 steps. In how many distinct ways can you climb to the top?\n",
    "\n",
    "Note: Given n will be a positive integer.\n",
    "\n",
    "https://leetcode.com/problems/climbing-stairs/solution/"
   ]
  },
  {
   "cell_type": "code",
   "execution_count": 19,
   "metadata": {},
   "outputs": [],
   "source": [
    "def solution(n):\n",
    "    \"\"\"\n",
    "    fibonacci number in disguise\n",
    "    f(n) = f(n - 1) + f(n - 2)\n",
    "    \n",
    "    Time complexity: O(n) for the single loop\n",
    "    Space complexity: O(1) constant variables\n",
    "    \"\"\"\n",
    "    if n == 1:\n",
    "        return n\n",
    "    \n",
    "    third = 0\n",
    "    # first two number in the fibonacci sequence\n",
    "    first = 1\n",
    "    second = 2\n",
    "    for i in range(3, n + 1):\n",
    "        third = first + second\n",
    "        first = second\n",
    "        second = third\n",
    "    \n",
    "    return second"
   ]
  },
  {
   "cell_type": "code",
   "execution_count": 20,
   "metadata": {},
   "outputs": [
    {
     "data": {
      "text/plain": [
       "5"
      ]
     },
     "execution_count": 20,
     "metadata": {},
     "output_type": "execute_result"
    }
   ],
   "source": [
    "solution(4)"
   ]
  },
  {
   "cell_type": "markdown",
   "metadata": {},
   "source": [
    "## 088. Merge Sorted Array\n",
    "\n",
    "Given two sorted integer arrays nums1 and nums2, merge nums2 into nums1 as one sorted array.\n",
    "\n",
    "Note:\n",
    "You may assume that nums1 has enough space (size that is greater or equal to m + n) to hold additional elements from nums2. The number of elements initialized in nums1 and nums2 are m and n respectively.\n",
    "\n",
    "https://discuss.leetcode.com/topic/5641/c-solution-runtime-o-n-in-place-easy-to-understand"
   ]
  },
  {
   "cell_type": "code",
   "execution_count": 21,
   "metadata": {},
   "outputs": [],
   "source": [
    "def solution(nums1, m, nums2, n):\n",
    "    index1 = m - 1\n",
    "    index2 = n - 1\n",
    "    index_merged = m + n - 1\n",
    "    \n",
    "    # loop backwards and compare A and B to see which is bigger\n",
    "    # and fill the value to A\n",
    "    while index1 >= 0 and index2 >= 0:\n",
    "        if nums1[index1] < nums2[index2]:\n",
    "            nums1[index_merged] = nums2[index2]\n",
    "            index2 -= 1\n",
    "        else:\n",
    "            nums1[index_merged] = nums1[index1]\n",
    "            index1 -= 1\n",
    "\n",
    "        index_merged -= 1\n",
    "    \n",
    "    # if there's only element left in the shorter array,\n",
    "    # copy it all to the longer array\n",
    "    while index2 >= 0:\n",
    "        nums1[index_merged] = nums2[index2]\n",
    "        index2 -= 1\n",
    "        index_merged -= 1"
   ]
  },
  {
   "cell_type": "code",
   "execution_count": 22,
   "metadata": {},
   "outputs": [
    {
     "data": {
      "text/plain": [
       "[1, 2, 3, 4, 5, 6]"
      ]
     },
     "execution_count": 22,
     "metadata": {},
     "output_type": "execute_result"
    }
   ],
   "source": [
    "nums1 = [1, 2, 4, 5, 6, 0]\n",
    "m = 5\n",
    "nums2 = [3]\n",
    "n = 1\n",
    "solution(nums1, m, nums2, n)\n",
    "nums1"
   ]
  },
  {
   "cell_type": "markdown",
   "metadata": {},
   "source": [
    "## 108. Convert Sorted Array to Binary Search Tree\n",
    "\n",
    "Given an array where elements are sorted in ascending order, convert it to a height balanced BST.\n",
    "\n",
    "https://discuss.leetcode.com/topic/10519/an-easy-python-solution"
   ]
  },
  {
   "cell_type": "code",
   "execution_count": 23,
   "metadata": {},
   "outputs": [],
   "source": [
    "class TreeNode:\n",
    "    \"\"\"Definition for a binary tree node.\"\"\"\n",
    "    def __init__(self, val):\n",
    "        self.val = val\n",
    "        self.left = None\n",
    "        self.right = None\n",
    "        \n",
    "\n",
    "def solution(nums):\n",
    "    if not nums:\n",
    "        return None\n",
    "    \n",
    "    # find the root in the middle\n",
    "    # and recursively build the left and right tree\n",
    "    mid = len(nums) // 2\n",
    "    parent = TreeNode(nums[mid])\n",
    "    parent.left = solution(nums[:mid])\n",
    "    parent.right = solution(nums[(mid + 1):])\n",
    "    return parent"
   ]
  },
  {
   "cell_type": "code",
   "execution_count": 24,
   "metadata": {},
   "outputs": [
    {
     "data": {
      "text/plain": [
       "4"
      ]
     },
     "execution_count": 24,
     "metadata": {},
     "output_type": "execute_result"
    }
   ],
   "source": [
    "nums = [1, 2, 4, 5, 6]\n",
    "tree = solution(nums)\n",
    "tree.val"
   ]
  },
  {
   "cell_type": "markdown",
   "metadata": {},
   "source": [
    "## 121. Best Time to Buy and Sell Stock\n",
    "\n",
    "Say you have an array for which the ith element is the price of a given stock on day i.\n",
    "\n",
    "If you were only permitted to complete at most one transaction (ie, buy one and sell one share of the stock), design an algorithm to find the maximum profit.\n",
    "\n",
    "Example 1:\n",
    "\n",
    "Input: [7, 1, 5, 3, 6, 4] Output: 5\n",
    "\n",
    "max. difference = 6-1 = 5 (not 7-1 = 6, as selling price needs to be larger than buying price)\n",
    "\n",
    "Example 2:\n",
    "\n",
    "Input: [7, 6, 4, 3, 1] Output: 0\n",
    "\n",
    "In this case, no transaction is done, i.e. max profit = 0.\n",
    "\n",
    "https://leetcode.com/problems/best-time-to-buy-and-sell-stock/solution/"
   ]
  },
  {
   "cell_type": "code",
   "execution_count": 25,
   "metadata": {},
   "outputs": [],
   "source": [
    "import numpy as np\n",
    "\n",
    "\n",
    "def solution(prices):\n",
    "    # maximum integer\n",
    "    min_price = np.iinfo(np.int32).max\n",
    "    max_profit = 0\n",
    "    for price in prices:\n",
    "        # keep track of the minimum\n",
    "        min_price = min(min_price, price)\n",
    "        # compare if the buy and sell decision if better\n",
    "        # than the current baseline\n",
    "        max_profit = max(max_profit, price - min_price)\n",
    "\n",
    "    return max_profit"
   ]
  },
  {
   "cell_type": "code",
   "execution_count": 26,
   "metadata": {},
   "outputs": [
    {
     "data": {
      "text/plain": [
       "5"
      ]
     },
     "execution_count": 26,
     "metadata": {},
     "output_type": "execute_result"
    }
   ],
   "source": [
    "prices = [7, 1, 5, 3, 6, 4]\n",
    "solution(prices)"
   ]
  },
  {
   "cell_type": "markdown",
   "metadata": {},
   "source": [
    "## 169. Majority Element\n",
    "\n",
    "Given an array of size n, find the majority element. The majority element is the element that appears more than n/2 times.\n",
    "\n",
    "You may assume that the array is non-empty and the majority element always exist in the array.\n",
    "\n",
    "https://discuss.leetcode.com/topic/6251/c-solution-using-moore-s-voting-algorithm-o-n-runtime-comlexity-an-no-extra-array-or-hash-table"
   ]
  },
  {
   "cell_type": "code",
   "execution_count": 27,
   "metadata": {},
   "outputs": [],
   "source": [
    "def solution(nums):\n",
    "    \"\"\"\n",
    "    Moore's voting algorithm\n",
    "    Idea : we cancel out each occurrence of an element e\n",
    "    with all the element that are different from e, then\n",
    "    e's count will be positive if it's an majority element\n",
    "    \"\"\"\n",
    "    count = 1\n",
    "    ans = nums[0]\n",
    "    for i in range(1, len(nums)):\n",
    "        if count == 0:\n",
    "            ans = nums[i]\n",
    "            count = 1\n",
    "        elif ans == nums[i]:\n",
    "            count += 1\n",
    "        else:\n",
    "            count -= 1\n",
    "            \n",
    "    return ans"
   ]
  },
  {
   "cell_type": "code",
   "execution_count": 28,
   "metadata": {},
   "outputs": [
    {
     "data": {
      "text/plain": [
       "7"
      ]
     },
     "execution_count": 28,
     "metadata": {},
     "output_type": "execute_result"
    }
   ],
   "source": [
    "nums = [7, 7, 7, 5, 6, 5]\n",
    "solution(nums)"
   ]
  },
  {
   "cell_type": "markdown",
   "metadata": {},
   "source": [
    "## 198. House Robber\n",
    "\n",
    "You are a professional robber planning to rob houses along a street. Each house has a certain amount of money stashed, the only constraint stopping you from robbing each of them is that adjacent houses have security system connected and it will automatically contact the police if two adjacent houses were broken into on the same night.\n",
    "\n",
    "Given a list of non-negative integers representing the amount of money of each house, determine the maximum amount of money you can rob tonight without alerting the police.\n",
    "\n",
    "https://discuss.leetcode.com/topic/11082/java-o-n-solution-space-o-1"
   ]
  },
  {
   "cell_type": "code",
   "execution_count": 29,
   "metadata": {},
   "outputs": [],
   "source": [
    "def solution(nums):\n",
    "    # Keep track of whether or not\n",
    "    # we robbed the previous house\n",
    "    robbed = 0\n",
    "    didnt_rob = 0\n",
    "    for num in nums:\n",
    "        # if we don't rob the current house\n",
    "        # determine the max of robbing and not\n",
    "        # robbing the previous house\n",
    "        didnt_rob_current = max(robbed, didnt_rob)\n",
    "\n",
    "        # if we rob the current house add the value\n",
    "        # to what we've obtain from not robbing the\n",
    "        # the previous house\n",
    "        rob_current = didnt_rob + num\n",
    "        robbed = rob_current\n",
    "        didnt_rob = didnt_rob_current\n",
    "\n",
    "    return max(robbed, didnt_rob)"
   ]
  },
  {
   "cell_type": "code",
   "execution_count": 30,
   "metadata": {},
   "outputs": [
    {
     "data": {
      "text/plain": [
       "30"
      ]
     },
     "execution_count": 30,
     "metadata": {},
     "output_type": "execute_result"
    }
   ],
   "source": [
    "nums = [1, 3, 4, 19, 11, 5, 8]\n",
    "solution(nums)"
   ]
  },
  {
   "cell_type": "markdown",
   "metadata": {},
   "source": [
    "## 200. Number of Islands\n",
    "\n",
    "Given a 2d grid map of '1's (land) and '0's (water), count the number of islands. An island is surrounded by water and is formed by connecting adjacent lands horizontally or vertically. You may assume all four edges of the grid are all surrounded by water.\n",
    "\n",
    "Example 1:\n",
    "```\n",
    "11110\n",
    "11010\n",
    "11000\n",
    "00000\n",
    "```\n",
    "Answer: 1\n",
    "\n",
    "Example 2:\n",
    "```\n",
    "11000\n",
    "11000\n",
    "00100\n",
    "00011\n",
    "```\n",
    "Answer: 3\n",
    "\n",
    "- https://discuss.leetcode.com/topic/16749/7-lines-python-14-lines-java\n",
    "- https://discuss.leetcode.com/topic/13248/very-concise-java-ac-solution"
   ]
  },
  {
   "cell_type": "code",
   "execution_count": 31,
   "metadata": {},
   "outputs": [],
   "source": [
    "def solution(grid):\n",
    "    # handle edge case of empty list\n",
    "    if not len(grid):\n",
    "        return 0\n",
    "    ans = 0\n",
    "    m = len(grid)\n",
    "    n = len(grid[0])\n",
    "    visited = [[False for _ in range(n)] for _ in range(m)]\n",
    "\n",
    "    def dfs(grid, i, j, visited):\n",
    "        # ensure index is within boundary\n",
    "        if i < 0 or i >= m or j < 0 or j >= n or grid[i][j] == \"0\" or visited[i][j]:\n",
    "            return False\n",
    "\n",
    "        visited[i][j] = True\n",
    "        for di, dj in [(-1, 0), (1, 0), (0, 1), (0, -1)]:\n",
    "            newi, newj = i + di, j + dj\n",
    "            dfs(grid, newi, newj, visited)\n",
    "\n",
    "        return True\n",
    "\n",
    "    for i in range(m):\n",
    "        for j in range(n):\n",
    "            if dfs(grid, i, j, visited):\n",
    "                ans += 1\n",
    "    return ans"
   ]
  },
  {
   "cell_type": "markdown",
   "metadata": {},
   "source": [
    "## 203. Remove Linked List Elements\n",
    "\n",
    "Remove all elements from a linked list of integers that have value val.\n",
    "\n",
    "Example\n",
    "Given: 1 --> 2 --> 6 --> 3 --> 4 --> 5 --> 6, val = 6\n",
    "\n",
    "Return: 1 --> 2 --> 3 --> 4 --> 5\n",
    "\n",
    "https://discuss.leetcode.com/topic/12725/ac-java-solution/9"
   ]
  },
  {
   "cell_type": "code",
   "execution_count": 32,
   "metadata": {},
   "outputs": [],
   "source": [
    "class ListNode:\n",
    "    \"\"\"Definition for singly-linked list.\"\"\"\n",
    "    def __init__(self, x):\n",
    "        self.val = x\n",
    "        self.next = None\n",
    "\n",
    "\n",
    "def solution(head, val):\n",
    "    # create a dummy node\n",
    "    dummy = ListNode(-1)\n",
    "    dummy.next = head\n",
    "    node = dummy\n",
    "    while node.next is not None:\n",
    "        # remove the link if the value matches,\n",
    "        # or else increment the position of the linked list\n",
    "        if node.next.val == val:\n",
    "            node.next = node.next.next\n",
    "        else:\n",
    "            node = node.next\n",
    "    \n",
    "    # return the position of the original head\n",
    "    return dummy.next"
   ]
  },
  {
   "cell_type": "markdown",
   "metadata": {},
   "source": [
    "## 206. Reverse Linked List\n",
    "\n",
    "Reverse a singly linked list.\n",
    "\n",
    "https://leetcode.com/problems/reverse-linked-list/solution/"
   ]
  },
  {
   "cell_type": "code",
   "execution_count": 33,
   "metadata": {},
   "outputs": [],
   "source": [
    "class ListNode:\n",
    "    \"\"\"Definition for singly-linked list.\"\"\"\n",
    "    def __init__(self, x):\n",
    "        self.val = x\n",
    "        self.next = None\n",
    "        \n",
    "\n",
    "def solution(head):\n",
    "    prev = None\n",
    "    curr = head\n",
    "    while curr is not None:\n",
    "        # change the current node's next pointer to\n",
    "        # point to its previous element\n",
    "        temp = curr.next\n",
    "        curr.next = prev\n",
    "        prev = curr\n",
    "        curr = temp\n",
    "\n",
    "    return prev"
   ]
  },
  {
   "cell_type": "markdown",
   "metadata": {
    "collapsed": true
   },
   "source": [
    "## 207. Course Schedule\n",
    "\n",
    "There are a total of n courses you have to take, labeled from 0 to n - 1.\n",
    "\n",
    "Some courses may have prerequisites, for example to take course 0 you have to first take course 1, which is expressed as a pair: [0,1]\n",
    "\n",
    "Given the total number of courses and a list of prerequisite pairs, is it possible for you to finish all courses?\n",
    "\n",
    "For example: \n",
    "\n",
    "2, [[1,0]] There are a total of 2 courses to take. To take course 1 you should have finished course 0. So it is possible.\n",
    "\n",
    "2, [[1,0],[0,1]] There are a total of 2 courses to take. To take course 1 you should have finished course 0, and to take course 0 you should also have finished course 1. So it is impossible.\n",
    "\n",
    "Note:\n",
    "\n",
    "The input prerequisites is a graph represented by a list of edges, not adjacency matrices. Read more about how a graph is represented. You may assume that there are no duplicate edges in the input prerequisites.\n",
    "\n",
    "click to show more hints.\n",
    "\n",
    "Hints:\n",
    "\n",
    "This problem is equivalent to finding if a cycle exists in a directed graph. If a cycle exists, no topological ordering exists and therefore it will be impossible to take all courses.\n",
    "\n",
    "---\n",
    "\n",
    "It's best to walk through the explanation in the first link before looking at the solution.\n",
    "\n",
    "- https://www.embeddedrelated.com/showarticle/799.php\n",
    "- https://discuss.leetcode.com/topic/44747/my-c-solution-23ms-beats-100-submissions/2\n",
    "- https://discuss.leetcode.com/topic/17273/18-22-lines-c-bfs-dfs-solutions"
   ]
  },
  {
   "cell_type": "code",
   "execution_count": 34,
   "metadata": {},
   "outputs": [],
   "source": [
    "from collections import defaultdict\n",
    "\n",
    "\n",
    "def solution(num_courses, prerequisites):\n",
    "    # convert the input pair to adjacent list format\n",
    "    # prerequisite's edge presentation\n",
    "    # e.g. 0 : set{[1]}, means course 0 is\n",
    "    # a prerequisite for course 1\n",
    "    graph = defaultdict(set)\n",
    "    for i, j in prerequisites:\n",
    "        graph[j].add(i)\n",
    "    \n",
    "    # compute indegree\n",
    "    indegree = [0] * num_courses\n",
    "    for _, neighbors in graph.items():\n",
    "        for neigh in neighbors:\n",
    "            indegree[neigh] += 1\n",
    "\n",
    "    # all nodes with indegree of 0 are considered the initial pending set\n",
    "    stack = [node for node in range(num_courses) if not indegree[node]]\n",
    "    counter = 0\n",
    "    while stack:\n",
    "        counter += 1\n",
    "        node = stack.pop()\n",
    "        for neigh in graph[node]:\n",
    "            # decrement neighbors' indegree\n",
    "            # if the indegree is 0 add it to the pending set\n",
    "            indegree[neigh] -= 1\n",
    "            if not indegree[neigh]:\n",
    "                stack.append(neigh)\n",
    "\n",
    "    return counter == num_courses"
   ]
  },
  {
   "cell_type": "code",
   "execution_count": 35,
   "metadata": {},
   "outputs": [
    {
     "data": {
      "text/plain": [
       "True"
      ]
     },
     "execution_count": 35,
     "metadata": {},
     "output_type": "execute_result"
    }
   ],
   "source": [
    "# to take course 1 you have to take course 0,\n",
    "# thus the edge representation would be 0 -> 1\n",
    "prerequisites = [[1, 0]]\n",
    "num_courses = 2\n",
    "solution(num_courses, prerequisites)"
   ]
  },
  {
   "cell_type": "markdown",
   "metadata": {},
   "source": [
    "## 215 kth-largest Element in an Array\n",
    "\n",
    "Find the kth largest element in an unsorted array. Note that it is the kth largest element in the sorted order, not the kth distinct element.\n",
    "\n",
    "For example, Given [3,2,1,5,6,4] and k = 2, return 5.\n",
    "\n",
    "Note: You may assume k is always valid, 1 ≤ k ≤ array's length.\n",
    "\n",
    "- https://discuss.leetcode.com/topic/14597/solution-explained\n",
    "- https://discuss.leetcode.com/topic/15256/4-c-solutions-using-partition-max-heap-priority_queue-and-multiset-respectively"
   ]
  },
  {
   "cell_type": "code",
   "execution_count": 36,
   "metadata": {},
   "outputs": [
    {
     "data": {
      "text/plain": [
       "5"
      ]
     },
     "execution_count": 36,
     "metadata": {},
     "output_type": "execute_result"
    }
   ],
   "source": [
    "def solution1(nums, k):\n",
    "    \"\"\"\n",
    "    The simplest approach is to sort the entire\n",
    "    input array and then access the element by it's index\n",
    "    \"\"\"\n",
    "    length = len(nums)\n",
    "    return sorted(nums)[length - k]\n",
    "\n",
    "\n",
    "k = 2\n",
    "nums = [3, 2, 1, 5, 6, 4]\n",
    "solution1(nums, k)"
   ]
  },
  {
   "cell_type": "markdown",
   "metadata": {},
   "source": [
    "The smarter approach for this problem is to use the selection algorithm (based on the partion method - the same one as used in quicksort).\n",
    "\n",
    "In [quicksort](http://interactivepython.org/runestone/static/pythonds/SortSearch/TheQuickSort.html), in each iteration, we need to select a pivot and then partition the array into three parts:\n",
    "\n",
    "- Elements smaller than the pivot;\n",
    "- Elements equal to the pivot;\n",
    "- Elements larger than the pivot.\n",
    "\n",
    "Now, let's do an example with the array `[3, 2, 1, 5, 4, 6]` in the problem statement. Let's assume in each time we select the leftmost element to be the pivot, in this case, `3`. We then use it to partition the array into the above 3 parts, which results in `[1, 2, 3, 5, 4, 6]`. Now `3` is in the third position and we know that it is the third smallest element. Now, do you recognize that this subroutine can be used to solve this problem?\n",
    "\n",
    "In fact, the above partition puts elements smaller than the pivot before the pivot and thus the pivot will then be the k-th smallest element if it is at the k-1-th position. Since the problem requires us to find the k-th largest element, we can simply modify the partition to put elements larger than the pivot before the pivot. That is, after partition, the array becomes `[5, 6, 4, 3, 1, 2]`. Now we know that 3 is the 4-th largest element. If we are asked to find the 2-th largest element, then we know it is left to 3. If we are asked to find the 5-th largest element, then we know it is right to 3 (changing whether the numbers is on the left side of the pivot or right side is optional).\n",
    "\n",
    "Psuedocode:\n",
    "\n",
    "- Initialize left to be 0 and right to be (size of array - 1);\n",
    "- Partition the array, if the pivot is at the k-1-th position, return it (we are done);\n",
    "- If the pivot is right to the k-1-th position, update right to be the left neighbor of the pivot;\n",
    "- Else update left to be the right neighbor of the pivot.\n",
    "- Repeat 2."
   ]
  },
  {
   "cell_type": "code",
   "execution_count": 37,
   "metadata": {},
   "outputs": [],
   "source": [
    "def _partition(nums, left, right):\n",
    "    \"\"\"one iteration of quicksort\"\"\"\n",
    "\n",
    "    # store the pivot point's position to\n",
    "    # perform the final swapping at the end\n",
    "    initial = left\n",
    "    pivot = nums[left]\n",
    "    left += 1\n",
    "    while left <= right:\n",
    "        if nums[left] < pivot and nums[right] > pivot:\n",
    "            nums[right], nums[left] = nums[left], nums[right]\n",
    "\n",
    "        if nums[left] >= pivot:\n",
    "            left += 1\n",
    "\n",
    "        if nums[right] <= pivot:\n",
    "            right -= 1  \n",
    "\n",
    "    nums[right], nums[initial] = nums[initial], nums[right]\n",
    "    return right\n",
    "\n",
    "\n",
    "def solution(nums, k):\n",
    "    \"\"\"\n",
    "    The smarter approach for this problem is to use the \n",
    "    selection algorithm (based on the partion method - the\n",
    "    same one as used in quicksort).\n",
    "    \"\"\"\n",
    "    left = 0\n",
    "    right = len(nums) - 1\n",
    "    while True:\n",
    "        pos = _partition(nums, left, right)\n",
    "        # kth largest element should be in the k-1-th position\n",
    "        if pos == k - 1:\n",
    "            return nums[pos]\n",
    "        elif pos > k - 1:\n",
    "            right = pos - 1\n",
    "        else:\n",
    "            left = pos + 1"
   ]
  },
  {
   "cell_type": "code",
   "execution_count": 38,
   "metadata": {},
   "outputs": [
    {
     "data": {
      "text/plain": [
       "5"
      ]
     },
     "execution_count": 38,
     "metadata": {},
     "output_type": "execute_result"
    }
   ],
   "source": [
    "k = 2\n",
    "nums = [3, 2, 1, 5, 6, 4]\n",
    "solution(nums, k)"
   ]
  },
  {
   "cell_type": "markdown",
   "metadata": {},
   "source": [
    "## 217. Contains Duplicate\n",
    "\n",
    "Given an array of integers, find if the array contains any duplicates. Your function should return true if any value appears at least twice in the array, and it should return false if every element is distinct.\n",
    "\n",
    "https://leetcode.com/problems/contains-duplicate/solution/"
   ]
  },
  {
   "cell_type": "code",
   "execution_count": 39,
   "metadata": {},
   "outputs": [],
   "source": [
    "def solution(nums):\n",
    "    nums_set = set()\n",
    "    for num in nums:\n",
    "        if num in nums_set:\n",
    "            return True\n",
    "\n",
    "        nums_set.add(num)\n",
    "\n",
    "    return False"
   ]
  },
  {
   "cell_type": "code",
   "execution_count": 40,
   "metadata": {},
   "outputs": [
    {
     "data": {
      "text/plain": [
       "True"
      ]
     },
     "execution_count": 40,
     "metadata": {},
     "output_type": "execute_result"
    }
   ],
   "source": [
    "nums = [3, 3, 1, 2]\n",
    "solution(nums)"
   ]
  },
  {
   "cell_type": "markdown",
   "metadata": {},
   "source": [
    "## 242. Valid Anagram\n",
    "\n",
    "Given two strings s and t, write a function to determine if t is an anagram of s.\n",
    "\n",
    "For example,\n",
    "s = \"anagram\", t = \"nagaram\", return true.\n",
    "s = \"rat\", t = \"car\", return false.\n",
    "\n",
    "Note:\n",
    "You may assume the string contains only lowercase alphabets.\n",
    "\n",
    "https://leetcode.com/problems/valid-anagram/discuss/"
   ]
  },
  {
   "cell_type": "code",
   "execution_count": 41,
   "metadata": {},
   "outputs": [],
   "source": [
    "def solution(s, t):\n",
    "    \"\"\"\n",
    "    use an array that holds the number of occurrences\n",
    "    for each character. Then for each letter in s, it\n",
    "    increases the counter by 1 while for each letter in t,\n",
    "    it decreases the counter by 1. Finally, all the counters\n",
    "    will be 0 if they two are anagrams of each other.\n",
    "    \"\"\"\n",
    "    if len(s) != len(t):\n",
    "        return False\n",
    "    else:\n",
    "        start = ord('a')\n",
    "        counts = [0] * 26\n",
    "        for i in range(len(s)):\n",
    "            counts[ord(s[i]) - start] += 1\n",
    "            counts[ord(t[i]) - start] -= 1\n",
    "\n",
    "        for count in counts:\n",
    "            if count:\n",
    "                return False\n",
    "\n",
    "        return True"
   ]
  },
  {
   "cell_type": "code",
   "execution_count": 42,
   "metadata": {},
   "outputs": [],
   "source": [
    "def solution(s, t):\n",
    "    \"\"\"alternative, slightly faster solution\"\"\"\n",
    "    if len(s) != len(t):\n",
    "        return False\n",
    "    else: \n",
    "        letters = 'abcdefghijklmnopqrstuvwxyz'\n",
    "        for letter in letters:\n",
    "            if s.count(letter) != t.count(letter):\n",
    "                return False\n",
    "        \n",
    "        return True"
   ]
  },
  {
   "cell_type": "code",
   "execution_count": 43,
   "metadata": {},
   "outputs": [
    {
     "data": {
      "text/plain": [
       "True"
      ]
     },
     "execution_count": 43,
     "metadata": {},
     "output_type": "execute_result"
    }
   ],
   "source": [
    "s = 'anagram'\n",
    "t = 'nagaram'\n",
    "solution(s, t)"
   ]
  },
  {
   "cell_type": "markdown",
   "metadata": {},
   "source": [
    "## 283. Move Zeroes\n",
    "\n",
    "Given an array nums, write a function to move all 0's to the end of it while maintaining the relative order of the non-zero elements.\n",
    "\n",
    "For example, given nums = [0, 1, 0, 3, 12], after calling your function, nums should be [1, 3, 12, 0, 0].\n",
    "\n",
    "Note:\n",
    "You must do this in-place without making a copy of the array.\n",
    "Minimize the total number of operations.\n",
    "\n",
    "\n",
    "https://leetcode.com/problems/move-zeroes/solution/"
   ]
  },
  {
   "cell_type": "code",
   "execution_count": 44,
   "metadata": {},
   "outputs": [],
   "source": [
    "def solution(nums):\n",
    "    \"\"\"\n",
    "    A two pointers problem, we keep a slower pointer\n",
    "    non_zero_index to denote the position of the last\n",
    "    non 0 element, then when we encounter a non 0 element\n",
    "    we swap the element of the current position and\n",
    "    the element at the position non_zero_index, and when\n",
    "    we perform the swap, we also increment the non_zero_index\n",
    "    to advance the position of the last non 0 element\n",
    "    \"\"\"\n",
    "    non_zero_index = 0\n",
    "    for i in range(len(nums)):\n",
    "        if nums[i] != 0:\n",
    "            nums[non_zero_index], nums[i] = nums[i], nums[non_zero_index]\n",
    "            non_zero_index += 1"
   ]
  },
  {
   "cell_type": "code",
   "execution_count": 45,
   "metadata": {},
   "outputs": [
    {
     "data": {
      "text/plain": [
       "[1, 3, 12, 0, 0]"
      ]
     },
     "execution_count": 45,
     "metadata": {},
     "output_type": "execute_result"
    }
   ],
   "source": [
    "nums = [0, 1, 0, 3, 12]\n",
    "solution(nums)\n",
    "nums"
   ]
  },
  {
   "cell_type": "markdown",
   "metadata": {},
   "source": [
    "##  347. Top K Frequent Elements\n",
    "\n",
    "Given a non-empty array of integers, return the k most frequent elements.\n",
    "\n",
    "For example,\n",
    "Given [1,1,1,2,2,3] and k = 2, return [1,2].\n",
    "\n",
    "Note: \n",
    "You may assume k is always valid, 1 ≤ k ≤ number of unique elements.\n",
    "Your algorithm's time complexity must be better than O(n log n), where n is the array's size.\n",
    "\n",
    "https://leetcode.com/problems/top-k-frequent-elements/discuss/"
   ]
  },
  {
   "cell_type": "code",
   "execution_count": 46,
   "metadata": {},
   "outputs": [],
   "source": [
    "from collections import Counter\n",
    "\n",
    "\n",
    "def solution(nums, k):\n",
    "    \"\"\"\n",
    "    1. build a counter map that maps a num to its frequency\n",
    "    2. build a heap/priority queue that keeps track of k most significant entries\n",
    "    3. iterate through the final heap and get the keys\n",
    "    runtime : O(nlogk)\n",
    "    \"\"\"\n",
    "    result = [k for k, _ in Counter(nums).most_common(k)]\n",
    "    return result"
   ]
  },
  {
   "cell_type": "code",
   "execution_count": 47,
   "metadata": {},
   "outputs": [],
   "source": [
    "import heapq\n",
    "from collections import defaultdict\n",
    "\n",
    "def solution(nums, k):\n",
    "    \"\"\"\n",
    "    alternative implementation, note that python\n",
    "    Counter.most_common also uses heapq underneath the hood\n",
    "    \"\"\"\n",
    "    counts = defaultdict(int)\n",
    "    for num in nums:\n",
    "        counts[num] += 1\n",
    "        \n",
    "    heap = []\n",
    "    for num, count in counts.items():\n",
    "        if len(heap) < k:\n",
    "            heapq.heappush(heap, (count, num))\n",
    "        else:\n",
    "            # we only need to top-k elements, ensure\n",
    "            # the size of the heap stays at k\n",
    "            heapq.heappushpop(heap, (count, num))\n",
    "    \n",
    "    # heapq pops in ascending order,\n",
    "    # reverse the resulting list in the end\n",
    "    result = []\n",
    "    while heap:\n",
    "        _, num = heapq.heappop(heap)\n",
    "        result.append(num)\n",
    "    \n",
    "    return result[::-1]"
   ]
  },
  {
   "cell_type": "code",
   "execution_count": 48,
   "metadata": {},
   "outputs": [
    {
     "data": {
      "text/plain": [
       "[1, 2]"
      ]
     },
     "execution_count": 48,
     "metadata": {},
     "output_type": "execute_result"
    }
   ],
   "source": [
    "k = 2\n",
    "nums = [1, 1, 1, 2, 2, 3]\n",
    "solution(nums, k)"
   ]
  },
  {
   "cell_type": "markdown",
   "metadata": {},
   "source": [
    "## 350. Intersection of Two Arrays II\n",
    "\n",
    "Given two arrays, write a function to compute their intersection.\n",
    "\n",
    "Example:\n",
    "Given nums1 = [1, 2, 2, 1], nums2 = [2, 2], return [2, 2].\n",
    "\n",
    "Note:\n",
    "Each element in the result should appear as many times as it shows in both arrays.\n",
    "The result can be in any order.\n",
    "\n",
    "https://leetcode.com/problems/intersection-of-two-arrays-ii/discuss/"
   ]
  },
  {
   "cell_type": "code",
   "execution_count": 49,
   "metadata": {},
   "outputs": [],
   "source": [
    "from collections import Counter\n",
    "\n",
    "\n",
    "def solution(nums1, nums2):\n",
    "    # intersect (&) of two Counters and use\n",
    "    # its elements() method, which returns an iterator\n",
    "    # that produces all of the items known to the Counter\n",
    "    c1 = Counter(nums1)\n",
    "    c2 = Counter(nums2)\n",
    "    return list((c1 & c2).elements())"
   ]
  },
  {
   "cell_type": "code",
   "execution_count": 50,
   "metadata": {},
   "outputs": [],
   "source": [
    "def solution(nums1, nums2):\n",
    "    \"\"\"Time: O(m + n) Space: O(m)\"\"\"\n",
    "    count = {}\n",
    "    for n in nums1:\n",
    "        count[n] = count.get(n, 0) + 1\n",
    "    \n",
    "    ans = []\n",
    "    for n in nums2:\n",
    "        if n in count and count[n] != 0:\n",
    "            ans.append(n)\n",
    "            count[n] -= 1\n",
    "\n",
    "    return ans"
   ]
  },
  {
   "cell_type": "code",
   "execution_count": 51,
   "metadata": {},
   "outputs": [
    {
     "data": {
      "text/plain": [
       "[2, 2]"
      ]
     },
     "execution_count": 51,
     "metadata": {},
     "output_type": "execute_result"
    }
   ],
   "source": [
    "nums1 = [1, 2, 2, 1]\n",
    "nums2 = [2, 2]\n",
    "solution(nums1, nums2)"
   ]
  },
  {
   "cell_type": "markdown",
   "metadata": {},
   "source": [
    "## 448. Find All Numbers Disappeared in an Array\n",
    "\n",
    "Given an array of integers where 1 ≤ a[i] ≤ n (n = size of array), some elements appear twice and others appear once.\n",
    "\n",
    "Find all the elements of [1, n] inclusive that do not appear in this array.\n",
    "\n",
    "Could you do it without extra space and in O(n) runtime? You may assume the returned list does not count as extra space.\n",
    "\n",
    "https://leetcode.com/problems/find-all-numbers-disappeared-in-an-array/discuss/"
   ]
  },
  {
   "cell_type": "code",
   "execution_count": 52,
   "metadata": {},
   "outputs": [],
   "source": [
    "def solution(nums):\n",
    "    \"\"\"\n",
    "    first iteration negates the value at position that is\n",
    "    equal to the current element; the second iteration appends\n",
    "    position whose number remains positive, which indicates\n",
    "    the missing values\n",
    "    \"\"\"\n",
    "    for num in nums:\n",
    "        index = abs(num) - 1\n",
    "        if nums[index] > 0:\n",
    "            nums[index] = -nums[index]\n",
    "\n",
    "    ans = []\n",
    "    for i, num in enumerate(nums):\n",
    "        if num > 0:\n",
    "            ans.append(i + 1)\n",
    "\n",
    "    return ans"
   ]
  },
  {
   "cell_type": "code",
   "execution_count": 53,
   "metadata": {},
   "outputs": [
    {
     "data": {
      "text/plain": [
       "[5, 6]"
      ]
     },
     "execution_count": 53,
     "metadata": {},
     "output_type": "execute_result"
    }
   ],
   "source": [
    "nums = [4, 3, 2, 7, 8, 2, 3, 1]\n",
    "solution(nums)"
   ]
  },
  {
   "cell_type": "markdown",
   "metadata": {},
   "source": [
    "# Reference\n",
    "\n",
    "- [Github: Leetcode Solutions in Python](https://github.com/csujedihy/lc-all-solutions)\n",
    "- [Github: Python / C++ 11 Solutions of LeetCode Questions](https://github.com/kamyu104/LeetCode)"
   ]
  }
 ],
 "metadata": {
  "kernelspec": {
   "display_name": "Python 3",
   "language": "python",
   "name": "python3"
  },
  "language_info": {
   "codemirror_mode": {
    "name": "ipython",
    "version": 3
   },
   "file_extension": ".py",
   "mimetype": "text/x-python",
   "name": "python",
   "nbconvert_exporter": "python",
   "pygments_lexer": "ipython3",
   "version": "3.5.2"
  },
  "toc": {
   "colors": {
    "hover_highlight": "#DAA520",
    "running_highlight": "#FF0000",
    "selected_highlight": "#FFD700"
   },
   "moveMenuLeft": true,
   "nav_menu": {
    "height": "12px",
    "width": "252px"
   },
   "navigate_menu": true,
   "number_sections": true,
   "sideBar": true,
   "threshold": 4,
   "toc_cell": false,
   "toc_position": {
    "height": "606px",
    "left": "0px",
    "right": "1207px",
    "top": "134px",
    "width": "212px"
   },
   "toc_section_display": "block",
   "toc_window_display": true
  }
 },
 "nbformat": 4,
 "nbformat_minor": 2
}
