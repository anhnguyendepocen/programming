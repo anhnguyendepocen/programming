{
 "cells": [
  {
   "cell_type": "markdown",
   "metadata": {},
   "source": [
    "# Leetcode\n",
    "\n",
    "\n",
    "## 001 Two Sums\n",
    "\n",
    "\n",
    "Given an array of integers, return indices of the two numbers such that they add up to a specific target.\n",
    "\n",
    "You may assume that each input would have exactly one solution, and you may not use the same element twice.\n",
    "\n",
    "Example:\n",
    "\n",
    "Given nums = [2, 7, 11, 15], target = 9,\n",
    "\n",
    "Because nums[0] + nums[1] = 2 + 7 = 9, return [0, 1]."
   ]
  },
  {
   "cell_type": "code",
   "execution_count": 1,
   "metadata": {
    "collapsed": true
   },
   "outputs": [],
   "source": [
    "def solution(nums, target):\n",
    "    d = {}\n",
    "    for i, num in enumerate(nums):\n",
    "        if target - num in d:\n",
    "            result = [d[target - num], i]\n",
    "            return result\n",
    "\n",
    "        d[num] = i"
   ]
  },
  {
   "cell_type": "code",
   "execution_count": 2,
   "metadata": {},
   "outputs": [
    {
     "data": {
      "text/plain": [
       "[0, 1]"
      ]
     },
     "execution_count": 2,
     "metadata": {},
     "output_type": "execute_result"
    }
   ],
   "source": [
    "target = 9\n",
    "nums = [2, 7, 11, 15]\n",
    "solution(nums, target)"
   ]
  },
  {
   "cell_type": "markdown",
   "metadata": {},
   "source": [
    "## 003 Longest Substring Without Repeating Characters\n",
    "\n",
    "Given a string, find the length of the longest substring without repeating characters.\n",
    "\n",
    "Examples:\n",
    "\n",
    "Given \"abcabcbb\", the answer is \"abc\", which the length is 3.\n",
    "\n",
    "Given \"bbbbb\", the answer is \"b\", with the length of 1.\n",
    "\n",
    "Given \"pwwkew\", the answer is \"wke\", with the length of 3. Note that the answer must be a substring, \"pwke\" is a subsequence and not a substring.\n",
    "\n",
    "https://discuss.leetcode.com/topic/11632/a-python-solution-85ms-o-n"
   ]
  },
  {
   "cell_type": "code",
   "execution_count": 3,
   "metadata": {
    "collapsed": true
   },
   "outputs": [],
   "source": [
    "def solution(string):\n",
    "    used = {}\n",
    "    start = 0\n",
    "    answer = 0\n",
    "    for i, c in enumerate(string):\n",
    "        # hit repeated word, refresh the start position\n",
    "        if c in used:\n",
    "            start = max(start, used[c] + 1)\n",
    "        \n",
    "        # compare the refreshed position word with the\n",
    "        # old word to see which one is longer\n",
    "        answer = max(answer, i - start + 1)\n",
    "        used[c] = i\n",
    "\n",
    "    return answer"
   ]
  },
  {
   "cell_type": "code",
   "execution_count": 4,
   "metadata": {},
   "outputs": [
    {
     "data": {
      "text/plain": [
       "5"
      ]
     },
     "execution_count": 4,
     "metadata": {},
     "output_type": "execute_result"
    }
   ],
   "source": [
    "string = 'abcabcbb'\n",
    "string = 'pwwkew'\n",
    "string = 'bbbbb'\n",
    "string = 'ethten'\n",
    "string = \"tmmzuxt\"\n",
    "solution(string)"
   ]
  },
  {
   "cell_type": "markdown",
   "metadata": {},
   "source": [
    "## 007 Reverse Digits of an Integer.\n",
    "\n",
    "Example1: x = 123, return 321 Example2: x = -123, return -321\n",
    "\n",
    "Here are some good questions to ask before coding. Bonus points for you if you have already thought through this!\n",
    "\n",
    "- If the integer's last digit is 0, what should the output be? ie, cases such as 10, 100.\n",
    "- Did you notice that the reversed integer might overflow? Assume the input is a 32-bit integer, then the reverse of 1000000003 overflows. How should you handle such cases? For the purpose of this problem, assume that your function returns 0 when the reversed integer overflows.\n",
    "\n",
    "Note: The input is assumed to be a 32-bit signed integer. Your function should return 0 when the reversed integer overflows.\n",
    "\n",
    "https://discuss.leetcode.com/topic/6104/my-accepted-15-lines-of-code-for-java/2"
   ]
  },
  {
   "cell_type": "code",
   "execution_count": 5,
   "metadata": {
    "collapsed": true
   },
   "outputs": [],
   "source": [
    "def solution(num):\n",
    "    int_max = 2 ** 31 - 1\n",
    "    sign = 1 if num >= 0 else -1\n",
    "    num = abs(num)\n",
    "    result = 0\n",
    "\n",
    "    while num:\n",
    "        # multiply by 10 to advance the digit\n",
    "        new_result = result * 10 + num % 10\n",
    "        if new_result >= int_max:\n",
    "            return 0\n",
    "\n",
    "        num //= 10\n",
    "        result = new_result\n",
    "\n",
    "    result *= sign\n",
    "    return result"
   ]
  },
  {
   "cell_type": "code",
   "execution_count": 6,
   "metadata": {},
   "outputs": [
    {
     "data": {
      "text/plain": [
       "4321"
      ]
     },
     "execution_count": 6,
     "metadata": {},
     "output_type": "execute_result"
    }
   ],
   "source": [
    "num = 1234\n",
    "solution(num)"
   ]
  },
  {
   "cell_type": "markdown",
   "metadata": {},
   "source": [
    "## 026 Remove Duplicates from Sorted Array\n",
    "\n",
    "Given a sorted array, remove the duplicates in place such that each element appear only once and return the new length.\n",
    "\n",
    "Do not allocate extra space for another array, you must do this in place with constant memory.\n",
    "\n",
    "For example, Given input array nums = [1,1,2],\n",
    "\n",
    "Your function should return length = 2, with the first two elements of nums being 1 and 2 respectively. It doesn't matter what you leave beyond the new length.\n",
    "\n",
    "https://discuss.leetcode.com/topic/8907/share-my-clean-c-code"
   ]
  },
  {
   "cell_type": "code",
   "execution_count": 7,
   "metadata": {
    "collapsed": true
   },
   "outputs": [],
   "source": [
    "def solution(nums):\n",
    "    n_duplicates = 0\n",
    "    for j in range(1, len(nums)):\n",
    "        if nums[j] == nums[j - 1]:\n",
    "            n_duplicates += 1\n",
    "        else:\n",
    "            # jump to the place where the duplicate\n",
    "            # occured, since it doesn't matter what we\n",
    "            # leave beyond the new length, we don't need\n",
    "            # to erase the duplicated elements afterwards\n",
    "            nums[j - n_duplicates] = nums[j]\n",
    "\n",
    "    length = len(nums) - n_duplicates\n",
    "    return length"
   ]
  },
  {
   "cell_type": "code",
   "execution_count": 8,
   "metadata": {},
   "outputs": [
    {
     "name": "stdout",
     "output_type": "stream",
     "text": [
      "length: 3\n"
     ]
    },
    {
     "data": {
      "text/plain": [
       "[1, 5, 3, 5, 3]"
      ]
     },
     "execution_count": 8,
     "metadata": {},
     "output_type": "execute_result"
    }
   ],
   "source": [
    "nums = [1, 1, 1, 5, 3]\n",
    "print('length:', solution(nums))\n",
    "nums"
   ]
  },
  {
   "cell_type": "markdown",
   "metadata": {},
   "source": [
    "## 027 Remove Element\n",
    "\n",
    "Given an array and a value, remove all instances of that value in place and return the new length.\n",
    "\n",
    "Do not allocate extra space for another array, you must do this in place with constant memory.\n",
    "\n",
    "The order of elements can be changed. It doesn't matter what you leave beyond the new length.\n",
    "\n",
    "Example: Given input array nums = [3,2,2,3], val = 3\n",
    "\n",
    "Your function should return length = 2, with the first two elements of nums being 2.\n",
    "\n",
    "> Very similar idea to 026. Remove Duplicates from Sorted Array"
   ]
  },
  {
   "cell_type": "code",
   "execution_count": 9,
   "metadata": {
    "collapsed": true
   },
   "outputs": [],
   "source": [
    "def solution(nums, val):\n",
    "    position = 0\n",
    "    for j in range(len(nums)):\n",
    "        if nums[j] == val:\n",
    "            position += 1\n",
    "        else:\n",
    "            nums[j - position] = nums[j]\n",
    "\n",
    "    length = len(nums) - position\n",
    "    return length"
   ]
  },
  {
   "cell_type": "code",
   "execution_count": 10,
   "metadata": {},
   "outputs": [
    {
     "name": "stdout",
     "output_type": "stream",
     "text": [
      "length: 2\n"
     ]
    },
    {
     "data": {
      "text/plain": [
       "[2, 2, 2, 3]"
      ]
     },
     "execution_count": 10,
     "metadata": {},
     "output_type": "execute_result"
    }
   ],
   "source": [
    "val = 3\n",
    "nums = [3, 2, 2, 3]\n",
    "\n",
    "print('length:', solution(nums, val))\n",
    "nums"
   ]
  },
  {
   "cell_type": "markdown",
   "metadata": {},
   "source": [
    "## \t035 Search Insert Position\n",
    "\n",
    "Given a sorted array and a target value, return the index if the target is found. If not, return the index where it would be if it were inserted in order.\n",
    "\n",
    "You may assume no duplicates in the array.\n",
    "\n",
    "Here are few examples. [1,3,5,6], 5 → 2 [1,3,5,6], 2 → 1 [1,3,5,6], 7 → 4 [1,3,5,6], 0 → 0"
   ]
  },
  {
   "cell_type": "code",
   "execution_count": 11,
   "metadata": {
    "collapsed": true
   },
   "outputs": [],
   "source": [
    "def solution(nums, target):\n",
    "    \"\"\"modification of binary search\"\"\"\n",
    "    low = 0\n",
    "    high = len(nums)\n",
    "    while low < high:\n",
    "        mid = low + (high - low) // 2\n",
    "        if nums[mid] == target:\n",
    "            return mid\n",
    "        elif nums[mid] < target:\n",
    "            low = mid + 1\n",
    "        else:\n",
    "            high = mid\n",
    "\n",
    "    return low"
   ]
  },
  {
   "cell_type": "code",
   "execution_count": 12,
   "metadata": {},
   "outputs": [
    {
     "data": {
      "text/plain": [
       "2"
      ]
     },
     "execution_count": 12,
     "metadata": {},
     "output_type": "execute_result"
    }
   ],
   "source": [
    "nums = [1, 3, 5, 6]\n",
    "target = 4\n",
    "solution(nums, target)"
   ]
  },
  {
   "cell_type": "markdown",
   "metadata": {},
   "source": [
    "## 053. Maximum Subarray\n",
    "\n",
    "Find the contiguous subarray within an array (containing at least one number) which has the largest sum.\n",
    "\n",
    "For example, given the array [-2,1,-3,4,-1,2,1,-5,4],the contiguous subarray [4,-1,2,1] has the largest sum = 6.\n",
    "\n",
    "Kadane's algorithm\n",
    "https://www.youtube.com/watch?v=86CQq3pKSUw"
   ]
  },
  {
   "cell_type": "code",
   "execution_count": 13,
   "metadata": {
    "collapsed": true
   },
   "outputs": [],
   "source": [
    "def solution(nums):\n",
    "    max_global = nums[0]\n",
    "    max_current = nums[0]\n",
    "    for i in range(1, len(nums)):\n",
    "        # the maximum subarray ending at the current index\n",
    "        max_current = max(nums[i], nums[i] + max_current)\n",
    "        max_global = max(max_current, max_global)\n",
    "        \n",
    "    return max_global"
   ]
  },
  {
   "cell_type": "code",
   "execution_count": 14,
   "metadata": {},
   "outputs": [
    {
     "data": {
      "text/plain": [
       "5"
      ]
     },
     "execution_count": 14,
     "metadata": {},
     "output_type": "execute_result"
    }
   ],
   "source": [
    "nums = [-2, 3, 2, -1]\n",
    "solution(nums)"
   ]
  },
  {
   "cell_type": "markdown",
   "metadata": {},
   "source": [
    "## 058 Length of Last Word\n",
    "\n",
    "Given a string s consists of upper/lower-case alphabets and empty space characters ' ', return the length of last word in the string.\n",
    "\n",
    "If the last word does not exist, return 0.\n",
    "\n",
    "Note: A word is defined as a character sequence consists of non-space characters only.\n",
    "\n",
    "For example, \n",
    "Given s = \"Hello World\", return 5.\n",
    "Given s = \"b a \", return 1.\n",
    "\n",
    "https://discuss.leetcode.com/topic/17312/7-lines-4ms-c-solution"
   ]
  },
  {
   "cell_type": "code",
   "execution_count": 15,
   "metadata": {
    "collapsed": true
   },
   "outputs": [],
   "source": [
    "def solution(s):\n",
    "    length = 0\n",
    "    tail = len(s) - 1\n",
    "    # Start from the tail of the input string and move backwards to find\n",
    "    # the first non-space character (essentially the .trim method)\n",
    "    # and the first tail > 0 will check for edge cases such as ''\n",
    "    while tail > 0 and s[tail] == ' ':\n",
    "        tail -= 1\n",
    "\n",
    "    # Then from this character, move backwards and count the number of\n",
    "    # non-space characters until we pass over the head of s or meet a\n",
    "    # space character    \n",
    "    while tail >= 0 and s[tail] != ' ':\n",
    "        length += 1\n",
    "        tail -= 1\n",
    "\n",
    "    return length"
   ]
  },
  {
   "cell_type": "code",
   "execution_count": 16,
   "metadata": {},
   "outputs": [
    {
     "data": {
      "text/plain": [
       "1"
      ]
     },
     "execution_count": 16,
     "metadata": {},
     "output_type": "execute_result"
    }
   ],
   "source": [
    "s = 'Hello World'\n",
    "s = 'b a '\n",
    "s = 'a'\n",
    "solution(s)"
   ]
  },
  {
   "cell_type": "markdown",
   "metadata": {},
   "source": [
    "## 066. Plus One\n",
    "\n",
    "Given a non-negative integer represented as a non-empty array of digits, plus one to the integer.\n",
    "\n",
    "You may assume the integer do not contain any leading zero, except the number 0 itself.\n",
    "\n",
    "The digits are stored such that the most significant digit is at the head of the list."
   ]
  },
  {
   "cell_type": "code",
   "execution_count": 17,
   "metadata": {
    "collapsed": true
   },
   "outputs": [],
   "source": [
    "def solution(digits):\n",
    "    n = len(digits)\n",
    "    for i in reversed(range(n)):\n",
    "        # if it doesn't need to carry over to the next digit\n",
    "        if digits[i] < 9:\n",
    "            digits[i] += 1\n",
    "            return digits\n",
    "        else:\n",
    "            digits[i] = 0\n",
    "    \n",
    "    # for cases where all digits are 9\n",
    "    # the resulting number will have more digits than the original input\n",
    "    digits[0] = 1\n",
    "    digits.append(0)\n",
    "    return digits"
   ]
  },
  {
   "cell_type": "code",
   "execution_count": 18,
   "metadata": {},
   "outputs": [
    {
     "data": {
      "text/plain": [
       "[1, 0, 0]"
      ]
     },
     "execution_count": 18,
     "metadata": {},
     "output_type": "execute_result"
    }
   ],
   "source": [
    "digits = [9]\n",
    "digits = [9, 9]\n",
    "solution(digits)\n",
    "digits"
   ]
  },
  {
   "cell_type": "markdown",
   "metadata": {},
   "source": [
    "## 070. Climbing Stairs\n",
    "\n",
    "You are climbing a stair case. It takes n steps to reach to the top.\n",
    "\n",
    "Each time you can either climb 1 or 2 steps. In how many distinct ways can you climb to the top?\n",
    "\n",
    "Note: Given n will be a positive integer.\n",
    "\n",
    "https://leetcode.com/problems/climbing-stairs/solution/"
   ]
  },
  {
   "cell_type": "code",
   "execution_count": 19,
   "metadata": {
    "collapsed": true
   },
   "outputs": [],
   "source": [
    "def solution(n):\n",
    "    \"\"\"\n",
    "    fibonacci number in disguise\n",
    "    f(n) = f(n - 1) + f(n - 2)\n",
    "    \n",
    "    Time complexity: O(n) for the single loop\n",
    "    Space complexity: O(1) constant variables\n",
    "    \"\"\"\n",
    "    if n == 1:\n",
    "        return n\n",
    "    \n",
    "    third = 0\n",
    "    # first two number in the fibonacci sequence\n",
    "    first = 1\n",
    "    second = 2\n",
    "    for i in range(3, n + 1):\n",
    "        third = first + second\n",
    "        first = second\n",
    "        second = third\n",
    "    \n",
    "    return second"
   ]
  },
  {
   "cell_type": "code",
   "execution_count": 20,
   "metadata": {},
   "outputs": [
    {
     "data": {
      "text/plain": [
       "5"
      ]
     },
     "execution_count": 20,
     "metadata": {},
     "output_type": "execute_result"
    }
   ],
   "source": [
    "solution(4)"
   ]
  },
  {
   "cell_type": "markdown",
   "metadata": {},
   "source": [
    "## 121. Best Time to Buy and Sell Stock\n",
    "\n",
    "Say you have an array for which the ith element is the price of a given stock on day i.\n",
    "\n",
    "If you were only permitted to complete at most one transaction (ie, buy one and sell one share of the stock), design an algorithm to find the maximum profit.\n",
    "\n",
    "Example 1:\n",
    "\n",
    "Input: [7, 1, 5, 3, 6, 4] Output: 5\n",
    "\n",
    "max. difference = 6-1 = 5 (not 7-1 = 6, as selling price needs to be larger than buying price)\n",
    "\n",
    "Example 2:\n",
    "\n",
    "Input: [7, 6, 4, 3, 1] Output: 0\n",
    "\n",
    "In this case, no transaction is done, i.e. max profit = 0.\n",
    "\n",
    "https://leetcode.com/problems/best-time-to-buy-and-sell-stock/solution/"
   ]
  },
  {
   "cell_type": "code",
   "execution_count": 21,
   "metadata": {
    "collapsed": true
   },
   "outputs": [],
   "source": [
    "import numpy as np\n",
    "\n",
    "\n",
    "def solution(prices):\n",
    "    # maximum integer\n",
    "    min_price = np.iinfo(np.int32).max\n",
    "    max_profit = 0\n",
    "    for price in prices:\n",
    "        # keep track of the minimum\n",
    "        min_price = min(min_price, price)\n",
    "        # compare if the buy and sell decision if better\n",
    "        # than the current baseline\n",
    "        max_profit = max(max_profit, price - min_price)\n",
    "\n",
    "    return max_profit"
   ]
  },
  {
   "cell_type": "code",
   "execution_count": 22,
   "metadata": {},
   "outputs": [
    {
     "data": {
      "text/plain": [
       "5"
      ]
     },
     "execution_count": 22,
     "metadata": {},
     "output_type": "execute_result"
    }
   ],
   "source": [
    "prices = [7, 1, 5, 3, 6, 4]\n",
    "solution(prices)"
   ]
  },
  {
   "cell_type": "markdown",
   "metadata": {},
   "source": [
    "## 203. Remove Linked List Elements\n",
    "\n",
    "Remove all elements from a linked list of integers that have value val.\n",
    "\n",
    "Example\n",
    "Given: 1 --> 2 --> 6 --> 3 --> 4 --> 5 --> 6, val = 6\n",
    "\n",
    "Return: 1 --> 2 --> 3 --> 4 --> 5\n",
    "\n",
    "https://discuss.leetcode.com/topic/12725/ac-java-solution/9"
   ]
  },
  {
   "cell_type": "code",
   "execution_count": 23,
   "metadata": {
    "collapsed": true
   },
   "outputs": [],
   "source": [
    "class ListNode:\n",
    "    \"\"\"Definition for singly-linked list.\"\"\"\n",
    "    def __init__(self, x):\n",
    "        self.val = x\n",
    "        self.next = None\n",
    "\n",
    "\n",
    "def solution(head, val):\n",
    "    # create a dummy node\n",
    "    dummy = ListNode(-1)\n",
    "    dummy.next = head\n",
    "    node = dummy\n",
    "    while node.next is not None:\n",
    "        # remove the link if the value matches,\n",
    "        # or else increment the position of the linked list\n",
    "        if node.next.val == val:\n",
    "            node.next = node.next.next\n",
    "        else:\n",
    "            node = node.next\n",
    "    \n",
    "    # return the position of the original head\n",
    "    return dummy.next"
   ]
  },
  {
   "cell_type": "markdown",
   "metadata": {
    "collapsed": true
   },
   "source": [
    "## 207. Course Schedule\n",
    "\n",
    "There are a total of n courses you have to take, labeled from 0 to n - 1.\n",
    "\n",
    "Some courses may have prerequisites, for example to take course 0 you have to first take course 1, which is expressed as a pair: [0,1]\n",
    "\n",
    "Given the total number of courses and a list of prerequisite pairs, is it possible for you to finish all courses?\n",
    "\n",
    "For example: \n",
    "\n",
    "2, [[1,0]] There are a total of 2 courses to take. To take course 1 you should have finished course 0. So it is possible.\n",
    "\n",
    "2, [[1,0],[0,1]] There are a total of 2 courses to take. To take course 1 you should have finished course 0, and to take course 0 you should also have finished course 1. So it is impossible.\n",
    "\n",
    "Note:\n",
    "\n",
    "The input prerequisites is a graph represented by a list of edges, not adjacency matrices. Read more about how a graph is represented. You may assume that there are no duplicate edges in the input prerequisites.\n",
    "\n",
    "click to show more hints.\n",
    "\n",
    "Hints:\n",
    "\n",
    "This problem is equivalent to finding if a cycle exists in a directed graph. If a cycle exists, no topological ordering exists and therefore it will be impossible to take all courses.\n",
    "\n",
    "---\n",
    "\n",
    "It's best to walk through the explanation in the first link before looking at the solution.\n",
    "\n",
    "- https://www.embeddedrelated.com/showarticle/799.php\n",
    "- https://discuss.leetcode.com/topic/44747/my-c-solution-23ms-beats-100-submissions/2\n",
    "- https://discuss.leetcode.com/topic/17273/18-22-lines-c-bfs-dfs-solutions"
   ]
  },
  {
   "cell_type": "code",
   "execution_count": 24,
   "metadata": {},
   "outputs": [],
   "source": [
    "from collections import defaultdict\n",
    "\n",
    "\n",
    "def solution(num_courses, prerequisites):\n",
    "    # convert the input pair to adjacent list format\n",
    "    # prerequisite's edge presentation\n",
    "    # e.g. 0 : set{[1]}, means course 0 is\n",
    "    # a prerequisite for course 1\n",
    "    graph = defaultdict(set)\n",
    "    for i, j in prerequisites:\n",
    "        graph[j].add(i)\n",
    "    \n",
    "    # compute indegree\n",
    "    indegree = [0] * num_courses\n",
    "    for _, neighbors in graph.items():\n",
    "        for neigh in neighbors:\n",
    "            indegree[neigh] += 1\n",
    "\n",
    "    # all nodes with indegree of 0 are considered the initial pending set\n",
    "    stack = [node for node in range(num_courses) if not indegree[node]]\n",
    "    counter = 0\n",
    "    while stack:\n",
    "        counter += 1\n",
    "        node = stack.pop()\n",
    "        for neigh in graph[node]:\n",
    "            # decrement neighbors' indegree\n",
    "            # if the indegree is 0 add it to the pending set\n",
    "            indegree[neigh] -= 1\n",
    "            if not indegree[neigh]:\n",
    "                stack.append(neigh)\n",
    "\n",
    "    return counter == num_courses"
   ]
  },
  {
   "cell_type": "code",
   "execution_count": 25,
   "metadata": {},
   "outputs": [
    {
     "data": {
      "text/plain": [
       "True"
      ]
     },
     "execution_count": 25,
     "metadata": {},
     "output_type": "execute_result"
    }
   ],
   "source": [
    "# to take course 1 you have to take course 0,\n",
    "# thus the edge representation would be 0 -> 1\n",
    "prerequisites = [[1, 0]]\n",
    "num_courses = 2\n",
    "solution(num_courses, prerequisites)"
   ]
  },
  {
   "cell_type": "markdown",
   "metadata": {},
   "source": [
    "## 215 kth-largest Element in an Array\n",
    "\n",
    "Find the kth largest element in an unsorted array. Note that it is the kth largest element in the sorted order, not the kth distinct element.\n",
    "\n",
    "For example, Given [3,2,1,5,6,4] and k = 2, return 5.\n",
    "\n",
    "Note: You may assume k is always valid, 1 ≤ k ≤ array's length.\n",
    "\n",
    "- https://discuss.leetcode.com/topic/14597/solution-explained\n",
    "- https://discuss.leetcode.com/topic/15256/4-c-solutions-using-partition-max-heap-priority_queue-and-multiset-respectively"
   ]
  },
  {
   "cell_type": "code",
   "execution_count": 26,
   "metadata": {},
   "outputs": [
    {
     "data": {
      "text/plain": [
       "5"
      ]
     },
     "execution_count": 26,
     "metadata": {},
     "output_type": "execute_result"
    }
   ],
   "source": [
    "def solution1(nums, k):\n",
    "    \"\"\"\n",
    "    The simplest approach is to sort the entire\n",
    "    input array and then access the element by it's index\n",
    "    \"\"\"\n",
    "    length = len(nums)\n",
    "    return sorted(nums)[length - k]\n",
    "\n",
    "\n",
    "k = 2\n",
    "nums = [3, 2, 1, 5, 6, 4]\n",
    "solution1(nums, k)"
   ]
  },
  {
   "cell_type": "markdown",
   "metadata": {},
   "source": [
    "The smarter approach for this problem is to use the selection algorithm (based on the partion method - the same one as used in quicksort).\n",
    "\n",
    "In [quicksort](http://interactivepython.org/runestone/static/pythonds/SortSearch/TheQuickSort.html), in each iteration, we need to select a pivot and then partition the array into three parts:\n",
    "\n",
    "- Elements smaller than the pivot;\n",
    "- Elements equal to the pivot;\n",
    "- Elements larger than the pivot.\n",
    "\n",
    "Now, let's do an example with the array `[3, 2, 1, 5, 4, 6]` in the problem statement. Let's assume in each time we select the leftmost element to be the pivot, in this case, `3`. We then use it to partition the array into the above 3 parts, which results in `[1, 2, 3, 5, 4, 6]`. Now `3` is in the third position and we know that it is the third smallest element. Now, do you recognize that this subroutine can be used to solve this problem?\n",
    "\n",
    "In fact, the above partition puts elements smaller than the pivot before the pivot and thus the pivot will then be the k-th smallest element if it is at the k-1-th position. Since the problem requires us to find the k-th largest element, we can simply modify the partition to put elements larger than the pivot before the pivot. That is, after partition, the array becomes `[5, 6, 4, 3, 1, 2]`. Now we know that 3 is the 4-th largest element. If we are asked to find the 2-th largest element, then we know it is left to 3. If we are asked to find the 5-th largest element, then we know it is right to 3 (changing whether the numbers is on the left side of the pivot or right side is optional).\n",
    "\n",
    "Psuedocode:\n",
    "\n",
    "- Initialize left to be 0 and right to be (size of array - 1);\n",
    "- Partition the array, if the pivot is at the k-1-th position, return it (we are done);\n",
    "- If the pivot is right to the k-1-th position, update right to be the left neighbor of the pivot;\n",
    "- Else update left to be the right neighbor of the pivot.\n",
    "- Repeat 2."
   ]
  },
  {
   "cell_type": "code",
   "execution_count": 27,
   "metadata": {
    "collapsed": true
   },
   "outputs": [],
   "source": [
    "def _partition(nums, left, right):\n",
    "    \"\"\"one iteration of quicksort\"\"\"\n",
    "\n",
    "    # store the pivot point's position to\n",
    "    # perform the final swapping at the end\n",
    "    initial = left\n",
    "    pivot = nums[left]\n",
    "    left += 1\n",
    "    while left <= right:\n",
    "        if nums[left] < pivot and nums[right] > pivot:\n",
    "            nums[right], nums[left] = nums[left], nums[right]\n",
    "\n",
    "        if nums[left] >= pivot:\n",
    "            left += 1\n",
    "\n",
    "        if nums[right] <= pivot:\n",
    "            right -= 1  \n",
    "\n",
    "    nums[right], nums[initial] = nums[initial], nums[right]\n",
    "    return right\n",
    "\n",
    "\n",
    "def solution(nums, k):\n",
    "    \"\"\"\n",
    "    The smarter approach for this problem is to use the \n",
    "    selection algorithm (based on the partion method - the\n",
    "    same one as used in quicksort).\n",
    "    \"\"\"\n",
    "    left = 0\n",
    "    right = len(nums) - 1\n",
    "    while True:\n",
    "        pos = _partition(nums, left, right)\n",
    "        # kth largest element should be in the k-1-th position\n",
    "        if pos == k - 1:\n",
    "            return nums[pos]\n",
    "        elif pos > k - 1:\n",
    "            right = pos - 1\n",
    "        else:\n",
    "            left = pos + 1"
   ]
  },
  {
   "cell_type": "code",
   "execution_count": 28,
   "metadata": {},
   "outputs": [
    {
     "data": {
      "text/plain": [
       "5"
      ]
     },
     "execution_count": 28,
     "metadata": {},
     "output_type": "execute_result"
    }
   ],
   "source": [
    "k = 2\n",
    "nums = [3, 2, 1, 5, 6, 4]\n",
    "solution(nums, k)"
   ]
  },
  {
   "cell_type": "markdown",
   "metadata": {},
   "source": [
    "## 217. Contains Duplicate\n",
    "\n",
    "Given an array of integers, find if the array contains any duplicates. Your function should return true if any value appears at least twice in the array, and it should return false if every element is distinct.\n",
    "\n",
    "https://leetcode.com/problems/contains-duplicate/solution/"
   ]
  },
  {
   "cell_type": "code",
   "execution_count": 29,
   "metadata": {
    "collapsed": true
   },
   "outputs": [],
   "source": [
    "def solution(nums):\n",
    "    nums_set = set()\n",
    "    for num in nums:\n",
    "        if num in nums_set:\n",
    "            return True\n",
    "\n",
    "        nums_set.add(num)\n",
    "\n",
    "    return False"
   ]
  },
  {
   "cell_type": "code",
   "execution_count": 30,
   "metadata": {},
   "outputs": [
    {
     "data": {
      "text/plain": [
       "True"
      ]
     },
     "execution_count": 30,
     "metadata": {},
     "output_type": "execute_result"
    }
   ],
   "source": [
    "nums = [3, 3, 1, 2]\n",
    "solution(nums)"
   ]
  },
  {
   "cell_type": "markdown",
   "metadata": {},
   "source": [
    "##  347. Top K Frequent Elements\n",
    "\n",
    "Given a non-empty array of integers, return the k most frequent elements.\n",
    "\n",
    "For example,\n",
    "Given [1,1,1,2,2,3] and k = 2, return [1,2].\n",
    "\n",
    "Note: \n",
    "You may assume k is always valid, 1 ≤ k ≤ number of unique elements.\n",
    "Your algorithm's time complexity must be better than O(n log n), where n is the array's size.\n",
    "\n",
    "https://leetcode.com/problems/top-k-frequent-elements/discuss/"
   ]
  },
  {
   "cell_type": "code",
   "execution_count": 31,
   "metadata": {
    "collapsed": true
   },
   "outputs": [],
   "source": [
    "from collections import Counter\n",
    "\n",
    "\n",
    "def solution(nums, k):\n",
    "    \"\"\"\n",
    "    1. build a counter map that maps a num to its frequency\n",
    "    2. build a heap/priority queue that keeps track of k most significant entries\n",
    "    3. iterate through the final heap and get the keys\n",
    "    runtime : O(nlogk)\n",
    "    \"\"\"\n",
    "    result = [k for k, _ in Counter(nums).most_common(k)]\n",
    "    return result"
   ]
  },
  {
   "cell_type": "code",
   "execution_count": 32,
   "metadata": {},
   "outputs": [
    {
     "data": {
      "text/plain": [
       "[1, 2]"
      ]
     },
     "execution_count": 32,
     "metadata": {},
     "output_type": "execute_result"
    }
   ],
   "source": [
    "nums = [1,1,1,2,2,3]\n",
    "solution(nums, k)"
   ]
  },
  {
   "cell_type": "markdown",
   "metadata": {},
   "source": [
    "# Reference\n",
    "\n",
    "- [Github: Leetcode Solutions in Python](https://github.com/csujedihy/lc-all-solutions)"
   ]
  }
 ],
 "metadata": {
  "kernelspec": {
   "display_name": "Python 3",
   "language": "python",
   "name": "python3"
  },
  "language_info": {
   "codemirror_mode": {
    "name": "ipython",
    "version": 3
   },
   "file_extension": ".py",
   "mimetype": "text/x-python",
   "name": "python",
   "nbconvert_exporter": "python",
   "pygments_lexer": "ipython3",
   "version": "3.5.2"
  },
  "toc": {
   "colors": {
    "hover_highlight": "#DAA520",
    "running_highlight": "#FF0000",
    "selected_highlight": "#FFD700"
   },
   "moveMenuLeft": true,
   "nav_menu": {
    "height": "12px",
    "width": "252px"
   },
   "navigate_menu": true,
   "number_sections": true,
   "sideBar": true,
   "threshold": 4,
   "toc_cell": false,
   "toc_section_display": "block",
   "toc_window_display": true
  }
 },
 "nbformat": 4,
 "nbformat_minor": 2
}
